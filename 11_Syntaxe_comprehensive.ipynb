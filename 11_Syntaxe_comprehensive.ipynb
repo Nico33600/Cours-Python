{
 "cells": [
  {
   "cell_type": "markdown",
   "id": "e092b9bf",
   "metadata": {
    "tags": [
     "fr"
    ]
   },
   "source": [
    "# Syntaxe Compréhensive\n",
    "\n",
    "La syntaxe compréhensive est une syntaxe propre à certains langages de programmation qui vient du monde des mathématiques et qui, au lieu de décrire des éléments un par un, décrit plutôt les propriétés qu'ont en commun ces différents éléments.\n",
    "\n",
    "En Python, on peut considérer cela comme une formule qui permet de générer des éléments au lieu de les écrire tous un par un.\n",
    "\n",
    "Cette syntaxe peut s'appliquer sur différents objets (listes, sets et dictionnaires) et est très utilisée, notamment pour filtrer facilement des itérables.\n",
    "\n",
    "Même si cette manière d'écrire est concise, élégante et offre de meilleures performances car elle fait appel à des fonctions codées en bas niveau, il n'est pourtant pas recommandé de les utiliser partout où c'est possible. En effet si l'opération à effecteur est complexe mieux vaut utiliser une boucle `for` qui prendra un peu plus de place dans le code mais sera aussi plus facile à créer, à tester, à débugger et à comprendre par un autre programmeur."
   ]
  },
  {
   "cell_type": "markdown",
   "id": "b53fc5f6",
   "metadata": {
    "tags": [
     "fr"
    ]
   },
   "source": [
    "# Les listes compréhensives\n",
    "\n",
    "## Définition\n",
    "\n",
    "Les listes compréhensives sont donc des sortes de \"formules magiques\" qui vont créer des listes. En général on part d'un objet itérable d'après lequel on veut créer une liste (ce peut donc être une autre liste, mais aussi un dictionnaire ou n'importe quel autre objet itérable).\n",
    "\n",
    "Pour créer une liste compréhensive on ouvre les crochets comme si on voulait créer une liste mais au lieu d'énumérer les différents éléments qui la composent on utilise la syntaxe suivante :\n",
    "\n",
    "```python\n",
    "[expression for element in iterable]\n",
    "```\n",
    "Ici :\n",
    "\n",
    "- La variable **expression** est le résultat que l'on veut obtenir.\n",
    "- La variable **élément** est le nom que l'on va donner à chaque élément sur lequel on itère.\n",
    "- La variable **itérable** est le nom de l'objet sur lequel on va pouvoir itérer.\n",
    "\n",
    "On pourrait donc l'écrire ainsi :\n",
    "\n",
    "```python\n",
    "[ce_que_l_on_veut_obtenir for variable_contenant_successivement_chaque_element in objet_iterable]\n",
    "```\n",
    "\n",
    "Pour commencer de manière très simple, créeons une liste compréhensive qui va générer une copie d'une autre liste :"
   ]
  },
  {
   "cell_type": "code",
   "execution_count": null,
   "id": "01c523ed",
   "metadata": {
    "tags": []
   },
   "outputs": [],
   "source": [
    "seq = [2, 6, 8, 5, 7, 9, 1, 2, 3, 6]\n",
    "\n",
    "[n for n in seq]"
   ]
  },
  {
   "cell_type": "markdown",
   "id": "fc4ae9a4",
   "metadata": {
    "tags": [
     "fr"
    ]
   },
   "source": [
    "Maintenant imaginons que nous voulions générer une nouvelle liste contenant les carrés de chacun de ces chiffres, on va alors modifier l'expression que l'on cherche à obtenir :"
   ]
  },
  {
   "cell_type": "code",
   "execution_count": null,
   "id": "6112c0d7",
   "metadata": {
    "tags": []
   },
   "outputs": [],
   "source": [
    "seq = [2, 6, 8, 5, 7, 9, 1, 2, 3, 6]\n",
    "\n",
    "[n ** 2 for n in seq]"
   ]
  },
  {
   "cell_type": "markdown",
   "id": "ee4f39f7",
   "metadata": {
    "tags": [
     "fr"
    ]
   },
   "source": [
    "Notez qu'on aurait pu l'écrire avec une boucle `for` ainsi, mais c'est plus long :"
   ]
  },
  {
   "cell_type": "code",
   "execution_count": null,
   "id": "d4f768c1",
   "metadata": {
    "tags": []
   },
   "outputs": [],
   "source": [
    "seq = [2, 6, 8, 5, 7, 9, 1, 2, 3, 6]\n",
    "\n",
    "new_list = []\n",
    "\n",
    "for n in seq:\n",
    "    new_list.append(n ** 2)\n",
    "\n",
    "print(new_list)"
   ]
  },
  {
   "cell_type": "markdown",
   "id": "7623a3f1",
   "metadata": {
    "tags": [
     "fr"
    ]
   },
   "source": [
    "### Exercice (facile)\n",
    "\n",
    "❓ **>>>** À partir de la liste suivante, générez une nouvelle liste à l'aide de la syntaxe compréhensive qui triple chaque caractère. Par exemple La lettre \"c\" deviendra \"ccc\" dans la nouvelle liste.\n",
    "\n",
    "**Astuce**\n",
    "\n",
    "- Rappelez-vous, en python il est possible de multiplier des strings par des entiers."
   ]
  },
  {
   "cell_type": "code",
   "execution_count": null,
   "id": "f9ac133c",
   "metadata": {
    "tags": []
   },
   "outputs": [],
   "source": [
    "seq = [\"a\", \"c\", \"d\", \"f\", \"g\", \"z\", \"e\", \"i\"]\n",
    "\n",
    "# Code here!"
   ]
  },
  {
   "cell_type": "markdown",
   "id": "0adfc4fc",
   "metadata": {
    "tags": [
     "fr"
    ]
   },
   "source": [
    "## Filtrer avec des listes compréhensives et `if`\n",
    "\n",
    "Les listes compréhensives permettent de facilement filtrer, c'est-à-dire choisir les éléments qu'on va traiter (et ceux qu'on ne traitera pas).\n",
    "\n",
    "Pour cela on ajoute tout simplement un `if` à la fin de la syntaxe.\n",
    "\n",
    "```python\n",
    "[el for el in iterable if cond]\n",
    "```\n",
    "Autrement dit, on veut \"el\" si la condition est satisfaite, où \"el\" est l'élément qui sera ajouté dans notre liste. Sinon l'élément ne sera pas traité.\n",
    "\n",
    "On pourrait aussi l'écrire de cette manière :\n",
    "\n",
    "```python\n",
    "[ce_que_l_on_veut_obtenir for variable_contenant_successivement_chaque_element in objet_iterable if notre_condition_est_vraie]\n",
    "```\n",
    "\n",
    "Reprenons le dernier exemple et imaginons que nous ne voulions tripler les lettres uniquement dans le cas où celles-ci sont des voyelles :"
   ]
  },
  {
   "cell_type": "code",
   "execution_count": null,
   "id": "ac5709bc",
   "metadata": {
    "tags": []
   },
   "outputs": [],
   "source": [
    "seq = [\"a\", \"c\", \"d\", \"f\", \"g\", \"z\", \"e\", \"i\"]\n",
    "\n",
    "[el * 3 for el in seq if el in [\"a\", \"e\", \"i\", \"o\", \"u\", \"y\"]]"
   ]
  },
  {
   "cell_type": "markdown",
   "id": "4a8d9378",
   "metadata": {
    "tags": [
     "fr"
    ]
   },
   "source": [
    "## Exercice (facile)\n",
    "\n",
    "❓ **>>>** Écrivez une liste compréhensive qui retourne le carré des nombres suivants uniquement si ils sont strictement plus grands que 5."
   ]
  },
  {
   "cell_type": "code",
   "execution_count": null,
   "id": "31b2c6d8",
   "metadata": {
    "tags": []
   },
   "outputs": [],
   "source": [
    "seq = [2, 6, 8, 5, 7, 9, 1, 2, 3, 6]\n",
    "\n",
    "# code here!\n"
   ]
  },
  {
   "cell_type": "markdown",
   "id": "22264751",
   "metadata": {
    "tags": [
     "fr"
    ]
   },
   "source": [
    "## `if` et `else` dans une liste compréhensive\n",
    "\n",
    "Parfois on souhaite appliquer différentes transformations aux éléments en fonction de leur nature. Dans ce cas là on peut ajouter des `if` et des `else` dans la première partie de l'expression afin de leur faire subir un traitement différencié.\n",
    "\n",
    "```python\n",
    "[expression_1 if condition else expression_2 for element in iterable]\n",
    "```\n",
    "Par exemple imaginons qu'on veut avoir les carrés des nombres 2, 4 et 6 et le cube des autres nombres."
   ]
  },
  {
   "cell_type": "code",
   "execution_count": null,
   "id": "9737d35c",
   "metadata": {
    "tags": []
   },
   "outputs": [],
   "source": [
    "seq = [2, 6, 8, 5, 7, 9, 1, 2, 3, 6]\n",
    "\n",
    "[n ** 2 if n in [2, 4, 6] else n ** 3 for n in seq]"
   ]
  },
  {
   "cell_type": "markdown",
   "id": "a1dd2047",
   "metadata": {
    "tags": [
     "fr"
    ]
   },
   "source": [
    "Notez que l'on peut cumuler l'utilisation d'expressions conditionnelles (`if` et `else`) avec l'utilisation d'un `if` à la fin de l'expression qui lui filtrera en amont les éléments :"
   ]
  },
  {
   "cell_type": "code",
   "execution_count": null,
   "id": "9dab9666",
   "metadata": {
    "tags": []
   },
   "outputs": [],
   "source": [
    "seq = [2, 6, 8, 5, 7, 9, 1, 2, 3, 6]\n",
    "\n",
    "[n ** 2 if n in [2, 4, 6] else n ** 3 for n in seq if n > 5]"
   ]
  },
  {
   "cell_type": "markdown",
   "id": "3007a7b9",
   "metadata": {
    "tags": [
     "fr"
    ]
   },
   "source": [
    "## Exercice (facile / moyen)\n",
    "\n",
    "❓ **>>>** Générez une nouvelle liste à partir de la liste \"fruits\" grâce à la syntaxe compréhensive. La nouvelle liste aura pour caractéristiques :\n",
    "\n",
    "- La première lettre de chacun des mots devra être une majuscule.\n",
    "- Les éléments \"banane\" seront remplacés par \"Gorille\".\n",
    "- Les éléments \"mangue\" doivent être retirés de la liste."
   ]
  },
  {
   "cell_type": "code",
   "execution_count": null,
   "id": "5562113d",
   "metadata": {
    "tags": [
     "fr"
    ]
   },
   "outputs": [],
   "source": [
    "fruits = [\"mangue\", \"banane\", \"kiwi\", \"orange\",\n",
    "         \"banane\", \"banane\", \"banane\", \"banane\",\n",
    "         \"mangue\", \"mangue\", \"banane\", \"mangue\", \"banane\",\n",
    "         \"ananas\", \"mangue\", \"banane\", \"ananas\"]\n",
    "\n",
    "# Code here!"
   ]
  },
  {
   "cell_type": "markdown",
   "id": "db46b09e",
   "metadata": {
    "tags": [
     "fr"
    ]
   },
   "source": [
    "# Dictionnaires compréhensifs\n",
    "\n",
    "## Définition\n",
    "\n",
    "Les dictionnaires compréhensifs se comportent de la même manière que les listes compréhensives, à la différence que l'on doit leur donner deux expressions à retourner : la clé et la valeur. La syntaxe est donc légèrement différente. Voyons cela :\n",
    "\n",
    "```python\n",
    "{k: v for k, v in iterable}\n",
    "```\n",
    "Ici :\n",
    "\n",
    "- La variable **k** (*key*) désigne la variable qui sera utilisée comme clé.\n",
    "- La variable **v** (*value*) est la valeur associée à cette clé.\n",
    "- La variable **itérable** est le nom de l'objet sur lequel on va pouvoir itérer, il faut donc que cet itérable contienne des couples de valeurs.\n",
    "\n",
    "Commençons simplement en créant une copie d'un dictionnaire, dans ce cas-là il faut itérer sur celui-ci à l'aide de la méthode `.items()` afin qu'à chaque itération un couple clé valeur soit retourné."
   ]
  },
  {
   "cell_type": "code",
   "execution_count": null,
   "id": "58a75397",
   "metadata": {
    "tags": []
   },
   "outputs": [],
   "source": [
    "my_dict = {\"kiwis\": 3,\n",
    "           \"melons\": 12,\n",
    "           \"oranges\": 7}\n",
    "\n",
    "{k: v for k, v in my_dict.items()}"
   ]
  },
  {
   "cell_type": "markdown",
   "id": "fae7173d",
   "metadata": {
    "tags": [
     "fr"
    ]
   },
   "source": [
    "Désormais multiplions les quantités par 5."
   ]
  },
  {
   "cell_type": "code",
   "execution_count": null,
   "id": "5596a3a7",
   "metadata": {
    "tags": []
   },
   "outputs": [],
   "source": [
    "my_dict = {\"kiwis\": 3,\n",
    "           \"melons\": 12,\n",
    "           \"oranges\": 7}\n",
    "\n",
    "{k: v * 5 for k, v in my_dict.items()}"
   ]
  },
  {
   "cell_type": "markdown",
   "id": "a405c518",
   "metadata": {
    "tags": [
     "fr"
    ]
   },
   "source": [
    "Et passons les clés en majuscules."
   ]
  },
  {
   "cell_type": "code",
   "execution_count": null,
   "id": "f5dbb948",
   "metadata": {
    "tags": []
   },
   "outputs": [],
   "source": [
    "my_dict = {\"kiwis\": 3,\n",
    "           \"melons\": 12,\n",
    "           \"oranges\": 7}\n",
    "\n",
    "{k.upper(): v * 5 for k, v in my_dict.items()}"
   ]
  },
  {
   "cell_type": "markdown",
   "id": "d955bb23",
   "metadata": {
    "tags": [
     "fr"
    ]
   },
   "source": [
    "## Générer un dictionnaire à partir de listes\n",
    "\n",
    "Imaginons que nous ayons deux listes, et que nous voulions que l'une devienne une clé et l'autre la valeur. Nous pouvons alors utiliser la fonction `zip()` qui va faire correspondre chaque élément d'une liste à l'autre afin que nous puissions itérer sur les deux listes simultanément !\n",
    "\n",
    "Créons un objet de type `zip` et itérons dessus pour observer son comportement :"
   ]
  },
  {
   "cell_type": "code",
   "execution_count": null,
   "id": "5e1e1436",
   "metadata": {
    "tags": []
   },
   "outputs": [],
   "source": [
    "l1 = [\"kiwis\", \"melons\", \"oranges\"]\n",
    "l2 = [3, 12, 7]\n",
    "\n",
    "for el in zip(l1, l2): print(el)"
   ]
  },
  {
   "cell_type": "markdown",
   "id": "02428891",
   "metadata": {
    "tags": [
     "fr"
    ]
   },
   "source": [
    "On constate que le fait de \"zipper\" les listes entre elles a donc créé un objet spécial de type \"zip\" qui permet de parcourir les deux listes à la fois. Celui-ci renvoie un \"tuple\" (une liste non modifiable) à chaque itération. Maintenant générons notre dictionnaire à l'aide de la syntaxe compréhensive :"
   ]
  },
  {
   "cell_type": "code",
   "execution_count": null,
   "id": "e210cbd4",
   "metadata": {
    "tags": []
   },
   "outputs": [],
   "source": [
    "l1 = [\"kiwis\", \"melons\", \"oranges\"]\n",
    "l2 = [3, 12, 7]\n",
    "\n",
    "{k: v for k, v in zip(l1, l2)}"
   ]
  },
  {
   "cell_type": "markdown",
   "id": "c891b97e",
   "metadata": {
    "tags": [
     "fr"
    ]
   },
   "source": [
    "Bien évidemment les structures conditionnelles (`if` et `else`) s'appliquent de la même manière que les listes compréhensives. Vérifiez ceci en effectuant l'exercice suivant :"
   ]
  },
  {
   "cell_type": "markdown",
   "id": "3545b063",
   "metadata": {
    "tags": [
     "fr"
    ]
   },
   "source": [
    "# Exercice (moyen)\n",
    "\n",
    "❓ **>>>** Créer un dictionnaire à partir des deux listes suivantes. Celle contenant les noms des produits alimentaires sera la clé, l'autre sera celle des valeurs. Faites en sorte que les contraintes suivantes soient respectées :\n",
    "\n",
    "- Si la clé du dictionnaire fait plus de 6 caratères, la première lettre de la clé sera mise en majuscule. Autrement, si la clé fait 6 caractères ou moins, la clé entière devra être mise en majuscules.\n",
    "- Si la valeur est égale à 0, remplacez-la par \"out of stock\".\n",
    "- Les clés commençant par la lettre \"c\" et \"b\" (quelque soit leur casse) ne devront pas être prises en compte.\n",
    "\n",
    "\n",
    "**ASTUCES**\n",
    "\n",
    "- Utilisez `.upper()`afin de gérer la casse.\n",
    "- Vous souvenez-vous de l'utilisation des *slices* ?\n",
    "- Lorsqu'on applique ``len()`` sur une string, on obtient le nombre de caractères de la string."
   ]
  },
  {
   "cell_type": "code",
   "execution_count": null,
   "id": "1b4d3ed6",
   "metadata": {
    "tags": []
   },
   "outputs": [],
   "source": [
    "food = [\"Courgettes\", \"quiches\", \"aubergines\", \"croissants\", \"Baguettes\", \"kiwis\", \"melons\", \"oranges\", \"brioches\"]\n",
    "stock = [1, 0, 2, 16, 46, 0, 1, 4, 5]\n",
    "\n",
    "# Code here!\n"
   ]
  },
  {
   "cell_type": "markdown",
   "id": "bdfc2625-e70a-4687-a01e-fa68bd39581a",
   "metadata": {
    "tags": [
     "fr"
    ]
   },
   "source": [
    "## Exercice (difficile)\n",
    "\n",
    "❓ **>>>** Utilisez la syntaxe compréhensive pour générer une liste de nombres et résoudre le problème suivant.\n",
    "\n",
    "Trouvez un nombre de 6 chiffres dont :\n",
    "- Le premier et le dernier chiffre sont les mêmes.\n",
    "- Le premier chiffre multiplié par 2 produit un nombre à 2 chiffres.\n",
    "- Ce nombre (le résultat du double du premier chiffre) est le deuxième et troisième chiffre.\n",
    "- Le dernier chiffre multiplié par 3 donne un nombre à 2 chiffres.\n",
    "- Ce nombre est le quatrième et cinquième chiffre.\n",
    "- Le total de tous les 6 chiffres est égal 22.\n",
    "\n",
    "**Astuce**:\n",
    "\n",
    "- Commencer par créer une liste compréhensive qui génère la totalité des nombres réels possédant 6 chiffres. Puis utiliser des `if` et des `and` pour filtrer la liste"
   ]
  },
  {
   "cell_type": "code",
   "execution_count": null,
   "id": "e199fab8-9464-4596-be37-0778191e85f0",
   "metadata": {},
   "outputs": [],
   "source": [
    "# Code here!\n",
    "\n"
   ]
  },
  {
   "cell_type": "markdown",
   "id": "c2caac06-a2e7-4065-ba50-932cd6390063",
   "metadata": {
    "tags": [
     "fr"
    ]
   },
   "source": [
    "## Exercice (difficile)\n",
    "\n",
    "❓ **>>>** Certains mots de la langue française ont une propriété singulière : leurs lettres sont disposées dans l'ordre alphabétique. Par exemple les mot \"accent\", \"afflux\" ou encore \"dehors\" partagent cette propriété.\n",
    "\n",
    "Exécutez la cellule ci-dessous pour créer une liste contenant un grand nombre de mots de la langue française (environ 336 000), puis créez une liste compréhensive pour ne garder que les mots qui possèdent cette propriété et qui contiennent au moins 5 lettres.\n",
    "\n",
    "**Librairies**: Pour mener à bien notre tâche nous utiliserons deux librairies, `requests` va nous permettre de récupérer des informations via internet. Quant à `unidecode` elle nous permettra de gérer les accents.\n",
    "\n",
    "**Astuces**:\n",
    "\n",
    "- La fonction `all` peut vous être très utile. Celle-ci prend en entrée une liste d'itérable et renvoie `true` si tous les éléments de cette liste sont `true`. Si au moins un des éléments est `false`, alors elle renvoie `false`.\n",
    "\n",
    "Par exemple :\n",
    "\n",
    "```python\n",
    "all([True, False, True])\n",
    ">>> False\n",
    "```\n",
    "\n",
    "Mais on peut aussi appliquer `all` sur des expressions ou des listes compréhensives, par exemple :\n",
    "\n",
    "```python\n",
    "l = [n**2 > 200 for n in range(13,17)]\n",
    "all(l)\n",
    ">>> False\n",
    "```\n",
    "\n",
    "Ou directement (notez l'absence de crochets \"[ ]\", c'est l'expression qu'on évalue pas la liste compréhensive): \n",
    "\n",
    "```python\n",
    "all(n**2 > 200 for n in range(13,17))\n",
    ">>> False\n",
    "```\n",
    "\n",
    "- Après avoir importé la fonction `unidecode` de cette manière :\n",
    "\n",
    "```python\n",
    "from unidecode import unidecode\n",
    "```\n",
    "\n",
    "On peut utiliser la fonction `unidecode()`, celle-ci va retirer les accents aux lettres, par exemple :\n",
    "\n",
    "```python\n",
    "unidecode(\"éèç9ÉEËëù\")\n",
    ">>> 'eec9EEEeu'\n",
    "```\n",
    "\n",
    "- La fonction `enumerate()` permet de récupérer deux variables quand on parcourt un itérable : son index, et l'élément. Par convention on nomme ceux-ci \"i\" et \"el\". Elle est très utile quand on veut comparer des caractères d'une string à d'autres caractères, puisqu'on peut accéder à n'importe quel caractère avec s[i] (où s est une string et i un index).\n",
    "\n",
    "```python\n",
    "for i, el in enumerate('Hey') : print(i, el)\n",
    ">>> 0 H\n",
    ">>> 1 e\n",
    ">>> 2 y\n",
    "```\n",
    "\n",
    "- La fonction `ord()`renvoie la valeur représentant l’unicode d’un caractère spécifié.\n",
    "\n",
    "```python\n",
    "ord(\"a\")\n",
    ">>> 97\n",
    "```\n",
    "\n",
    "- Vous devez trouver 30 mots."
   ]
  },
  {
   "cell_type": "code",
   "execution_count": null,
   "id": "6913849f-cc08-42c4-ab5c-f20fb2446349",
   "metadata": {
    "tags": [
     "fr"
    ]
   },
   "outputs": [],
   "source": [
    "import requests\n",
    "from unidecode import unidecode\n",
    "\n",
    "r = requests.get('https://www.pallier.org/extra/liste.de.mots.francais.frgut.txt')\n",
    "r.encoding = 'utf-8'\n",
    "mots = [mot.lower() for mot in r.text.split()]\n",
    "print(f\"Nombre de mots dans la liste 'mots': {len(mots)}\")\n",
    "\n",
    "# code here!\n",
    "\n"
   ]
  }
 ],
 "metadata": {
  "kernelspec": {
   "display_name": "Python 3 (ipykernel)",
   "language": "python",
   "name": "python3"
  },
  "language_info": {
   "codemirror_mode": {
    "name": "ipython",
    "version": 3
   },
   "file_extension": ".py",
   "mimetype": "text/x-python",
   "name": "python",
   "nbconvert_exporter": "python",
   "pygments_lexer": "ipython3",
   "version": "3.11.0"
  }
 },
 "nbformat": 4,
 "nbformat_minor": 5
}
