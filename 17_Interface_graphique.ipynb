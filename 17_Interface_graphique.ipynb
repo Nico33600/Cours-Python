{
 "cells": [
  {
   "cell_type": "markdown",
   "id": "a4f52e5d-f766-4614-a3a1-1b89841fd813",
   "metadata": {},
   "source": [
    "# Interface graphique en Python\n",
    "\n",
    "## Introduction\n",
    "\n",
    "Il peut être parfois utile de créer des interfaces graphiques (GUI) en Python. Les interfaces graphiques permettent aux utilisateurs d'interagir avec les programmes de manière intuitive et visuelle. Les deux API graphiques les plus populaires dans ce domaine sont Tkinter et PyQt6. Nous nous ne intéresserons ici qu'à Tkinter.\n",
    "\n",
    "## Tkinter\n",
    "\n",
    "Tkinter est la bibliothèque standard pour créer des interfaces graphiques en Python. Elle est incluse avec la distribution standard de Python, ce qui la rend facilement accessible. Tkinter est simple à utiliser et idéal pour les projets de petite à moyenne taille.\n",
    "\n",
    "[source](https://likegeeks.com/python-gui-examples-tkinter-tutorial/#Create_your_first_GUI_application)"
   ]
  },
  {
   "cell_type": "code",
   "execution_count": null,
   "id": "745ddc9f-9546-44df-a04e-8c201adfeacc",
   "metadata": {
    "tags": []
   },
   "outputs": [],
   "source": [
    "from tkinter import *\n",
    "\n",
    "window = Tk()\n",
    "window.title(\"Welcome to our Python app!\")\n",
    "\n",
    "window.mainloop()"
   ]
  },
  {
   "cell_type": "code",
   "execution_count": null,
   "id": "9ea5c1da-e437-4d9a-bcd1-cf3dc8df8e59",
   "metadata": {
    "tags": []
   },
   "outputs": [],
   "source": [
    "from tkinter import *\n",
    "\n",
    "window = Tk()\n",
    "\n",
    "window.title(\"Welcome to our Python app!\")\n",
    "\n",
    "lbl = Label(window, text=\"Hello\") # Adding a label that says Hello\n",
    "\n",
    "lbl.grid(column=0, row=0)\n",
    "\n",
    "window.mainloop()"
   ]
  },
  {
   "cell_type": "code",
   "execution_count": null,
   "id": "1218b5bc-32da-49aa-aee6-d6b3fbd0d5d9",
   "metadata": {
    "tags": []
   },
   "outputs": [],
   "source": [
    "from tkinter import *\n",
    "\n",
    "window = Tk()\n",
    "window.title(\"Welcome to our Python app!\")\n",
    "\n",
    "window.geometry('700x400') # setting the window size\n",
    "lbl = Label(window, text=\"Hello\")\n",
    "lbl.grid(column=0, row=0) # using the grid as a referential\n",
    "btn = Button(window, text=\"Click Me\")\n",
    "btn.grid(column=1, row=0)\n",
    "\n",
    "window.mainloop()"
   ]
  },
  {
   "cell_type": "code",
   "execution_count": null,
   "id": "6cc8fc65-5cc9-46bc-855f-45efc083cfde",
   "metadata": {
    "tags": []
   },
   "outputs": [],
   "source": [
    "from tkinter import *\n",
    "\n",
    "window = Tk()\n",
    "\n",
    "window.title(\"Welcome to our Python app!\")\n",
    "window.geometry('700x400')\n",
    "lbl = Label(window, text=\"Hello\")\n",
    "lbl.grid(column=0, row=0)\n",
    "\n",
    "def clicked(): # we can configure function inside our tkinter app\n",
    "    lbl.configure(text=\"Button was clicked !!\")\n",
    "\n",
    "btn = Button(window, text=\"Click Me\", command=clicked)\n",
    "btn.grid(column=1, row=0)\n",
    "\n",
    "window.mainloop()"
   ]
  }
 ],
 "metadata": {
  "kernelspec": {
   "display_name": "Python 3 (ipykernel)",
   "language": "python",
   "name": "python3"
  },
  "language_info": {
   "codemirror_mode": {
    "name": "ipython",
    "version": 3
   },
   "file_extension": ".py",
   "mimetype": "text/x-python",
   "name": "python",
   "nbconvert_exporter": "python",
   "pygments_lexer": "ipython3",
   "version": "3.11.0"
  }
 },
 "nbformat": 4,
 "nbformat_minor": 5
}
