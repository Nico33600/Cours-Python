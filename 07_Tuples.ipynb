{
 "cells": [
  {
   "cell_type": "markdown",
   "id": "3c375621-904a-4bac-bda1-6a46c03f45df",
   "metadata": {},
   "source": [
    "# Tuples"
   ]
  },
  {
   "cell_type": "markdown",
   "id": "ab9cde62-7325-40e6-a243-854f6cd4ae7f",
   "metadata": {
    "editable": true,
    "slideshow": {
     "slide_type": ""
    },
    "tags": [
     "fr"
    ]
   },
   "source": [
    "## Qu'est-ce qu'un tuple?\n",
    "\n",
    "Un tuple est une collection ordonnée d'éléments. Tout comme une liste un tuple est **ordonné** (on peut y accéder en utilisant l'index) et **hétérogène** (peut contenir des objets de différents types).\n",
    "\n",
    "Cependant la grande différence entre une liste et un tuple c'est qu'un tuple est **immuable**: Une fois qu'un tuple est crée, on ne peut pas le modifier (au contraire d'une liste qui est dite \"muable\").\n",
    "\n",
    "## Pourquoi utiliser un tuple plutôt qu'une liste ?\n",
    "\n",
    "- Parce qu'un tuple est un objet plus simple qu'une liste, il prend donc moins de place dans la mémoire de l'ordinateur.\n",
    "\n",
    "- Comme un tuple n'est pas modifiable, on s'assure qu'on ne pourra pas modifier son contenu par erreur.\n",
    "\n",
    "## Syntaxe\n",
    "\n",
    "Voici la syntaxe pour créer un tuple :"
   ]
  },
  {
   "cell_type": "code",
   "execution_count": null,
   "id": "8b7c368c-afb8-4673-930e-1c80b6368d05",
   "metadata": {},
   "outputs": [],
   "source": [
    "my_tuple = (1, 2, 3)\n",
    "my_tuple"
   ]
  },
  {
   "cell_type": "code",
   "execution_count": null,
   "id": "d6ae4b99-11d4-4004-8505-ac6b8e83e69a",
   "metadata": {
    "editable": true,
    "slideshow": {
     "slide_type": ""
    },
    "tags": []
   },
   "outputs": [],
   "source": [
    "my_tuple = (3, \"hello\", True)\n",
    "my_tuple"
   ]
  },
  {
   "cell_type": "markdown",
   "id": "ddef9d7f-47d2-44c0-b402-2ec0b4915d0c",
   "metadata": {
    "editable": true,
    "slideshow": {
     "slide_type": ""
    },
    "tags": [
     "fr"
    ]
   },
   "source": [
    "## Tuple implicite\n",
    "\n",
    "Il est possible d'omettre les parenthèses dans le cas où il n'y a pas d'ambiguïté. On parle alors de \"tuple implicite\"."
   ]
  },
  {
   "cell_type": "code",
   "execution_count": null,
   "id": "1e36e73b-64d4-4cee-9995-b4463f4cbf49",
   "metadata": {
    "editable": true,
    "id": "1uqGs1hBH5BB",
    "slideshow": {
     "slide_type": ""
    },
    "tags": []
   },
   "outputs": [],
   "source": [
    "my_tuple = 3, \"hello\", True\n",
    "my_tuple"
   ]
  },
  {
   "cell_type": "markdown",
   "id": "2b4b56d1-ed56-41a3-ae2a-a75df81cf0ef",
   "metadata": {
    "editable": true,
    "slideshow": {
     "slide_type": ""
    },
    "tags": [
     "fr"
    ]
   },
   "source": [
    "Les tuples sont immuables, vous ne pouvez pas les modifier une fois créés."
   ]
  },
  {
   "cell_type": "code",
   "execution_count": null,
   "id": "a9fad9f7-af13-4094-b45d-59bc0ef9ac1d",
   "metadata": {
    "editable": true,
    "slideshow": {
     "slide_type": ""
    },
    "tags": []
   },
   "outputs": [],
   "source": [
    "my_tuple = 3, \"hello\", True\n",
    "#my_tuple[0] = 12 # TypeError: 'tuple' object does not support item assignment\n",
    "#my_tuple.append(12) # AttributeError: 'tuple' object has no attribute 'append'"
   ]
  },
  {
   "cell_type": "markdown",
   "id": "a11d0a73-16a2-4990-afae-ca3cf176aa2e",
   "metadata": {
    "editable": true,
    "slideshow": {
     "slide_type": ""
    },
    "tags": [
     "fr"
    ]
   },
   "source": [
    "### Pour aller plus loin"
   ]
  },
  {
   "cell_type": "code",
   "execution_count": null,
   "id": "d1881fd3-32cf-4785-85d6-55e9a699ef3d",
   "metadata": {
    "editable": true,
    "slideshow": {
     "slide_type": ""
    },
    "tags": []
   },
   "outputs": [],
   "source": [
    "# A tuple is immutable, meaning it is an hashable object.\n",
    "# So, we can use it as a key inside a dictionary.\n",
    "\n",
    "d = {(12, 38, \"a string\") : 999}\n",
    "print(d)\n",
    "\n",
    "# If I try to create a dictionary with lists as keys, we'll get an error\n",
    "# d = {[12, 38, \"a string\"] : 999} # yields \"TypeError: unhashable type: 'list'\""
   ]
  }
 ],
 "metadata": {
  "kernelspec": {
   "display_name": "Python 3 (ipykernel)",
   "language": "python",
   "name": "python3"
  },
  "language_info": {
   "codemirror_mode": {
    "name": "ipython",
    "version": 3
   },
   "file_extension": ".py",
   "mimetype": "text/x-python",
   "name": "python",
   "nbconvert_exporter": "python",
   "pygments_lexer": "ipython3",
   "version": "3.11.0"
  }
 },
 "nbformat": 4,
 "nbformat_minor": 5
}
