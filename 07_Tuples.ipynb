{
 "cells": [
  {
   "cell_type": "markdown",
   "id": "3c375621-904a-4bac-bda1-6a46c03f45df",
   "metadata": {},
   "source": [
    "# Tuples"
   ]
  },
  {
   "cell_type": "markdown",
   "id": "ab9cde62-7325-40e6-a243-854f6cd4ae7f",
   "metadata": {
    "tags": [
     "fr"
    ]
   },
   "source": [
    "## Qu'est-ce qu'un tuple?\n",
    "\n",
    "Un tuple est une collection ordonnée d'éléments. Tout comme une liste un tuple est :\n",
    "\n",
    "- **Ordonné**: Un tuple stocke des objets dans un ordre précis et on peut y accéder en utilisant l'index.\n",
    "\n",
    "- **Hétérogène**: Un tuple peut contenir des éléments de différents types tels que des nombres, des chaînes de caractère, d'autres tuples etc.\n",
    "\n",
    "Cependant la grande différence entre une liste et un tuple c'est qu'un tuple est :\n",
    "\n",
    "- **Immuable**: Une fois qu'un tuple est crée, on ne peut pas le modifier (au contraire d'une listes qui est dite \"muable\").\n",
    "\n",
    "Pour créer un tuple, il suffit de mettre une parenthèse de chaque côté et de séparer les éléments par des virgules."
   ]
  },
  {
   "cell_type": "code",
   "execution_count": null,
   "id": "d6ae4b99-11d4-4004-8505-ac6b8e83e69a",
   "metadata": {
    "tags": []
   },
   "outputs": [],
   "source": [
    "my_tuple = (3, \"hello\", [1, 2, 3])\n",
    "print(my_tuple)\n",
    "print(type(my_tuple))"
   ]
  },
  {
   "cell_type": "markdown",
   "id": "ddef9d7f-47d2-44c0-b402-2ec0b4915d0c",
   "metadata": {
    "tags": [
     "fr"
    ]
   },
   "source": [
    "## Tuple implicite\n",
    "\n",
    "Il est possible d'omettre les parenthèses dans le cas où il n'y a pas d'ambiguïté. On parle alors de \"tuple implicite\"."
   ]
  },
  {
   "cell_type": "code",
   "execution_count": null,
   "id": "1e36e73b-64d4-4cee-9995-b4463f4cbf49",
   "metadata": {
    "id": "1uqGs1hBH5BB",
    "tags": []
   },
   "outputs": [],
   "source": [
    "my_tuple = 3, \"hello\", [1, 2, 3]\n",
    "print(my_tuple)\n",
    "print(type(my_tuple))"
   ]
  },
  {
   "cell_type": "markdown",
   "id": "2b4b56d1-ed56-41a3-ae2a-a75df81cf0ef",
   "metadata": {
    "tags": [
     "fr"
    ]
   },
   "source": [
    "Les tuples sont immuables, vous ne pouvez pas les modifier une fois créés."
   ]
  },
  {
   "cell_type": "code",
   "execution_count": null,
   "id": "a9fad9f7-af13-4094-b45d-59bc0ef9ac1d",
   "metadata": {
    "tags": []
   },
   "outputs": [],
   "source": [
    "my_tuple = 3, \"hello\", [1, 2, 3]\n",
    "#my_tuple[0] = 12 # TypeError: 'tuple' object does not support item assignment\n",
    "#my_tuple.append(12) # AttributeError: 'tuple' object has no attribute 'append'"
   ]
  },
  {
   "cell_type": "markdown",
   "id": "a11d0a73-16a2-4990-afae-ca3cf176aa2e",
   "metadata": {
    "tags": [
     "fr"
    ]
   },
   "source": [
    "### Pour aller plus loin"
   ]
  },
  {
   "cell_type": "code",
   "execution_count": null,
   "id": "d1881fd3-32cf-4785-85d6-55e9a699ef3d",
   "metadata": {
    "tags": []
   },
   "outputs": [],
   "source": [
    "# You can create dictionary with tuple keys:\n",
    "\n",
    "d = {(x, x + 1): x for x in range(5)} # dict comprehension\n",
    "\n",
    "for k, v in d.items(): print(f\"k: {k}, v : {v}\") # prints the dictionary\n",
    "\n",
    "print(\"d[(1, 2)] :\", d[(1, 2)]) # we can get the value using a uple as key\n",
    "\n",
    "# If I try to create a dictionary with lists as keys, we'll get an error\n",
    "#d = {[x, x + 1]: x for x in range(5)} # yields \"TypeError: unhashable type: 'list'\""
   ]
  }
 ],
 "metadata": {
  "kernelspec": {
   "display_name": "Python 3 (ipykernel)",
   "language": "python",
   "name": "python3"
  },
  "language_info": {
   "codemirror_mode": {
    "name": "ipython",
    "version": 3
   },
   "file_extension": ".py",
   "mimetype": "text/x-python",
   "name": "python",
   "nbconvert_exporter": "python",
   "pygments_lexer": "ipython3",
   "version": "3.10.9"
  }
 },
 "nbformat": 4,
 "nbformat_minor": 5
}
