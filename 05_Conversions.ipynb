{
 "cells": [
  {
   "cell_type": "markdown",
   "metadata": {},
   "source": [
    "# CONVERSION"
   ]
  },
  {
   "cell_type": "markdown",
   "metadata": {
    "tags": [
     "fr"
    ]
   },
   "source": [
    "# Définition\n",
    "\n",
    "Jusqu'à présent nous avons vu que les variables pouvaient être de différents types : `int`, `str` ou `float` par exemple. Mais parfois nous avons besoin de convertir un type de variable vers un autre.\n",
    "\n",
    "Pour ce faire on peut utiliser les fonctions suivantes :  `int()`, `str()` ou `float()`.\n",
    "\n",
    "## Les fonctions de conversion\n",
    "\n",
    "### La fonction `int()`\n",
    "\n",
    "La fonction `int()`, à ne pas confondre avec le type `int`, permet de convertir une chaîne de caractère en un nombre entier. Si la conversion réussit, le programme continue de s'exécuter. Dans le cas contraire, il renvoie une erreur et s'arrête. N'hésitez pas à tester par vous-même ces possibilités.\n",
    "\n",
    "#### Conversion d'une string vers un integer\n",
    "\n",
    "Si tous les caractères de la string sont des nombres, alors la conversion peut s'effectuer sans erreur."
   ]
  },
  {
   "cell_type": "code",
   "execution_count": null,
   "metadata": {},
   "outputs": [],
   "source": [
    "a = \"12\"\n",
    "print(a)\n",
    "print(type(a))\n",
    "\n",
    "a = int(a)\n",
    "print(a)\n",
    "print(type(a))"
   ]
  },
  {
   "cell_type": "markdown",
   "metadata": {
    "tags": [
     "fr"
    ]
   },
   "source": [
    "#### Conversion d'un float vers un integer\n",
    "\n",
    "Dans ce cas présent la conversion ne prend que la partie entière du nombre, elle ne l'arrondit pas ! Si on voulait l'arrondir il faudrait utiliser la fonction `round()`."
   ]
  },
  {
   "cell_type": "code",
   "execution_count": null,
   "metadata": {},
   "outputs": [],
   "source": [
    "a = 12.99999\n",
    "print(a)\n",
    "print(type(a))\n",
    "\n",
    "a = int(a)\n",
    "print(a)\n",
    "print(type(a))"
   ]
  },
  {
   "cell_type": "markdown",
   "metadata": {
    "tags": [
     "fr"
    ]
   },
   "source": [
    "### Conversion d'un float ou d'un integer vers une string\n",
    "\n",
    "Dans ce cas présent la conversion prend chaque chiffre individuellement et le convertit en caractère."
   ]
  },
  {
   "cell_type": "code",
   "execution_count": null,
   "metadata": {},
   "outputs": [],
   "source": [
    "a = 12.99999\n",
    "print(a)\n",
    "print(type(a))\n",
    "\n",
    "a = str(a)\n",
    "print(a)\n",
    "print(type(a))"
   ]
  },
  {
   "cell_type": "markdown",
   "metadata": {
    "tags": [
     "fr"
    ]
   },
   "source": [
    "## Exercice (facile)\n",
    "\n",
    "À partir de la chaîne de caractère suivante (qui ne contient que des chiffres), convertissez-la en un entier, puis en un float, puis à nouveau vers une chaîne de caractère. Que constatez-vous ?\n",
    "\n",
    "**Astuce**\n",
    "\n",
    "- Vous pouvez le faire en une ligne en imbriquant les conversions entre elles."
   ]
  },
  {
   "cell_type": "code",
   "execution_count": null,
   "metadata": {},
   "outputs": [],
   "source": [
    "s = \"256\"\n",
    "\n",
    "# Code here!\n",
    "\n"
   ]
  },
  {
   "cell_type": "markdown",
   "metadata": {
    "tags": [
     "fr"
    ]
   },
   "source": [
    "## La fonction de saisie `input()`\n",
    "\n",
    "Elle permet d'afficher un champ pour que l'utilisateur entre un texte.\n",
    "\n",
    "En utilisant `input()` la variable récupérée est de type `str`. Si on veut effectuer des calculs avec cette variable il faut la convertir dans un autre format numérique en utilisant la fonction `int()` par exemple."
   ]
  },
  {
   "cell_type": "code",
   "execution_count": null,
   "metadata": {
    "tags": [
     "fr"
    ]
   },
   "outputs": [],
   "source": [
    "nom = input(\"Quel est votre nom ?\")\n",
    "print(f\"Bonjour {nom} ! 'Nom' est de type: {type(nom)}\")\n",
    "\n",
    "age = input(\"Et quel est votre âge ?\")\n",
    "print(f\"{age} ? Le bel âge ! 'age' est de type: {type(age)}\")"
   ]
  },
  {
   "cell_type": "markdown",
   "metadata": {
    "tags": [
     "fr"
    ]
   },
   "source": [
    "Remarquez que, bien que vous avez rentré un nombre à la seconde question, cette variable est une *string*. Si vous avez rentré \"22\", il s'agit donc bien du texte \"22\" et non pas du nombre 22."
   ]
  },
  {
   "cell_type": "markdown",
   "metadata": {
    "tags": [
     "fr"
    ]
   },
   "source": [
    "## Exercice (facile)\n",
    "\n",
    "Utiliser input pour demander à l'utilisateur quelle est sa couleur préférée. Si la réponse donnée par l'utilisateur est le rouge (ou une autre couleur de votre choix), indiquez-lui qu'il a gagné ! Sinon indiquez-lui qu'il a perdu."
   ]
  },
  {
   "cell_type": "code",
   "execution_count": null,
   "metadata": {},
   "outputs": [],
   "source": [
    "# Code here!\n",
    "\n"
   ]
  },
  {
   "cell_type": "markdown",
   "metadata": {
    "tags": [
     "fr"
    ]
   },
   "source": [
    "## La méthode `.isdigit()`\n",
    "\n",
    "### Une \"méthode\" ?\n",
    "\n",
    "Une `string` est un type de donnée, mais comme c'est aussi un objet appartenant à une \"classe\", c'est-à-dire à un objet spécial de Python. La plupart des classes possèdent des \"méthodes\", c'est-à-dire des fonctions qui sont propres à l'objet.\n",
    "\n",
    "Pour appeler une **méthode** on écrit le nom de l'objet, puis on ajoute un point et le nom de la méthode.\n",
    "\n",
    "Exemple :"
   ]
  },
  {
   "cell_type": "code",
   "execution_count": null,
   "metadata": {},
   "outputs": [],
   "source": [
    "s = \"1649\"\n",
    "s.isdigit()"
   ]
  },
  {
   "cell_type": "markdown",
   "metadata": {
    "tags": [
     "fr"
    ]
   },
   "source": [
    "La méthode `.isdigit()` renvoie `True` si une chaîne de caractère **n'est pas nulle et ne contient que des chiffres**.\n",
    "Elle renvoie `False` si ce n'est pas le cas.\n",
    "\n",
    "Cette fonction est une **méthode** car elle est propre aux objets de type *string*. "
   ]
  },
  {
   "cell_type": "code",
   "execution_count": null,
   "metadata": {},
   "outputs": [],
   "source": [
    "s = \"1649hello\"\n",
    "s.isdigit()"
   ]
  },
  {
   "cell_type": "markdown",
   "metadata": {
    "tags": [
     "fr"
    ]
   },
   "source": [
    "### Effectuer des tests avec ``.isdigit()``\n",
    "\n",
    "Pour vérifier si une string ne contient que des nombres, on peut effectuer un test avec `if`.\n",
    "\n",
    "**ASTUCE** : Lorsqu'une fonction, une méthode ou une expression retourne `True`, il n'est pas nécessaire d'écrire `== True`, cela est implicite. Par exemple :"
   ]
  },
  {
   "cell_type": "code",
   "execution_count": null,
   "metadata": {
    "tags": [
     "fr"
    ]
   },
   "outputs": [],
   "source": [
    "s = \"99\"\n",
    "\n",
    "if s.isdigit() == True:\n",
    "    print(\"Oui, cette chaîne ne contient que des chiffres.\")"
   ]
  },
  {
   "cell_type": "markdown",
   "metadata": {
    "tags": [
     "fr"
    ]
   },
   "source": [
    " Revient au même que ceci :"
   ]
  },
  {
   "cell_type": "code",
   "execution_count": null,
   "metadata": {
    "tags": [
     "fr"
    ]
   },
   "outputs": [],
   "source": [
    "s = \"99\"\n",
    "\n",
    "if s.isdigit():\n",
    "    print(\"Oui, cette chaîne ne contient que des chiffres.\")"
   ]
  },
  {
   "cell_type": "markdown",
   "metadata": {
    "tags": [
     "fr"
    ]
   },
   "source": [
    "# Exercice (facile / moyen)\n",
    "\n",
    "Ecrivez un programme qui permet d'acheter des courges sur le marché : elles valent 4,5€ l'unité. Cependant le maraîcher ne dispose au total que de 25 courges, il ne peut donc pas en vendre au-delà.\n",
    "\n",
    "Pour cela procédez ainsi :\n",
    "\n",
    "- Utilisez la fonction `input()` pour demander à l'utilisateur, le client, combien de courges celui-ci désire.\n",
    "- Vérifiez que le chiffre est bien un entier en utilisant la méthode `.isdigit()`. Si c'est le cas, convertissez-le en un entier.\n",
    "- Effectuez des tests pour vérifier que ce nombre n'est pas égal à 0, et n'est pas non plus supérieur au stock maximum.\n",
    "- Finalement, calculez le prix total que le client devra payer.\n",
    "\n",
    "Prévoyez un message d'erreur différent dans les cas suivants :\n",
    "\n",
    "- L'utilisateur n'a pas entré un nombre valide.\n",
    "- L'utilisateur a rentré un nombre égal à 0.\n",
    "- L'utilisateur demande davantage de courges que le stock maximal.\n",
    "\n",
    "**Astuces**:\n",
    "\n",
    "- Il vous faudra utiliser plusieurs niveaux d'indentation (tests \"imbriqués\").\n",
    "- Si la variable entrée est bien un nombre entier, n'oubliez-pas de la convertir avec `int()` pour pouvoir effectuer des opérations dessus !\n",
    "- Testez ensuite tous les cas de figure pour vérifiez que le code fonctionne correctement.\n",
    "- Essayez de n'écrire que le strict minimum de code nécessaire.\n",
    "- Utilisez des noms de variable courts et clairs."
   ]
  },
  {
   "cell_type": "code",
   "execution_count": null,
   "metadata": {},
   "outputs": [],
   "source": [
    "# Code here!\n"
   ]
  },
  {
   "cell_type": "markdown",
   "metadata": {
    "tags": [
     "fr"
    ]
   },
   "source": [
    "# Exercice (moyen)\n",
    "\n",
    "Reprenez le même exercice que précédemment, mais il y a désormais une promotion sur les courges, à partir de la troisième l'unité supplémentaire est à moitié prix. (Si vous en achetez 5, vous en aurez donc 3 au prix normal et 2 avec une réduction de moitié.)"
   ]
  },
  {
   "cell_type": "code",
   "execution_count": null,
   "metadata": {},
   "outputs": [],
   "source": [
    "# Code here!\n"
   ]
  }
 ],
 "metadata": {
  "kernelspec": {
   "display_name": "Python 3 (ipykernel)",
   "language": "python",
   "name": "python3"
  },
  "language_info": {
   "codemirror_mode": {
    "name": "ipython",
    "version": 3
   },
   "file_extension": ".py",
   "mimetype": "text/x-python",
   "name": "python",
   "nbconvert_exporter": "python",
   "pygments_lexer": "ipython3",
   "version": "3.11.5"
  }
 },
 "nbformat": 4,
 "nbformat_minor": 4
}
