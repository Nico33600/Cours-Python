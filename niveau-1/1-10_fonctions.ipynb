{
 "cells": [
  {
   "cell_type": "code",
   "execution_count": null,
   "metadata": {},
   "outputs": [],
   "source": [
    "Les fonctions"
   ]
  },
  {
   "cell_type": "markdown",
   "metadata": {},
   "source": [
    "# Définition\n",
    "\n",
    "Nous avons déjà utilisé de grands nombres de fonctions jusqu'à présent. Cependant en Python il est très facile de pouvoir créer les siennes en quelques lignes seulement ! "
   ]
  },
  {
   "cell_type": "markdown",
   "metadata": {},
   "source": [
    "## Syntaxe\n",
    "\n",
    "Pour cela on utilise la syntaxe suivante, qui est très similaire à celles des boucles ou des tests :\n",
    "\n",
    "- On commence par écrire le mot-clé ``def``  pour faire comprendre à Python que la suite sera une fonction.\n",
    "- On écrit le nom de sa fonction.\n",
    "- On oublie pas les parenthèses à la fin.\n",
    "- On ajoute le signe ``:`` pour préciser que la suite sera le contenu de la fonction"
   ]
  },
  {
   "cell_type": "code",
   "execution_count": 2,
   "metadata": {},
   "outputs": [],
   "source": [
    "def ma_premiere_fonction():\n",
    "    print(\"Félicitations ! Vous venez d'écrire votre première fonction !\")"
   ]
  },
  {
   "cell_type": "markdown",
   "metadata": {},
   "source": [
    "## Exécution"
   ]
  },
  {
   "cell_type": "markdown",
   "metadata": {},
   "source": [
    "Tiens ? Mais quand on l'éxecute rien ne se passe ? C'est normal, votre fonction est désormais **définie**, elle existe quelque part dans la mémoire de Python. Pour l'exécuter, il faut tout simplement l'appeler comme n'importe quelle autre fonction."
   ]
  },
  {
   "cell_type": "code",
   "execution_count": 3,
   "metadata": {},
   "outputs": [
    {
     "name": "stdout",
     "output_type": "stream",
     "text": [
      "Félicitations ! Vous venez d'écrire votre première fonction !\n"
     ]
    }
   ],
   "source": [
    "ma_premiere_fonction()"
   ]
  },
  {
   "cell_type": "markdown",
   "metadata": {},
   "source": [
    "## L'instruction ``return``\n",
    "\n",
    "C'est elle qui gère les paramètres de sortie. Ici notre programme affiche une ligne, mais il ne **retourne** aucune valeur. Grâce à ``return``, on peut lui spécifier qu'après avoir exécuté les opérations il doit générer un ou une valeur en sortie. On va faire ceci grâce à ``return``."
   ]
  },
  {
   "cell_type": "code",
   "execution_count": 4,
   "metadata": {},
   "outputs": [
    {
     "data": {
      "text/plain": [
       "\"Félicitations ! Vous venez d'écrire votre deuxième fonction !\""
      ]
     },
     "execution_count": 4,
     "metadata": {},
     "output_type": "execute_result"
    }
   ],
   "source": [
    "def ma_deuxieme_fonction():\n",
    "    return \"Félicitations ! Vous venez d'écrire votre deuxième fonction !\"\n",
    "\n",
    "ma_deuxieme_fonction()"
   ]
  },
  {
   "cell_type": "markdown",
   "metadata": {},
   "source": [
    "Ici la fonction a **retournée** une string au lieu de l'afficher. Examinez la différence si on utilise la fonction qu'on a créé en argument de la fonction ``print()`` :"
   ]
  },
  {
   "cell_type": "code",
   "execution_count": 5,
   "metadata": {},
   "outputs": [
    {
     "name": "stdout",
     "output_type": "stream",
     "text": [
      "Félicitations ! Vous venez d'écrire votre première fonction !\n",
      "None\n"
     ]
    }
   ],
   "source": [
    "# Premier cas\n",
    "\n",
    "print(ma_premiere_fonction())"
   ]
  },
  {
   "cell_type": "code",
   "execution_count": 11,
   "metadata": {},
   "outputs": [
    {
     "name": "stdout",
     "output_type": "stream",
     "text": [
      "Félicitations ! Vous venez d'écrire votre deuxième fonction !\n"
     ]
    }
   ],
   "source": [
    "# Deuxième cas\n",
    "\n",
    "print(ma_deuxieme_fonction())"
   ]
  },
  {
   "cell_type": "markdown",
   "metadata": {},
   "source": [
    "- Dans le premier cas la fonction s'est exécutée. Elle a donc affiché la ligne. Mais elle n'a pas de ``return``, donc elle ne retourne rien. En Python rien est un objet spécial de type ``None``.\n",
    "\n",
    "- Dans le deuxième cas la fonction s'est exécutée et elle a retournée une string. C'est un peu comme si elle s'était elle-même transformée en string. Comme on a donné un argument valable à ``Print()``, le résultat a pu être affiché !"
   ]
  },
  {
   "cell_type": "markdown",
   "metadata": {},
   "source": [
    "# Les arguments\n",
    "\n",
    "Tout ce qui se trouve entre les parenthèses sont les arguments, c'est-à-dire la ou les valeurs que prend en entrée la fonction."
   ]
  },
  {
   "cell_type": "markdown",
   "metadata": {},
   "source": [
    "## Utilisation des arguments\n",
    "\n",
    "Pour spécifier un argument, on lui donne en entrée un nom de variable. Notez que ce nom est propre à la fonction, vous pouvez l'appeler comme vous voulez. Toutefois une fois ce choix fait, il faut être consistant et l'appeler de la même manière pendant toute la définition de votre fonction.\n",
    "\n",
    "Imaginons qu'on écrive une fonction qui renvoie un nombre au carré:"
   ]
  },
  {
   "cell_type": "code",
   "execution_count": 15,
   "metadata": {},
   "outputs": [
    {
     "name": "stdout",
     "output_type": "stream",
     "text": [
      "4\n",
      "49\n",
      "81\n"
     ]
    }
   ],
   "source": [
    "def carre(x):\n",
    "    return x * x\n",
    "\n",
    "print(carre(2))\n",
    "print(carre(7))\n",
    "print(carre(9))"
   ]
  },
  {
   "cell_type": "markdown",
   "metadata": {},
   "source": [
    "Quand on **appelle** la fonction, c'est-à-dire qu'on l'exécute, on lui donne en en entrée la valeur désirée. Cette valeur là prend ensuite la place de \"x\" dans notre fonction. Mais notez qu'on aurait pu écrire cela et obtenir exactement les mêmes résultats :"
   ]
  },
  {
   "cell_type": "code",
   "execution_count": 6,
   "metadata": {},
   "outputs": [
    {
     "name": "stdout",
     "output_type": "stream",
     "text": [
      "4\n",
      "49\n",
      "81\n",
      "2401\n"
     ]
    }
   ],
   "source": [
    "def carre(j_ecris_ce_que_je_veux):\n",
    "    return j_ecris_ce_que_je_veux * j_ecris_ce_que_je_veux\n",
    "\n",
    "print(carre(2))\n",
    "print(carre(7))\n",
    "print(carre(9))\n",
    "\n",
    "nombre = 49\n",
    "\n",
    "print(carre(nombre))"
   ]
  },
  {
   "cell_type": "markdown",
   "metadata": {},
   "source": [
    "## Arguments par défaut\n",
    "\n",
    "Si l'utilisateur ne spécifie pas d'arguments, on peut en suggérer par défaut en lui précisant en utilisant le signe ``=``. Ex:"
   ]
  },
  {
   "cell_type": "code",
   "execution_count": 20,
   "metadata": {},
   "outputs": [
    {
     "name": "stdout",
     "output_type": "stream",
     "text": [
      "100\n",
      "50\n",
      "230\n",
      "100\n"
     ]
    }
   ],
   "source": [
    "def multiplie_par_10(x=10):\n",
    "    return x * 10\n",
    "\n",
    "print(multiplie_par_10()) # ici on ne rentre aucune valeur\n",
    "print(multiplie_par_10(5))\n",
    "print(multiplie_par_10(23))\n",
    "print(multiplie_par_10()) # ici non plus"
   ]
  },
  {
   "cell_type": "markdown",
   "metadata": {},
   "source": [
    "## Exercice (moyen)\n",
    "\n",
    "La fonction ``max()`` de python renvoie la valeur la plus élevée de certains objets, comme les listes par exemple. reprogrammez la avec une boucle while Par exemple :"
   ]
  },
  {
   "cell_type": "code",
   "execution_count": 21,
   "metadata": {},
   "outputs": [
    {
     "data": {
      "text/plain": [
       "12"
      ]
     },
     "execution_count": 21,
     "metadata": {},
     "output_type": "execute_result"
    }
   ],
   "source": [
    "nombres = [5,8,1,6,9,12]\n",
    "max(nombres)"
   ]
  },
  {
   "cell_type": "markdown",
   "metadata": {},
   "source": [
    "Recréez cette fonction en utilisant des boucles et des tests.\n",
    "\n"
   ]
  },
  {
   "cell_type": "markdown",
   "metadata": {},
   "source": [
    "## Exercice (moyen)\n",
    "\n",
    "Vous vous souvenez de la méthode .isdigit() ? Celle-ci permet de savoir si une chaîne de caractère ne contient que des chiffres. Recreéez-la sous forme de fonction.\n",
    "\n",
    "**ASTUCES**:\n",
    "\n",
    "- Vous devez d'abord recréer la liste des caractères à chercher.\n",
    "- Votre fonction doit retourner ``True`` ou ``False``"
   ]
  },
  {
   "cell_type": "markdown",
   "metadata": {},
   "source": [
    "## Exercice (moyen/difficile)\n",
    "\n",
    "Créez une fonction nommée med() qui calcule la médiane d'une suite (en occurrence ici une liste d'integer nommée \"a\").\n",
    "\n",
    "**RAPPEL:**\n",
    "\n",
    "La médiane d'un distribution est une valeur x qui permet de couper l'ensemble des valeurs en deux parties égales : mettant d'un côté une moitié des valeurs, qui sont toutes inférieures ou égales à x et de l'autre côté l'autre moitié des valeurs, qui sont toutes supérieures ou égales à x.\n",
    "\n",
    "Si le nombre de valeurs est paire on fait la moyenne des deux valeurs centrales.\n",
    "\n",
    "**ASTUCES**\n",
    "\n",
    "- On peut utiliser ``sorted()`` sur une suite pour la classer par ordre croissant.\n",
    "- Convertir un ``float`` en ``int`` peut avoir un avantage pour être sûr que l'index donné est un entier.\n",
    "- La formule n'est pas la même si le nombre d'éléments dans la suite est paire ou impaire."
   ]
  },
  {
   "cell_type": "code",
   "execution_count": null,
   "metadata": {},
   "outputs": [],
   "source": [
    "def med(suite):\n",
    "\n",
    "    # Tapez votre code ici !\n",
    "    "
   ]
  },
  {
   "cell_type": "code",
   "execution_count": null,
   "metadata": {},
   "outputs": [],
   "source": [
    "# Une fois votre fonction écrite,\n",
    "# utilisez cette cellule pour vérifier que votre code\n",
    "# vous donne la bonne réponse !\n",
    "\n",
    "import numpy as np\n",
    "\n",
    "a = [172.67,3,78,-67, 8900, 8, 19,9, 89]\n",
    "\n",
    "print(\"médiane (avec notre fonction) =\", med(a))\n",
    "print(\"mediane (avec numpy) =\", np.median(a))\n",
    "if med(a) == np.median(a) : print (\"bravo !\")\n",
    "else: print(\"On cherche encore un peu !\")"
   ]
  },
  {
   "cell_type": "markdown",
   "metadata": {},
   "source": [
    "## Exercice (difficile)\n",
    "\n",
    "La valeur modale est la valeur la plus présente dans une distribution. Par exemple :\n",
    "\n",
    "\n",
    "```python\n",
    "[2, 3, 3, 5, -1, 3, 12, 3]\n",
    "```\n",
    "Dans la suite ci-dessus, la valeur modale est \"3\", car elle est présente 4 fois. Le nombre de fois où la valeur est présente s'appelle aussi l'effectif de la valeur modale.\n",
    "\n",
    "Une distribution peut avoir plusieurs modes puisqu'il peut y avoir une égalité entre les valeurs les plus présentes. Exemple: \n",
    "\n",
    "```python\n",
    "[2, 3, 3, 4, 4]\n",
    "```\n",
    "Dans la suite ci-dessus, on a deux valeurs modales : 3 et 4 (l'effectif est de 2).\n",
    "\n",
    "**Sans utiliser la fonction ``max()`` ou ``count()``**, écrire une fonction qui renvoie la ou les valeurs modales avec l'effectif qui y est associé.\n",
    "\n",
    "**ASTUCES**\n",
    "\n",
    "- La fonction doit donc renvoyer deux valeurs : le ou les valeurs modales (sous forme de liste par exemple) et l'effectif.\n",
    "- L'utilisation d'un dictionnaire est une bonne idée."
   ]
  },
  {
   "cell_type": "code",
   "execution_count": null,
   "metadata": {},
   "outputs": [],
   "source": [
    "def mode(suite):\n",
    "    \n",
    "    # Tapez le code ici !\n",
    "    \n",
    "   "
   ]
  },
  {
   "cell_type": "code",
   "execution_count": null,
   "metadata": {},
   "outputs": [],
   "source": [
    "# Une fois votre fonction écrite,\n",
    "# utilisez cette cellule pour vérifier que votre code\n",
    "# vous donne la bonne réponse ! \n",
    "\n",
    "from scipy import stats\n",
    "\n",
    "b = [50, 70, 80, 90, 70, 60, 50, 60, 40, 30, 30, 80, 120, 150, 50, 60, 80, 90, 60, 30, 60, 70, 90, 90, 90]\n",
    "\n",
    "print(\"mode (avec notre fonction) =\", mode(b))\n",
    "print(\"mode (avec stats) =\", stats.mode(b)[0][0], \",\", stats.mode(b)[1][0])\n",
    "\n",
    "# Notez que la fonction stats n'affiche que la valeur modale la plus petite.\n",
    "# Pourtant dans le cas de b il y a bien deux valeurs modales à trouver.\n",
    "# Notre fonction est donc meilleure que celle de la librairie scipy ! :)"
   ]
  }
 ],
 "metadata": {
  "kernelspec": {
   "display_name": "Python 3",
   "language": "python",
   "name": "python3"
  },
  "language_info": {
   "codemirror_mode": {
    "name": "ipython",
    "version": 3
   },
   "file_extension": ".py",
   "mimetype": "text/x-python",
   "name": "python",
   "nbconvert_exporter": "python",
   "pygments_lexer": "ipython3",
   "version": "3.7.3"
  }
 },
 "nbformat": 4,
 "nbformat_minor": 4
}
