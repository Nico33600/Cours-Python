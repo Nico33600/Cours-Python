{
 "cells": [
  {
   "cell_type": "markdown",
   "metadata": {},
   "source": [
    "LES FONCTIONS"
   ]
  },
  {
   "cell_type": "markdown",
   "metadata": {},
   "source": [
    "# Définition\n",
    "\n",
    "Nous avons déjà utilisé de grands nombres de fonctions jusqu'à présent. Cependant en Python il est très facile de pouvoir créer les siennes en quelques lignes seulement ! "
   ]
  },
  {
   "cell_type": "markdown",
   "metadata": {},
   "source": [
    "## Syntaxe\n",
    "\n",
    "Pour cela on utilise la syntaxe suivante, qui est très similaire à celles des boucles ou des tests :\n",
    "\n",
    "- On commence par écrire le mot-clé ``def``  pour faire comprendre à Python que la suite sera une fonction.\n",
    "- On écrit le nom de sa fonction.\n",
    "- On oublie pas les parenthèses à la fin.\n",
    "- On ajoute le signe ``:`` pour préciser que la suite sera le contenu de la fonction"
   ]
  },
  {
   "cell_type": "code",
   "execution_count": 1,
   "metadata": {},
   "outputs": [],
   "source": [
    "def ma_premiere_fonction():\n",
    "    print(\"Félicitations ! Vous venez d'écrire votre première fonction !\")"
   ]
  },
  {
   "cell_type": "markdown",
   "metadata": {},
   "source": [
    "## Exécution"
   ]
  },
  {
   "cell_type": "markdown",
   "metadata": {},
   "source": [
    "Tiens ? Mais quand on l'éxecute rien ne se passe ? C'est normal, votre fonction est désormais **définie**, elle existe quelque part dans la mémoire de Python. Pour l'exécuter, il faut tout simplement l'appeler comme n'importe quelle autre fonction."
   ]
  },
  {
   "cell_type": "code",
   "execution_count": 2,
   "metadata": {},
   "outputs": [
    {
     "name": "stdout",
     "output_type": "stream",
     "text": [
      "Félicitations ! Vous venez d'écrire votre première fonction !\n"
     ]
    }
   ],
   "source": [
    "ma_premiere_fonction()"
   ]
  },
  {
   "cell_type": "markdown",
   "metadata": {},
   "source": [
    "## L'instruction ``return``\n",
    "\n",
    "C'est elle qui gère les paramètres de sortie. Ici notre programme affiche une ligne, mais il ne **retourne** aucune valeur. Grâce à ``return``, on peut lui spécifier qu'après avoir exécuté les opérations il doit générer une ou plusieurs valeurs en sortie. On va faire ceci grâce à ``return``."
   ]
  },
  {
   "cell_type": "code",
   "execution_count": 3,
   "metadata": {},
   "outputs": [
    {
     "data": {
      "text/plain": [
       "\"Félicitations ! Vous venez d'écrire votre deuxième fonction !\""
      ]
     },
     "execution_count": 3,
     "metadata": {},
     "output_type": "execute_result"
    }
   ],
   "source": [
    "def ma_deuxieme_fonction():\n",
    "    return \"Félicitations ! Vous venez d'écrire votre deuxième fonction !\"\n",
    "\n",
    "ma_deuxieme_fonction()"
   ]
  },
  {
   "cell_type": "markdown",
   "metadata": {},
   "source": [
    "Ici la fonction a **retourné** une string au lieu de l'afficher. Examinez la différence si on utilise la fonction qu'on a créé en argument de la fonction ``print()`` :"
   ]
  },
  {
   "cell_type": "code",
   "execution_count": 4,
   "metadata": {},
   "outputs": [
    {
     "name": "stdout",
     "output_type": "stream",
     "text": [
      "Félicitations ! Vous venez d'écrire votre première fonction !\n",
      "None\n"
     ]
    }
   ],
   "source": [
    "# Premier cas\n",
    "\n",
    "print(ma_premiere_fonction())"
   ]
  },
  {
   "cell_type": "code",
   "execution_count": 5,
   "metadata": {},
   "outputs": [
    {
     "name": "stdout",
     "output_type": "stream",
     "text": [
      "Félicitations ! Vous venez d'écrire votre deuxième fonction !\n"
     ]
    }
   ],
   "source": [
    "# Deuxième cas\n",
    "\n",
    "print(ma_deuxieme_fonction())"
   ]
  },
  {
   "cell_type": "markdown",
   "metadata": {},
   "source": [
    "- Dans le premier cas la fonction s'est exécutée. Elle a donc affiché la ligne. Mais elle n'a pas de ``return``, donc elle ne retourne rien. En Python rien est un objet spécial de type ``None``.\n",
    "\n",
    "- Dans le deuxième cas la fonction s'est exécutée et elle a retournée une string. C'est un peu comme si elle s'était elle-même transformée en string. Comme on a donné un argument valable à ``Print()``, le résultat a pu être affiché !"
   ]
  },
  {
   "cell_type": "markdown",
   "metadata": {},
   "source": [
    "# Les arguments\n",
    "\n",
    "Tout ce qui se trouve entre les parenthèses sont les arguments, c'est-à-dire la ou les valeurs que prend en entrée la fonction."
   ]
  },
  {
   "cell_type": "markdown",
   "metadata": {},
   "source": [
    "## Utilisation des arguments\n",
    "\n",
    "Pour spécifier un argument, on lui donne en entrée un nom de variable. Notez que ce nom est propre à la fonction, vous pouvez l'appeler comme vous voulez. Toutefois une fois ce choix fait, il faut être consistant et l'appeler de la même manière pendant toute la définition de votre fonction.\n",
    "\n",
    "Imaginons qu'on écrive une fonction qui renvoie un nombre au carré:"
   ]
  },
  {
   "cell_type": "code",
   "execution_count": 7,
   "metadata": {},
   "outputs": [
    {
     "name": "stdout",
     "output_type": "stream",
     "text": [
      "4\n",
      "49\n",
      "81\n"
     ]
    }
   ],
   "source": [
    "def carre(x):\n",
    "    return x * x\n",
    "\n",
    "print(carre(2))\n",
    "print(carre(7))\n",
    "print(carre(9))"
   ]
  },
  {
   "cell_type": "markdown",
   "metadata": {},
   "source": [
    "Quand on **appelle** la fonction, c'est-à-dire qu'on l'exécute, on lui donne en entrée la valeur désirée. Cette valeur là prend ensuite la place de \"x\" dans notre fonction. Mais notez qu'on aurait pu écrire cela et obtenir exactement les mêmes résultats :"
   ]
  },
  {
   "cell_type": "code",
   "execution_count": 8,
   "metadata": {},
   "outputs": [
    {
     "name": "stdout",
     "output_type": "stream",
     "text": [
      "4\n",
      "49\n",
      "81\n",
      "2401\n"
     ]
    }
   ],
   "source": [
    "def carre(j_ecris_ce_que_je_veux):\n",
    "    return j_ecris_ce_que_je_veux * j_ecris_ce_que_je_veux\n",
    "\n",
    "print(carre(2))\n",
    "print(carre(7))\n",
    "print(carre(9))\n",
    "\n",
    "nombre = 49\n",
    "\n",
    "print(carre(nombre))"
   ]
  },
  {
   "cell_type": "markdown",
   "metadata": {},
   "source": [
    "## Arguments par défaut\n",
    "\n",
    "Si l'utilisateur ne spécifie pas d'arguments, on peut en définir par défaut en lui précisant en utilisant le signe ``=``. Ex:"
   ]
  },
  {
   "cell_type": "code",
   "execution_count": 9,
   "metadata": {},
   "outputs": [
    {
     "name": "stdout",
     "output_type": "stream",
     "text": [
      "100\n",
      "50\n",
      "230\n",
      "100\n"
     ]
    }
   ],
   "source": [
    "def multiplie_par_10(x=10):\n",
    "    return x * 10\n",
    "\n",
    "print(multiplie_par_10()) # ici on ne rentre aucune valeur\n",
    "print(multiplie_par_10(5))\n",
    "print(multiplie_par_10(23))\n",
    "print(multiplie_par_10()) # ici non plus"
   ]
  },
  {
   "cell_type": "markdown",
   "metadata": {},
   "source": [
    "## Exercice (moyen)\n",
    "\n",
    "La fonction ``max()`` de python renvoie la valeur la plus élevée de certains objets, comme les listes par exemple. Par exemple :"
   ]
  },
  {
   "cell_type": "code",
   "execution_count": 10,
   "metadata": {},
   "outputs": [
    {
     "data": {
      "text/plain": [
       "12"
      ]
     },
     "execution_count": 10,
     "metadata": {},
     "output_type": "execute_result"
    }
   ],
   "source": [
    "nombres = [5, 8, 1, 6, 9, 12]\n",
    "max(nombres)"
   ]
  },
  {
   "cell_type": "markdown",
   "metadata": {},
   "source": [
    "Reprogrammez-la en utilisant des tests et des boucles. Nommez-la ``max2()``."
   ]
  },
  {
   "cell_type": "code",
   "execution_count": null,
   "metadata": {},
   "outputs": [],
   "source": [
    "# Complétez la fonction:\n",
    "\n",
    "def max2(suite):\n",
    "    \n",
    "    \n",
    "    \n",
    "    \n",
    "    return"
   ]
  },
  {
   "cell_type": "code",
   "execution_count": null,
   "metadata": {},
   "outputs": [],
   "source": [
    "# Utilisez cette cellule pour vérifier :\n",
    "nombres = [5,8,1,6,9,12]\n",
    "if max(nombres) == max2(nombres): print(\"Bravo !\")"
   ]
  },
  {
   "cell_type": "markdown",
   "metadata": {},
   "source": [
    "## Exercice (moyen)\n",
    "\n",
    "Vous vous souvenez de la méthode ``.isdigit()`` ? Celle-ci permet de savoir si une chaîne de caractère ne contient que des chiffres. Recreéez-la sous forme de fonction.\n",
    "\n",
    "**ASTUCES**:\n",
    "\n",
    "- Vous devez d'abord recréer la liste des caractères à chercher.\n",
    "- Votre fonction doit retourner ``True`` ou ``False``"
   ]
  },
  {
   "cell_type": "code",
   "execution_count": 20,
   "metadata": {},
   "outputs": [],
   "source": [
    "def isdigit2(chaine):\n",
    "    \n",
    "    digits = ['0', '1', '2', '3', '4', '5', '6', '7', '8', '9']\n",
    "    \n",
    "    is_digit = True\n",
    "    \n",
    "    for car in chaine:\n",
    "        if car not in digits: is_digit = False\n",
    "            \n",
    "    return is_digit"
   ]
  },
  {
   "cell_type": "code",
   "execution_count": 21,
   "metadata": {},
   "outputs": [
    {
     "data": {
      "text/plain": [
       "True"
      ]
     },
     "execution_count": 21,
     "metadata": {},
     "output_type": "execute_result"
    }
   ],
   "source": [
    "isdigit2(\"5364\")"
   ]
  },
  {
   "cell_type": "markdown",
   "metadata": {},
   "source": [
    "## Exercice (moyen/difficile)\n",
    "\n",
    "Créez une fonction nommée ``med()`` qui calcule la médiane d'une suite (en occurrence ici une liste d'integer nommée \"a\").\n",
    "\n",
    "**RAPPEL:**\n",
    "\n",
    "La médiane d'un distribution est une valeur x qui permet de couper l'ensemble des valeurs en deux parties égales : mettant d'un côté une moitié des valeurs, qui sont toutes inférieures ou égales à x et de l'autre côté l'autre moitié des valeurs, qui sont toutes supérieures ou égales à x.\n",
    "\n",
    "Si le nombre de valeurs est paire on fait la moyenne des deux valeurs centrales.\n",
    "\n",
    "**ASTUCES**\n",
    "\n",
    "- On peut utiliser ``sorted()`` sur une suite pour la classer par ordre croissant.\n",
    "- Convertir un ``float`` en ``int`` peut avoir un avantage pour être sûr que l'index donné est un entier.\n",
    "- La formule n'est pas la même si le nombre d'éléments dans la suite est paire ou impaire."
   ]
  },
  {
   "cell_type": "code",
   "execution_count": 23,
   "metadata": {},
   "outputs": [
    {
     "data": {
      "text/plain": [
       "8"
      ]
     },
     "execution_count": 23,
     "metadata": {},
     "output_type": "execute_result"
    }
   ],
   "source": [
    "distrib = [2, 75, 3, 6, 7, 219, 8, 16]\n",
    "\n",
    "sorted(distrib)\n",
    "\n",
    "len(distrib)"
   ]
  },
  {
   "cell_type": "code",
   "execution_count": 40,
   "metadata": {},
   "outputs": [
    {
     "data": {
      "text/plain": [
       "1"
      ]
     },
     "execution_count": 40,
     "metadata": {},
     "output_type": "execute_result"
    }
   ],
   "source": [
    "1637236287369 % 2"
   ]
  },
  {
   "cell_type": "code",
   "execution_count": 41,
   "metadata": {},
   "outputs": [],
   "source": [
    "def med(suite):\n",
    "\n",
    "    suite = sorted(suite)\n",
    "    \n",
    "    if len(suite) % 2 == 0:\n",
    "        mediane = (suite[int(len(suite)/2)] + suite[int(len(suite)/2)+1]) / 2\n",
    "    \n",
    "    else:\n",
    "        mediane = suite[int(len(suite)/2)]\n",
    "    \n",
    "    return mediane"
   ]
  },
  {
   "cell_type": "code",
   "execution_count": 32,
   "metadata": {},
   "outputs": [
    {
     "data": {
      "text/plain": [
       "17"
      ]
     },
     "execution_count": 32,
     "metadata": {},
     "output_type": "execute_result"
    }
   ],
   "source": [
    "med([2,6,12,17,18,19])"
   ]
  },
  {
   "cell_type": "code",
   "execution_count": 42,
   "metadata": {},
   "outputs": [
    {
     "name": "stdout",
     "output_type": "stream",
     "text": [
      "médiane (avec notre fonction) = 19\n",
      "mediane (avec numpy) = 19.0\n",
      "bravo !\n"
     ]
    }
   ],
   "source": [
    "# Une fois votre fonction écrite,\n",
    "# utilisez cette cellule pour vérifier que votre code\n",
    "# vous donne la bonne réponse !\n",
    "\n",
    "import numpy as np\n",
    "\n",
    "a = [172.67,3,78,-67, 8900, 8, 19, 9, 89]\n",
    "\n",
    "print(\"médiane (avec notre fonction) =\", med(a))\n",
    "print(\"mediane (avec numpy) =\", np.median(a))\n",
    "if med(a) == np.median(a) : print (\"bravo !\")\n",
    "else: print(\"On cherche encore un peu !\")"
   ]
  },
  {
   "cell_type": "markdown",
   "metadata": {},
   "source": [
    "## Exercice (difficile)\n",
    "\n",
    "La valeur modale est la valeur la plus présente dans une distribution. Par exemple :\n",
    "\n",
    "\n",
    "```python\n",
    "[2, 3, 3, 5, -1, 3, 12, 3]\n",
    "```\n",
    "Dans la suite ci-dessus, la valeur modale est \"3\", car elle est présente 4 fois. Le nombre de fois où la valeur est présente s'appelle aussi l'effectif de la valeur modale.\n",
    "\n",
    "Une distribution peut avoir plusieurs modes puisqu'il peut y avoir une égalité entre les valeurs les plus présentes. Exemple: \n",
    "\n",
    "```python\n",
    "[2, 3, 3, 4, 4]\n",
    "```\n",
    "Dans la suite ci-dessus, on a deux valeurs modales : 3 et 4 (l'effectif est de 2).\n",
    "\n",
    "**Sans utiliser la fonction ``max()`` ou ``count()``**, écrire une fonction qui renvoie la ou les valeurs modales avec l'effectif qui y est associé.\n",
    "\n",
    "**ASTUCES**\n",
    "\n",
    "- La fonction doit donc renvoyer deux valeurs : le ou les valeurs modales (sous forme de liste par exemple) et l'effectif.\n",
    "- L'utilisation d'un dictionnaire est une bonne idée.\n",
    "- En python si on veut manipuler des nombres infinis, on peut utiliser ``float('inf')`` ou ``float('-inf')``."
   ]
  },
  {
   "cell_type": "code",
   "execution_count": 2,
   "metadata": {},
   "outputs": [],
   "source": [
    "def mode(suite):\n",
    "    \n",
    "    # créer un dictionnaire qui comptabilise le nombre d'éléments pour chaque élément \n",
    "    \n",
    "    freq = {}\n",
    "    v_max = float('-inf')\n",
    "    liste_val = []\n",
    "    \n",
    "    for el in suite:\n",
    "        \n",
    "        #if el in freq: freq[el] = freq[el] + 1\n",
    "        #else: freq[el] = 1\n",
    "            \n",
    "        freq[el] = freq.get(el, 0) + 1\n",
    "\n",
    "    for k, v in freq.items():\n",
    "        if v > v_max: v_max = v\n",
    "    \n",
    "    for k, v in freq.items():\n",
    "        if v == v_max: liste_val.append(k)\n",
    "    \n",
    "    return sorted(liste_val), v_max"
   ]
  },
  {
   "cell_type": "code",
   "execution_count": 3,
   "metadata": {},
   "outputs": [
    {
     "data": {
      "text/plain": [
       "([60, 90], 5)"
      ]
     },
     "execution_count": 3,
     "metadata": {},
     "output_type": "execute_result"
    }
   ],
   "source": [
    "b = [50, 70, 80, 90, 70, 60, 50, 60, 40, 30, 30, 80, 120, 150, 50, 60, 80, 90, 60, 30, 60, 70, 90, 90, 90]\n",
    "\n",
    "mode(b)"
   ]
  },
  {
   "cell_type": "code",
   "execution_count": 4,
   "metadata": {},
   "outputs": [
    {
     "name": "stdout",
     "output_type": "stream",
     "text": [
      "mode (avec notre fonction) = ([50, 60, 90], 5)\n",
      "mode (avec stats) = 50 , 5\n"
     ]
    }
   ],
   "source": [
    "# Une fois votre fonction écrite,\n",
    "# utilisez cette cellule pour vérifier que votre code\n",
    "# vous donne la bonne réponse ! \n",
    "\n",
    "from scipy import stats\n",
    "\n",
    "b = [50, 70, 80, 90, 70, 60, 50, 60, 40, 30, 30, 80, 120, 150, 50, 60, 80, 90, 60, 30, 60, 70, 90, 90, 90, 50, 50]\n",
    "\n",
    "print(\"mode (avec notre fonction) =\", mode(b))\n",
    "print(\"mode (avec stats) =\", stats.mode(b)[0][0], \",\", stats.mode(b)[1][0])\n",
    "\n",
    "# Notez que la fonction stats n'affiche que la valeur modale la plus petite.\n",
    "# Pourtant dans le cas de b il y a bien trois valeurs modales à trouver.\n",
    "# Notre fonction est donc meilleure que celle de la librairie scipy ! :)"
   ]
  },
  {
   "cell_type": "code",
   "execution_count": 3,
   "metadata": {},
   "outputs": [
    {
     "name": "stdout",
     "output_type": "stream",
     "text": [
      "[]\n"
     ]
    }
   ],
   "source": [
    "## recréer la fonction sorted()\n",
    "\n",
    "liste = [4, 2, 1, 3, 4]\n",
    "liste2 = []\n",
    "#num_max = float('-inf')\n",
    "num_max = liste[0]\n",
    "\n",
    "for num in liste:\n",
    "    \n",
    "    for num2 in liste2:\n",
    "        \n",
    "        if num >= num2:\n",
    "            num_max = num\n",
    "            liste2.append(num)\n",
    "            liste.remove(num)\n",
    "\n",
    "print(liste2)\n",
    "        \n",
    "        \n",
    "    \n",
    "    \n",
    "\n",
    "\n"
   ]
  },
  {
   "cell_type": "code",
   "execution_count": null,
   "metadata": {},
   "outputs": [],
   "source": []
  }
 ],
 "metadata": {
  "kernelspec": {
   "display_name": "xpython",
   "language": "python",
   "name": "xpython"
  },
  "language_info": {
   "file_extension": ".py",
   "mimetype": "text/x-python",
   "name": "python",
   "version": "3.7.6"
  }
 },
 "nbformat": 4,
 "nbformat_minor": 4
}
