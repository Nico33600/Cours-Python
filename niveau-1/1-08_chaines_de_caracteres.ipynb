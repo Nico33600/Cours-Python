{
 "cells": [
  {
   "cell_type": "markdown",
   "metadata": {},
   "source": [
    "CHAINES DE CARACTERE"
   ]
  },
  {
   "cell_type": "markdown",
   "metadata": {},
   "source": [
    "# Définition plus précise\n",
    "\n",
    "Nous avons vu dans les cours précédents que les chaînes de caractères étaient en fait des suites ordonnés de caractère. Ce sont un peu des listes de caractères. La manipulation de texte ou de chaîne de caractère est quelque chose de courant en Python."
   ]
  },
  {
   "cell_type": "markdown",
   "metadata": {},
   "source": [
    "## Rappel des index\n",
    "\n",
    "Chaque caractère alphanumérique dispose d'un index dans une string. On peut y accéder en entrant l'index, qui est toujours un nombre entier et part toujours de 0, ainsi :\n",
    "\n",
    "| H | e | l | l | o |   | W | o | r | l | d  |    | !  | !  | !  |\n",
    "|---|---|---|---|---|---|---|---|---|---|----|----|----|----|----|\n",
    "| 0 | 1 | 2 | 3 | 4 | 5 | 6 | 7 | 8 | 9 | 10 | 11 | 12 | 13 | 14 |"
   ]
  },
  {
   "cell_type": "code",
   "execution_count": null,
   "metadata": {},
   "outputs": [],
   "source": [
    "ma_chaine = \"Hello World !!!\"\n",
    "ma_chaine[0]"
   ]
  },
  {
   "cell_type": "markdown",
   "metadata": {},
   "source": [
    "C'est pour cela que l'on peut itérer sur un objet comme les strings."
   ]
  },
  {
   "cell_type": "code",
   "execution_count": null,
   "metadata": {},
   "outputs": [],
   "source": [
    "ma_chaine = \"Hello World !!!\"\n",
    "\n",
    "for i in ma_chaine:\n",
    "    print(i)"
   ]
  },
  {
   "cell_type": "markdown",
   "metadata": {},
   "source": [
    "## Sélection d'index\n",
    "\n",
    "On peut tout à fait sélectionner différents index à la fois en leur indiquant un début et une fin. Pour cela on les sépare par un ``:`` pour créer une plage, un _range_, c'est-à-dire que l'on indique un début et une fin. On appelle aussi cela des _slice_, c'est-à-dire des sous-strings (_substrings_), c'est donc un morceau, un extrait de la chaîne de caractère.\n",
    "\n",
    "```python\n",
    "ma_chaine[x,y]\n",
    "```\n",
    "\n",
    "Attention car **x est inclusif**, et **y est exclusif**. C'est-à-dire que la fonction de _slice_ prend en compte l'élément x mais s'arrête lorsqu'il rencontre l'élément y, et donc ne le prend pas en compte.\n",
    "\n",
    "\n",
    "Mais n'oubliez pas que Python commence à compter par 0 ! Par exemple :"
   ]
  },
  {
   "cell_type": "code",
   "execution_count": null,
   "metadata": {},
   "outputs": [],
   "source": [
    "ma_chaine = \"Hello World !!!\"\n",
    "\n",
    "print(ma_chaine[0:1])\n",
    "print(ma_chaine[0:4])\n",
    "print(ma_chaine[4:6])\n",
    "print(ma_chaine[12:15])"
   ]
  },
  {
   "cell_type": "markdown",
   "metadata": {},
   "source": [
    "On peut aussi le remplacer par des nombres négatifs. Dans ce cas là le calcul de l'index se fait en partant de la fin :\n",
    "\n",
    "| H   | e   | l   | l   | o   |     | W  | o  | r  | l  | d  |    | !  | !  | !  |\n",
    "|-----|-----|-----|-----|-----|-----|----|----|----|----|----|----|----|----|----|\n",
    "| -15 | -14 | -13 | -12 | -11 | -10 | -9 | -8 | -7 | -6 | -5 | -4 | -3 | -2 | -1 |"
   ]
  },
  {
   "cell_type": "code",
   "execution_count": null,
   "metadata": {},
   "outputs": [],
   "source": [
    "ma_chaine = \"Hello World !!!\"\n",
    "\n",
    "print(ma_chaine[-2:-1])\n",
    "print(ma_chaine[-9:-4])\n",
    "print(ma_chaine[-15:-10])"
   ]
  },
  {
   "cell_type": "markdown",
   "metadata": {},
   "source": [
    "Si on laisse x ou y vide, on signifie qu'on sélectionne tout. Ex:"
   ]
  },
  {
   "cell_type": "code",
   "execution_count": null,
   "metadata": {},
   "outputs": [],
   "source": [
    "ma_chaine = \"Hello World !!!\"\n",
    "\n",
    "print(ma_chaine[3:])\n",
    "print(ma_chaine[:-4])"
   ]
  },
  {
   "cell_type": "markdown",
   "metadata": {},
   "source": [
    "On peut également ajouter, tout comme la fonction ``range()``, la notion de ``step``, de pas. En indiquant deux, on signignifie qu'on ne sélectionne qu'un caractère sur deux."
   ]
  },
  {
   "cell_type": "code",
   "execution_count": null,
   "metadata": {},
   "outputs": [],
   "source": [
    "ma_chaine = \"Hello World !!!\"\n",
    "\n",
    "print(ma_chaine[0:-1:1])\n",
    "print(ma_chaine[::2])"
   ]
  },
  {
   "cell_type": "markdown",
   "metadata": {},
   "source": [
    "## La concaténation\n",
    "\n",
    "C'est le fait d'assembler, de coller, des chaînes de caractères ou des caractères entre eux. Sous Python c'est facile, nous l'avons déjà vu, il suffit d'utiliser l'opérateur ``+`` comme si c'était des nombres !"
   ]
  },
  {
   "cell_type": "code",
   "execution_count": null,
   "metadata": {},
   "outputs": [],
   "source": [
    "chaine1 = \"Hello \"\n",
    "chaine2 = \"World !!!\"\n",
    "\n",
    "print(chaine1 + chaine2)"
   ]
  },
  {
   "cell_type": "markdown",
   "metadata": {},
   "source": [
    "## Exercice (facile)\n",
    "\n",
    "Écrivez un programme qui recompose correctement la liste des jours en ajoutant **\"di\"** quand il le faut. Vous pouvez utiliser au choix une boucle ``for`` ou bien une liste compréhensive. (Le deuxième choix étant meilleur d'un point de vue performances).\n",
    "\n",
    "```python\n",
    "\n",
    "jours_tronques = [\"lun\", \"mar\", \"mercre\", \"jeu\", \"vendre\", \"same\", \"manche\"]\n",
    "\n",
    "```\n",
    "\n",
    "Attention, il y a une exception pour dimanche, faites un test pour régler le problème !\n"
   ]
  },
  {
   "cell_type": "markdown",
   "metadata": {},
   "source": [
    "## Majuscules et minuscules\n",
    "\n",
    "Les méthodes ``.upper()`` et ``.lower()`` permettent de mettre en majuscule ou en minuscule une chaîne de caractères. Exemple : "
   ]
  },
  {
   "cell_type": "code",
   "execution_count": null,
   "metadata": {},
   "outputs": [],
   "source": [
    "cri = \"INUTILE DE CRIER !\"\n",
    "chuchotement = \"peux-tu parler plus fort ?\"\n",
    "\n",
    "print(cri.lower())\n",
    "print(chuchotement.upper())"
   ]
  },
  {
   "cell_type": "markdown",
   "metadata": {},
   "source": [
    "## La fonction ``len()``\n",
    "\n",
    "La fonction ``len()``, abréviation de _lenght_ en anglais (la longueur), permet de déterminer combien de caractères possède une string, ou tout autre objet itérable par ailleurs. Attention car ``len()`` retourne le nombre d'élément pas l'index maximum ! Ex:"
   ]
  },
  {
   "cell_type": "code",
   "execution_count": null,
   "metadata": {},
   "outputs": [],
   "source": [
    "ma_chaine = \"Hello World !!!\"\n",
    "\n",
    "une_liste = [\"une chose\", \"encore une autre élément\", \"et un troisième élément !\"]\n",
    "\n",
    "print(len(ma_chaine)) # 15 caractères dont retourne 15. Mais l'index va de 0 à 14\n",
    "print(len(une_liste)) # 3 éléments, donc retourne 3. Mais l'index va de 0 à 2"
   ]
  },
  {
   "cell_type": "markdown",
   "metadata": {},
   "source": [
    "## Compter le nombre de fois qu'apparaît un mot dans une string"
   ]
  },
  {
   "cell_type": "markdown",
   "metadata": {},
   "source": [
    "Pour ne pas faire une boucle, on peut utiliser la méthode ``.count()``. Notez que la **casse**, le fait que les mots commencent par une majuscule ou une minuscule, est importante. En effet en programmation un \"H\" n'est pas égal à un \"h\".\n",
    "\n",
    "Par exemple :"
   ]
  },
  {
   "cell_type": "code",
   "execution_count": null,
   "metadata": {},
   "outputs": [],
   "source": [
    "ma_chaine = \"Hello World ! Hello, dear old world.\"\n",
    "\n",
    "print(\"Nombre de 'Hello':\", ma_chaine.count(\"Hello\"))\n",
    "print(\"Nombre de 'hello':\", ma_chaine.count(\"hello\"))\n",
    "print(\"Nombre de 'World':\", ma_chaine.count(\"World\"))\n",
    "print(\"Nombre de 'world':\", ma_chaine.count(\"world\"))"
   ]
  },
  {
   "cell_type": "markdown",
   "metadata": {},
   "source": [
    "## L'ASCII\n",
    "\n",
    "Si vous vous souvenez de l'introduction, vous savez que tout caractère est rattaché à un nombre qui le définit. Pour le trouver on peut utiliser la fonction ``ord()``. Pour faire le chemin inverse et afficher le caractère correspondant à un chiffre, on peut utiliser la fonction ``chr()``."
   ]
  },
  {
   "cell_type": "code",
   "execution_count": null,
   "metadata": {},
   "outputs": [],
   "source": [
    "print(\"Code ASCII de 'h':\", ord('h'))\n",
    "print(\"Code ASCII de 'H':\", ord('H'))\n",
    "print(\"Code ASCII de ' ':\", ord(' '))\n",
    "print(\"Code ASCII de '@':\", ord('@'))"
   ]
  },
  {
   "cell_type": "markdown",
   "metadata": {},
   "source": [
    "**NOTE**: Les puristes pourront trouver le nombre en hexadécimal avec la fonction ``hex()``"
   ]
  },
  {
   "cell_type": "code",
   "execution_count": null,
   "metadata": {},
   "outputs": [],
   "source": [
    "print(\"Code ASCII en héxadécimal de 'h':\", hex((ord('h'))))\n",
    "print(\"Code ASCII en héxadécimal de 'H':\", hex((ord('H'))))"
   ]
  },
  {
   "cell_type": "markdown",
   "metadata": {},
   "source": [
    "## Exercice (moyen)\n",
    "\n",
    "La lettre \"e\" est la plus répandue dans la langue française, elle est présente en moyenne une fois sur 5 !\n",
    "Compter combien de fois la lettre \"e\" est présente dans chacun des textes suivants ? Comme cette lettre peut prendre différents accents et que la méthode ``.count()`` ne prend qu'une seule string comme paramètres, vous ne pouvez pas l'utiliser. \n",
    "\n",
    "**ASTUCES**:\n",
    "\n",
    "- Utilisez plutôt un ``if``... ``in`` à la place du ``.count``.\n",
    "- ``in`` fonctionne aussi avec les listes !\n",
    "- Attention avec les majuscules et les minuscules ! Il va falloir gérer cela.   \n"
   ]
  },
  {
   "cell_type": "code",
   "execution_count": null,
   "metadata": {},
   "outputs": [],
   "source": [
    "baudelaire = \"\"\"\n",
    "Pour l'enfant, amoureux de cartes et d'estampes,\n",
    "L'univers est égal à son vaste appétit.\n",
    "Ah ! que le monde est grand à la clarté des lampes !\n",
    "Aux yeux du souvenir que le monde est petit !\n",
    "\n",
    "Un matin nous partons, le cerveau plein de flamme,\n",
    "Le coeur gros de rancune et de désirs amers,\n",
    "Et nous allons, suivant le rythme de la lame,\n",
    "Berçant notre infini sur le fini des mers.\n",
    "\"\"\"\n",
    "\n",
    "perec = \"\"\"\n",
    "Il ouvrit son frigo mural, il prit du lait froid, il but un grand bol.\n",
    "Il s'apaisait. Il s'assit sur son cosy, il prit un journal qu'il parcourut d'un air distrait.\n",
    "Il alluma un cigarillo qu'il fuma jusqu'au bout quoiqu'il trouvât son parfum irritant. Il toussa.\n",
    "\"\"\""
   ]
  },
  {
   "cell_type": "markdown",
   "metadata": {},
   "source": [
    "## Fonction .split()"
   ]
  },
  {
   "cell_type": "markdown",
   "metadata": {},
   "source": [
    "Cette fonction permet de transformer une string en une liste grâce à un séparateur. Par défaut celui-ci est l'espace \" \". Exemple :"
   ]
  },
  {
   "cell_type": "code",
   "execution_count": null,
   "metadata": {},
   "outputs": [],
   "source": [
    "encore_une_string = \"bonjour, je suis une phrase. Donc je suis composé de plusieurs mots, logique, non ?\"\n",
    "encore_une_string.split()"
   ]
  },
  {
   "cell_type": "code",
   "execution_count": null,
   "metadata": {},
   "outputs": [],
   "source": [
    "Mais on pourrait choisir comme séparateur la virgule par exemple :"
   ]
  },
  {
   "cell_type": "code",
   "execution_count": null,
   "metadata": {},
   "outputs": [],
   "source": [
    "encore_une_string = \"bonjour, je suis une phrase. Donc je suis composé de plusieurs mots, logique, non ?\"\n",
    "encore_une_string.split(\",\")"
   ]
  },
  {
   "cell_type": "markdown",
   "metadata": {},
   "source": [
    "## Exercice (moyen)\n",
    "\n",
    "Créez une liste où chaque élément de la phrase suivante est un mot dont la première lettre commence par une majuscule.\n",
    "\n",
    "**ASTUCES**:\n",
    "\n",
    "- Cela ne nécessite qu'une seule ligne avec une liste compréhensive\n",
    "- N'oubliez pas les principes de la concaténation et des slices !\n",
    "- La méthode pour mettre des caractères en majuscule est ``.upper()`` au cas où vous l'auriez oublié."
   ]
  },
  {
   "cell_type": "code",
   "execution_count": null,
   "metadata": {},
   "outputs": [],
   "source": [
    "texte = \"Python est un langage qui peut s'utiliser dans de nombreux contextes et s'adapter à tout type d'utilisation grâce à des bibliothèques spécialisées.\"    "
   ]
  },
  {
   "cell_type": "markdown",
   "metadata": {},
   "source": [
    "## Exercice (moyen)\n",
    "\n",
    "Reprenez le résultat du dernier exercice, mais ajoutez une boucle ``for`` à la fin pour transformer cette liste en la même string que celle de départ (à l'exception des premières lettres de chaque mot seront capitalisées bien sûr.)\n",
    "\n",
    "**ASTUCES**:\n",
    "\n",
    "- Réutilisez le résultat de la liste compréhensive\n",
    "- Pour créer une chaine de caractères vide, on peut écrire ``ma_chaine = \"\"``"
   ]
  },
  {
   "cell_type": "code",
   "execution_count": null,
   "metadata": {},
   "outputs": [],
   "source": []
  }
 ],
 "metadata": {
  "kernelspec": {
   "display_name": "Python 3",
   "language": "python",
   "name": "python3"
  },
  "language_info": {
   "codemirror_mode": {
    "name": "ipython",
    "version": 3
   },
   "file_extension": ".py",
   "mimetype": "text/x-python",
   "name": "python",
   "nbconvert_exporter": "python",
   "pygments_lexer": "ipython3",
   "version": "3.7.3"
  }
 },
 "nbformat": 4,
 "nbformat_minor": 4
}
