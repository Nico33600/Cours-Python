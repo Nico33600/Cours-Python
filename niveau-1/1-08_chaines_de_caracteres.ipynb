{
 "cells": [
  {
   "cell_type": "markdown",
   "metadata": {
    "tags": [
     "fr"
    ]
   },
   "source": [
    "# CHAINES DE CARACTERE\n",
    "\n",
    "Nous avons vu dans les cours précédents que les chaînes de caractères étaient en fait des suites ordonnés de caractère : ce sont en quelque sorte des listes de caractères. La manipulation de texte ou de chaîne de caractère est quelque chose de courant en programmation et Python dispose d'un large éventail de méthodes pour traiter ce type d'objet."
   ]
  },
  {
   "cell_type": "markdown",
   "metadata": {
    "tags": [
     "fr"
    ]
   },
   "source": [
    "## Rappel des index\n",
    "\n",
    "Chaque caractère alphanumérique dispose d'un index dans une string. On peut y accéder en entrant l'index, qui est toujours un nombre entier et part toujours de 0, ainsi :\n",
    "\n",
    "| H | e | l | l | o |   | W | o | r | l | d  |    | !  | !  | !  |\n",
    "|---|---|---|---|---|---|---|---|---|---|----|----|----|----|----|\n",
    "| 0 | 1 | 2 | 3 | 4 | 5 | 6 | 7 | 8 | 9 | 10 | 11 | 12 | 13 | 14 |"
   ]
  },
  {
   "cell_type": "code",
   "execution_count": null,
   "metadata": {
    "tags": [
     "fr"
    ]
   },
   "outputs": [],
   "source": [
    "ma_chaine = \"Hello World !!!\"\n",
    "ma_chaine[0]"
   ]
  },
  {
   "cell_type": "markdown",
   "metadata": {
    "tags": [
     "fr"
    ]
   },
   "source": [
    "C'est pour cela que l'on peut itérer sur un objet comme les strings."
   ]
  },
  {
   "cell_type": "code",
   "execution_count": null,
   "metadata": {
    "tags": [
     "fr"
    ]
   },
   "outputs": [],
   "source": [
    "ma_chaine = \"Hello World !!!\"\n",
    "\n",
    "for i in ma_chaine:\n",
    "    print(i)"
   ]
  },
  {
   "cell_type": "markdown",
   "metadata": {
    "tags": [
     "fr"
    ]
   },
   "source": [
    "## Sélection d'index\n",
    "\n",
    "On peut tout à fait sélectionner différents index à la fois en leur indiquant un début et une fin. Pour cela on les sépare par un ``:`` pour créer une plage, un _range_, c'est-à-dire que l'on indique un début et une fin. On appelle aussi cela des _slice_, c'est-à-dire des sous-chaînes de caractères (aussi appellées \"sous-strings\" ou *substrings*) c'est donc un morceau, un extrait de la chaîne de caractère.\n",
    "\n",
    "```python\n",
    "ma_chaine[x,y]\n",
    "```\n",
    "\n",
    "Attention car Python utilise des intervalles semi-ouverts, c'est-à-dire que **x est inclusif**, et **y est exclusif** : la fonction de _slice_ prend en compte l'élément x mais s'arrête lorsqu'il rencontre l'élément y, et donc ne le prend pas en compte.\n",
    "\n",
    "Ce fonctionnement permet d'écrire des lignes de code très élégantes. Par exemple si une string doit être divisée est divisée en trois groupes séparées par deux indices i et j, alors: \n",
    "\n",
    "```python\n",
    "a = a[:i] + a[i:j] + a[j:]\n",
    "```\n",
    "Une autre manière de voir cela : si i = 3 et est utilisé comme borne supérieur, c'est un peu comme si il valait ```2.999999...``` avec une infinité de décimales.\n",
    "(Voir la section \"Pour aller plus loin\" de la fin de ce chapitre)\n",
    "\n",
    "Et n'oubliez pas que Python commence à compter par 0 ! Par exemple :"
   ]
  },
  {
   "cell_type": "code",
   "execution_count": null,
   "metadata": {
    "tags": [
     "fr"
    ]
   },
   "outputs": [],
   "source": [
    "ma_chaine = \"Hello World !!!\"\n",
    "\n",
    "print(ma_chaine[0:1])\n",
    "print(ma_chaine[0:4])\n",
    "print(ma_chaine[4:6])\n",
    "print(ma_chaine[12:15])"
   ]
  },
  {
   "cell_type": "markdown",
   "metadata": {
    "tags": [
     "fr"
    ]
   },
   "source": [
    "On peut aussi le remplacer par des nombres négatifs. Dans ce cas là le calcul de l'index se fait en partant de la fin :\n",
    "\n",
    "| H   | e   | l   | l   | o   |     | W  | o  | r  | l  | d  |    | !  | !  | !  |\n",
    "|-----|-----|-----|-----|-----|-----|----|----|----|----|----|----|----|----|----|\n",
    "| -15 | -14 | -13 | -12 | -11 | -10 | -9 | -8 | -7 | -6 | -5 | -4 | -3 | -2 | -1 |"
   ]
  },
  {
   "cell_type": "code",
   "execution_count": null,
   "metadata": {
    "tags": [
     "fr"
    ]
   },
   "outputs": [],
   "source": [
    "ma_chaine = \"Hello World !!!\"\n",
    "\n",
    "print(ma_chaine[-2:-1])\n",
    "print(ma_chaine[-9:-4])\n",
    "print(ma_chaine[-15:-11])"
   ]
  },
  {
   "cell_type": "markdown",
   "metadata": {
    "tags": [
     "fr"
    ]
   },
   "source": [
    "Si on laisse x ou y vide, cela signifie qu'on souhaite sélectionner les éléments jusqu'à la fin. Ex:"
   ]
  },
  {
   "cell_type": "code",
   "execution_count": null,
   "metadata": {
    "tags": [
     "fr"
    ]
   },
   "outputs": [],
   "source": [
    "ma_chaine = \"Hello World !!!\"\n",
    "\n",
    "print(ma_chaine[3:])\n",
    "print(ma_chaine[:-4])"
   ]
  },
  {
   "cell_type": "markdown",
   "metadata": {
    "tags": [
     "fr"
    ]
   },
   "source": [
    "# La concaténation\n",
    "\n",
    "C'est le fait d'assembler, de coller, des chaînes de caractères ou des caractères entre eux. Sous Python c'est facile, nous l'avons déjà vu, il suffit d'utiliser l'opérateur ``+`` comme si c'était des nombres."
   ]
  },
  {
   "cell_type": "code",
   "execution_count": null,
   "metadata": {
    "tags": [
     "fr"
    ]
   },
   "outputs": [],
   "source": [
    "chaine1 = \"Hello \"\n",
    "chaine2 = \"World !!!\"\n",
    "\n",
    "print(chaine1 + chaine2)"
   ]
  },
  {
   "cell_type": "markdown",
   "metadata": {
    "tags": [
     "fr"
    ]
   },
   "source": [
    "## Exercice (facile)\n",
    "\n",
    "Écrivez un programme à l'aide d'une boucle ``for`` qui recompose correctement la liste des jours en ajoutant **\"di\"** quand il le faut.\n",
    "\n",
    "**ASTUCES:**\n",
    "\n",
    "- Attention, il y a une exception pour dimanche, utilisez un ``if`` dans votre boucle pour régler le problème !"
   ]
  },
  {
   "cell_type": "code",
   "execution_count": null,
   "metadata": {
    "tags": [
     "fr"
    ]
   },
   "outputs": [],
   "source": [
    "jours_tronques = [\"lun\", \"mar\", \"mercre\", \"jeu\", \"vendre\", \"same\", \"manche\"]\n",
    "\n",
    "# Tapez votre code ici :"
   ]
  },
  {
   "cell_type": "code",
   "execution_count": null,
   "metadata": {
    "tags": [
     "solution",
     "fr"
    ]
   },
   "outputs": [],
   "source": [
    "# Solution\n",
    "\n",
    "jours_tronques = [\"lun\", \"mar\", \"mer\", \"jeu\", \"vendre\", \"same\", \"manche\"]\n",
    "\n",
    "for jour in jours_tronques:\n",
    "    if jour == \"manche\": print(\"di\" + jour)\n",
    "    else: print(jour + \"di\")"
   ]
  },
  {
   "cell_type": "markdown",
   "metadata": {
    "tags": [
     "fr"
    ]
   },
   "source": [
    "# Autres fonctions utiles"
   ]
  },
  {
   "cell_type": "markdown",
   "metadata": {
    "tags": [
     "fr"
    ]
   },
   "source": [
    "## Le mot-clé ``in``\n",
    "\n",
    "Cette instruction python signifie tout simplement \"dans\" ou plus exactement \"contenu dans\". On l'a souvent vu en conjonction avec ``for``, mais il peut aussi s'utiliser seul. Dans ce cas là il renvoie ``True`` si l'élément que l'on cherche est dans l'objet que l'on cherche ou ``False`` dans le cas contraire.\n",
    "\n",
    "Par exemple :"
   ]
  },
  {
   "cell_type": "code",
   "execution_count": null,
   "metadata": {
    "tags": [
     "fr"
    ]
   },
   "outputs": [],
   "source": [
    "lettres = [\"a\", \"b\", \"c\", \"d\"]\n",
    "\n",
    "print(\"a\" in ma_liste_de_courses)\n",
    "print(\"e\" in ma_liste_de_courses)"
   ]
  },
  {
   "cell_type": "markdown",
   "metadata": {
    "tags": [
     "fr"
    ]
   },
   "source": [
    "## Exercice (facile)\n",
    "\n",
    "Si le mot \"spaghettis\" est contenu dans la liste de course : affichez le texte \"Miam !\".\n",
    "\n",
    "Puis si le mot \"chocolat\" est présent : affichez le texte \"Miam !\", sinon affichez le texte \"Pas de chocolat :(\".\n",
    "\n",
    "**Astuce**:\n",
    "\n",
    "- Utilisez des ``if`` et des ``else``."
   ]
  },
  {
   "cell_type": "code",
   "execution_count": null,
   "metadata": {
    "tags": [
     "fr"
    ]
   },
   "outputs": [],
   "source": [
    "ma_liste_de_courses = [\"poireaux\", \"dentifrice\", \"spaghettis\", \"riz\"]\n",
    "\n",
    "# tapez votre code ici"
   ]
  },
  {
   "cell_type": "code",
   "execution_count": null,
   "metadata": {
    "tags": [
     "fr",
     "solution"
    ]
   },
   "outputs": [],
   "source": [
    "# Solution\n",
    "\n",
    "ma_liste_de_courses = [\"poireaux\", \"dentifrice\", \"spaghettis\", \"riz brun\"]\n",
    "\n",
    "if \"spaghettis\" in ma_liste_de_courses: print(\"Miam !\")\n",
    "\n",
    "if \"chocolat\" in ma_liste_de_courses:\n",
    "    print(\"Miam !\")\n",
    "else: print(\"Pas de chocolat... :(\")"
   ]
  },
  {
   "cell_type": "markdown",
   "metadata": {
    "tags": [
     "fr"
    ]
   },
   "source": [
    "Remarquez que si vous voulez avoir le comportement inverse, il suffit d'ajouter un ``not`` avant le ``in``. Par exemple :\n",
    "\n",
    "```python\n",
    "if \"fruits\" not in ma_liste_de_courses:\n",
    "```"
   ]
  },
  {
   "cell_type": "markdown",
   "metadata": {
    "tags": [
     "fr"
    ]
   },
   "source": [
    "## Majuscules et minuscules\n",
    "\n",
    "Les méthodes ``.upper()`` et ``.lower()`` permettent de mettre en majuscule ou en minuscule une chaîne de caractères. Exemple : "
   ]
  },
  {
   "cell_type": "code",
   "execution_count": null,
   "metadata": {
    "tags": [
     "fr"
    ]
   },
   "outputs": [],
   "source": [
    "cri = \"INUTILE DE CRIER !\"\n",
    "chuchotement = \"peux-tu parler plus fort ?\"\n",
    "\n",
    "print(cri.lower())\n",
    "print(chuchotement.upper())"
   ]
  },
  {
   "cell_type": "markdown",
   "metadata": {
    "tags": [
     "fr"
    ]
   },
   "source": [
    "## Exercice (facile)\n",
    "\n",
    "Affichez tous les mots de la liste suivante en minuscule.\n",
    "\n",
    "**Astuces**:\n",
    "\n",
    "- Utilisez une boucle ``for``."
   ]
  },
  {
   "cell_type": "code",
   "execution_count": null,
   "metadata": {
    "tags": [
     "fr"
    ]
   },
   "outputs": [],
   "source": [
    "l = ['NooB', 'HaCKerZ', 'NeWBiE']\n",
    "# tapez votre code ici\n"
   ]
  },
  {
   "cell_type": "code",
   "execution_count": null,
   "metadata": {
    "tags": [
     "solution",
     "fr"
    ]
   },
   "outputs": [],
   "source": [
    "# Solution\n",
    "\n",
    "l = ['NooB', 'HaCKerZ', 'NeWBiE']\n",
    "for mot in l: print(mot.lower())"
   ]
  },
  {
   "cell_type": "markdown",
   "metadata": {
    "tags": [
     "fr"
    ]
   },
   "source": [
    "## Exercice (moyen)\n",
    "\n",
    "La lettre \"e\" est la plus répandue dans la langue française mais combien de fois est-elle présente dans ces deux extraits de textes écrits, respectivement, par Baudelaire et Perec ?\n",
    "\n",
    "**ASTUCES**:\n",
    "\n",
    "- Ici on va itérer sur chaque caractère de la string.\n",
    "- Comme nous voulons compter tous les \"e\", quelque soit son accent, il va falloir utiliser la \"liste_e\" avec un ``if``... ``in`` pour vérifier si un élément d'une liste est présent dans une string.\n",
    "- Attention avec les majuscules et les minuscules ! Il va falloir gérer cela en utilisant ``.upper()`` ou ``.lower()``.\n",
    "- Les trois guillemets ``\"\"\"`` permettent de faire comprendre à Python que tout ce qui va suivre est du texte, jusqu'à ce que l'on ferme les triple guillemets."
   ]
  },
  {
   "cell_type": "code",
   "execution_count": null,
   "metadata": {
    "tags": [
     "fr"
    ]
   },
   "outputs": [],
   "source": [
    "baudelaire = \"\"\"\n",
    "Pour l'enfant, amoureux de cartes et d'estampes,\n",
    "L'univers est égal à son vaste appétit.\n",
    "Ah ! que le monde est grand à la clarté des lampes !\n",
    "Aux yeux du souvenir que le monde est petit !\n",
    "\n",
    "Un matin nous partons, le cerveau plein de flamme,\n",
    "Le coeur gros de rancune et de désirs amers,\n",
    "Et nous allons, suivant le rythme de la lame,\n",
    "Berçant notre infini sur le fini des mers.\n",
    "\"\"\"\n",
    "\n",
    "perec = \"\"\"\n",
    "Il ouvrit son frigo mural, il prit du lait froid, il but un grand bol.\n",
    "Il s'apaisait. Il s'assit sur son cosy, il prit un journal qu'il parcourut d'un air distrait.\n",
    "Il alluma un cigarillo qu'il fuma jusqu'au bout quoiqu'il trouvât son parfum irritant. Il toussa.\n",
    "\"\"\"\n",
    "\n",
    "liste_e = ['e', 'é', 'è', 'ê', 'ë']\n",
    "\n",
    "# Tapez votre code ici:"
   ]
  },
  {
   "cell_type": "code",
   "execution_count": null,
   "metadata": {},
   "outputs": [],
   "source": [
    "# Solution\n",
    "\n",
    "baudelaire = \"\"\"\n",
    "Pour l'enfant, amoureux de cartes et d'estampes,\n",
    "L'univers est égal à son vaste appétit.\n",
    "Ah ! que le monde est grand à la clarté des lampes !\n",
    "Aux yeux du souvenir que le monde est petit !\n",
    "\n",
    "Un matin nous partons, le cerveau plein de flamme,\n",
    "Le coeur gros de rancune et de désirs amers,\n",
    "Et nous allons, suivant le rythme de la lame,\n",
    "Berçant notre infini sur le fini des mers.\n",
    "\"\"\"\n",
    "\n",
    "perec = \"\"\"\n",
    "Il ouvrit son frigo mural, il prit du lait froid, il but un grand bol.\n",
    "Il s'apaisait. Il s'assit sur son cosy, il prit un journal qu'il parcourut d'un air distrait.\n",
    "Il alluma un cigarillo qu'il fuma jusqu'au bout quoiqu'il trouvât son parfum irritant. Il toussa.\n",
    "\"\"\"\n",
    "\n",
    "liste_e = ['e', 'é', 'è', 'ê', 'ë']\n",
    "\n",
    "# Tapez votre code ici:\n",
    "\n",
    "for texte in [baudelaire, perec]:\n",
    "    nbr_de_e = 0\n",
    "    for car in texte:\n",
    "        if car.lower() in liste_e: nbr_de_e += 1\n",
    "\n",
    "    print(f\"Il y a {nbr_de_e} 'e' dans ce texte\")"
   ]
  },
  {
   "cell_type": "markdown",
   "metadata": {
    "tags": [
     "fr"
    ]
   },
   "source": [
    "## Fonction .split()"
   ]
  },
  {
   "cell_type": "markdown",
   "metadata": {
    "tags": [
     "fr"
    ]
   },
   "source": [
    "Cette fonction permet de transformer une string en une liste grâce à un séparateur. Par défaut celui-ci est l'espace \" \". Exemple :"
   ]
  },
  {
   "cell_type": "code",
   "execution_count": null,
   "metadata": {
    "tags": [
     "fr"
    ]
   },
   "outputs": [],
   "source": [
    "encore_une_string = \"Bonjour, je suis une phrase. Donc je suis composé de plusieurs mots, logique, non ?\"\n",
    "encore_une_string.split()"
   ]
  },
  {
   "cell_type": "markdown",
   "metadata": {
    "tags": [
     "fr"
    ]
   },
   "source": [
    "Mais on pourrait choisir comme séparateur la virgule par exemple :"
   ]
  },
  {
   "cell_type": "code",
   "execution_count": null,
   "metadata": {
    "tags": [
     "fr"
    ]
   },
   "outputs": [],
   "source": [
    "encore_une_string = \"bonjour, je suis une phrase. Donc je suis composé de plusieurs mots, logique, non ?\"\n",
    "encore_une_string.split(\",\")"
   ]
  },
  {
   "cell_type": "markdown",
   "metadata": {
    "tags": [
     "fr"
    ]
   },
   "source": [
    "## Exercice (moyen)\n",
    "\n",
    "A partir de la phrase stockée dans la variable \"texte\", affichez chacun des mots mais modifiez-les pour qu'ils commencent tous par une majuscule.\n",
    "\n",
    "**ASTUCES**:\n",
    "\n",
    "- N'oubliez pas les principes de la concaténation, des _slices_ et de ``.split()`` !\n",
    "- Pour rappel : la méthode pour mettre des caractères en majuscule est ``.upper()``."
   ]
  },
  {
   "cell_type": "code",
   "execution_count": null,
   "metadata": {
    "tags": [
     "fr"
    ]
   },
   "outputs": [],
   "source": [
    "texte = \"\"\"\n",
    "Python est un langage qui peut s'utiliser dans de nombreux contextes\n",
    "et s'adapter à tout type d'utilisation grâce à des bibliothèques spécialisées.\n",
    "\"\"\"\n",
    "\n",
    "# Tapez votre code ici :"
   ]
  },
  {
   "cell_type": "code",
   "execution_count": null,
   "metadata": {
    "tags": [
     "solution",
     "fr"
    ]
   },
   "outputs": [],
   "source": [
    "# Solution\n",
    "\n",
    "texte = \"\"\"\n",
    "Python est un langage qui peut s'utiliser dans de nombreux contextes\n",
    "et s'adapter à tout type d'utilisation grâce à des bibliothèques spécialisées.\n",
    "\"\"\"\n",
    "\n",
    "for mot in texte.split(): print(mot[0].upper() + mot[1:])"
   ]
  },
  {
   "cell_type": "markdown",
   "metadata": {
    "tags": [
     "fr"
    ]
   },
   "source": [
    "## La méthode .replace()\n",
    "\n",
    "Si l'on veut remplacer un ou plusieurs caractères dans une string (*substring*), on peut utiliser une méthode très pratique : ```.replace()```\n",
    "\n",
    "```python\n",
    "string.replace(old, new, count)\n",
    "```\n",
    "\n",
    "Où :\n",
    "- **old** : ancienne substring que vous voulez remplacer.\n",
    "- **new** : nouvelle substring que vous voulez substituer à l'ancienne.\n",
    "- **count** : le nombre de fois que vous voulez remplacer l'ancienne substring avec la nouvelle (optionel).\n",
    "\n",
    "Par exemple :"
   ]
  },
  {
   "cell_type": "code",
   "execution_count": null,
   "metadata": {
    "tags": [
     "fr"
    ]
   },
   "outputs": [],
   "source": [
    "texte = \"S@lut, ç@ va ?\"\n",
    "print(\"Le texte avant :\", texte)\n",
    "\n",
    "texte = texte.replace('@', 'a')\n",
    "print(\"Le texte après :\", texte)"
   ]
  },
  {
   "cell_type": "markdown",
   "metadata": {
    "tags": [
     "fr"
    ]
   },
   "source": [
    "## Exercice (facile/moyen)\n",
    "\n",
    "On veut modifier la liste suivante afin de visualiser clairement les prénoms, noms et les fournisseurs de messagerie électronique sous la forme suivante :\n",
    "\n",
    "```python\n",
    "\"prénom nom - Messagerie : name.ext\"\n",
    "```\n",
    "Par exemple pour l'adresse :\n",
    "```python\n",
    "\"jeanne.chose@no-log.org\"\n",
    "```\n",
    "on veut le résultat suivant :\n",
    "```python\n",
    "\"jeanne chose - Messagerie : no-log.org\"\n",
    "```\n",
    "\n",
    "**ASTUCES:**\n",
    "\n",
    "- Attention ! On ne veut supprimer **que le premier point, pas le deuxième !**\n",
    "- On peut appliquer une méthode à la suite d'une autre méthode, par exemple une succession de ``.replace()`` sur une string."
   ]
  },
  {
   "cell_type": "code",
   "execution_count": null,
   "metadata": {
    "tags": [
     "fr"
    ]
   },
   "outputs": [],
   "source": [
    "emails = [\"jean.truc@aol.com\", \"herve.bidule@wanadoo.fr\", \"emilie.machin@caramail.com\"]\n",
    "\n",
    "# Taper le code ici :\n"
   ]
  },
  {
   "cell_type": "code",
   "execution_count": null,
   "metadata": {
    "tags": [
     "solution"
    ]
   },
   "outputs": [],
   "source": [
    "# Solution\n",
    "\n",
    "emails = [\"jean.truc@aol.com\", \"herve.bidule@wanadoo.fr\", \"emilie.machin@caramail.com\"]\n",
    "\n",
    "# With a comprehensive list\n",
    "[el.replace('.', ' ', 1).replace('@',' - Messagerie : ') for el in emails]\n",
    "\n",
    "# With a for loop\n",
    "l = []\n",
    "for el in emails:\n",
    "    l.append(el.replace('.', ' ', 1).replace('@',' - Messagerie : '))\n",
    "\n",
    "print(l)\n"
   ]
  },
  {
   "cell_type": "markdown",
   "metadata": {
    "tags": [
     "fr"
    ]
   },
   "source": [
    "# Pour aller plus loin"
   ]
  },
  {
   "cell_type": "markdown",
   "metadata": {
    "tags": [
     "fr"
    ]
   },
   "source": [
    "## Utilisation de ``step`` dans un slice\n",
    "\n",
    "On peut également ajouter, tout comme la fonction ``range()``, la notion de ``step``, de pas ou d'incrément. Par exemple en ajoutant un 2 à la fin, on signifie à python qu'on ne veut sélectionner qu'un caractère sur deux."
   ]
  },
  {
   "cell_type": "code",
   "execution_count": null,
   "metadata": {
    "tags": [
     "fr"
    ]
   },
   "outputs": [],
   "source": [
    "ma_chaine = \"Hello World !!!\"\n",
    "\n",
    "print(ma_chaine[0:-1:1])\n",
    "print(ma_chaine[::2])"
   ]
  },
  {
   "cell_type": "markdown",
   "metadata": {
    "tags": [
     "fr"
    ]
   },
   "source": [
    "## La méthode ``.count()``\n",
    "\n",
    "Pour ne pas faire une boucle, on peut utiliser la méthode ``.count()`` afin de compter le nombre d'occurences d'un caractère dans une string. Notez que la **casse**, le fait que les mots commencent par une majuscule ou une minuscule, est importante. En effet en programmation un \"H\" n'est pas égal à un \"h\".\n",
    "\n",
    "Par exemple :"
   ]
  },
  {
   "cell_type": "code",
   "execution_count": null,
   "metadata": {
    "tags": [
     "fr"
    ]
   },
   "outputs": [],
   "source": [
    "ma_chaine = \"Hello World ! Hello, dear old world.\"\n",
    "\n",
    "print(\"Nombre de 'Hello':\", ma_chaine.count(\"Hello\"))\n",
    "print(\"Nombre de 'hello':\", ma_chaine.count(\"hello\"))\n",
    "print(\"Nombre de 'World':\", ma_chaine.count(\"World\"))\n",
    "print(\"Nombre de 'world':\", ma_chaine.count(\"world\"))"
   ]
  },
  {
   "cell_type": "markdown",
   "metadata": {
    "tags": [
     "fr"
    ]
   },
   "source": [
    "## L'ASCII\n",
    "\n",
    "Si vous vous souvenez de l'introduction, vous savez que tout caractère est rattaché à un nombre qui le définit. Pour le trouver on peut utiliser la fonction ``ord()``. Pour faire le chemin inverse et afficher le caractère correspondant à un chiffre, on peut utiliser la fonction ``chr()``."
   ]
  },
  {
   "cell_type": "code",
   "execution_count": null,
   "metadata": {
    "tags": [
     "fr"
    ]
   },
   "outputs": [],
   "source": [
    "print(\"Code ASCII de 'h':\", ord('h'))\n",
    "print(\"Code ASCII de 'H':\", ord('H'))\n",
    "print(\"Code ASCII de ' ':\", ord(' '))\n",
    "print(\"Code ASCII de '@':\", ord('@'))"
   ]
  },
  {
   "cell_type": "markdown",
   "metadata": {
    "tags": [
     "fr"
    ]
   },
   "source": [
    "**NOTE**: Les puristes pourront trouver le nombre en hexadécimal avec la fonction ``hex()``"
   ]
  },
  {
   "cell_type": "code",
   "execution_count": null,
   "metadata": {
    "tags": [
     "fr"
    ]
   },
   "outputs": [],
   "source": [
    "print(\"Code ASCII en hexadécimal de 'h':\", hex((ord('h'))))\n",
    "print(\"Code ASCII en hexadécimal de 'H':\", hex((ord('H'))))"
   ]
  },
  {
   "cell_type": "markdown",
   "metadata": {
    "tags": [
     "fr"
    ]
   },
   "source": [
    "## Au sujet des intervalles \"semi-ouverts\"\n",
    "\n",
    "Voici une citation attribuée à Guido Van Rossum :\n",
    "\n",
    ">[...] I was swayed by the elegance of half-open intervals. Especially the invariant that when two slices are adjacent, the first slice's end index is the second slice's start index is just too beautiful to ignore. For example, suppose you split a string into three parts at indices i and j -- the parts would be a[:i], a[i:j], and a[j:].\n",
    "\n",
    ">[...] J'étais attiré par l'élégance des intervalles semi-ouverts. Surtout par le fait que quand deux *slices* sont adjacentes, la fin du l'index du premier *slice* est aussi le début de l'index du second ; difficile d'ignorer quelque chose d'aussi beau. Par exemple, si vous divisez une chaîne de caractères en trois parties en partant des indices i et j, les trois parties s'écriront ainsi : a[:i], a[i:j], et a[j:].\n",
    "\n",
    "(Traduction de votre serviteur)\n",
    "\n",
    "Source : un commentaire utilisé sur google+, qui n'existe désormais plus, mais qu'on peut retrouver sur ce post sur [stackoverflow](https://stackoverflow.com/questions/21481585/python-range-slicing-and-indexing-behavior)"
   ]
  }
 ],
 "metadata": {
  "kernelspec": {
   "display_name": "Python 3 (ipykernel)",
   "language": "python",
   "name": "python3"
  },
  "language_info": {
   "codemirror_mode": {
    "name": "ipython",
    "version": 3
   },
   "file_extension": ".py",
   "mimetype": "text/x-python",
   "name": "python",
   "nbconvert_exporter": "python",
   "pygments_lexer": "ipython3",
   "version": "3.10.8"
  }
 },
 "nbformat": 4,
 "nbformat_minor": 4
}
