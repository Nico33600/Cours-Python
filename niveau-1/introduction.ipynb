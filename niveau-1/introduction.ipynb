{
 "cells": [
  {
   "cell_type": "markdown",
   "metadata": {},
   "source": [
    "# Cours de Python - Niveau 1\n",
    "\n",
    "Bienvenue dans ce cours d'initiation à la programmation et à l'utilisation du langage python. Vous trouverez dans ce premier notebook les grands principes nécessaires à la compréhension des exercices qui vont suivre. Ces fichiers sont disponibles via git à l'adresse suivante :\n",
    "\n",
    "[cours de python sur github](http://github.com/virgilus/cours-de-python)\n",
    "\n",
    "Ce travail est sous licence Creative Commons BY SA NC, ce qui signifie que vous pouvez le réutiliser, le modifier et le partager à votre guise, cependant vous avez l'obligation de mentionner l'auteur, de partager votre travail sous cette même licence et de ne pas en faire un usage commercial. N'hésitez donc pas à l'améliorer et y ajoutant vos corrections et vos précisions."
   ]
  },
  {
   "cell_type": "markdown",
   "metadata": {},
   "source": [
    "## 1. Qu'est-ce que la programmation ?"
   ]
  },
  {
   "cell_type": "markdown",
   "metadata": {},
   "source": [
    "## 2. Fonctionnement général d'un ordinateur"
   ]
  },
  {
   "cell_type": "markdown",
   "metadata": {},
   "source": [
    "### Le CPU"
   ]
  },
  {
   "cell_type": "markdown",
   "metadata": {},
   "source": [
    "### La carte mère"
   ]
  },
  {
   "cell_type": "markdown",
   "metadata": {},
   "source": [
    "### La RAM"
   ]
  },
  {
   "cell_type": "markdown",
   "metadata": {},
   "source": [
    "### Le disque dur"
   ]
  },
  {
   "cell_type": "code",
   "execution_count": null,
   "metadata": {},
   "outputs": [],
   "source": [
    "## 3. Les langages de programmation"
   ]
  }
 ],
 "metadata": {
  "kernelspec": {
   "display_name": "Python 3",
   "language": "python",
   "name": "python3"
  },
  "language_info": {
   "codemirror_mode": {
    "name": "ipython",
    "version": 3
   },
   "file_extension": ".py",
   "mimetype": "text/x-python",
   "name": "python",
   "nbconvert_exporter": "python",
   "pygments_lexer": "ipython3",
   "version": "3.7.4"
  }
 },
 "nbformat": 4,
 "nbformat_minor": 4
}
