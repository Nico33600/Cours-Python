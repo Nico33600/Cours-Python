{
 "cells": [
  {
   "cell_type": "markdown",
   "metadata": {},
   "source": [
    "# Cours de Python - Niveau 1\n",
    "\n",
    "Bienvenue dans ce cours d'initiation à la programmation et à l'utilisation du langage python. Vous trouverez dans ce premier notebook les grands principes nécessaires à la compréhension de la suite de ce cours. Ces fichiers sont disponibles via git à l'adresse suivante :\n",
    "\n",
    "[cours de python sur github](http://github.com/virgilus/cours-de-python)\n",
    "\n",
    "Etant sous licence GNU, N'hésitez pas à me proposer des corrections ou des améliorations."
   ]
  },
  {
   "cell_type": "code",
   "execution_count": null,
   "metadata": {},
   "outputs": [],
   "source": []
  }
 ],
 "metadata": {
  "kernelspec": {
   "display_name": "Python 3",
   "language": "python",
   "name": "python3"
  },
  "language_info": {
   "codemirror_mode": {
    "name": "ipython",
    "version": 3
   },
   "file_extension": ".py",
   "mimetype": "text/x-python",
   "name": "python",
   "nbconvert_exporter": "python",
   "pygments_lexer": "ipython3",
   "version": "3.7.4"
  }
 },
 "nbformat": 4,
 "nbformat_minor": 4
}
