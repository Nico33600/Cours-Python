{
 "cells": [
  {
   "cell_type": "markdown",
   "metadata": {
    "tags": [
     "fr"
    ]
   },
   "source": [
    "# Définition"
   ]
  },
  {
   "cell_type": "markdown",
   "metadata": {
    "tags": [
     "fr"
    ]
   },
   "source": [
    "## Qu'est-ce qu'un dictionnaire ?\n",
    "\n",
    "Les dictionnaire sont des objets python spéciaux qui associent à chaque entrée une valeur. On les reconnaît parce que le contenu d'un dictionnaire est encadré par des accolades ``{ }``. Les dictionnaires sont des objets python de type ``dict``. Par exemple :\n",
    "\n",
    "```python\n",
    "\n",
    "mon_dictionnaire = {\"password\": \"azerty\"}\n",
    "\n",
    "```\n",
    "\n",
    "On peut y ajouter différents éléments séparés par des virgules: \n",
    "\n",
    "```python\n",
    "\n",
    "mon_dictionnaire = {\"nom\": \"Snow\", \"prenom\":\"Jon\", \"password\": \"azerty\"}\n",
    "\n",
    "```\n",
    "\n",
    "Mais pour des raisons de lisibilité on écrit souvent un dictionnaire en séparant chaque couple par une ligne :\n",
    "\n",
    "```python\n",
    "\n",
    "mon_dictionnaire = {\"nom\": \"Snow\",\n",
    "                    \"prenom\":\"Jon\",\n",
    "                    \"password\": \"azerty\"}\n",
    "```\n",
    "\n",
    "On appelle le terme de gauche **la clé** ou **_key_**, et le terme de droite sa **valeur** ou **_value_**. On trouve souvent les abréviations **\"k\"** et **\"v\"** pour désigner ces deux parties.\n",
    "\n",
    "Un dictionnaire, contrairement aux listes, est une structure **non ordonnée** ! Cela veut dire que les entrées qu'il contient ne sont pas stockées dans un ordre précis. Pour appeler une valeur il suffit de taper le nom du dictionnaire suivi de la clé entre crochets. par exemple : "
   ]
  },
  {
   "cell_type": "code",
   "execution_count": null,
   "metadata": {
    "tags": [
     "fr"
    ]
   },
   "outputs": [],
   "source": [
    "mon_dictionnaire = {\"nom\": \"Snow\",\n",
    "                    \"prenom\":\"Jon\",\n",
    "                    \"password\": \"azerty\"}\n",
    "\n",
    "print(mon_dictionnaire['nom'])\n",
    "print(mon_dictionnaire['prenom'])\n",
    "print(f\"mon_dictionnaire est de type : {type(mon_dictionnaire)}\")"
   ]
  },
  {
   "cell_type": "markdown",
   "metadata": {
    "tags": [
     "fr"
    ]
   },
   "source": [
    "## Le contenu d'un dictionnaire\n",
    "\n",
    "Les valeurs d'un dictionnaire peuvent être de différents types (des strings, des entiers, des variables...). En revanche on ne peut pas utiliser un objet non \"hashable\" (qui peut être modifié, comme une liste ou un dictionnaire) comme clé. Par exemple :"
   ]
  },
  {
   "cell_type": "code",
   "execution_count": null,
   "metadata": {
    "tags": [
     "fr"
    ]
   },
   "outputs": [],
   "source": [
    "une_variable = 12\n",
    "\n",
    "mon_dictionnaire =  {\n",
    "    \n",
    "    \"tomate\": \"Plante potagère annuelle, de la famille des Solanacées, cultivée pour ses fruits.\",\n",
    "    \"liste de mes fruits préférés\": [\"pomme\", \"poire\", \"banane\"],\n",
    "    14:2072,\n",
    "    \"nombre fétiche\": une_variable,\n",
    "    \"une plage de nombres\": range(2,20,4),\n",
    "    \"la même plage de nombres convertie en liste\": list(range(2,20,4)), # la fonction list() convertit un objet en liste !\n",
    "\n",
    "                    }\n",
    "print(mon_dictionnaire)"
   ]
  },
  {
   "cell_type": "markdown",
   "metadata": {
    "tags": [
     "fr"
    ]
   },
   "source": [
    "## Manipulation d'un dictionnaire"
   ]
  },
  {
   "cell_type": "markdown",
   "metadata": {
    "tags": [
     "fr"
    ]
   },
   "source": [
    "### Création et ajout de clés\n",
    "\n",
    "Dans un dictionnaire chaque clé est associée à une valeur. Sinon inutile d'en faire un dictionnaire, ce serait une simple liste !\n",
    "\n",
    "Pour ajouter ou modifier une valeur il suffit d'assigner la valeur souhaitée à la clé. Si la clé n'existe pas elle sera automatiquement créée. Cela signifie également qu'un même dictionnaire ne peut **pas avoir deux clés identiques**. Ici on crée un dictionnaire nommé \"boulangerie\", puis on modifie une valeur et on rajoute une clé. **La syntaxe pour créer une clé ou la modifier est la même**. Exemple :"
   ]
  },
  {
   "cell_type": "code",
   "execution_count": null,
   "metadata": {
    "tags": [
     "fr"
    ]
   },
   "outputs": [],
   "source": [
    "mon_dict = { \"a\": 1 }\n",
    "\n",
    "mon_dict[\"a\"] = 1\n",
    "mon_dict[\"b\"] = 2\n",
    "\n",
    "print(mon_dict)"
   ]
  },
  {
   "cell_type": "markdown",
   "metadata": {
    "tags": [
     "fr"
    ]
   },
   "source": [
    "(Note : en revanche on ne peut pas utiliser l'index puisque le dictionnaire est non ordonné et qu'il n'y a donc pas d'index.)"
   ]
  },
  {
   "cell_type": "markdown",
   "metadata": {
    "tags": [
     "fr"
    ]
   },
   "source": [
    "### Parcourir un dictionnaire"
   ]
  },
  {
   "cell_type": "markdown",
   "metadata": {
    "tags": [
     "fr"
    ]
   },
   "source": [
    "#### Parcourir les clés\n",
    "\n",
    "Lorsqu'on fait un ``for key in dict``, python ne retourne que les clés. Et ceci dans un ordre qui peut varier.\n",
    "\n",
    "**NOTE:** Pour être plus explicite on peut aussi utiliser la méthode ``.keys()``, qui transforme les clés en itérable, cela revient au même.\n",
    "\n",
    "Exemple :"
   ]
  },
  {
   "cell_type": "code",
   "execution_count": null,
   "metadata": {
    "tags": [
     "fr"
    ]
   },
   "outputs": [],
   "source": [
    "code_secret = {\n",
    "    'a':2,\n",
    "    'b':3,\n",
    "    'c':4,\n",
    "    'd':5,\n",
    "    'e':6,\n",
    "    'f':7,\n",
    "    'g':8,\n",
    "    'h':9,\n",
    "            }\n",
    "\n",
    "for lettre in code_secret:\n",
    "    print(lettre)\n",
    "    \n",
    "print(\"              Seconde méthode avec .keys() :\")\n",
    "    \n",
    "for lettre in code_secret.keys():\n",
    "    print(lettre)"
   ]
  },
  {
   "cell_type": "markdown",
   "metadata": {
    "tags": [
     "fr"
    ]
   },
   "source": [
    "#### Parcourir les valeurs\n",
    "\n",
    "On peut utiliser la méthode ``.values()``. Celle-ci transforme les valeurs des clés en itérable. Exemple :"
   ]
  },
  {
   "cell_type": "code",
   "execution_count": null,
   "metadata": {
    "tags": [
     "fr"
    ]
   },
   "outputs": [],
   "source": [
    "code_secret = {\n",
    "    'a':2,\n",
    "    'b':3,\n",
    "    'c':4,\n",
    "    'd':5,\n",
    "    'e':6,\n",
    "    'f':7,\n",
    "    'g':8,\n",
    "    'h':9,\n",
    "            }\n",
    "\n",
    "for nombre in code_secret.values():\n",
    "    print(nombre)"
   ]
  },
  {
   "cell_type": "markdown",
   "metadata": {
    "tags": [
     "fr"
    ]
   },
   "source": [
    "#### Parcourir les clés et les valeurs en même temps\n",
    "\n",
    "La méthode ``.items()`` est là pour cela ! Elle renvoie des ``tuples``, qui est un type que nous n'avons pas encore vu. Les tuples sont juste des listes qui ne peuvent pas être modifiées, on les identifie car elles sont placées entre parenthèses:\n",
    "\n",
    "```python\n",
    "(\"ceci est un tuple\", \"il contient différents éléments\", \"mais on ne peut pas modifier un\", \"tuple\")\n",
    "\n",
    "```\n",
    "    \n",
    "Inutile d'en savoir plus pour l'instant. En donnant comme argument au ``for`` plusieurs noms de variables, cela nous permet de récupérer les clés et les valeurs dans des variables séparées. Que nous appelerons **k** et **v**."
   ]
  },
  {
   "cell_type": "code",
   "execution_count": null,
   "metadata": {
    "tags": [
     "fr"
    ]
   },
   "outputs": [],
   "source": [
    "code_secret = {\n",
    "    'a':2,\n",
    "    'b':3,\n",
    "    'c':4,\n",
    "    'd':5,\n",
    "    'e':6,\n",
    "    'f':7,\n",
    "    'g':8,\n",
    "    'h':9,\n",
    "            }\n",
    "\n",
    "print (\"Affichons les tuples contenant la clé et la valeur : \\n\") # \\n permet d'aller à la ligne.\n",
    "\n",
    "for couple in code_secret.items():\n",
    "    print(\"Ceci est un tuple :\", couple)\n",
    "\n",
    "print (\"\\n Affichons les clés et les valeurs séparément: \\n\")\n",
    "    \n",
    "for k, v in code_secret.items():\n",
    "    print(\"Voici la clé k:\", k ,\"et la valeur v:\", v)"
   ]
  },
  {
   "cell_type": "markdown",
   "metadata": {
    "tags": [
     "fr"
    ]
   },
   "source": [
    "### Exercice (facile)\n",
    "\n",
    "Vous faites vos courses, voici ce que votre panier contient actuellement :\n",
    "\n",
    "- Deux poivrons\n",
    "- dix-huit oeufs\n",
    "\n",
    "**1°)** Créez un dictionnaire nommé \"panier\" dans lequel vous allez associer les différents produits de la liste de course à leur nombre.\n",
    "\n",
    "**2°)** Votre colocataire vous appelle pour vous demander d'acheter cinq aubergines. Il vous précise aussi que vous avez déjà 6 oeufs dans le frigo, vous n'en avez donc plus besoin que de 12 oeufs. Appliquez ces modifications sur votre dictionnaire existant à l'aide des instructions python.\n",
    "\n",
    "**3°)** En une seule boucle affichez pour chaque entrée du dictionnaire. \"Mon produit est _nom_du_produit_ et j'en ai _valeur_du_produit_\"."
   ]
  },
  {
   "cell_type": "code",
   "execution_count": null,
   "metadata": {},
   "outputs": [],
   "source": [
    "# tapez votre code ici"
   ]
  },
  {
   "cell_type": "markdown",
   "metadata": {
    "tags": [
     "fr"
    ]
   },
   "source": [
    "### Exercice (moyen)\n",
    "\n",
    "A partir de la chaîne de caratère suivante qui contient l'alphabet, utilisez une boucle pour créer un dictionnaire qui contient chaque lettre de l'alphabet ainsi que son rang inverse dans l'alphabet (A = 26, B = 25 ... jusqu'à Z = 1).\n",
    "\n",
    "**Astuces**\n",
    "\n",
    "- Créez un dictionnaire vide avant de commencer la boucle.\n",
    "- Pour trouver le rang inverse vous pouvez créer une variable et l'incrémenter vous même, ou bien utiliser la fonction ``enumerate()`` sur la chaîne de caractère et utiliser l'index de chaque élément (qui est donc caractère) de la string."
   ]
  },
  {
   "cell_type": "code",
   "execution_count": null,
   "metadata": {},
   "outputs": [],
   "source": [
    "alphabet = \"ABCDEFGHIJKLMNOPQRSTUVWXYZ\"\n",
    "\n",
    "# Tapez votre code ici"
   ]
  },
  {
   "cell_type": "markdown",
   "metadata": {
    "tags": [
     "fr"
    ]
   },
   "source": [
    "# Pour aller plus loin"
   ]
  },
  {
   "cell_type": "markdown",
   "metadata": {
    "tags": [
     "fr"
    ]
   },
   "source": [
    "### Effacer une clé\n",
    "\n",
    "On peut utiliser la fonction ``del``, tout comme les listes. Exemple :"
   ]
  },
  {
   "cell_type": "code",
   "execution_count": null,
   "metadata": {
    "tags": [
     "fr"
    ]
   },
   "outputs": [],
   "source": [
    "mon_dict = { \"a\": 7 }\n",
    "\n",
    "mon_dict[\"a\"] = 11\n",
    "mon_dict[\"b\"] = 16\n",
    "\n",
    "# On efface l'entrée \"a\"\n",
    "\n",
    "del mon_dict[\"a\"]\n",
    "\n",
    "print(mon_dict)"
   ]
  },
  {
   "cell_type": "markdown",
   "metadata": {
    "tags": [
     "fr"
    ]
   },
   "source": [
    "### Lorsque la clé n'existe pas"
   ]
  },
  {
   "cell_type": "markdown",
   "metadata": {
    "tags": [
     "fr"
    ]
   },
   "source": [
    "#### Tester si la clé existe avec ``in``\n",
    "\n",
    "Si on appelle une clé qui n'existe pas le programme plante. Pour vérifier si une clé existe on peut utiliser un ``if`` en s'aidant de cette règle : si une variable existe elle retourne ``True``, si elle est vide elle retourne ``False``.\n",
    "On peut utiliser l'expression ``in``, qui nous sera aussi très utile dans de nombreux autres cas pour vérifier qu'une objet se trouve dans un autre."
   ]
  },
  {
   "cell_type": "code",
   "execution_count": null,
   "metadata": {
    "tags": [
     "fr"
    ]
   },
   "outputs": [],
   "source": [
    "code_secret = {\n",
    "    'a':2,\n",
    "    'b':3,\n",
    "    'c':4,\n",
    "    'd':5,\n",
    "    'e':6,\n",
    "    'f':7,\n",
    "    'g':8,\n",
    "    'h':9,\n",
    "            }\n",
    "\n",
    "print('z' in code_secret) # La clé n'existe pas donc cette expression va retourner false\n",
    "\n",
    "if 'z' in code_secret: print (\"Si cette ligne est affichée c'est que j'existe ! Mais cette ligne ne sera pas affichée :(\")\n",
    "else: print(\"En revanche cette ligne là sera affichée puisque je n'existe pas !\")"
   ]
  },
  {
   "cell_type": "markdown",
   "metadata": {
    "tags": [
     "fr"
    ]
   },
   "source": [
    "#### La méthode ``.get()``\n",
    "\n",
    "Pour gagner du temps on peut utiliser la méthode ``.get()``, celle-ci permet de récupérer la valeur d'une clé, et si cette clé n'existe pas elle retourne une valeur par défaut que l'on détermine par avance grâce à cette syntaxe.\n",
    "\n",
    "```python\n",
    "dictionnaire.get(la_cle_que_je_recherche, valeur_par_defaut_a_lui_affecter_si_non_trouve)\n",
    "```\n",
    "\n",
    "Avec cette méthode nous sommes sûrs d'avoir toujours le résultat que l'on cherche : soit la clé existe déjà et on récupère sa valeur, soit on récupère la valeur par défaut que l'on vient de lui affecter.\n"
   ]
  },
  {
   "cell_type": "code",
   "execution_count": null,
   "metadata": {
    "tags": [
     "fr"
    ]
   },
   "outputs": [],
   "source": [
    "code_secret = {\n",
    "    'a':2,\n",
    "    'b':3,\n",
    "    'c':4,\n",
    "    'd':5,\n",
    "    'e':6,\n",
    "    'f':7,\n",
    "    'g':8,\n",
    "    'h':9,\n",
    "            }\n",
    "\n",
    "code_secret[\"z\"] = code_secret.get(\"z\", 27)\n",
    "print(code_secret)"
   ]
  },
  {
   "cell_type": "markdown",
   "metadata": {
    "tags": [
     "fr"
    ]
   },
   "source": [
    "## Exercice (facile / moyen)\n",
    "\n",
    "C'est jour de soldes !\n",
    "A partir du dictionnaire ci-dessous: \n",
    "\n",
    "- Vérifiez que la clé \"RAM\" existe dans le dictionnaire nommé \"produits\", sinon quittez le programme.\n",
    "- Itérez sur la liste \"catalogue\".\n",
    "- En utilisant ``.get()``, modifiez le dictionnaire pour diviser les prix par deux pour chaque élément de la liste. Si l'élément n'existe pas dans le dictionnaire, assignez-lui la valeur 100 par défaut (cette valeur là sera elle aussi ensuite divisée par deux, et le nouvel objet vaudra donc 50 à la fin).\n",
    "- Affichez le résultat.\n",
    "\n",
    "**Astuce**\n",
    "\n",
    "- Réfléchissez bien au comportement de ``.get()``.\n",
    "- 4 lignes de code (affichage compris) sont nécessaires."
   ]
  },
  {
   "cell_type": "code",
   "execution_count": null,
   "metadata": {},
   "outputs": [],
   "source": [
    "produits = {\"processeur\" : 235,\n",
    "            \"carte mère\": 129,\n",
    "            \"RAM\": 79,\n",
    "            \"disque dur\": 59}\n",
    "\n",
    "catalogue = [\"processeur\",\n",
    "             \"carte graphique\",\n",
    "             \"ventilateur\",\n",
    "             \"carte mère\",\n",
    "             \"RAM\",\n",
    "             \"disque dur\",\n",
    "             \"alimentation\"]\n",
    "\n",
    "# Tapez votre code ici :\n",
    "\n"
   ]
  },
  {
   "cell_type": "markdown",
   "metadata": {
    "tags": [
     "fr"
    ]
   },
   "source": [
    "## Exercice (difficile)\n",
    "\n",
    "Vous croisez Antoine-Marie, un professeur de maths à la retraite. Celui-ci a appris que Python existait et se pose des questions sur la fonction ``random.randint()`` qui génére des nombres aléatoires. \"Est-ce que les nombres générés sont vraiment aléatoires ?\", vous demande-t-il. \n",
    "\n",
    "Vérifions-le en créant une fonction qui génère un grand nombre de fois des chiffres compris entre 0 et 9. À chaque fois qu'une valeur est générée tenez un compte en stockant les résultats dans un dictionnaire. A la fin de la boucle, affichez le dictionnaire. Si on paramètre le programme pour qu'il génère 100 nombres aléatoires, voici un exemple de résultat que l'on devrait obtenir :\n",
    "\n",
    "```python\n",
    "{'5': 20,\n",
    " '4': 6,\n",
    " '7': 15,\n",
    " '2': 9,\n",
    " '8': 5,\n",
    " '1': 4,\n",
    " '6': 9,\n",
    " '0': 11,\n",
    " '9': 11,\n",
    " '3': 10}\n",
    "```\n",
    "\n",
    "On voit que sur 100 lancers le chiffre 5 est apparu 20 fois mais le chiffre 4 seulement 6. Essayez avec un nombre de lancers plus important (attention, à partir d'un certain seuil, votre ordinateur sera sans doute trop lent pour effectuer ces calculs, dans ce cas là interrompez le kernel ou bien prenez votre mal en patience).\n",
    "\n",
    "**ASTUCES**:\n",
    "\n",
    "- Vous pouvez appeler une clé via une variable, voire une fonction.\n",
    "- Dans l'exemple ci-dessus les clés sont des strings, mais ce n'est pas une obligation, ils peuvent rester à l'état d'integer.\n",
    "- La programme entier, en incluant l'importation de la librairie et l'affichage ne fait que 6 lignes de code!\n",
    "- Si vous voulez vérifier graphiquement vos résultats utilisez cette ligne de code dans la cellule suivante en adaptant le nom de votre dictionnaire à celui par défaut. Il vous faudra peut-être installer la librairie matplotlib, en ce cas reportez vous à la leçon sur les librairies.\n",
    "- En utilisant la méthode ``.get()`` on économise une ligne de code."
   ]
  },
  {
   "cell_type": "code",
   "execution_count": null,
   "metadata": {},
   "outputs": [],
   "source": [
    "from random import randint\n",
    "\n",
    "resultats = {}\n",
    "\n",
    "# Tapez votre code ici\n"
   ]
  },
  {
   "cell_type": "code",
   "execution_count": 2,
   "metadata": {
    "tags": [
     "fr"
    ]
   },
   "outputs": [
    {
     "data": {
      "image/png": "[encoded data removed]",
      "text/plain": [
       "<Figure size 640x480 with 1 Axes>"
      ]
     },
     "metadata": {},
     "output_type": "display_data"
    }
   ],
   "source": [
    "# code pour vérifier visuellement les résultats\n",
    "# il faudra peut-être installer une librairie\n",
    "# Dans ce cas entrez ceci dans anaconda prompt\n",
    "# ou dans le terminal sous mac/linux :\n",
    "\n",
    "# python -m pip install -U pip\n",
    "# python -m pip install -U matplotlib\n",
    "\n",
    "import matplotlib.pyplot as plt\n",
    "\n",
    "le_dictionnaire_de_resultats = resultats\n",
    "\n",
    "plt.bar(range(len(le_dictionnaire_de_resultats)), list(le_dictionnaire_de_resultats.values()), align='center')\n",
    "plt.xticks(range(len(le_dictionnaire_de_resultats)), list(le_dictionnaire_de_resultats.keys()));"
   ]
  },
  {
   "cell_type": "code",
   "execution_count": null,
   "metadata": {},
   "outputs": [],
   "source": []
  }
 ],
 "metadata": {
  "kernelspec": {
   "display_name": "Python 3 (ipykernel)",
   "language": "python",
   "name": "python3"
  },
  "language_info": {
   "codemirror_mode": {
    "name": "ipython",
    "version": 3
   },
   "file_extension": ".py",
   "mimetype": "text/x-python",
   "name": "python",
   "nbconvert_exporter": "python",
   "pygments_lexer": "ipython3",
   "version": "3.10.9"
  }
 },
 "nbformat": 4,
 "nbformat_minor": 4
}
