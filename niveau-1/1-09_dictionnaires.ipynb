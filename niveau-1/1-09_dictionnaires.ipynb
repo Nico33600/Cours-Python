{
 "cells": [
  {
   "cell_type": "markdown",
   "metadata": {},
   "source": [
    "# Définition"
   ]
  },
  {
   "cell_type": "markdown",
   "metadata": {},
   "source": [
    "## Qu'est-ce qu'un dictionnaire ?\n",
    "\n",
    "Les dictionnaire sont des objets python spéciaux qui associent à chaque entrée une valeur ou un objet. On les reconnaît parce que le contenu d'un dictionnaire est encadré par des accolades ``{ }``. Les dictionnaires sont des objets python de type ``dict``. Par exemple :\n",
    "\n",
    "```python\n",
    "\n",
    "mon_dictionnaire = {\"tomate\": \"Plante potagère annuelle, de la famille des Solanacées, cultivée pour ses fruits.\"}\n",
    "\n",
    "```\n",
    "\n",
    "On peut y ajouter différentes éléments séparés par des virgules: \n",
    "\n",
    "```python\n",
    "\n",
    "mon_dictionnaire = {\"tomate\": \"Plante potagère annuelle, de la famille des Solanacées, cultivée pour ses fruits.\", \"courgette\":\"Plante herbacée de la famille des Cucurbitaceae, c'est aussi le fruit comestible de cette plante.\"}\n",
    "\n",
    "```\n",
    "\n",
    "Mais pour des raisons de lisibilité on écrit souvent un dictionnaire en séparant chaque couple entrée/définition par une ligne :\n",
    "\n",
    "```python\n",
    "\n",
    "mon_dictionnaire =  {\n",
    "    \n",
    "    \"tomate\": \"Plante potagère annuelle, de la famille des Solanacées, cultivée pour ses fruits.\",\n",
    "    \"courgette\":\"Plante herbacée de la famille des Cucurbitaceae, c'est aussi le fruit comestible de cette plante.\"\n",
    "\n",
    "                    }\n",
    "```\n",
    "\n",
    "On appelle le terme de gauche **la clé** ou **_key_**, et le terme de droite sa **valeur** ou **_value_**. On trouve souvent les abréviations **\"k\"** et **\"v\"** pour désigner ces deux parties.\n",
    "\n",
    "Un dictionnaire, contrairement aux listes, est une structure **non ordonnée** ! Cela veut dire que les entrées qu'il contient ne sont pas stockées dans un ordre précis, c'est important de garder cela en tête.\n",
    "Pour appeler une valeur il suffit de taper le nom du dictionnaire suivi de la clé d'entrée. par exemple : "
   ]
  },
  {
   "cell_type": "code",
   "execution_count": 1,
   "metadata": {},
   "outputs": [
    {
     "name": "stdout",
     "output_type": "stream",
     "text": [
      "Plante potagère annuelle, de la famille des Solanacées, cultivée pour ses fruits.\n",
      "Plante herbacée de la famille des Cucurbitaceae, c'est aussi le fruit comestible de cette plante.\n",
      "mon_dictionnaire est de type : <class 'dict'>\n"
     ]
    }
   ],
   "source": [
    "mon_dictionnaire =  {\n",
    "    \n",
    "    \"tomate\": \"Plante potagère annuelle, de la famille des Solanacées, cultivée pour ses fruits.\",\n",
    "    \"courgette\":\"Plante herbacée de la famille des Cucurbitaceae, c'est aussi le fruit comestible de cette plante.\"\n",
    "\n",
    "                    }\n",
    "\n",
    "print(mon_dictionnaire['tomate'])\n",
    "print(mon_dictionnaire['courgette'])\n",
    "print(\"mon_dictionnaire est de type :\", type(mon_dictionnaire))"
   ]
  },
  {
   "cell_type": "markdown",
   "metadata": {},
   "source": [
    "## Le contenu d'un dictionnaire\n",
    "\n",
    "Un dictionnaire peut contenir des objets différents (des strings, des entiers, des variables...).Par exemple :"
   ]
  },
  {
   "cell_type": "code",
   "execution_count": 9,
   "metadata": {},
   "outputs": [
    {
     "data": {
      "text/plain": [
       "{'tomate': 'Plante potagère annuelle, de la famille des Solanacées, cultivée pour ses fruits.',\n",
       " 'courgette': \"Plante herbacée de la famille des Cucurbitaceae, c'est aussi le fruit comestible de cette plante.\",\n",
       " 'liste de mes fruits préférés': ['pomme', 'poire', 'banane'],\n",
       " 'nombre fétiche': 12,\n",
       " 'une plage de nombres': range(2, 20, 4),\n",
       " 'la même plage de nombres convertie en liste': [2, 6, 10, 14, 18]}"
      ]
     },
     "execution_count": 9,
     "metadata": {},
     "output_type": "execute_result"
    }
   ],
   "source": [
    "une_variable = 12\n",
    "\n",
    "mon_dictionnaire =  {\n",
    "    \n",
    "    \"tomate\": \"Plante potagère annuelle, de la famille des Solanacées, cultivée pour ses fruits.\",\n",
    "    \"courgette\":\"Plante herbacée de la famille des Cucurbitaceae, c'est aussi le fruit comestible de cette plante.\",\n",
    "    \"liste de mes fruits préférés\": [\"pomme\", \"poire\", \"banane\"],\n",
    "    \"nombre fétiche\": une_variable,\n",
    "    \"une plage de nombres\": range(2,20,4),\n",
    "    \"la même plage de nombres convertie en liste\": list(range(2,20,4)), # la fonction list() convertit un objet en liste !\n",
    "    \n",
    "\n",
    "                    }\n",
    "\n",
    "mon_dictionnaire"
   ]
  },
  {
   "cell_type": "markdown",
   "metadata": {},
   "source": [
    "## Manipulation d'un dictionnaire"
   ]
  },
  {
   "cell_type": "markdown",
   "metadata": {},
   "source": [
    "### Création et ajout de clés\n",
    "\n",
    "Dans un dictionnaire chaque clé est associée à une valeur. Sinon inutile d'en faire un dictionnaire, ce serait une simple liste !\n",
    "\n",
    "Pour ajouter ou modifier une valeur il suffit d'assigner la valeur souhaitée à la clé. Si la clé n'existe pas elle sera automatiquement créée. Cela signifie également qu'un même dictionnaire ne peut **pas avoir deux clés identiques**. Ici on crée un dictionnaire nommé \"boulangerie\", puis on modifie une valeur et on rajoute une clé. Tout ceci se fait avec la même syntaxe. Exemple :"
   ]
  },
  {
   "cell_type": "code",
   "execution_count": 66,
   "metadata": {},
   "outputs": [
    {
     "data": {
      "text/plain": [
       "{'pain au chocolat': 11, 'éclair au chocolat': 16}"
      ]
     },
     "execution_count": 66,
     "metadata": {},
     "output_type": "execute_result"
    }
   ],
   "source": [
    "boulangerie = { \"pain au chocolat\": 7 }\n",
    "\n",
    "boulangerie[\"pain au chocolat\"] = 11\n",
    "boulangerie[\"éclair au chocolat\"] = 16\n",
    "\n",
    "# Pour afficher le contenu d'un dictionnaire, comme la plupart des objets, il suffit de taper son nom :\n",
    "\n",
    "boulangerie"
   ]
  },
  {
   "cell_type": "markdown",
   "metadata": {},
   "source": [
    "### Effacer une clé\n",
    "\n",
    "On peut utiliser la fonction ``del``, tout comme les listes. Exemple :"
   ]
  },
  {
   "cell_type": "code",
   "execution_count": 18,
   "metadata": {},
   "outputs": [
    {
     "data": {
      "text/plain": [
       "{'éclair au chocolat': 16}"
      ]
     },
     "execution_count": 18,
     "metadata": {},
     "output_type": "execute_result"
    }
   ],
   "source": [
    "boulangerie = { \"pain au chocolat\": 7 }\n",
    "\n",
    "boulangerie[\"pain au chocolat\"] = 11\n",
    "boulangerie[\"éclair au chocolat\"] = 16\n",
    "\n",
    "# On efface l'entrée \"pain au chocolat\"\n",
    "\n",
    "del boulangerie[\"pain au chocolat\"]\n",
    "\n",
    "boulangerie"
   ]
  },
  {
   "cell_type": "markdown",
   "metadata": {},
   "source": [
    "### Parcourir un dictionnaire"
   ]
  },
  {
   "cell_type": "markdown",
   "metadata": {},
   "source": [
    "#### Parcourir les clés\n",
    "\n",
    "Lorsqu'on fait un ``for key in dict``, python ne retourne que les clés. Et ceci dans un ordre qui peut varier.\n",
    "\n",
    "**NOTE:** On peut aussi utiliser la méthode ``.keys()`` cela revient au même.\n",
    "\n",
    "Exemple :"
   ]
  },
  {
   "cell_type": "code",
   "execution_count": 3,
   "metadata": {},
   "outputs": [
    {
     "name": "stdout",
     "output_type": "stream",
     "text": [
      "a\n",
      "b\n",
      "c\n",
      "d\n",
      "e\n",
      "f\n",
      "g\n",
      "h\n",
      "              Seconde méthode avec .keys() :\n",
      "a\n",
      "b\n",
      "c\n",
      "d\n",
      "e\n",
      "f\n",
      "g\n",
      "h\n"
     ]
    }
   ],
   "source": [
    "code_secret = {\n",
    "    'a':2,\n",
    "    'b':3,\n",
    "    'c':4,\n",
    "    'd':5,\n",
    "    'e':6,\n",
    "    'f':7,\n",
    "    'g':8,\n",
    "    'h':9,\n",
    "            }\n",
    "\n",
    "for le_nom_que_je_veux in code_secret:\n",
    "    print(le_nom_que_je_veux)\n",
    "    \n",
    "print(\"              Seconde méthode avec .keys() :\")\n",
    "    \n",
    "for lettre in code_secret.keys():\n",
    "    print(lettre)"
   ]
  },
  {
   "cell_type": "markdown",
   "metadata": {},
   "source": [
    "#### Parcourir les valeurs\n",
    "\n",
    "On peut utiliser la méthode ``.values()``. Celle-ci retourne la valeur d'une clé. Exemple :"
   ]
  },
  {
   "cell_type": "code",
   "execution_count": 38,
   "metadata": {},
   "outputs": [
    {
     "name": "stdout",
     "output_type": "stream",
     "text": [
      "2\n",
      "3\n",
      "4\n",
      "5\n",
      "6\n",
      "7\n",
      "8\n",
      "9\n"
     ]
    }
   ],
   "source": [
    "code_secret = {\n",
    "    'a':2,\n",
    "    'b':3,\n",
    "    'c':4,\n",
    "    'd':5,\n",
    "    'e':6,\n",
    "    'f':7,\n",
    "    'g':8,\n",
    "    'h':9,\n",
    "            }\n",
    "\n",
    "for nombre in code_secret.values():\n",
    "    print(nombre)"
   ]
  },
  {
   "cell_type": "markdown",
   "metadata": {},
   "source": [
    "#### Parcourir les clés et les valeurs en même temps\n",
    "\n",
    "La méthode ``.items()`` est là pour cela ! Elle renvoie des ``tuples``, qui est un type que nous n'avons pas encore vu. Les tuples sont juste des listes qui ne peuvent pas être modifiées, on les identifie car elles sont placées entre parenthèses:\n",
    "\n",
    "```python\n",
    "(\"ceci est un tuple\", \"ce sont différents éléments\", \"mais on ne peut pas modifier un\", \"tuple\")\n",
    "\n",
    "```\n",
    "    \n",
    "Inutile d'en savoir plus pour l'instant. En donnant comme argument au ``for`` plusieurs noms de variables, cela nous permet de récupérer les clés et les valeurs dans des variables séparées. Que nous appelerons **k** et **v**."
   ]
  },
  {
   "cell_type": "code",
   "execution_count": 4,
   "metadata": {},
   "outputs": [
    {
     "name": "stdout",
     "output_type": "stream",
     "text": [
      "Affichons les tuples contenant la clé et la valeur : \n",
      "\n",
      "Ceci est un tuple : ('a', 2)\n",
      "Ceci est un tuple : ('b', 3)\n",
      "Ceci est un tuple : ('c', 4)\n",
      "Ceci est un tuple : ('d', 5)\n",
      "Ceci est un tuple : ('e', 6)\n",
      "Ceci est un tuple : ('f', 7)\n",
      "Ceci est un tuple : ('g', 8)\n",
      "Ceci est un tuple : ('h', 9)\n",
      "\n",
      " Affichons les clés et les valeurs séparément: \n",
      "\n",
      "Voici la clé k: a et la valeur v: 2\n",
      "Voici la clé k: b et la valeur v: 3\n",
      "Voici la clé k: c et la valeur v: 4\n",
      "Voici la clé k: d et la valeur v: 5\n",
      "Voici la clé k: e et la valeur v: 6\n",
      "Voici la clé k: f et la valeur v: 7\n",
      "Voici la clé k: g et la valeur v: 8\n",
      "Voici la clé k: h et la valeur v: 9\n"
     ]
    }
   ],
   "source": [
    "code_secret = {\n",
    "    'a':2,\n",
    "    'b':3,\n",
    "    'c':4,\n",
    "    'd':5,\n",
    "    'e':6,\n",
    "    'f':7,\n",
    "    'g':8,\n",
    "    'h':9,\n",
    "            }\n",
    "\n",
    "print (\"Affichons les tuples contenant la clé et la valeur : \\n\") # \\n permet d'aller à la ligne.\n",
    "\n",
    "for couple in code_secret.items():\n",
    "    print(\"Ceci est un tuple :\", couple)\n",
    "\n",
    "print (\"\\n Affichons les clés et les valeurs séparément: \\n\") # \\n permet d'aller à la ligne.\n",
    "    \n",
    "for k,v in code_secret.items():\n",
    "    print(\"Voici la clé k:\",k,\"et la valeur v:\",v)"
   ]
  },
  {
   "cell_type": "markdown",
   "metadata": {},
   "source": [
    "### Exercice (facile)\n",
    "\n",
    "Vous faites vos courses, voici ce qu'il contient actuellement :\n",
    "    \n",
    "- Trois courgettes\n",
    "- Deux poivrons\n",
    "- dix-huit oeufs\n",
    "\n",
    "**1°)** Créez un dictionnaire nommé \"panier\" dans lequel vous allez associer les différents produits de la liste de course suivante à leur nombre.\n",
    "\n",
    "**2°)** Votre colocataire vous appelle pour vous demander d'acheter cinq aubergines. Il vous précise aussi que vous avez déjà 6 oeufs dans le frigo, vous n'en avez donc plus besoin que de 12 oeufs. Ah oui, votre colocataire est allergique aux poivrons, vous allez donc les retirer de votre panier. Appliquez ces modifications sur votre dictionnaire existant à l'aide des instructions python.\n",
    "\n",
    "**3°)** En une seule boucle affichez pour chaque entrée du dictionnaire. \"Mon produit est _nom_du_produit_ et j'en ai _valeur_du_produit_\"."
   ]
  },
  {
   "cell_type": "markdown",
   "metadata": {},
   "source": [
    "### Lorsque la clé n'existe pas"
   ]
  },
  {
   "cell_type": "markdown",
   "metadata": {},
   "source": [
    "#### Tester si la clé existe avec ``in``\n",
    "\n",
    "Si on appelle une clé qui n'existe pas le programme plante. Pour vérifier si une clé existe on peut utiliser un ``if`` en s'aidant de cette règle : si une variable existe, sinon elle retourne ``True``, si elle est vide elle retourne ``False``.\n",
    "On peut utiliser l'expression ``in``, qui nous sera aussi très utile dans de nombreux cas pour tester cela.\n",
    "\n",
    "On peut utiliser plusieurs méthodes ou fonctions pour tester si une clé existe dans un dictionnaire :"
   ]
  },
  {
   "cell_type": "code",
   "execution_count": 5,
   "metadata": {},
   "outputs": [
    {
     "name": "stdout",
     "output_type": "stream",
     "text": [
      "False\n",
      "En revanche cette ligne là sera affichée puisque je n'existe pas !\n"
     ]
    }
   ],
   "source": [
    "code_secret = {\n",
    "    'a':2,\n",
    "    'b':3,\n",
    "    'c':4,\n",
    "    'd':5,\n",
    "    'e':6,\n",
    "    'f':7,\n",
    "    'g':8,\n",
    "    'h':9,\n",
    "            }\n",
    "\n",
    "print('je_n_existe_pas' in code_secret) # La clé n'existe pas donc cette expression va retourner false\n",
    "\n",
    "if 'je_n_existe_pas' in code_secret: print (\"Si cette ligne est affichée c'est que j'existe ! Mais cette ligne ne sera pas affichée :( ...\")\n",
    "else: print(\"En revanche cette ligne là sera affichée puisque je n'existe pas !\")"
   ]
  },
  {
   "cell_type": "markdown",
   "metadata": {},
   "source": [
    "#### La méthode ``.get()``\n",
    "\n",
    "Pour gagner du temps on peut utiliser la méthode ``.get()``, celle-ci permet de récupérer la valeur d'une clé, et si cette clé n'existe pas elle retourne une valeur par défaut que l'on détermine.\n"
   ]
  },
  {
   "cell_type": "code",
   "execution_count": 65,
   "metadata": {},
   "outputs": [
    {
     "name": "stdout",
     "output_type": "stream",
     "text": [
      "False\n",
      "Je n'existe pas... Et cette ligne là sera affichée.\n"
     ]
    }
   ],
   "source": [
    "code_secret = {\n",
    "    'a':2,\n",
    "    'b':3,\n",
    "    'c':4,\n",
    "    'd':5,\n",
    "    'e':6,\n",
    "    'f':7,\n",
    "    'g':8,\n",
    "    'h':9,\n",
    "            }\n",
    "\n",
    "print('je_n_existe_pas' in code_secret) # La clé n'existe pas donc cette expression va retourner false\n",
    "\n",
    "if 'je_n_existe_pas' in code_secret: print (\"Si cette ligne est affichée c'est que j'existe ! Mais cette ligne ne sera pas affichée :( ...\")\n",
    "else: print(\"Je n'existe pas... Et cette ligne là sera affichée.\")"
   ]
  },
  {
   "cell_type": "markdown",
   "metadata": {},
   "source": [
    "## Exercice (difficile)\n",
    "\n",
    "Vous croisez Antoine-Marie, un professeur de maths à la retraite. Celui-ci a appris que Python existait et se pose des questions sur la manière la fonction ``random.randint()`` qui génére des nombres aléatoires. \"Est-ce que les nombres générés sont vraiment aléatoires ?\", vous demande-t-il. \n",
    "\n",
    "Vérifions-le en créant une fonction qui génère un grand nombre de fois des chiffres compris entre 0 et 9. À chaque fois qu'une valeur est générée tenez un compte en stockant les résultats dans un dictionnaire. A la fin de la boucle, affichez le dictionnaire. Si on paramètre le programme pour qu'il génère 100 chiffres aléatoires, voici un exemple de résultat que l'on devrait obtenir :\n",
    "\n",
    "```python\n",
    "{'5': 20,\n",
    " '4': 6,\n",
    " '7': 15,\n",
    " '2': 9,\n",
    " '8': 5,\n",
    " '1': 4,\n",
    " '6': 9,\n",
    " '0': 11,\n",
    " '9': 11,\n",
    " '3': 10}\n",
    "```\n",
    "\n",
    "On voit que sur 100 lancers le chiffre 5 est apparu 20 fois mais le chiffre 4 seulement 6. Essayez avec des chiffres plus grands (attention, à partir d'un certain seuil, votre ordinateur sera sans doute trop lent pour effectuer ces calculs, dans ce cas là interrompez le kernel ou bien prenez votre mal en patience).\n",
    "\n",
    "**ASTUCES**:\n",
    "\n",
    "- Vous pouvez appeler une clé via une variable, voire une fonction.\n",
    "- Dans l'exemple ci-dessus les clés sont des strings, mais ce n'est pas une obligation, ils peuvent rester à l'état d'integer.\n",
    "- La boucle ne fait que 4 lignes de code (en ajoutant l'import de la librairie, la déclaration des variables et l'affichage du dictionnaire on obtient 8 lignes au total).\n",
    "- Si vous voulez vérifier graphiquement vos résultats utilisez cette ligne de code dans la cellule suivante en adaptant le nom de votre dictionnaire à celui par défaut. Il vous faudra peut-être installer la librairie matplotlib, en ce cas reportez vous à la leçon sur les librairies."
   ]
  },
  {
   "cell_type": "code",
   "execution_count": null,
   "metadata": {},
   "outputs": [],
   "source": [
    "import matplotlib.pyplot as plt\n",
    "\n",
    "plt.bar(range(len(le_dictionnaire_de_resultats)), list(le_dictionnaire_de_resultats.values()), align='center')\n",
    "plt.xticks(range(len(le_dictionnaire_de_resultats)), list(le_dictionnaire_de_resultats.keys()));"
   ]
  }
 ],
 "metadata": {
  "kernelspec": {
   "display_name": "Python 3",
   "language": "python",
   "name": "python3"
  },
  "language_info": {
   "codemirror_mode": {
    "name": "ipython",
    "version": 3
   },
   "file_extension": ".py",
   "mimetype": "text/x-python",
   "name": "python",
   "nbconvert_exporter": "python",
   "pygments_lexer": "ipython3",
   "version": "3.7.3"
  }
 },
 "nbformat": 4,
 "nbformat_minor": 4
}
