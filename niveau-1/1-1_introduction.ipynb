{
 "cells": [
  {
   "cell_type": "markdown",
   "metadata": {},
   "source": [
    "# Cours de Python - Niveau 1 - Introduction\n",
    "\n",
    "Bienvenue dans ce cours d'initiation à la programmation et à l'utilisation du langage python. Dans ce premier notebook nous présenterons les grands principes nécessaires à la compréhension et à l'éxecution des exercices qui vont suivre. Ces fichiers sont actualisés et disponibles sur github à l'adresse suivante :\n",
    "\n",
    "[cours de python sur github](http://github.com/virgilus/cours-de-python)\n",
    "\n",
    "Ce travail est sous licence Creative Commons BY SA NC, ce qui signifie que vous pouvez le réutiliser, le modifier et le partager à votre guise, cependant vous avez l'obligation de mentionner l'auteur, de partager votre travail sous cette même licence et de ne pas en faire un usage commercial. N'hésitez donc pas à l'améliorer en y ajoutant vos corrections et vos précisions."
   ]
  },
  {
   "cell_type": "markdown",
   "metadata": {},
   "source": [
    "## 1. Qu'est-ce que la programmation ?"
   ]
  },
  {
   "cell_type": "markdown",
   "metadata": {},
   "source": [
    "## 2. Fonctionnement général d'un ordinateur"
   ]
  },
  {
   "cell_type": "markdown",
   "metadata": {},
   "source": [
    "### Le processeur (ou CPU)\n",
    "\n",
    "\n",
    "<img src=\"img/800px-Intel_CPU_Core_i7_6700K_Skylake_perspective.jpg\" alt=\"CPU\" width=\"200\" align=\"left\"/> Le processeur est le composant d'un ordinateur qui execute des opérations logiques. Chaque processeur possède une horloge (clock) qui bat à une certaine fréquence et que l'on mesure en Giga Hertz (Ghz), par exemple un processeur de 2,6 Ghz dispose d'une horloge interne battant 2.6 milliards de fois par seconde. Chaque battement représente une opportunité pour le processeur de manipuler un nombre de bits (32 bits ou 64 bits). Auparavant on comparait la puissance des processeurs en regardant leur fréquence mais cela est moins vrai de nos jours depuis que les processeurs disposent de plusieurs \"coeurs\" (cores) leur permettant d'éxecuter plusieurs opérations simultanément et démultipliant ainsi leur puissance de calcul. Certaines architectures ainsi que certaines techniques, comme \"l'hyperthreading\" qui permet à un seul coeur de se comporter comme plusieurs, jouent énormément dans la vitesse de calcul final que peut atteindre un processeur. À l'heure actuelle la plupart des particuliers utilisent des ordinateurs équipés de processeurs 64 bits disposant de 4 à 8 coeurs et dont la fréquence comprise est entre 1.5 et 3 ghz."
   ]
  },
  {
   "cell_type": "markdown",
   "metadata": {},
   "source": [
    "### La carte mère"
   ]
  },
  {
   "cell_type": "markdown",
   "metadata": {},
   "source": [
    "### La mémoire vive (ou RAM)"
   ]
  },
  {
   "cell_type": "markdown",
   "metadata": {},
   "source": [
    "### Le disque dur (ou HDD)"
   ]
  },
  {
   "cell_type": "code",
   "execution_count": null,
   "metadata": {},
   "outputs": [],
   "source": [
    "## 3. Les langages de programmation"
   ]
  }
 ],
 "metadata": {
  "kernelspec": {
   "display_name": "Python 3",
   "language": "python",
   "name": "python3"
  },
  "language_info": {
   "codemirror_mode": {
    "name": "ipython",
    "version": 3
   },
   "file_extension": ".py",
   "mimetype": "text/x-python",
   "name": "python",
   "nbconvert_exporter": "python",
   "pygments_lexer": "ipython3",
   "version": "3.7.4"
  }
 },
 "nbformat": 4,
 "nbformat_minor": 4
}
