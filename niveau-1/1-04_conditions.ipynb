{
 "cells": [
  {
   "cell_type": "markdown",
   "metadata": {},
   "source": [
    "# Définition"
   ]
  },
  {
   "cell_type": "markdown",
   "metadata": {},
   "source": [
    "## Idée générale\n",
    "Pour l'instant tout ce que nous avons fait est d'exécuter des lignes de code les unes à la suite des autres. Mais l'objet même de la programmation est de pouvoir s'adapter au contenu des données que nous utilisons en entrée.\n",
    "\n",
    "Pour cela on a envie de faire des \"tests\", c'est-à-dire de vérifier si une condition est remplie et si c'est le cas de faire certaines actions. Revenons au marché et prenons un exemple : si il pleut nous prendrons notre parapluie et irons à pied, autrement nous irons en vélo.\n",
    "\n",
    "```\n",
    "si il pleut :\n",
    "    prendre le parapluie\n",
    "    y aller à pieds\n",
    "autrement :\n",
    "    y aller en vélo\n",
    "```"
   ]
  },
  {
   "cell_type": "markdown",
   "metadata": {},
   "source": [
    "## L'identation\n",
    "\n",
    "<img src=\"files/tab.jpg\" alt=\"tab\" width=\"200\" align=\"left\"/>\n",
    "Dans l'exemple plus haut Vous remarquerez qu'il existe un \"décalage\", un espace, entre la ligne qui contient la condition à tester et celle qui contient l'action à réaliser.\n",
    "\n",
    "C'est ce qu'on appelle **\"l'identation\"**. C'est-à-dire le fait de rajouter des espaces, ou des séries d'espace grâce à la touche \"tabulation\" pour faire ressortir des blocs de code. Les blocs peuvent être identés successivement, on parle alors de niveaux d'identation. Par exemple :"
   ]
  },
  {
   "cell_type": "raw",
   "metadata": {},
   "source": [
    "bonjour\n",
    "    voici une ligne identée\n",
    "    celle-ci aussi, nous sommes dans le premier niveau d'indentation\n",
    "        celle-là est identée par rapport à la précédente (deuxième niveau)\n",
    "        ici nous sommes toujours dans le deuxième niveau\n",
    "Et nous voici revenu à la normale"
   ]
  },
  {
   "cell_type": "markdown",
   "metadata": {},
   "source": [
    "# Tests et conditions"
   ]
  },
  {
   "cell_type": "markdown",
   "metadata": {},
   "source": [
    "## Les opérateurs de comparaison\n"
   ]
  },
  {
   "cell_type": "markdown",
   "metadata": {},
   "source": [
    "### Opérateurs usuels\n",
    "\n",
    "Python est capable de comparer différentes valeurs ou expressions entre elles. Voici une première liste des opérateurs utilisés, vous remarquerez qu'ils ressemblent beaucoup à ceux utilisés en mathématiques.\n",
    "\n",
    "- ``<`` signifie \"inférieur à\"\n",
    "- ``>`` signifie \"supérieur à\"\n",
    "- ``>=`` signifie \"supérieur ou égal à\"\n",
    "- ``<=`` signifie \"inférieur ou égal à\"\n",
    "- ``==`` signifie \"est égal à\"\n",
    "- ``!=`` signifie \"différent de\"\n",
    "\n",
    "**Note:** En informatique on distingue l'opérateur d'affectation de l'opérateur d'égalité. En effet :\n",
    "- Le signe ``==``  teste si deux expressions sont égales.\n",
    "- Le signe ``=`` affecte le contenu de l'expression de droite dans celle de gauche.\n",
    "\n",
    "Exemple :\n"
   ]
  },
  {
   "cell_type": "code",
   "execution_count": 1,
   "metadata": {},
   "outputs": [],
   "source": [
    "une_variable = 3 # Désormais cette variable vaut 3"
   ]
  },
  {
   "cell_type": "code",
   "execution_count": 2,
   "metadata": {},
   "outputs": [
    {
     "data": {
      "text/plain": [
       "True"
      ]
     },
     "execution_count": 2,
     "metadata": {},
     "output_type": "execute_result"
    }
   ],
   "source": [
    "une_variable == 3"
   ]
  },
  {
   "cell_type": "markdown",
   "metadata": {},
   "source": [
    "### Vrai ou faux ? Revoilà du binaire\n",
    "\n",
    "``True`` ?\n",
    "\n",
    "À la suite de cette comparaison, Python vient de nous retourner ``True``.\n",
    "\n",
    "Lors de l'introduction, nous avons vu que le concept de vrai ou faux est ancré au coeur même de l'informatique. Nous le retrouvons ici à un niveau plus facilement compréhensible par un humain : lorsqu'on effectue une comparaison entre deux valeurs ou expressions, python génère un résultat qui est soit vrai (``True``) ou faux (``False``). Ces deux valeurs appartiennent à un nouveau type : on dit que ce sont des valeurs booléennes(``bool``).\n",
    "\n",
    "**Note**\n",
    "\n",
    "- Attention la majuscule à ``True`` et ``False`` est très importante ! Sans cela Python pensera que vous parlez d'une variable.\n",
    "- Les mots réservés de Python, comme ceux-ci, apparaissent en vert dans Jupyter Lab.\n",
    "\n",
    "Vérifions cela par nous-même :"
   ]
  },
  {
   "cell_type": "code",
   "execution_count": 3,
   "metadata": {},
   "outputs": [
    {
     "data": {
      "text/plain": [
       "bool"
      ]
     },
     "execution_count": 3,
     "metadata": {},
     "output_type": "execute_result"
    }
   ],
   "source": [
    "type(True)"
   ]
  },
  {
   "cell_type": "code",
   "execution_count": 4,
   "metadata": {},
   "outputs": [
    {
     "data": {
      "text/plain": [
       "bool"
      ]
     },
     "execution_count": 4,
     "metadata": {},
     "output_type": "execute_result"
    }
   ],
   "source": [
    "type(False)"
   ]
  },
  {
   "cell_type": "markdown",
   "metadata": {},
   "source": [
    "Et examinons quelques exemples :"
   ]
  },
  {
   "cell_type": "code",
   "execution_count": 5,
   "metadata": {},
   "outputs": [
    {
     "data": {
      "text/plain": [
       "False"
      ]
     },
     "execution_count": 5,
     "metadata": {},
     "output_type": "execute_result"
    }
   ],
   "source": [
    "une_variable = 3 # Désormais cette variable vaut 3\n",
    "une_variable == 4"
   ]
  },
  {
   "cell_type": "code",
   "execution_count": 6,
   "metadata": {},
   "outputs": [
    {
     "data": {
      "text/plain": [
       "True"
      ]
     },
     "execution_count": 6,
     "metadata": {},
     "output_type": "execute_result"
    }
   ],
   "source": [
    "3 == 3"
   ]
  },
  {
   "cell_type": "code",
   "execution_count": 7,
   "metadata": {},
   "outputs": [
    {
     "data": {
      "text/plain": [
       "False"
      ]
     },
     "execution_count": 7,
     "metadata": {},
     "output_type": "execute_result"
    }
   ],
   "source": [
    "3 == 4"
   ]
  },
  {
   "cell_type": "code",
   "execution_count": 8,
   "metadata": {},
   "outputs": [
    {
     "data": {
      "text/plain": [
       "True"
      ]
     },
     "execution_count": 8,
     "metadata": {},
     "output_type": "execute_result"
    }
   ],
   "source": [
    "38 >= 12 "
   ]
  },
  {
   "cell_type": "code",
   "execution_count": 9,
   "metadata": {},
   "outputs": [
    {
     "data": {
      "text/plain": [
       "False"
      ]
     },
     "execution_count": 9,
     "metadata": {},
     "output_type": "execute_result"
    }
   ],
   "source": [
    "12 < 8"
   ]
  },
  {
   "cell_type": "code",
   "execution_count": 10,
   "metadata": {},
   "outputs": [
    {
     "data": {
      "text/plain": [
       "True"
      ]
     },
     "execution_count": 10,
     "metadata": {},
     "output_type": "execute_result"
    }
   ],
   "source": [
    "12 <= 12"
   ]
  },
  {
   "cell_type": "code",
   "execution_count": 11,
   "metadata": {},
   "outputs": [
    {
     "data": {
      "text/plain": [
       "True"
      ]
     },
     "execution_count": 11,
     "metadata": {},
     "output_type": "execute_result"
    }
   ],
   "source": [
    "9 != 8"
   ]
  },
  {
   "cell_type": "code",
   "execution_count": 12,
   "metadata": {},
   "outputs": [
    {
     "data": {
      "text/plain": [
       "False"
      ]
     },
     "execution_count": 12,
     "metadata": {},
     "output_type": "execute_result"
    }
   ],
   "source": [
    "22 != 22"
   ]
  },
  {
   "cell_type": "markdown",
   "metadata": {},
   "source": [
    "Par \"expression\" on entend tout objet pouvant être évalué, comme une variable, un caractère, un nombre, ainsi que leur association, par exemple en utilisant des parenthèses. Ex:"
   ]
  },
  {
   "cell_type": "code",
   "execution_count": 13,
   "metadata": {},
   "outputs": [
    {
     "data": {
      "text/plain": [
       "True"
      ]
     },
     "execution_count": 13,
     "metadata": {},
     "output_type": "execute_result"
    }
   ],
   "source": [
    "(une_variable + 3) == (2 + 2 * 2)"
   ]
  },
  {
   "cell_type": "code",
   "execution_count": 14,
   "metadata": {},
   "outputs": [
    {
     "data": {
      "text/plain": [
       "True"
      ]
     },
     "execution_count": 14,
     "metadata": {},
     "output_type": "execute_result"
    }
   ],
   "source": [
    "(une_variable * une_variable) == 9"
   ]
  },
  {
   "cell_type": "code",
   "execution_count": 15,
   "metadata": {},
   "outputs": [
    {
     "data": {
      "text/plain": [
       "False"
      ]
     },
     "execution_count": 15,
     "metadata": {},
     "output_type": "execute_result"
    }
   ],
   "source": [
    "(une_variable * une_variable) == 9.00000000000001"
   ]
  },
  {
   "cell_type": "markdown",
   "metadata": {},
   "source": [
    "## L'instruction \"if\"\n",
    "\n",
    "L'instruction \"if\", qui signifie \"si\" en anglais, permet d'exécuter du code quand une comparaison retourne ``True``. Quand on utilise ``if``, le bloc exécuté doit être **indenté**, c'est-à-dire décalé du reste du texte.\n",
    "\n",
    "Exemple :\n"
   ]
  },
  {
   "cell_type": "code",
   "execution_count": 16,
   "metadata": {},
   "outputs": [
    {
     "name": "stdout",
     "output_type": "stream",
     "text": [
      "Oui, cette variable est bien égale à trois. Car la condition 'une_variable == 3' retourne 'true'\n"
     ]
    }
   ],
   "source": [
    "une_variable == 3 # On affecte trois à notre variable\n",
    "\n",
    "if une_variable == 3:\n",
    "    print(\"Oui, cette variable est bien égale à trois. Car la condition 'une_variable == 3' retourne 'true'\")"
   ]
  },
  {
   "cell_type": "markdown",
   "metadata": {},
   "source": [
    "Mais cela marche également pour les chaînes de caractères."
   ]
  },
  {
   "cell_type": "code",
   "execution_count": 17,
   "metadata": {},
   "outputs": [
    {
     "name": "stdout",
     "output_type": "stream",
     "text": [
      "Ce légume a un label AB\n"
     ]
    }
   ],
   "source": [
    "label = \"Agriculture Biologique\"\n",
    "\n",
    "if label == \"Agriculture Biologique\":\n",
    "    print(\"Ce légume a un label AB\")"
   ]
  },
  {
   "cell_type": "markdown",
   "metadata": {},
   "source": [
    "## l'instruction \"else\"\n",
    "\n",
    "L'instruction ``else`` qui signifie \"autrement\" en anglais, permet d'exécuter du code lorsque la condition du ``if`` n'est pas vérifiée.\n",
    "\n",
    "**Note:**:\n",
    "- Remarquez dans l'exemple suivant comment le ``#`` permet également de passer des lignes de code en commentaire et donc de ne pas les exécuter. Si jamais on veut modifier la valeur \"pluie\" de la variable météo, il suffit de retirer le ``#``)\n",
    "\n",
    "Exemple :"
   ]
  },
  {
   "cell_type": "code",
   "execution_count": 18,
   "metadata": {},
   "outputs": [
    {
     "name": "stdout",
     "output_type": "stream",
     "text": [
      "Il pleut ! Prends un parapluie !\n",
      "Et vas-y à pieds.\n"
     ]
    }
   ],
   "source": [
    "meteo = \"pluie\"\n",
    "#meteo = \"soleil\"\n",
    "\n",
    "if meteo == \"pluie\" :\n",
    "    print(\"Il pleut ! Prends un parapluie !\")\n",
    "    print(\"Et vas-y à pieds.\")\n",
    "else:\n",
    "    print(\"Il y a du soleil, vas-y en vélo !\")"
   ]
  },
  {
   "cell_type": "markdown",
   "metadata": {},
   "source": [
    "## l'instruction \"elif\"\n",
    "\n",
    "L'instruction ``elif`` qui est la contraction de \"else if\" et signifie \"autrement si\" en anglais, permet d'exécuter du code lorsque la condition du premier ``if`` n'est pas vérifiée, mais qu'une autre condition l'est. Par exemple :\n"
   ]
  },
  {
   "cell_type": "markdown",
   "metadata": {},
   "source": [
    "Un exemple avec des nombres, imaginons que nous voulions commenter la note d'un élève à un examen. Vous noterez qu'avec ``elif`` dès que la condition est remplie le programme cesse de s'exécuter. Si nous n'avions utilisé que des ``if`` le programme aurait affiché toutes les réponses inférieures à la note."
   ]
  },
  {
   "cell_type": "code",
   "execution_count": 19,
   "metadata": {},
   "outputs": [
    {
     "name": "stdout",
     "output_type": "stream",
     "text": [
      "Aïe !\n"
     ]
    }
   ],
   "source": [
    "note = 5\n",
    "\n",
    "if note > 20:\n",
    "    print(\"Menteur !\")\n",
    "elif note == 20:\n",
    "    print(\"parfait !\")\n",
    "elif note >= 15:\n",
    "    print(\"Très bien !\")\n",
    "elif note >= 10:\n",
    "    print(\"Pas mal...\")\n",
    "elif note >= 5:\n",
    "    print(\"Aïe !\")\n",
    "elif note >= 0:\n",
    "    print(\"Catastrophe !\")\n",
    "else:\n",
    "    print(\"Impossible !\")"
   ]
  },
  {
   "cell_type": "markdown",
   "metadata": {},
   "source": [
    "## Exercice (facile)\n",
    "\n",
    "Lors de votre marché, vous apercevez des affiches pour les élections municipales.\n",
    "\n",
    "Écrivez un programme qui prend en entrée l'âge d'une personne dans une variable nommée \"age\". Si la personne est âgée de plus de 18 ans, utilisez ``print()`` pour lui indiquer qu'elle a le droit de voter aux élections municipales. Dans le cas contraire indiquez-lui qu'elle est trop jeune. Si la personne a plus de 122 ans, [record mondial de longévité](https://fr.wikipedia.org/wiki/Jeanne_Calment), ou moins de 0 ans, envoyez un message d'erreur en précisant que cet âge est impossible et en détaillant les raisons. Testez toutes les possibilités pour s'assurer que le programme marche correctement."
   ]
  },
  {
   "cell_type": "markdown",
   "metadata": {},
   "source": [
    "# Portes logiques\n",
    "\n",
    "Il peut arriver que nous voulions vérifier plusieurs si deux, ou plus, conditions sont simultanément remplies ou juste l'une d'entre elles. Il existe pour cela des opérateurs très pratiques :\n",
    "\n",
    "- ``and``: qui signifie \"ET\"\n",
    "- ``or``: qui signifie \"OR\"\n",
    "\n",
    "Si vous vous souvenez de l'introduction, vous vous souvenez sans doute de ce petit tableau :\n",
    "\n",
    "| A | B | A ET B | A OU B |\n",
    "|:-:|:-:|:------:|:------:|\n",
    "| 0 | 0 |    0   |    0   |\n",
    "| 1 | 0 |    0   |    1   |\n",
    "| 0 | 1 |    0   |    1   |\n",
    "| 1 | 1 |    1   |    1   |\n",
    "\n",
    "Celui-ci indiquait le comportement de deux opérateurs \"ET\" et \"OU\". Nous allons réutiliser ce concept ici."
   ]
  },
  {
   "cell_type": "markdown",
   "metadata": {},
   "source": [
    "## \"ET\" (``and``) et \"OU\" (``or``)"
   ]
  },
  {
   "cell_type": "markdown",
   "metadata": {},
   "source": [
    "### \"ET\" (``and``)\n",
    "\n",
    "Vous regardez votre panier de légumes et vous vous demandez quelles recettes vous allez bien pouvoir mijoter ce soir :\n",
    "    \n",
    "**REMARQUES**:\n",
    "- Remarquez que si la ligne à exécuter ne contient qu'une seule instruction nous ne sommes pas obligés de l'indenter et nous pouvons la rajouter à la fin du if.\n",
    "- L'utilisation de parenthèse pour délimiter les expressions est facultative dans le cas présent, mais il est recommandé de le faire pour des questions de clarté et pour être sûr que le code va s'exécuter comme on le souhaite."
   ]
  },
  {
   "cell_type": "code",
   "execution_count": 20,
   "metadata": {},
   "outputs": [
    {
     "name": "stdout",
     "output_type": "stream",
     "text": [
      "Tu peux faire une omelette aux courgettes\n"
     ]
    }
   ],
   "source": [
    "nombre_de_courgettes =  5\n",
    "nombre_d_oeufs = 2\n",
    "\n",
    "if (nombre_de_courgettes >= 1) and (nombre_d_oeufs >= 2): print(\"Tu peux faire une omelette aux courgettes\")"
   ]
  },
  {
   "cell_type": "markdown",
   "metadata": {},
   "source": [
    "### \"OU\" (``or``)"
   ]
  },
  {
   "cell_type": "markdown",
   "metadata": {},
   "source": [
    "Vous regardez votre panier de légumes et vous vous demandez quelles recettes vous allez bien pouvoir mijoter ce soir :\n",
    "    \n",
    "**REMARQUES**:\n",
    "- Remarquez que si la ligne à exécuter ne contient qu'une seule instruction nous ne sommes pas obligés de l'indenter et nous pouvons la rajouter à la fin du if.\n",
    "- L'utilisation de parenthèse pour délimiter les expressions est facultative, mais il est recommandé de le faire pour des questions de clarté et pour être sûr que le code va s'exécuter comme on le souhaite."
   ]
  },
  {
   "cell_type": "markdown",
   "metadata": {},
   "source": [
    "### Exercice (facile)\n",
    "\n",
    "A partir de l'exemple ci-dessous, ajoutez une nouvelle recette qui a aosbolument besoin d'un type d'ingrédients, mais dont le deuxième peut être au choix :"
   ]
  },
  {
   "cell_type": "code",
   "execution_count": 21,
   "metadata": {},
   "outputs": [
    {
     "name": "stdout",
     "output_type": "stream",
     "text": [
      "Tu peux faire une petite omelette aux courgettes\n",
      "Tu peux faire des courgettes et/ou tomates à la provençale\n"
     ]
    }
   ],
   "source": [
    "nombre_de_courgettes =  3\n",
    "nombre_d_oeufs = 2\n",
    "nombre_de_tomates = 0\n",
    "\n",
    "if (nombre_de_courgettes >= 2) and (nombre_d_oeufs >= 4): print(\"Tu peux faire une grande omelette aux courgettes\")\n",
    "elif (nombre_de_courgettes >= 1) and (nombre_d_oeufs >= 2): print(\"Tu peux faire une petite omelette aux courgettes\")\n",
    "    \n",
    "if (nombre_de_courgettes >= 2) or (nombre_de_tomates >= 2): print(\"Tu peux faire des courgettes et/ou tomates à la provençale\")"
   ]
  },
  {
   "cell_type": "code",
   "execution_count": null,
   "metadata": {},
   "outputs": [],
   "source": []
  },
  {
   "cell_type": "code",
   "execution_count": null,
   "metadata": {},
   "outputs": [],
   "source": []
  },
  {
   "cell_type": "code",
   "execution_count": null,
   "metadata": {},
   "outputs": [],
   "source": []
  },
  {
   "cell_type": "markdown",
   "metadata": {},
   "source": [
    "# A virer ?"
   ]
  },
  {
   "cell_type": "code",
   "execution_count": null,
   "metadata": {},
   "outputs": [],
   "source": [
    "meteo = \"pluie\"\n",
    "#meteo = \"soleil\"\n",
    "#meteo = \"verglas\"\n",
    "#meteo = \"\"\n",
    "\n",
    "if meteo == \"pluie\" :\n",
    "    print(\"Prends un parapluie !\")\n",
    "    print(\"Et vas-y à pieds.\")\n",
    "    \n",
    "elif meteo == \"verglas\":\n",
    "    print(\"Attention, ça glisse\")\n",
    "    print(\"Il serait plus sûr de prendre le bus\")\n",
    "    \n",
    "elif meteo == \"soleil\":\n",
    "    print(\"Vas-y en vélo !\")\n",
    "    \n",
    "else:\n",
    "    print(\"Pas de données ou données incomplètes !\")"
   ]
  },
  {
   "cell_type": "code",
   "execution_count": null,
   "metadata": {},
   "outputs": [],
   "source": []
  }
 ],
 "metadata": {
  "kernelspec": {
   "display_name": "Python 3",
   "language": "python",
   "name": "python3"
  },
  "language_info": {
   "codemirror_mode": {
    "name": "ipython",
    "version": 3
   },
   "file_extension": ".py",
   "mimetype": "text/x-python",
   "name": "python",
   "nbconvert_exporter": "python",
   "pygments_lexer": "ipython3",
   "version": "3.7.3"
  }
 },
 "nbformat": 4,
 "nbformat_minor": 4
}
