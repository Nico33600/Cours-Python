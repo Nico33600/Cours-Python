{
 "cells": [
  {
   "cell_type": "markdown",
   "metadata": {},
   "source": [
    "# CONDITIONS"
   ]
  },
  {
   "cell_type": "markdown",
   "metadata": {},
   "source": [
    "# Définition"
   ]
  },
  {
   "cell_type": "markdown",
   "metadata": {},
   "source": [
    "## Idée générale\n",
    "\n",
    "Les conditions permettent à nos programmes d'effectuer des opérations différentes en fonction de résultats à des tests.\n",
    "\n",
    "Voici un exemple de condition écrite en langue française mais formattée comme l'exige python.\n",
    "\n",
    "```\n",
    "si il pleut :\n",
    "    prendre le bus\n",
    "autrement :\n",
    "    y aller en vélo\n",
    "```"
   ]
  },
  {
   "cell_type": "markdown",
   "metadata": {},
   "source": [
    "## L'indentation\n",
    "\n",
    "<img src=\"files/tab.jpg\" alt=\"tab\" width=\"200\" align=\"left\"/>\n",
    "Dans l'exemple ci-dessus, vous remarquerez qu'il existe un \"décalage\", un espace, entre la ligne qui contient la condition à tester et celle qui contient l'action à réaliser.\n",
    "\n",
    "C'est ce qu'on appelle **\"l'indentation\"**. C'est-à-dire le fait de rajouter des espaces, ou des séries d'espace, grâce à la touche \"tabulation\" pour faire ressortir ce que l'on appelle des **\"blocs de code\"**. Les blocs de code peuvent être indentés successivement, on parle alors de niveaux d'indentation. Par exemple :"
   ]
  },
  {
   "cell_type": "raw",
   "metadata": {},
   "source": [
    "bonjour\n",
    "    voici une ligne indentée\n",
    "    celle-ci aussi, nous sommes dans le premier niveau d'indentation\n",
    "        celle-là est indentée par rapport à la précédente (deuxième niveau)\n",
    "        ici nous sommes toujours dans le deuxième niveau\n",
    "            Et là dans un troisième niveau !\n",
    "    nous voici de retour au premier niveau\n",
    "Et nous voici sorti du texte indenté"
   ]
  },
  {
   "cell_type": "markdown",
   "metadata": {},
   "source": [
    "Pour ajouter un niveau d'indentation il suffit de sélectionner les lignes que l'on veut indenter et d'appuyer sur la touche **\"tab\"**.\n",
    "Pour retirer un niveau d'indentation, faites la même opération mais appuyez sur **\"maj+tab\"** simultanément."
   ]
  },
  {
   "cell_type": "markdown",
   "metadata": {},
   "source": [
    "# Tests et conditions"
   ]
  },
  {
   "cell_type": "markdown",
   "metadata": {},
   "source": [
    "## Les opérateurs de comparaison\n"
   ]
  },
  {
   "cell_type": "markdown",
   "metadata": {},
   "source": [
    "### Opérateurs usuels\n",
    "\n",
    "Python est capable de comparer différentes valeurs ou expressions entre elles. Voici une première liste des opérateurs utilisés, vous remarquerez qu'ils ressemblent beaucoup à ceux utilisés en mathématiques.\n",
    "\n",
    "- ``<`` signifie \"inférieur à\"\n",
    "- ``>`` signifie \"supérieur à\"\n",
    "- ``>=`` signifie \"supérieur ou égal à\"\n",
    "- ``<=`` signifie \"inférieur ou égal à\"\n",
    "- ``==`` signifie \"est égal à\"\n",
    "- ``!=`` signifie \"différent de\"\n",
    "\n",
    "**Note:** En informatique on distingue l'opérateur d'affectation de l'opérateur d'égalité. En effet :\n",
    "- Le signe ``==``  teste si deux expressions sont égales.\n",
    "- Le signe ``=`` affecte le contenu de l'expression de droite dans celle de gauche.\n",
    "\n",
    "Exemple :\n"
   ]
  },
  {
   "cell_type": "code",
   "execution_count": null,
   "metadata": {},
   "outputs": [],
   "source": [
    "une_variable = 3 # Désormais cette variable vaut 3"
   ]
  },
  {
   "cell_type": "code",
   "execution_count": null,
   "metadata": {},
   "outputs": [],
   "source": [
    "une_variable == 3"
   ]
  },
  {
   "cell_type": "markdown",
   "metadata": {},
   "source": [
    "### Vrai ou faux ? Revoilà du binaire\n",
    "\n",
    "À la suite de cette comparaison, Python vient de nous retourner ``True``.\n",
    "\n",
    "Lors de l'introduction, nous avons vu que le concept de vrai ou faux est ancré au coeur même de l'informatique. Nous le retrouvons ici à un niveau plus facilement compréhensible par un humain : lorsqu'on effectue une comparaison entre deux valeurs ou expressions, python vous retourne un résultat qui est soit vrai (``True``) ou faux (``False``). Ces deux valeurs appartiennent à un nouveau type : on dit que ce sont des valeurs booléennes (``bool``).\n",
    "\n",
    "**Note**\n",
    "\n",
    "- Attention la majuscule à ``True`` et ``False`` est très importante ! Sans cela Python pensera que vous parlez d'une variable.\n",
    "- Les mots réservés de Python, comme ceux-ci, apparaissent en vert dans Jupyter Lab.\n",
    "\n",
    "Vérifions cela par nous-même :"
   ]
  },
  {
   "cell_type": "code",
   "execution_count": null,
   "metadata": {},
   "outputs": [],
   "source": [
    "type(True)"
   ]
  },
  {
   "cell_type": "code",
   "execution_count": null,
   "metadata": {},
   "outputs": [],
   "source": [
    "type(False)"
   ]
  },
  {
   "cell_type": "markdown",
   "metadata": {},
   "source": [
    "Et examinons quelques exemples :"
   ]
  },
  {
   "cell_type": "code",
   "execution_count": null,
   "metadata": {},
   "outputs": [],
   "source": [
    "une_variable = 3 # Désormais cette variable vaut 3\n",
    "une_variable == 4"
   ]
  },
  {
   "cell_type": "code",
   "execution_count": null,
   "metadata": {},
   "outputs": [],
   "source": [
    "3 == 3"
   ]
  },
  {
   "cell_type": "code",
   "execution_count": null,
   "metadata": {},
   "outputs": [],
   "source": [
    "3 == 4"
   ]
  },
  {
   "cell_type": "code",
   "execution_count": null,
   "metadata": {},
   "outputs": [],
   "source": [
    "38 >= 12 "
   ]
  },
  {
   "cell_type": "code",
   "execution_count": null,
   "metadata": {},
   "outputs": [],
   "source": [
    "12 < 8"
   ]
  },
  {
   "cell_type": "code",
   "execution_count": null,
   "metadata": {},
   "outputs": [],
   "source": [
    "12 <= 12"
   ]
  },
  {
   "cell_type": "code",
   "execution_count": null,
   "metadata": {},
   "outputs": [],
   "source": [
    "9 != 8"
   ]
  },
  {
   "cell_type": "code",
   "execution_count": null,
   "metadata": {},
   "outputs": [],
   "source": [
    "22 != 22"
   ]
  },
  {
   "cell_type": "markdown",
   "metadata": {},
   "source": [
    "Par \"expression\" on entend tout objet pouvant être évalué, comme une variable, un caractère, un nombre, ainsi que leur association, par exemple en utilisant des parenthèses. Ex:"
   ]
  },
  {
   "cell_type": "code",
   "execution_count": null,
   "metadata": {},
   "outputs": [],
   "source": [
    "une_variable = 3\n",
    "(une_variable + 3) == (2 + 2 * 2)"
   ]
  },
  {
   "cell_type": "code",
   "execution_count": null,
   "metadata": {},
   "outputs": [],
   "source": [
    "une_variable = 3\n",
    "(une_variable * une_variable) == 9"
   ]
  },
  {
   "cell_type": "code",
   "execution_count": null,
   "metadata": {},
   "outputs": [],
   "source": [
    "une_variable = 3\n",
    "(une_variable * une_variable) == 9.00000000000001"
   ]
  },
  {
   "cell_type": "markdown",
   "metadata": {},
   "source": [
    "## L'instruction ```if```\n",
    "\n",
    "L'instruction ```if```, qui signifie \"si\" en anglais, permet d'exécuter du code quand une comparaison retourne ``True``. Quand on utilise ``if``, le bloc exécuté doit être **indenté**.\n",
    "\n",
    "La syntaxe est la suivante:\n",
    "\n",
    "```python\n",
    "if condition:\n",
    "    instruction 1\n",
    "    instruction 2\n",
    "    instruction n\n",
    "```\n",
    "\n",
    "Notez l'usage du **\":\"** à la fin. Il indique à Python que l'instruction, ou le bloc de code d'instructions, qui suit est indenté. On peut le voir comme un équivalent d'un \"alors\" (*then*).\n",
    "Exemple :"
   ]
  },
  {
   "cell_type": "code",
   "execution_count": null,
   "metadata": {},
   "outputs": [],
   "source": [
    "une_variable = 3\n",
    "\n",
    "if une_variable == 3:\n",
    "    print(\"Cette variable est égale à trois.\")"
   ]
  },
  {
   "cell_type": "markdown",
   "metadata": {},
   "source": [
    "Mais cela marche également pour les chaînes de caractères."
   ]
  },
  {
   "cell_type": "code",
   "execution_count": null,
   "metadata": {},
   "outputs": [],
   "source": [
    "label = \"AB\"\n",
    "\n",
    "if label == \"AB\":\n",
    "    print(\"Le label est égal à AB\")"
   ]
  },
  {
   "cell_type": "markdown",
   "metadata": {},
   "source": [
    "## l'instruction \"else\"\n",
    "\n",
    "L'instruction ``else`` qui signifie \"autrement\" en anglais, permet d'exécuter du code lorsque la condition du ``if`` n'est pas vérifiée. Cette instruction fonctionne toujours en complément d'un ```if```, elle ne peut pas exister sans lui.\n",
    "\n",
    "**Note:**\n",
    "- Remarquez dans l'exemple suivant comment le ``#`` permet également de passer des lignes de code en commentaire et donc de ne pas les exécuter. Si jamais on veut modifier la valeur \"pluie\" de la variable météo, il suffit de retirer le ``#``)\n",
    "\n",
    "Reprenons l'exemple du début du cours :"
   ]
  },
  {
   "cell_type": "code",
   "execution_count": null,
   "metadata": {},
   "outputs": [],
   "source": [
    "meteo = \"pluie\"\n",
    "# meteo = \"soleil\"\n",
    "\n",
    "if meteo == \"pluie\":\n",
    "    print(\"Il pleut... Prenons le bus !\")\n",
    "else:\n",
    "    print(\"Il y a du soleil, vive le vélo !\")"
   ]
  },
  {
   "cell_type": "markdown",
   "metadata": {},
   "source": [
    "## l'instruction \"elif\"\n",
    "\n",
    "L'instruction ``elif`` qui est la contraction de \"*else if*\" et signifie \"autrement si\" en anglais, permet d'exécuter du code lorsque la condition du premier ``if`` n'est pas vérifiée, mais qu'une autre condition l'est.\n"
   ]
  },
  {
   "cell_type": "markdown",
   "metadata": {},
   "source": [
    "L'exemple suivant permet de commenter la note d'un élève à un examen. Vous noterez qu'avec ``elif`` dès que la condition est remplie le programme sort de la structure conditionnelle. Si nous n'avions utilisé que des ``if`` le programme aurait pu nous afficher des réponses multiples, ce que nous ne voulons pas."
   ]
  },
  {
   "cell_type": "code",
   "execution_count": null,
   "metadata": {},
   "outputs": [],
   "source": [
    "note = 19\n",
    "\n",
    "if note > 20:\n",
    "    print(\"Impossible\")\n",
    "elif note == 20:\n",
    "    print(\"Parfait\")\n",
    "elif note >= 10:\n",
    "    print(\"Plus de 10\")\n",
    "elif note >= 0:\n",
    "    print(\"Moins de 10\")\n",
    "else:\n",
    "    print(\"Inférieure à 0\")"
   ]
  },
  {
   "cell_type": "markdown",
   "metadata": {},
   "source": [
    "## Exercice (facile)\n",
    "\n",
    "Lors de votre marché, vous apercevez des affiches pour les élections présidentielles.\n",
    "\n",
    "Écrivez un programme qui :\n",
    "\n",
    "- Prend en entrée l'âge d'une personne dans une variable nommée \"age\".\n",
    "\n",
    "- Si la personne a plus de 122 ans, [record mondial de longévité](https://fr.wikipedia.org/wiki/Jeanne_Calment), dites-lui que son âge n'est pas crédible.\n",
    "\n",
    "- Si la personne est âgée de plus de 18 ans, utilisez ``print()`` pour lui indiquer qu'elle a le droit de voter aux élections présidentielles.\n",
    "\n",
    "- Si la personne a moins de 18 ans indiquez-lui qu'elle est n'a pas le droit de vote.\n",
    "\n",
    "- Si la personne a 0 ans ou moins, dites-lui que cet âge est impossible.\n",
    "\n",
    "Ecrivez le programme pas-à-pas en le lançant régulièrement pour vérifier que tout fonctionne correctement.\n",
    "\n",
    "**Note:**\n",
    "- Remarquez que l'ordre dans lequel vous allez tester les différents cas de figure joue un rôle crucial dans le résultat final."
   ]
  },
  {
   "cell_type": "code",
   "execution_count": null,
   "metadata": {},
   "outputs": [],
   "source": [
    "# Tapez votre code ici"
   ]
  },
  {
   "cell_type": "markdown",
   "metadata": {},
   "source": [
    "# Portes logiques\n",
    "\n",
    "Il peut arriver que nous voulions vérifier si plusieurs conditions, ou juste l'une d'entre elles, sont simultanément remplies. Il existe pour cela des opérateurs très pratiques :\n",
    "\n",
    "- ``and``: qui signifie \"ET\"\n",
    "- ``or``: qui signifie \"OU\"\n",
    "\n",
    "Si vous vous souvenez de l'introduction, vous vous souvenez sans doute de ce petit tableau :\n",
    "\n",
    "| A | B | A ET B | A OU B |\n",
    "|:-:|:-:|:------:|:------:|\n",
    "| 0 | 0 |    0   |    0   |\n",
    "| 1 | 0 |    0   |    1   |\n",
    "| 0 | 1 |    0   |    1   |\n",
    "| 1 | 1 |    1   |    1   |\n",
    "\n",
    "Celui-ci indiquait le comportement de deux opérateurs \"ET\" et \"OU\". Nous allons réutiliser ces concepts ici."
   ]
  },
  {
   "cell_type": "markdown",
   "metadata": {},
   "source": [
    "## Les opérateurs \"ET\" (``and``) et \"OU\" (``or``)"
   ]
  },
  {
   "cell_type": "markdown",
   "metadata": {},
   "source": [
    "Lorsqu'on exécute des comparaisons, Python va d'abord évaluer si chacune des expressions est vraie ou fausse avant de les évaluer entre elles."
   ]
  },
  {
   "cell_type": "markdown",
   "metadata": {},
   "source": [
    "### \"ET\" (``and``)\n",
    "\n",
    "Vous examinez votre panier de légumes et vous vous demandez si vous avez suffisament de chaque légume.\n",
    "    \n",
    "**REMARQUES**:\n",
    "- L'utilisation de parenthèse pour délimiter les expressions est facultative dans le cas présent, mais il est recommandé de le faire pour des questions de clarté et pour être sûr que le code va s'exécuter comme on le souhaite."
   ]
  },
  {
   "cell_type": "code",
   "execution_count": 1,
   "metadata": {},
   "outputs": [
    {
     "name": "stdout",
     "output_type": "stream",
     "text": [
      "Dans le panier il y a au moins 3 légumes de chaque type.\n"
     ]
    }
   ],
   "source": [
    "c = 5 # courgettes\n",
    "a = 12 # aubergines\n",
    "\n",
    "if c >= 3 and a >= 3:\n",
    "    print(\"Dans le panier il y a au moins 3 légumes de chaque type.\")"
   ]
  },
  {
   "cell_type": "markdown",
   "metadata": {},
   "source": [
    "L'expression s'affiche puisqu'il suffit que l'une des deux expressions soit ``True`` pour que le ``or`` retourne ``True``. Rappellez-vous :\n",
    "\n",
    "```\n",
    "vrai ET vrai -> vrai\n",
    "vrai ET faux -> faux\n",
    "faux ET vrai -> faux\n",
    "faux ET faux -> faux\n",
    "\n",
    "```"
   ]
  },
  {
   "cell_type": "markdown",
   "metadata": {},
   "source": [
    "### \"OU\" (``or``)\n",
    "\n",
    "Désormais vous désirez savoir si vous avez au moins 3 courgettes ou 3 aubergines dans votre panier."
   ]
  },
  {
   "cell_type": "code",
   "execution_count": 2,
   "metadata": {},
   "outputs": [
    {
     "name": "stdout",
     "output_type": "stream",
     "text": [
      "Dans le panier il y a au moins 3 courgettes ou 3 aubergines\n"
     ]
    }
   ],
   "source": [
    "c = 12 # courgettes\n",
    "a = 0 # aubergines\n",
    "\n",
    "if (c >= 3) or (a >= 3):\n",
    "    print(\"Dans le panier il y a au moins 3 courgettes ou 3 aubergines\")"
   ]
  },
  {
   "cell_type": "markdown",
   "metadata": {},
   "source": [
    "L'expression s'affiche puisqu'il suffit que l'une des deux expressions soit ``True`` pour que le ``or`` retourne ``True``. Rappellez-vous :\n",
    "\n",
    "```\n",
    "vrai OU vrai -> vrai\n",
    "vrai OU faux -> vrai\n",
    "faux OU vrai -> vrai\n",
    "faux OU faux -> faux\n",
    "\n",
    "```\n"
   ]
  },
  {
   "cell_type": "markdown",
   "metadata": {},
   "source": [
    "## Exercice (facile)\n",
    "\n",
    "A partir de l'exemple ci-dessous, complétez la dernière recette, \"l'omelette aux légumes\", qui nécessite :\n",
    "- Au moins 3 oeufs.\n",
    "- Le deuxième ingrédient peut être au choix au moins 2 aubergines, ou au moins 3 courgettes ou au moins 4 tomates.\n",
    "\n",
    "Si c'est le cas affichez le message suivant :\n",
    "\n",
    "```python\n",
    "\"On peut cuisiner une omelette aux légumes !\"\n",
    "```\n",
    "\n",
    "**ASTUCE**:\n",
    "\n",
    "- Vous n'avez besoin que de deux lignes de code.\n",
    "- Vous devez combiner un ``and`` et un ``or`` dans la même condition."
   ]
  },
  {
   "cell_type": "code",
   "execution_count": null,
   "metadata": {},
   "outputs": [],
   "source": [
    "# Dans mon panier il y a :\n",
    "c =  3 # courgettes\n",
    "a = 3 # aubergines\n",
    "o = 3 # oeufs\n",
    "t = 4 # tomates\n",
    "\n",
    "# omelette à la courgette\n",
    "if c >= 2 and o >= 4:\n",
    "    print(\"Grande omelette aux courgettes\")\n",
    "elif c >= 1 and o >= 2:\n",
    "    print(\"Petite omelette aux courgettes\")\n",
    "\n",
    "# Troisième recette. Tapez votre code ici :"
   ]
  },
  {
   "cell_type": "markdown",
   "metadata": {},
   "source": [
    "## L'évaluation d'une condition\n",
    "\n",
    "Comme vu précédemment, à chaque fois que l'on écrit une condition python évalue cette expression et lui attribue une valeur : ``True`` si c'est vrai et ``False`` si c'est faux. On peut s'en assurer en faisant des tests dans Python :"
   ]
  },
  {
   "cell_type": "code",
   "execution_count": null,
   "metadata": {},
   "outputs": [],
   "source": [
    "True and False"
   ]
  },
  {
   "cell_type": "code",
   "execution_count": null,
   "metadata": {},
   "outputs": [],
   "source": [
    "(True and False) and (True or False)"
   ]
  },
  {
   "cell_type": "code",
   "execution_count": null,
   "metadata": {},
   "outputs": [],
   "source": [
    "(True and False) or (True or False)"
   ]
  },
  {
   "cell_type": "code",
   "execution_count": null,
   "metadata": {},
   "outputs": [],
   "source": [
    "((True or False) or (True and False)) or (True and (True and False))"
   ]
  },
  {
   "cell_type": "markdown",
   "metadata": {},
   "source": [
    "## Structures conditionnelles imbriquées\n",
    "\n",
    "Il est tout à fait possible d'imbriquer des ``if`` entre eux afin de ne pas répéter des tests inutilement.\n",
    "Par exemple :"
   ]
  },
  {
   "cell_type": "code",
   "execution_count": null,
   "metadata": {},
   "outputs": [],
   "source": [
    "epargne = 130000\n",
    "prix_maison = 150000\n",
    "\n",
    "if epargne < prix_maison:\n",
    "    print(\"Vous allez avoir besoin d'un crédit\")\n",
    "    \n",
    "    if prix_maison - epargne <= 50000:\n",
    "        print(\"Nous avons des taux très intéressants pour les crédits inférieurs à 50 000€\")\n",
    "    else:\n",
    "        print(\"Le crédit est supérieur à 50 000€, vous ne pouvez pas bénéficier de notre offre.\")\n",
    "else:\n",
    "    print(\"Vous pouvez acheter la maison sans faire de crédit !\")"
   ]
  },
  {
   "cell_type": "markdown",
   "metadata": {},
   "source": [
    "## Exercice (moyen)\n",
    "\n",
    "Soit un triangle composé de 3 segments différents : a, b et c.\n",
    "\n",
    "```\n",
    "     /\\\n",
    " a  /  \\   b\n",
    "   /    \\\n",
    "  /      \\\n",
    "  ͞ ͞͞ ͞ ͞ ͞ ͞ ͞ ͞\n",
    "     c\n",
    "```\n",
    "\n",
    "Utilisez des ``if``, ``elif`` et ``else`` en les imbriquant si nécessaire afin de créer un programme qui:\n",
    "\n",
    "- Affiche \"Valide\" si le triangle est valide et \"Non valide\" si le triangle ne l'est pas. Rappel : pour vérifier qu'un triangle est valide il faut que la somme de deux côtés soit toujours plus grande que le troisième. donc que :\n",
    "\n",
    "```python\n",
    "    a + b > c\n",
    "    a + c > b\n",
    "    b + c > a\n",
    "```\n",
    "\n",
    "- Une fois que l'on sait que le triangle est valide :\n",
    "    - Affiche \"Equilatéral\" si le triangle est valide et équilatéral (trois côté égaux).\n",
    "    - Affiche \"Isocèle\" si le triangle est valide et isocèle (deux côtés égaux).\n",
    "    - Affiche \"Quelconque\" si le triangle est valide mais ni isocèle ni équilatéral.\n",
    "\n",
    "Faites varier les valeurs de a, b et c pour vérifier que tout fonctionne correctement.\n",
    "\n",
    "**ASTUCES**:\n",
    "\n",
    "- Ne testez pas à chaque fois si le triangle est valide ou non ! Imbriquez les tests sur la nature du triangle dans le premier test de validité. C'est à dire que vous testerez d'abord si le triangle est valide, si c'est le cas vous effectuerez d'autres tests pour déterminer sa nature. Si ce n'est pas le cas, le programme s'achève après avoir indiqué que le triangle n'est pas valide.\n",
    "- Vous pouvez tester avec un triangle équilatéral (ex: a = 5, b = 5 et c = 5), isocèle (ex: a = 3, b = 5 et c = 5) ou quelconque (ex: a = 3, b = 5, c = 6)."
   ]
  },
  {
   "cell_type": "code",
   "execution_count": null,
   "metadata": {},
   "outputs": [],
   "source": [
    "a = 3\n",
    "b = 5\n",
    "c = 5\n",
    "\n",
    "# Tapez votre code ici :\n"
   ]
  },
  {
   "cell_type": "markdown",
   "metadata": {},
   "source": [
    "## Pour aller plus loin"
   ]
  },
  {
   "cell_type": "markdown",
   "metadata": {},
   "source": [
    "### Une nouvelle fonction : ``round()``\n",
    "\n",
    "La fonction ``round()`` permet d'arrondir un nombre. Elle prend deux paramètres en entrée : le nombre à arrondir et le nombre de décimales désiré. Par défaut elle l'arrondit à l'entier supérieur ou inférieur. Exemple :"
   ]
  },
  {
   "cell_type": "code",
   "execution_count": null,
   "metadata": {},
   "outputs": [],
   "source": [
    "# Sans paramètre, round() arrondit au nombre entier\n",
    "round(3.14159)"
   ]
  },
  {
   "cell_type": "code",
   "execution_count": null,
   "metadata": {},
   "outputs": [],
   "source": [
    "# Mais on peut lui préciser le nombre de décimales voulues, ici 2 décimales.\n",
    "round(3.14159, 2)"
   ]
  },
  {
   "cell_type": "code",
   "execution_count": null,
   "metadata": {},
   "outputs": [],
   "source": [
    "# Et là 4 décimales.\n",
    "round(3.14159, 4)"
   ]
  },
  {
   "cell_type": "markdown",
   "metadata": {},
   "source": [
    "### Exercice (moyen / difficile)\n",
    "\n",
    "En reprenant l'exercice précédent, ajoutez les tests nécessaires pour s'assurer que le triangle est bien rectangle. Il faut donc que le programme :\n",
    "\n",
    "- Affiche \"Valide\" si le triangle est valide et \"Non valide\" si le triangle ne l'est pas. Rappel : pour vérifier qu'un triangle est valide il faut que la somme de deux côtés soit toujours plus grande que le troisième. donc que :\n",
    "\n",
    "```python\n",
    "    a + b > c\n",
    "    a + c > b\n",
    "    b + c > a\n",
    "```\n",
    "\n",
    "- Affiche \"Equilatéral\" si le triangle est valide et équilatéral.\n",
    "- Affiche \"Isocèle\" si le triangle est valide et isocèle.\n",
    "- Affiche \"Isocèle et rectangle\" si il est isocèle et rectangle. Rappel : pour tester si un triangle est rectangle il faut que l'une de ces trois égalités soit vraie :\n",
    "\n",
    "```python\n",
    "    a² + b² = c²\n",
    "    a² + c² = b²\n",
    "    b² + c² = a²\n",
    "```\n",
    "\n",
    "- Affiche \"Rectangle\" si le triangle est valide mais simplement rectangle.\n",
    "\n",
    "- Affiche \"Quelconque\" si le triangle est valide mais sans propriété particulière.\n",
    "\n",
    "Faites varier les valeurs de a, b et c pour vérifier que tout fonctionne correctement.\n",
    "\n",
    "**ASTUCES**:\n",
    "\n",
    "- En python le carré s'écrit puissance 2, c'est-à-dire ``**2``.\n",
    "- Un triangle peut être rectangle ET isocèle. Adaptez votre code en fonction de ce cas particulier.\n",
    "- Comme il n'existe aucun triangle rectangle isocèle dont la longueur des trois côtés sont des entiers, on ne peut pas vérifier cette égalité sauf à arrondir les résultats. Dans ce cas là, il faut placer chaque terme de l'égalité dans un ``round()``. Ceci fonctionne par exemple avec un triangle de taille a = 6, b = 6, c = 8.48)."
   ]
  },
  {
   "cell_type": "code",
   "execution_count": null,
   "metadata": {},
   "outputs": [],
   "source": [
    "a = 6\n",
    "b = 6\n",
    "c = 8.48\n",
    "\n",
    "# Tapez votre code ici:\n"
   ]
  }
 ],
 "metadata": {
  "kernelspec": {
   "display_name": "Python 3 (ipykernel)",
   "language": "python",
   "name": "python3"
  },
  "language_info": {
   "codemirror_mode": {
    "name": "ipython",
    "version": 3
   },
   "file_extension": ".py",
   "mimetype": "text/x-python",
   "name": "python",
   "nbconvert_exporter": "python",
   "pygments_lexer": "ipython3",
   "version": "3.8.5"
  }
 },
 "nbformat": 4,
 "nbformat_minor": 4
}
