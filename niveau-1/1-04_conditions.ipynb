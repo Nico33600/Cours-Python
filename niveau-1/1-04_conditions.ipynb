{
 "cells": [
  {
   "cell_type": "markdown",
   "metadata": {},
   "source": [
    "LES CONDITIONS"
   ]
  },
  {
   "cell_type": "markdown",
   "metadata": {},
   "source": [
    "# Définition"
   ]
  },
  {
   "cell_type": "markdown",
   "metadata": {},
   "source": [
    "## Idée générale\n",
    "Pour l'instant tout ce que nous avons fait est d'exécuter des lignes de code les unes à la suite des autres. Mais l'objet même de la programmation est de pouvoir s'adapter au contenu des données que nous utilisons en entrée.\n",
    "\n",
    "Pour cela on a envie de faire des \"tests\", c'est-à-dire de vérifier si une condition est remplie et si c'est le cas de faire certaines actions. Revenons à notre marché de fruits et légumes et prenons un exemple : si il pleut nous prendrons notre parapluie et irons à pied, autrement nous irons en vélo.\n",
    "\n",
    "```\n",
    "si il pleut :\n",
    "    prendre le parapluie\n",
    "    y aller à pieds\n",
    "autrement :\n",
    "    y aller en vélo\n",
    "```"
   ]
  },
  {
   "cell_type": "markdown",
   "metadata": {},
   "source": [
    "## L'indentation\n",
    "\n",
    "<img src=\"files/tab.jpg\" alt=\"tab\" width=\"200\" align=\"left\"/>\n",
    "Dans l'exemple plus haut Vous remarquerez qu'il existe un \"décalage\", un espace, entre la ligne qui contient la condition à tester et celle qui contient l'action à réaliser.\n",
    "\n",
    "C'est ce qu'on appelle **\"l'indentation\"**. C'est-à-dire le fait de rajouter des espaces, ou des séries d'espace grâce à la touche \"tabulation\" pour faire ressortir des blocs de code. Les blocs peuvent être indentés successivement, on parle alors de niveaux d'indentation. Par exemple :"
   ]
  },
  {
   "cell_type": "raw",
   "metadata": {},
   "source": [
    "bonjour\n",
    "    voici une ligne indentée\n",
    "    celle-ci aussi, nous sommes dans le premier niveau d'indentation\n",
    "        celle-là est indentée par rapport à la précédente (deuxième niveau)\n",
    "        ici nous sommes toujours dans le deuxième niveau\n",
    "Et nous voici sorti du texte indenté"
   ]
  },
  {
   "cell_type": "markdown",
   "metadata": {},
   "source": [
    "# Tests et conditions"
   ]
  },
  {
   "cell_type": "markdown",
   "metadata": {},
   "source": [
    "## Les opérateurs de comparaison\n"
   ]
  },
  {
   "cell_type": "markdown",
   "metadata": {},
   "source": [
    "### Opérateurs usuels\n",
    "\n",
    "Python est capable de comparer différentes valeurs ou expressions entre elles. Voici une première liste des opérateurs utilisés, vous remarquerez qu'ils ressemblent beaucoup à ceux utilisés en mathématiques.\n",
    "\n",
    "- ``<`` signifie \"inférieur à\"\n",
    "- ``>`` signifie \"supérieur à\"\n",
    "- ``>=`` signifie \"supérieur ou égal à\"\n",
    "- ``<=`` signifie \"inférieur ou égal à\"\n",
    "- ``==`` signifie \"est égal à\"\n",
    "- ``!=`` signifie \"différent de\"\n",
    "\n",
    "**Note:** En informatique on distingue l'opérateur d'affectation de l'opérateur d'égalité. En effet :\n",
    "- Le signe ``==``  teste si deux expressions sont égales.\n",
    "- Le signe ``=`` affecte le contenu de l'expression de droite dans celle de gauche.\n",
    "\n",
    "Exemple :\n"
   ]
  },
  {
   "cell_type": "code",
   "execution_count": null,
   "metadata": {},
   "outputs": [],
   "source": [
    "une_variable = 3 # Désormais cette variable vaut 3"
   ]
  },
  {
   "cell_type": "code",
   "execution_count": null,
   "metadata": {},
   "outputs": [],
   "source": [
    "une_variable == 3"
   ]
  },
  {
   "cell_type": "markdown",
   "metadata": {},
   "source": [
    "### Vrai ou faux ? Revoilà du binaire\n",
    "\n",
    "``True`` ?\n",
    "\n",
    "À la suite de cette comparaison, Python vient de nous retourner ``True``.\n",
    "\n",
    "Lors de l'introduction, nous avons vu que le concept de vrai ou faux est ancré au coeur même de l'informatique. Nous le retrouvons ici à un niveau plus facilement compréhensible par un humain : lorsqu'on effectue une comparaison entre deux valeurs ou expressions, python génère un résultat qui est soit vrai (``True``) ou faux (``False``). Ces deux valeurs appartiennent à un nouveau type : on dit que ce sont des valeurs booléennes(``bool``).\n",
    "\n",
    "**Note**\n",
    "\n",
    "- Attention la majuscule à ``True`` et ``False`` est très importante ! Sans cela Python pensera que vous parlez d'une variable.\n",
    "- Les mots réservés de Python, comme ceux-ci, apparaissent en vert dans Jupyter Lab.\n",
    "\n",
    "Vérifions cela par nous-même :"
   ]
  },
  {
   "cell_type": "code",
   "execution_count": null,
   "metadata": {},
   "outputs": [],
   "source": [
    "type(True)"
   ]
  },
  {
   "cell_type": "code",
   "execution_count": null,
   "metadata": {},
   "outputs": [],
   "source": [
    "type(False)"
   ]
  },
  {
   "cell_type": "markdown",
   "metadata": {},
   "source": [
    "Et examinons quelques exemples :"
   ]
  },
  {
   "cell_type": "code",
   "execution_count": null,
   "metadata": {},
   "outputs": [],
   "source": [
    "une_variable = 3 # Désormais cette variable vaut 3\n",
    "une_variable == 4"
   ]
  },
  {
   "cell_type": "code",
   "execution_count": null,
   "metadata": {},
   "outputs": [],
   "source": [
    "3 == 3"
   ]
  },
  {
   "cell_type": "code",
   "execution_count": null,
   "metadata": {},
   "outputs": [],
   "source": [
    "3 == 4"
   ]
  },
  {
   "cell_type": "code",
   "execution_count": null,
   "metadata": {},
   "outputs": [],
   "source": [
    "38 >= 12 "
   ]
  },
  {
   "cell_type": "code",
   "execution_count": null,
   "metadata": {},
   "outputs": [],
   "source": [
    "12 < 8"
   ]
  },
  {
   "cell_type": "code",
   "execution_count": null,
   "metadata": {},
   "outputs": [],
   "source": [
    "12 <= 12"
   ]
  },
  {
   "cell_type": "code",
   "execution_count": null,
   "metadata": {},
   "outputs": [],
   "source": [
    "9 != 8"
   ]
  },
  {
   "cell_type": "code",
   "execution_count": null,
   "metadata": {},
   "outputs": [],
   "source": [
    "22 != 22"
   ]
  },
  {
   "cell_type": "markdown",
   "metadata": {},
   "source": [
    "Par \"expression\" on entend tout objet pouvant être évalué, comme une variable, un caractère, un nombre, ainsi que leur association, par exemple en utilisant des parenthèses. Ex:"
   ]
  },
  {
   "cell_type": "code",
   "execution_count": null,
   "metadata": {},
   "outputs": [],
   "source": [
    "une_variable = 3\n",
    "(une_variable + 3) == (2 + 2 * 2)"
   ]
  },
  {
   "cell_type": "code",
   "execution_count": null,
   "metadata": {},
   "outputs": [],
   "source": [
    "une_variable = 3\n",
    "(une_variable * une_variable) == 9"
   ]
  },
  {
   "cell_type": "code",
   "execution_count": null,
   "metadata": {},
   "outputs": [],
   "source": [
    "une_variable = 3\n",
    "(une_variable * une_variable) == 9.00000000000001"
   ]
  },
  {
   "cell_type": "markdown",
   "metadata": {},
   "source": [
    "## L'instruction \"if\"\n",
    "\n",
    "L'instruction \"if\", qui signifie \"si\" en anglais, permet d'exécuter du code quand une comparaison retourne ``True``. Quand on utilise ``if``, le bloc exécuté doit être **indenté**.\n",
    "\n",
    "Exemple :\n"
   ]
  },
  {
   "cell_type": "code",
   "execution_count": null,
   "metadata": {},
   "outputs": [],
   "source": [
    "une_variable == 3 # On affecte trois à notre variable\n",
    "\n",
    "if une_variable == 3:\n",
    "    print(\"Oui, cette variable est bien égale à trois. Car la condition 'une_variable == 3' retourne 'True'\")"
   ]
  },
  {
   "cell_type": "markdown",
   "metadata": {},
   "source": [
    "Mais cela marche également pour les chaînes de caractères."
   ]
  },
  {
   "cell_type": "code",
   "execution_count": null,
   "metadata": {},
   "outputs": [],
   "source": [
    "label = \"Agriculture Biologique\"\n",
    "\n",
    "if label == \"Agriculture Biologique\":\n",
    "    print(\"Ce légume a un label AB\")"
   ]
  },
  {
   "cell_type": "markdown",
   "metadata": {},
   "source": [
    "## l'instruction \"else\"\n",
    "\n",
    "L'instruction ``else`` qui signifie \"autrement\" en anglais, permet d'exécuter du code lorsque la condition du ``if`` n'est pas vérifiée.\n",
    "\n",
    "**Note:**:\n",
    "- Remarquez dans l'exemple suivant comment le ``#`` permet également de passer des lignes de code en commentaire et donc de ne pas les exécuter. Si jamais on veut modifier la valeur \"pluie\" de la variable météo, il suffit de retirer le ``#``)\n",
    "\n",
    "Exemple :"
   ]
  },
  {
   "cell_type": "code",
   "execution_count": null,
   "metadata": {},
   "outputs": [],
   "source": [
    "meteo = \"pluie\"\n",
    "#meteo = \"soleil\"\n",
    "\n",
    "if meteo == \"pluie\" :\n",
    "    print(\"Il pleut ! Mieux vaut prendre un parapluie !\")\n",
    "    print(\"Et y aller à pieds.\")\n",
    "else:\n",
    "    print(\"Il y a du soleil, vive le vélo !\")"
   ]
  },
  {
   "cell_type": "markdown",
   "metadata": {},
   "source": [
    "## l'instruction \"elif\"\n",
    "\n",
    "L'instruction ``elif`` qui est la contraction de \"*else if*\" et signifie \"autrement si\" en anglais, permet d'exécuter du code lorsque la condition du premier ``if`` n'est pas vérifiée, mais qu'une autre condition l'est. Par exemple :\n"
   ]
  },
  {
   "cell_type": "markdown",
   "metadata": {},
   "source": [
    "Un exemple avec des nombres, imaginons que nous voulions commenter la note d'un élève à un examen. Vous noterez qu'avec ``elif`` dès que la condition est remplie le programme sort de la structure conditionnelle et cesse de s'exécuter. Si nous n'avions utilisé que des ``if`` le programme aurait affiché toutes les réponses inférieures à la note."
   ]
  },
  {
   "cell_type": "code",
   "execution_count": null,
   "metadata": {},
   "outputs": [],
   "source": [
    "note = 5\n",
    "\n",
    "if note > 20:\n",
    "    print(\"Menteur !\")\n",
    "elif note == 20:\n",
    "    print(\"parfait !\")\n",
    "elif note >= 15:\n",
    "    print(\"Très bien !\")\n",
    "elif note >= 10:\n",
    "    print(\"Pas mal...\")\n",
    "elif note >= 5:\n",
    "    print(\"Aïe !\")\n",
    "elif note >= 0:\n",
    "    print(\"Catastrophe !\")\n",
    "else:\n",
    "    print(\"Impossible !\")"
   ]
  },
  {
   "cell_type": "markdown",
   "metadata": {},
   "source": [
    "## Exercice (facile)\n",
    "\n",
    "Lors de votre marché, vous apercevez des affiches pour les élections municipales.\n",
    "\n",
    "Écrivez un programme qui prend en entrée l'âge d'une personne dans une variable nommée \"age\". Si la personne est âgée de plus de 18 ans, utilisez ``print()`` pour lui indiquer qu'elle a le droit de voter aux élections municipales. Dans le cas contraire indiquez-lui qu'elle est trop jeune. Si la personne a plus de 122 ans, [record mondial de longévité](https://fr.wikipedia.org/wiki/Jeanne_Calment), ou moins de 0 ans, envoyez un message d'erreur en précisant que cet âge est impossible et en détaillant les raisons. Testez toutes les possibilités pour s'assurer que le programme marche correctement."
   ]
  },
  {
   "cell_type": "code",
   "execution_count": null,
   "metadata": {},
   "outputs": [],
   "source": [
    "    "
   ]
  },
  {
   "cell_type": "markdown",
   "metadata": {},
   "source": [
    "# Portes logiques\n",
    "\n",
    "Il peut arriver que nous voulions vérifier plusieurs si deux, ou plus, conditions sont simultanément remplies ou juste l'une d'entre elles. Il existe pour cela des opérateurs très pratiques :\n",
    "\n",
    "- ``and``: qui signifie \"ET\"\n",
    "- ``or``: qui signifie \"OU\"\n",
    "\n",
    "Si vous vous souvenez de l'introduction, vous vous souvenez sans doute de ce petit tableau :\n",
    "\n",
    "| A | B | A ET B | A OU B |\n",
    "|:-:|:-:|:------:|:------:|\n",
    "| 0 | 0 |    0   |    0   |\n",
    "| 1 | 0 |    0   |    1   |\n",
    "| 0 | 1 |    0   |    1   |\n",
    "| 1 | 1 |    1   |    1   |\n",
    "\n",
    "Celui-ci indiquait le comportement de deux opérateurs \"ET\" et \"OU\". Nous allons réutiliser ce concept ici."
   ]
  },
  {
   "cell_type": "markdown",
   "metadata": {},
   "source": [
    "## Les opérateurs \"ET\" (``and``) et \"OU\" (``or``)"
   ]
  },
  {
   "cell_type": "markdown",
   "metadata": {},
   "source": [
    "Lorsqu'on exécute des comparaisons, Python va d'abord évaluer si chacune des expressions est vraie ou fausse avant de les évaluer entre elles."
   ]
  },
  {
   "cell_type": "markdown",
   "metadata": {},
   "source": [
    "### \"ET\" (``and``)\n",
    "\n",
    "Vous examinez votre panier de légumes et vous vous demandez si vous avez assez de chaque légume.\n",
    "    \n",
    "**REMARQUES**:\n",
    "- L'utilisation de parenthèse pour délimiter les expressions est facultative dans le cas présent, mais il est recommandé de le faire pour des questions de clarté et pour être sûr que le code va s'exécuter comme on le souhaite."
   ]
  },
  {
   "cell_type": "code",
   "execution_count": null,
   "metadata": {},
   "outputs": [],
   "source": [
    "courgettes =  5\n",
    "aubergines = 3\n",
    "\n",
    "if (courgettes >= 3) and (aubergines >= 3):\n",
    "    print(\"Dans le panier il y a au moins 3 légumes de chaque type.\")"
   ]
  },
  {
   "cell_type": "markdown",
   "metadata": {},
   "source": [
    "L'expression s'affiche puisqu'il suffit que l'une des deux expressions soit ``True`` pour que le ``or`` retourne ``True``. Rappellez-vous :\n",
    "\n",
    "```\n",
    "vrai ET vrai -> vrai\n",
    "vrai ET faux -> faux\n",
    "faux ET vrai -> faux\n",
    "faux ET faux -> faux\n",
    "\n",
    "```"
   ]
  },
  {
   "cell_type": "markdown",
   "metadata": {},
   "source": [
    "### \"OU\" (``or``)\n",
    "\n",
    "Désormais vous désirez savoir si vous avez au moins 3 courgettes ou 3 aubergines dans votre panier."
   ]
  },
  {
   "cell_type": "code",
   "execution_count": null,
   "metadata": {},
   "outputs": [],
   "source": [
    "courgettes = 12\n",
    "aubergines = 0\n",
    "\n",
    "if (courgettes >= 3) or (aubergines >= 3):\n",
    "    print(\"Dans le panier il y a au moins 3 courgettes ou 3 aubergines\")"
   ]
  },
  {
   "cell_type": "markdown",
   "metadata": {},
   "source": [
    "L'expression s'affiche puisqu'il suffit que l'une des deux expressions soit ``True`` pour que le ``or`` retourne ``True``. Rappellez-vous :\n",
    "\n",
    "```\n",
    "vrai ou vrai -> vrai\n",
    "vrai ou faux -> vrai\n",
    "faux ou vrai -> vrai\n",
    "faux ou faux -> faux\n",
    "\n",
    "```\n"
   ]
  },
  {
   "cell_type": "markdown",
   "metadata": {},
   "source": [
    "## Exercice (facile)\n",
    "\n",
    "A partir de l'exemple ci-dessous, complétez la dernière recette qui a obligatoirement besoin de 3 oeufs, mais dont le deuxième ingrédient peut être au choix au moins 2 aubergines, ou 3 courgettes ou 4 tomates. Si c'est le cas affichez le message suivant :\n",
    "\n",
    "```python\n",
    "\"On peut cuisiner une brouillade aux légumes !\"\n",
    "```\n",
    "\n",
    "**ASTUCE**:\n",
    "\n",
    "- Vous n'avez besoin que de deux lignes de code.\n",
    "- Vous devez combiner un ``and`` et un ``or`` dans la même condition.\n",
    "- N'oubliez pas de vérifier le nombre de légumes dont vous disposez à chaque fois !\n",
    "- Remarquez lors de la deuxième recette que si la ligne à exécuter ne contient qu'une seule instruction nous ne sommes pas obligés de l'indenter et nous pouvons la rajouter à la fin du ``if``."
   ]
  },
  {
   "cell_type": "code",
   "execution_count": null,
   "metadata": {},
   "outputs": [],
   "source": [
    "# Dans mon panier il y a\n",
    "courgettes =  2\n",
    "aubergines = 2\n",
    "oeufs = 3\n",
    "tomates = 2\n",
    "\n",
    "# Première recette : omelette à la courgette\n",
    "if (courgettes >= 2) and (oeufs >= 4):\n",
    "    print(\"On peut cuisiner une grande omelette aux courgettes\")\n",
    "elif (courgettes >= 1) and (oeufs >= 2):\n",
    "    print(\"On peut faire une petite omelette aux courgettes\")\n",
    "\n",
    "# Deuxième recette : courgette ou tomates à la provençale\n",
    "if (courgettes >= 2) or (tomates >= 2): print(\"On peut faire des courgettes et/ou tomates à la provençale\")\n",
    "\n",
    "# Troisième recette : brouillade aux légumes\n"
   ]
  },
  {
   "cell_type": "markdown",
   "metadata": {},
   "source": [
    "## L'évaluation d'une condition\n",
    "\n",
    "A chaque fois que l'on écrit une condition python évalue cette expression et lui attribue une valeur : ``True`` si c'est vrai et ``false`` si c'est faux. On peut faire des tests dans Python :"
   ]
  },
  {
   "cell_type": "code",
   "execution_count": null,
   "metadata": {},
   "outputs": [],
   "source": [
    "True and False"
   ]
  },
  {
   "cell_type": "code",
   "execution_count": null,
   "metadata": {},
   "outputs": [],
   "source": [
    "(True and False) and (True or False)"
   ]
  },
  {
   "cell_type": "code",
   "execution_count": null,
   "metadata": {},
   "outputs": [],
   "source": [
    "(True and False) or (True or False)"
   ]
  },
  {
   "cell_type": "code",
   "execution_count": null,
   "metadata": {},
   "outputs": [],
   "source": [
    "((True or False) or (True and False)) or (True and (True and False))"
   ]
  },
  {
   "cell_type": "markdown",
   "metadata": {},
   "source": [
    "## Exercice (moyen)\n",
    "\n",
    "Soit un triangle composé de 3 segments différents : a, b et c.\n",
    "\n",
    "```\n",
    "     /\\\n",
    " a  /  \\   b\n",
    "   /    \\\n",
    "  /      \\\n",
    "  ͞ ͞͞ ͞ ͞ ͞ ͞ ͞ ͞\n",
    "     c\n",
    "```\n",
    "\n",
    "Utilisez des ``if``, ``elif`` et ``else`` en les imbriquant si nécessaire afin de créer un programme qui:\n",
    "\n",
    "- Affiche \"Valide\" si le triangle est valide et \"Non valide\" si le triangle ne l'est pas. Rappel : pour vérifier qu'un triangle est valide il faut que la somme de deux côtés soit toujours plus grande que le troisième. donc que :\n",
    "\n",
    "```python\n",
    "    a + b > c\n",
    "    a + c > b\n",
    "    b + c > a\n",
    "```\n",
    "\n",
    "- Affiche \"Equilatéral\" si le triangle est valide et équilatéral.\n",
    "- Affiche \"Isocèle\" si le triangle est valide et isocèle.\n",
    "- Affiche \"Quelconque\" si le triangle est valide mais ni isocèle ni équilatéral.\n",
    "\n",
    "Faites varier les valeurs de a, b et c pour vérifier que tout fonctionne correctement.\n",
    "\n",
    "**ASTUCES**:\n",
    "\n",
    "- Ne testez pas à chaque fois si le triangle est valide ou non. Imbriquez les tests sur la nature du triangle dans le premier test de validité."
   ]
  },
  {
   "cell_type": "code",
   "execution_count": null,
   "metadata": {},
   "outputs": [],
   "source": [
    "a = 3\n",
    "b = 4\n",
    "c = 5\n",
    "\n",
    "# Tapez votre code ici :"
   ]
  },
  {
   "cell_type": "markdown",
   "metadata": {},
   "source": [
    "### Une nouvelle fonction : ``round()``\n",
    "\n",
    "La fonction ``round()`` permet d'arrondir un nombre. Elle prend deux paramètres en entrée : le nombre à arrondir et le nombre de décimales désiré. Par défaut elle l'arrondit à l'entier supérieur ou inférieur. Exemple :"
   ]
  },
  {
   "cell_type": "code",
   "execution_count": null,
   "metadata": {},
   "outputs": [],
   "source": [
    "# Sans paramètre, round() arrondit au nombre entier\n",
    "round(3.14159)"
   ]
  },
  {
   "cell_type": "code",
   "execution_count": null,
   "metadata": {},
   "outputs": [],
   "source": [
    "# Mais on peut lui préciser le nombre de décimales voulues, ici 2 décimales.\n",
    "round(3.14159, 2)"
   ]
  },
  {
   "cell_type": "code",
   "execution_count": null,
   "metadata": {},
   "outputs": [],
   "source": [
    "# Et là 4 décimales.\n",
    "round(3.14159, 4)"
   ]
  },
  {
   "cell_type": "markdown",
   "metadata": {},
   "source": [
    "### Exercice (moyen / difficile)\n",
    "\n",
    "En reprenant l'exercice précédent, ajoutez les tests nécessaires pour s'assurer que le triangle est bien rectangle. Il faut donc que le programme :\n",
    "\n",
    "- Affiche \"Valide\" si le triangle est valide et \"Non valide\" si le triangle ne l'est pas. Rappel : pour vérifier qu'un triangle est valide il faut que la somme de deux côtés soit toujours plus grande que le troisième. donc que :\n",
    "\n",
    "```python\n",
    "    a + b > c\n",
    "    a + c > b\n",
    "    b + c > a\n",
    "```\n",
    "\n",
    "- Affiche \"Equilatéral\" si le triangle est valide et équilatéral.\n",
    "- Affiche \"Isocèle\" si le triangle est valide et isocèle.\n",
    "- Affiche \"Isocèle et rectangle\" si il est isocèle et rectangle. Rappel : pour tester si un triangle est rectangle il faut que l'une de ces trois égalités soit vraie :\n",
    "\n",
    "```python\n",
    "    a² + b² = c²\n",
    "    a² + c² = b²\n",
    "    b² + c² = a²\n",
    "```\n",
    "\n",
    "- Affiche \"Rectangle\" si le triangle est valide mais simplement rectangle.\n",
    "\n",
    "- Affiche \"Quelconque\" si le triangle est valide mais sans propriété particulière.\n",
    "\n",
    "Faites varier les valeurs d'a, b et c pour vérifier que tout fonctionne correctement.\n",
    "\n",
    "**ASTUCES**:\n",
    "\n",
    "- En python le carré s'écrit puissance 2, c'est-à-dire ``**2``.\n",
    "- Un triangle peut être rectangle ET isocèle. Adaptez votre code en fonction de ce cas particulier.\n",
    "- Comme il n'existe aucun triangle rectangle isocèle dont la longueur des trois côtés sont des entiers, on ne peut pas vérifier cette égalité sauf à arrondir les résultats. Dans ce cas là, il faut placer chaque terme de l'égalité dans un ``round()``. Ceci fonctionne par exemple avec un triangle de taille a = 6, b = 6, c = 8.48)."
   ]
  },
  {
   "cell_type": "code",
   "execution_count": null,
   "metadata": {},
   "outputs": [],
   "source": [
    "a = 6\n",
    "b = 6\n",
    "c = 8.48\n",
    "\n",
    "# Tapez votre code ici:"
   ]
  }
 ],
 "metadata": {
  "kernelspec": {
   "display_name": "Python 3",
   "language": "python",
   "name": "python3"
  },
  "language_info": {
   "codemirror_mode": {
    "name": "ipython",
    "version": 3
   },
   "file_extension": ".py",
   "mimetype": "text/x-python",
   "name": "python",
   "nbconvert_exporter": "python",
   "pygments_lexer": "ipython3",
   "version": "3.7.3"
  }
 },
 "nbformat": 4,
 "nbformat_minor": 4
}
