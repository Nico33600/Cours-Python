{
 "cells": [
  {
   "cell_type": "markdown",
   "metadata": {},
   "source": [
    "# Définition\n",
    "\n",
    "Jusqu'à présent nous avons vu que les variables pouvaient être de différents types : ``int``, ``str`` ou ``float`` par exemple. Mais parfois nous avons besoin de convertir un type de variable vers un autre\n",
    "\n",
    "Heureusement certaines fonctions sont là pour cela :  ``int()``, ``str()`` ou ``float()``."
   ]
  },
  {
   "cell_type": "markdown",
   "metadata": {},
   "source": [
    "# Vérification des données entrées\n",
    "\n",
    "Jusqu'à présent nous entrions les données en modifiant directement les variables dans le code. Mais que se passe-t-il si nous souhaitons que ce soit l'utilisateur qui rentre différentes valeurs sans toucher au code ?\n",
    "\n",
    "C'est tout à fait possible ! Mais comme les utilisateurs ont une fâcheuse tendance à ne pas faire ce que l'on attend d'eux, il va falloir vérifier que les données entrées soient valables."
   ]
  },
  {
   "cell_type": "markdown",
   "metadata": {},
   "source": [
    "## La fonction de saisie ``input()``\n",
    "\n",
    "Elle permet tout simplement de saisir un texte ou un nombre sans avoir à modifier directement la variable. En pratique, elle n'est utile que pour faire des tests dans Jupyter Lab ou dans la console, mais c'est un bon moyen pour comprendre comment une donnée est traitée quand elle est entrée.\n",
    "\n",
    "En effet : en utilisant ``input()`` la variable récupérée est de type ``str``. Si on veut effectuer des calculs avec cette variable il faut la convertir dans un autre format numérique en utilisant la fonction ``int()`` par exemple."
   ]
  },
  {
   "cell_type": "code",
   "execution_count": 3,
   "metadata": {},
   "outputs": [
    {
     "name": "stdin",
     "output_type": "stream",
     "text": [
      "Quel est votre nom ? 12\n"
     ]
    },
    {
     "name": "stdout",
     "output_type": "stream",
     "text": [
      "12 ? Quel joli nom !\n"
     ]
    },
    {
     "name": "stdin",
     "output_type": "stream",
     "text": [
      "Et quel est votre âge ? 12\n"
     ]
    },
    {
     "name": "stdout",
     "output_type": "stream",
     "text": [
      "12 ? Le bel âge ! Par ailleurs, c'est une variable de type: <class 'str'>\n"
     ]
    }
   ],
   "source": [
    "nom = input(\"Quel est votre nom ?\")\n",
    "print(nom,\"? Quel joli nom !\")\n",
    "\n",
    "age = input(\"Et quel est votre âge ?\")\n",
    "print(age,\"? Le bel âge ! Par ailleurs, c'est une variable de type:\", type(age))"
   ]
  },
  {
   "cell_type": "markdown",
   "metadata": {},
   "source": [
    "## Les fonctions de conversion : ``int()``\n",
    "\n",
    "La fonction ``int()``, à ne pas confondre avec le type ``int``, permet de convertir une chaîne de caractère en un nombre entier. Si la conversion réussit, le programme continue de s'exécuter. Dans le cas contraire, il renvoie une erreur et s'arrête. N'hésitez pas à tester par vous-même ces possibilités."
   ]
  },
  {
   "cell_type": "markdown",
   "metadata": {},
   "source": [
    "### Conversion d'une string vers un integer\n",
    "\n",
    "Si tous les caractères de la string sont des nombres, alors la conversion peut s'effectuer sans erreur."
   ]
  },
  {
   "cell_type": "code",
   "execution_count": 4,
   "metadata": {},
   "outputs": [
    {
     "name": "stdout",
     "output_type": "stream",
     "text": [
      "variable_a_convertir contient 12 et est de type : <class 'str'>\n",
      "variable_a_convertir contient 12 et est de type : <class 'int'>\n"
     ]
    }
   ],
   "source": [
    "variable_a_convertir = \"12\" # Ici variable_a_convertir est une chaîne de caractère.\n",
    "print (\"variable_a_convertir contient\", variable_a_convertir, \"et est de type :\", type(variable_a_convertir))\n",
    "\n",
    "variable_a_convertir = int(variable_a_convertir) # Désormais variable_a_convertir est un entier !\n",
    "\n",
    "print (\"variable_a_convertir contient\", variable_a_convertir, \"et est de type :\", type(variable_a_convertir))"
   ]
  },
  {
   "cell_type": "markdown",
   "metadata": {},
   "source": [
    "### Conversion d'un float vers un integer\n",
    "\n",
    "Dans ce cas présent la conversion ne prend que la partie entière du nombre, elle ne l'arrondit pas ! Pour ceci il existe d'autres fonctions que nous verrons plus loin."
   ]
  },
  {
   "cell_type": "code",
   "execution_count": 6,
   "metadata": {},
   "outputs": [
    {
     "name": "stdout",
     "output_type": "stream",
     "text": [
      "variable_a_convertir contient 12.9999 et est de type : <class 'float'>\n",
      "variable_a_convertir contient 12 et est de type : <class 'int'>\n"
     ]
    }
   ],
   "source": [
    "variable_a_convertir = 12.9999 # Ici variable_a_convertir est un flottant.\n",
    "print (\"variable_a_convertir contient\", variable_a_convertir, \"et est de type :\", type(variable_a_convertir))\n",
    "\n",
    "variable_a_convertir = int(variable_a_convertir) # Désormais variable_a_convertir est un entier !\n",
    "print (\"variable_a_convertir contient\", variable_a_convertir, \"et est de type :\", type(variable_a_convertir))"
   ]
  },
  {
   "cell_type": "markdown",
   "metadata": {},
   "source": [
    "### Conversion d'un float (ou d'un integer) vers une string\n",
    "\n",
    "Dans ce cas présent la conversion prend chaque chiffre individuellement et les convertit en caractère."
   ]
  },
  {
   "cell_type": "code",
   "execution_count": 7,
   "metadata": {},
   "outputs": [
    {
     "name": "stdout",
     "output_type": "stream",
     "text": [
      "variable_a_convertir contient 12.9999 et est de type : <class 'float'>\n",
      "variable_a_convertir contient 12.9999 et est de type : <class 'str'>\n"
     ]
    }
   ],
   "source": [
    "variable_a_convertir = 12.9999 # Ici variable_a_convertir est un flottant.\n",
    "print (\"variable_a_convertir contient\", variable_a_convertir, \"et est de type :\", type(variable_a_convertir))\n",
    "\n",
    "variable_a_convertir = str(variable_a_convertir) # Désormais variable_a_convertir est une string !\n",
    "print (\"variable_a_convertir contient\", variable_a_convertir, \"et est de type :\", type(variable_a_convertir))"
   ]
  },
  {
   "cell_type": "markdown",
   "metadata": {},
   "source": [
    "## La méthode .isdigit()"
   ]
  },
  {
   "cell_type": "markdown",
   "metadata": {},
   "source": [
    "### Une \"méthode\" ?\n",
    "\n",
    "Une ``string`` est un type de donnée, mais comme c'est aussi un objet appartenant à une classe, cela nous permet d'utiliser des méthodes, c'est-à-dire des sortes de fonctions incluses même dans la définition de l'objet. Inutile de rentrer dans les détails pour l'instant.\n",
    "\n",
    "Lorsqu'on utilise une **fonction**, on place des arguments dans les parenthèses. Ex: ``print(\"ceci est mon argument\")``.\n",
    "\n",
    "Dans le cas d'une **méthode** on écrit le nom de l'objet, puis on rajoute un point avec le nom de la méthode, qui se termine par des parenthèses entre lesquelles on peut éventuellement rajouter des arguments.\n",
    "\n",
    "La méthode ``.isdigit()``, permet de savoir si une chaîne de caractère est un nombre ou pas. C'est-à-dire que si le contenu de la string n'est pas nul et si tous ses caractères sont des représentations de nombres (\"0\", \"1\", \"2\", \"3\", \"4\", \"5\", \"6\", \"7\", \"8\", \"9\"). Cette fonction est une méthode car elle est propre aux objets de type string.\n",
    "\n",
    "Exemple :"
   ]
  },
  {
   "cell_type": "code",
   "execution_count": 8,
   "metadata": {},
   "outputs": [
    {
     "data": {
      "text/plain": [
       "True"
      ]
     },
     "execution_count": 8,
     "metadata": {},
     "output_type": "execute_result"
    }
   ],
   "source": [
    "ceci_est_une_string = \"164971717167\"\n",
    "ceci_est_une_string.isdigit()"
   ]
  },
  {
   "cell_type": "code",
   "execution_count": 9,
   "metadata": {},
   "outputs": [
    {
     "data": {
      "text/plain": [
       "False"
      ]
     },
     "execution_count": 9,
     "metadata": {},
     "output_type": "execute_result"
    }
   ],
   "source": [
    "ceci_est_une_string = \"164971717167hello_world\"\n",
    "ceci_est_une_string.isdigit()"
   ]
  },
  {
   "cell_type": "markdown",
   "metadata": {},
   "source": [
    "### Vérification avec .isdigit()\n",
    "\n",
    "Pour vérifier si une string ne contient que des nombres, on peut effectuer un test avec ``if``.\n",
    "\n",
    "**ASTUCE** : Lorsqu'une fonction ou une méthode retourne ``True``, il n'est pas nécessaire d'écrire ``== True``, cela est implicite. Par exemple :\n",
    "\n",
    "```python\n",
    "\n",
    "if ma_chaine_de_caracteres.isdigit(): print(\"Oui, cette chaîne ne contient que des nombres à l'intérieur !\")\n",
    "else: print(\"Non, cette chaîne ne contient pas que des nombres\")\n",
    "\n",
    "```"
   ]
  },
  {
   "cell_type": "markdown",
   "metadata": {},
   "source": [
    "# Exercice (facile/moyen)\n",
    "\n",
    "Vous désirez acheter des courges sur le marché : elles valent 4,5€ l'unité. Cependant Le maraîcher ne dispose au total que de 25 courges, il ne peut donc pas en vendre au-delà.\n",
    "\n",
    "Pour cela faites ainsi :\n",
    "\n",
    "- Utilisez la fonction ``input()`` pour demander à l'utilisateur, le client, combien de courges celui-ci désire.\n",
    "- Vérifiez que le chiffre est bien un entier en utilisant la méthode ``.isdigit()``. Si c'est le cas, convertissez-le en un entier.\n",
    "- Effectuez des tests pour vérifier que ce nombre n'est pas égal à 0, et n'est pas non plus supérieur au stock maximum.\n",
    "- Finalement, calculez le prix total que le client devra payer.\n",
    "\n",
    "Prévoyez un message d'erreur différent dans les cas suivants :\n",
    "\n",
    "- L'utilisateur n'a pas entré un nombre valide.\n",
    "- L'utilisateur a rentré un nombre égal à 0.\n",
    "- L'utilisateur demande davantage de courges que le stock maximal.\n",
    "\n",
    "\n",
    "\n",
    "\n",
    "**Astuces**:\n",
    "\n",
    "- Il vous faudra sans doute utiliser plusieurs niveaux d'indentation. On parle alors de tests \"imbriqués\".\n",
    "- Si la variable entrée est bien un nombre entier, n'oubliez-pas de la convertir avec ``int()`` pour pouvoir effectuer des opérations dessus !\n",
    "- Testez ensuite tous les cas de figure pour vérifiez que le code fonctionne correctement.\n",
    "- Essayez de n'écrire que le strict minimum de code nécessaire.\n",
    "- Utilisez des noms de variable clairs.\n"
   ]
  },
  {
   "cell_type": "code",
   "execution_count": null,
   "metadata": {},
   "outputs": [],
   "source": []
  }
 ],
 "metadata": {
  "kernelspec": {
   "display_name": "Python 3",
   "language": "python",
   "name": "python3"
  },
  "language_info": {
   "codemirror_mode": {
    "name": "ipython",
    "version": 3
   },
   "file_extension": ".py",
   "mimetype": "text/x-python",
   "name": "python",
   "nbconvert_exporter": "python",
   "pygments_lexer": "ipython3",
   "version": "3.7.4"
  }
 },
 "nbformat": 4,
 "nbformat_minor": 4
}
