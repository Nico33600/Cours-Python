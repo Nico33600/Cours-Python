{
 "cells": [
  {
   "cell_type": "markdown",
   "metadata": {
    "tags": [
     "fr"
    ]
   },
   "source": [
    "# LES BOUCLES"
   ]
  },
  {
   "cell_type": "markdown",
   "metadata": {
    "tags": [
     "fr"
    ]
   },
   "source": [
    "Comme nous l'avons vu dans l'introduction, les ordinateurs sont très performants lorsqu'il s'agit d'effectuer des actions répétitives. En programmation nous disposons de structures qui permettent de réaliser des **\"boucles\"** (*loops*), c'est-à-dire de répéter la ou les mêmes instructions autant de fois que nous le voulons. Celles-ci sont très répandues à travers tous les langages de programmation et constituent le coeur d'un grand nombre de logiciels."
   ]
  },
  {
   "cell_type": "markdown",
   "metadata": {
    "tags": [
     "fr"
    ]
   },
   "source": [
    "## La boucle ``for``\n",
    "\n",
    "La boucle ``for`` parcourt les différents éléments d'un objet. On l'utilise le plus souvent avec le mot ``in`` qui signifie tout simplement \"dans\". Par exemple :\n",
    "\n",
    "En langage humain:\n",
    "```\n",
    "Pour chaque page dans ce livre:\n",
    "    Afficher la page.\n",
    "```\n",
    "\n",
    "En formalisation python:\n",
    "\n",
    "```python\n",
    "for page in livre:\n",
    "    print(page)\n",
    "```\n",
    "\n",
    "Vous remarquerez que, comme un ``if`` le code qui suit un ``for`` est identé."
   ]
  },
  {
   "cell_type": "markdown",
   "metadata": {
    "tags": [
     "fr"
    ]
   },
   "source": [
    "### Parcourir une liste\n",
    "\n",
    "En utilisant une boucle for, chaque élément de la liste sera sélectionné un par un afin que l'on puisse les traiter séparément. Beaucoup de programmeurs utilisent le nom \"el\" (diminutif de \"élément\") afin de désigner la variable qui va contenir successivement chaque élément de l'itérable, mais ce n'est qu'une habitude. Par exemple :"
   ]
  },
  {
   "cell_type": "code",
   "execution_count": null,
   "metadata": {
    "tags": [
     "fr"
    ]
   },
   "outputs": [],
   "source": [
    "une_liste = [\"a\", \"b\", \"c\", \"d\", \"e\"]\n",
    "\n",
    "for el in une_liste:\n",
    "    print(el)"
   ]
  },
  {
   "cell_type": "markdown",
   "metadata": {
    "tags": [
     "fr"
    ]
   },
   "source": [
    "Ici il y a 5 éléments différents dans la liste, ce qui veut dire que l'instruction dans le bloc ``for`` a été exécutée 5 fois. Notez que l'on peut écrire autant d'instructions que l'on souhaite dans le bloc."
   ]
  },
  {
   "cell_type": "code",
   "execution_count": null,
   "metadata": {
    "tags": [
     "fr"
    ]
   },
   "outputs": [],
   "source": [
    "une_liste = [\"a\", \"b\", \"c\", \"d\", \"e\"]\n",
    "\n",
    "i = 0\n",
    "for el in une_liste:\n",
    "    print(el)\n",
    "    i = i + 1\n",
    "    print(i)"
   ]
  },
  {
   "cell_type": "markdown",
   "metadata": {
    "tags": [
     "fr"
    ]
   },
   "source": [
    "### Exercice (facile)\n",
    "\n",
    "Pour chaque élément de la liste suivante affichez une phrase qui indique le nombre que l'on traite et la valeur de son double.\n",
    "\n",
    "**Astuces**:\n",
    "\n",
    "- Vous pouvez effectuer des calculs dans des ``print()``\n",
    "- Utilisez de préférence des \"f-strings\", ce sera plus lisible.\n",
    "- Réalisable en deux lignes de code."
   ]
  },
  {
   "cell_type": "code",
   "execution_count": null,
   "metadata": {
    "tags": [
     "fr"
    ]
   },
   "outputs": [],
   "source": [
    "suite1 = [2, 16, 78, 6, 21, 98, 53627]\n",
    "# tapez votre code ici\n"
   ]
  },
  {
   "cell_type": "markdown",
   "metadata": {
    "tags": [
     "fr"
    ]
   },
   "source": [
    "### Exercice (facile)\n",
    "\n",
    "Pour chaque nombre de la liste suivante:\n",
    "\n",
    "- Si celui-ci est inférieur à 100, affichez le résultat de ce nombre multiplié par 3.\n",
    "- Si celui-ci est supérieur ou égal à 100, affichez le résultat de ce nombre divisé par 5."
   ]
  },
  {
   "cell_type": "code",
   "execution_count": null,
   "metadata": {},
   "outputs": [],
   "source": [
    "suite2 = [50, 100, 213, 15, 350, 78, 101, 423]\n",
    "# tapez votre code ici :"
   ]
  },
  {
   "cell_type": "markdown",
   "metadata": {
    "tags": [
     "fr"
    ]
   },
   "source": [
    "### La fonction ``len()``\n",
    "\n",
    "La fonction ``len()``, abréviation de _lenght_ en anglais (la longueur), permet de retourner le nombre d'éléments d'un itérable. Attention car ``len()`` retourne le nombre d'éléments pas l'index maximum ! Ex:"
   ]
  },
  {
   "cell_type": "code",
   "execution_count": null,
   "metadata": {
    "tags": [
     "fr"
    ]
   },
   "outputs": [],
   "source": [
    "une_liste = [\"une chose\", \"encore un autre élément\", 3]\n",
    "print(len(une_liste)) # 3 éléments, donc retourne 3. Mais l'index va de 0 à 2"
   ]
  },
  {
   "cell_type": "markdown",
   "metadata": {
    "tags": [
     "fr"
    ]
   },
   "source": [
    "### Exercice (facile / moyen)\n",
    "\n",
    "Ecrivez une fonction qui calcule la moyenne d'un étudiant. Les notes sont contenues dans une liste.\n",
    "\n",
    "**ASTUCES**:\n",
    "\n",
    "- Créez une nouvelle variable qui contiendra la somme totale des notes et que vous initialiserez à 0.\n",
    "- Utilisez une boucle for pour itérer sur la liste et additionner toutes les notes.\n",
    "- Utilisez ``len()`` pour trouver la taille de la liste et calculer la moyenne."
   ]
  },
  {
   "cell_type": "code",
   "execution_count": null,
   "metadata": {
    "tags": [
     "fr"
    ]
   },
   "outputs": [],
   "source": [
    "notes = [10, 12, 16, 8, 17, 5, 9, 18, 14, 12, 11, 6, 8, 14, 20]\n",
    "# tapez votre code ici :"
   ]
  },
  {
   "cell_type": "markdown",
   "metadata": {
    "tags": [
     "fr"
    ]
   },
   "source": [
    "### Exercice (moyen)\n",
    "\n",
    "Dans la liste suivante trois groupes de nombres sont mélangés : certains sont inférieurs à 100, d'autres sont compris entre 1000 et 10 000 et enfin certains sont supérieurs à 100 000. Calculez la moyenne pour chacun de ces trois groupes.\n",
    "\n",
    "Différentes méthodes peuvent être utilisées. L'une d'elle consiste à :\n",
    "\n",
    "- Créer 3 listes vides dans lesquelles on stockera les nombres appartenant à chaque groupe.\n",
    "\n",
    "- Itérer sur la liste \"notes\" et ajouter les notes dans la liste appropriée.\n",
    "\n",
    "- Une fois que nos trois listes contiennent chacun les bons nombres, on peut créer une liste de listes et itérer dessus en calculant la moyenne pour chacune des listes. Cela revient à imbriquer une boucle ``for`` dans une autre boucle ``for``.\n",
    "\n",
    "**ASTUCES**:\n",
    "\n",
    "- Rappel : Pour ajouter des éléments à une liste, on utilise la méthode ``.append()``"
   ]
  },
  {
   "cell_type": "code",
   "execution_count": null,
   "metadata": {},
   "outputs": [],
   "source": [
    "notes = [100001, 10, 14, 869761, 1771, 5, 7, 1878, 15, 11, 1001, 6901, 428712, 11, 19, 387654, 9009, 16]\n",
    "# tapez votre code ici :\n"
   ]
  },
  {
   "cell_type": "markdown",
   "metadata": {
    "tags": [
     "fr"
    ]
   },
   "source": [
    "### Itération sur une plage de nombres avec ``range()``\n",
    "\n",
    "``range()`` est une fonction très utile, elle permet de créer une \"plage\", c'est-à-dire une étendue de nombres, de la manière dont on le souhaite. Par défaut la fonction part de 0:"
   ]
  },
  {
   "cell_type": "code",
   "execution_count": 2,
   "metadata": {
    "tags": [
     "fr"
    ]
   },
   "outputs": [
    {
     "name": "stdout",
     "output_type": "stream",
     "text": [
      "0\n",
      "1\n",
      "2\n",
      "3\n",
      "4\n"
     ]
    }
   ],
   "source": [
    "for nombre in range(5):\n",
    "    print(nombre)"
   ]
  },
  {
   "cell_type": "markdown",
   "metadata": {
    "tags": [
     "fr"
    ]
   },
   "source": [
    "Vous remarquez que comme Python commence à compter à partir de 0. Un ``range(5)`` s'arrête à 4 ! Mais il y a pourtant bien 5 éléments différents.\n",
    "\n",
    "\n",
    "\n",
    "Si l'on précise un seul nombre à ``range()``, comme dans l'exemple vu plus haut, il considèrera que ce nombre est celui auquel la plage doit s'arrêter. Si on lui en donne deux, il considèrera que le premier nombre est le point de départ et le second le point d'arrivée. Par exemple :"
   ]
  },
  {
   "cell_type": "code",
   "execution_count": null,
   "metadata": {
    "tags": [
     "fr"
    ]
   },
   "outputs": [],
   "source": [
    "for nombre in range(2,5):\n",
    "    print(nombre)"
   ]
  },
  {
   "cell_type": "markdown",
   "metadata": {
    "tags": [
     "fr"
    ]
   },
   "source": [
    "### Exercice (facile)\n",
    "\n",
    "En utilisant une boucle ``for`` ainsi que ``range()``, affichez le résultat suivant:\n",
    "    \n",
    "```python\n",
    "*\n",
    "**\n",
    "***\n",
    "****\n",
    "*****\n",
    "******\n",
    "*******\n",
    "********\n",
    "```\n",
    "\n",
    "**ASTUCE**:\n",
    "\n",
    "- Réalisable en seulement deux lignes de code (voire une seule).\n",
    "- Il y a 8 étoiles dans la dernière ligne.\n",
    "- Le * est le symbole de la multiplication, et \"*\" est le caractère étoile."
   ]
  },
  {
   "cell_type": "code",
   "execution_count": null,
   "metadata": {},
   "outputs": [],
   "source": [
    "# Tapez votre code ici:"
   ]
  },
  {
   "cell_type": "markdown",
   "metadata": {
    "tags": [
     "fr"
    ]
   },
   "source": [
    "### Exercice (difficile)\n",
    "\n",
    "Théodore vous provoque en déclarant que vous êtes incapable de trouver aussi vite que lui si un nombre est premier ou pas. Pour rappel les [nombres premiers](https://fr.wikipedia.org/wiki/Nombre_premier) sont les nombres qui ne sont seulement divisibles que par 1 et par eux-même. Prouvez-lui que vous pouvez être rapide comme la vitesse de la lumière et écrivez un programme qui prend en entrée un nombre égal ou supérieur à 2 et vous affiche en sortie si ce nombre est premier ou si il ne l'est pas.\n",
    "\n",
    "**ASTUCES**:\n",
    "\n",
    "- Pour déterminer si un nombre est premier ou pas, vous devrez utiliser l'opération \"modulo\", qui retourne le reste de la division euclidienne. Si à la suite d'une division euclidienne le reste est égal à zéro et que le diviseur utilisé n'est ni 1 ni lui-même alors ce nombre n'est pas premier. En Python le modulo s'écrit ``%``. Si l'on veut savoir si 5 est un nombre premier, on divise 5 par tous les nombres compris entre 2 et 4 (puisqu'on exclut 1 et lui-même), c'est-à-dire 2, 3 et 4.\n",
    "\n",
    "```python\n",
    "5 % 2 = 1\n",
    "5 % 3 = 2\n",
    "5 % 4 = 1\n",
    "```\n",
    "\n",
    "Aucune de ces opérations ne retourne 0 donc 5 est un nombre premier. Testons maintenant avec avec 6:\n",
    "\n",
    "```python\n",
    "6 % 2 = 0\n",
    "```\n",
    "\n",
    "Dès la première opération on voit que 6 n'est pas un nombre premier puisqu'on peut le diviser par 2. \n",
    "\n",
    "- Pour être plus efficace, partez du principe que le nombre est premier, ce qui peut être matérialisé par l'initialisation d'une variable booléenne ``is_prime = True`` par exemple. Dès que l'on trouve un diviseur autre que 1 et lui-même, démontrant ainsi que ce nombre n'est pas premier, on modifie cette variable booléenne en conséquence et on lui assigne ``False``.\n",
    "- La fonction ``range()`` vous sera utile.\n",
    "- Vous aurez besoin de 2 variables et 6 lignes de code.\n",
    "- On pourrait écrire cette fonction pour qu'elle soit plus rapide et plus lisible, mais cela ferait appel à des notions que nous n'avons pas encore vu."
   ]
  },
  {
   "cell_type": "code",
   "execution_count": null,
   "metadata": {},
   "outputs": [],
   "source": [
    "# Tapez votre code ici:"
   ]
  },
  {
   "cell_type": "markdown",
   "metadata": {
    "tags": [
     "fr"
    ]
   },
   "source": [
    "### Itération sur une chaîne de caractère\n",
    "\n",
    "Examinons ce qu'il se passe si on utilise la boucle ``for`` sur une string."
   ]
  },
  {
   "cell_type": "code",
   "execution_count": null,
   "metadata": {
    "tags": []
   },
   "outputs": [],
   "source": [
    "for el in \"Hello!\":\n",
    "    print(el)"
   ]
  },
  {
   "cell_type": "markdown",
   "metadata": {
    "tags": [
     "fr"
    ]
   },
   "source": [
    "Si une string s'appelle aussi **\"chaîne de caratère\"** c'est parce que Python conçoit une string comme une succession de différents caractères (on dit aussi que les caractères sont concaténés, c'est-à-dire collés les uns aux autres). Chaque \"maillon\" de notre chaîne est donc un caractère différent.\n",
    "\n",
    "Vous remarquerez que l'espace \" \" est aussi un caractère.\n",
    "\n",
    "On appelle les objets composés de différents éléments des \"itérables\", ce qui veut dire qu'on peut \"itérer\" dessus, qui est un mot plus précis pour dire \"parcourir\". Les objets itérables possèdent une succession d'éléments que l'on peut appeler les uns après les autres.\n",
    "\n",
    "**REMARQUE**:\n",
    "\n",
    "- Notez comme Python comprend parfaitement ce que l'on veut faire : le mot ``el`` est une variable comme une autre. Mais Python lui assigne à chaque boucle effectuée une nouvelle valeur."
   ]
  },
  {
   "cell_type": "markdown",
   "metadata": {
    "tags": [
     "fr"
    ]
   },
   "source": [
    "### Exercice (facile)\n",
    "\n",
    "Au marché vous rencontez votre ancien professeur de français, Mme Michu. Celle-ci vous demande si vous connaissez le mot le plus long de la langue française et quel est son nombre de caractères ? Vous savez très bien qu'il s'agit du mot \"anticonstitutionnellement\", mais vous avez oublié sa longueur. Sans plus réfléchir, vous décidez d'utiliser Python pour écrire un programme qui calcule la longueur de ce mot.\n",
    "\n",
    "**Astuce:**\n",
    "\n",
    "- Créez une variable qui vous servira de compteur."
   ]
  },
  {
   "cell_type": "code",
   "execution_count": null,
   "metadata": {},
   "outputs": [],
   "source": [
    "# Tapez votre code ici:"
   ]
  },
  {
   "cell_type": "markdown",
   "metadata": {
    "tags": [
     "fr"
    ]
   },
   "source": [
    "# Pour aller plus loin"
   ]
  },
  {
   "cell_type": "markdown",
   "metadata": {
    "tags": [
     "fr"
    ]
   },
   "source": [
    "## La boucle ``while``\n",
    "\n",
    "Cette instruction, qui signifie \"tant que\", permet d'exécuter un bloc d'opérations tant qu'une condition est vérifiée.\n",
    "\n",
    "Imaginons que nous disposons d'un stock fini de bonbons dans un sachet (ce qui malheureusement est toujours le cas) et que nous les mangeons un par un. Une boucle ``while`` fonctionnerait ainsi :\n",
    "\n",
    "Exemple :"
   ]
  },
  {
   "cell_type": "code",
   "execution_count": null,
   "metadata": {
    "tags": [
     "fr"
    ]
   },
   "outputs": [],
   "source": [
    "nombre_de_bonbons = 5\n",
    "\n",
    "print(f\"Je dispose de {nombre_de_bonbons} bonbon(s) dans mon sachet !\")\n",
    "\n",
    "while nombre_de_bonbons > 0:\n",
    "    print(\"Miam ! :)\")\n",
    "    nombre_de_bonbons = nombre_de_bonbons - 1\n",
    "    print(f\"Il y a encore {nombre_de_bonbons} bonbon(s) restant(s) dans mon sachet !\")\n",
    "\n",
    "print(f\"C'est fini ! Le nombre de bonbons restants est tombé à {nombre_de_bonbons} ! :(\")"
   ]
  },
  {
   "cell_type": "markdown",
   "metadata": {
    "tags": [
     "fr"
    ]
   },
   "source": [
    "Dans l'exemple ci-dessus, on regarde si il reste encore des bonbons dans le sachet, si oui alors on en mange un, ce qui fait décroître le stock d'un. A chaque fois que le bloc d'instruction est fini, la condition est de nouveau vérifiée. Quand le stock est égal à 0, la boucle s'arrête.\n",
    "\n",
    "D'un point de vue plus mathématique cette même fonction pourrait s'écrire ainsi :"
   ]
  },
  {
   "cell_type": "code",
   "execution_count": null,
   "metadata": {
    "tags": [
     "fr"
    ]
   },
   "outputs": [],
   "source": [
    "x = 5\n",
    "\n",
    "while x > 0:\n",
    "    print(f\"x vaut {x}\")\n",
    "    x = x - 1\n",
    "print(f\"Fini ! x vaut {x}\")"
   ]
  },
  {
   "cell_type": "markdown",
   "metadata": {
    "tags": [
     "fr"
    ]
   },
   "source": [
    "## Attention aux boucles infinies !\n",
    "\n",
    "Quand on programme il arrive parfois que l'on se trompe dans les instructions et/ou que la condition n'est jamais remplie, il se passe alors ce qu'on appelle une boucle infinie. Dans ce cas là l'ordinateur va continuer à exécuter l'instruction jusqu'à ce qu'on le \"force\" manuellement à l'arrêter ou qu'un évènement extérieur intervient (coupure de courant, erreur de mémoire, bug du programme...). Par exemple si j'écris :\n",
    "\n",
    "```python\n",
    "while 1 != 2:\n",
    "    print(\"Zut, une boucle infinie !!!!\")\n",
    "```\n",
    "\n",
    "Comme 1 ne sera jamais égal à 2, si on exécutait cette boucle, cela afficherait cette phrase jusqu'à... l'infini. Si cela arrive, on peut cliquer sur l'icône du carré \"STOP\" (_\"Interrupt the Kernel\"_) en haut du notebook. Ou bien utiliser le raccourci :\n",
    "\n",
    "**ESC + i i** (touche échap puis appuyer deux fois rapidement sur la touche \"i\", pour _\"interrupt\"_)\n",
    "\n",
    "Jupyter Lab va vous afficher un message d'erreur de type \"*KeyboardInterrupt*\", c'est tout à fait normal.\n",
    "\n",
    "## Un exemple de boucle infini :\n",
    "**lancez-la puis coupez le kernel en utilisant le raccourci clavier.**\n",
    "\n",
    "**Attention** : Pour éviter de potentiels problèmes cette cellule est en mode \"*raw*\" (texte brut) et ne peut pas être exécutée. Changez son type en vous positionnant dessus comme si vous alliez l'éditer (le curseur d'édition clignote quelque part dans la cellule) puis en utilisant le raccourci clavier **ESC + y**. (Vous pouvez aussi choisir dans le menu déroulant du haut du notebook \"Code\" à la place de \"Raw\", cela revient au même mais c'est moins rapide). \n",
    "\n",
    "**REMARQUES**:\n",
    "\n",
    "- Ici la première ligne de code permet d'importer une fonction spéciale nommée `sleep()` qui provient de la librairie ``time``. Cette fonction `sleep()` permet de mettre en pause Python pour une durée déterminée (3 secondes dans le cas présent). Nous verrons les librairies en détails plus tard.\n",
    "- Par convention on note souvent la variable qui permet de compter un nombre de passage dans une boucle \"i\" ou \"count\"."
   ]
  },
  {
   "cell_type": "code",
   "execution_count": null,
   "metadata": {
    "tags": [
     "fr"
    ]
   },
   "outputs": [],
   "source": [
    "from time import sleep\n",
    "\n",
    "i = 0\n",
    "\n",
    "while 1 != 2:\n",
    "    i = i + 1\n",
    "    print(f\"Boucle infinie passage N°{i}\")\n",
    "    sleep(3)"
   ]
  },
  {
   "cell_type": "markdown",
   "metadata": {
    "tags": [
     "fr"
    ]
   },
   "source": [
    "## Exercice (facile)\n",
    "\n",
    "Sur le marché, vous rencontrez votre petit cousin, Théodore, toujours prompt à vous proposer des défis mathématiques.\n",
    "Celui-ci souhaite afficher en Python la table de multiplication de 9. L'on pourrait bien sûr écrire une série de 10 ``print()`` comme ceci :\n",
    "\n",
    "```python\n",
    "print(\"9 fois 0 = 0\")\n",
    "print(\"9 fois 1 = 9\")\n",
    "print(\"9 fois 2 = 18\")\n",
    "print(\"...etc...\")\n",
    "```\n",
    "Mais ce serait fastidieux. Montrez-lui la puissance des boucles en écrivant un programme qui affiche automatiquement la table de multiplication de 9. Faites-en sorte que votre programme puisse être facilement modifiable pour afficher la table de multiplication d'un autre nombre.\n",
    "\n",
    "**ASTUCES**:\n",
    "\n",
    "- On pourrait utiliser une boucle ```for``` bien sûr, mais faisons-le ici avec une boucle ``while``.\n",
    "- On peut très bien effectuer des opérations dans les arguments de ``print()`` ou dans les accolades es f-strings. Ex: ``print(3*4)`` ou ``print(f\"le résultat est : {3*4}\")``\n",
    "- N'oubliez pas d'incrémenter votre compteur, sinon vous créerez une boucle infinie !"
   ]
  },
  {
   "cell_type": "code",
   "execution_count": null,
   "metadata": {},
   "outputs": [],
   "source": [
    "# Tapez votre code ici:"
   ]
  },
  {
   "cell_type": "markdown",
   "metadata": {
    "tags": [
     "fr"
    ]
   },
   "source": [
    "## Exercice (moyen)\n",
    "\n",
    "Théodore vous soumet un nouveau défi :\n",
    "Sachant qu'une feuille de papier moyenne mesure 0,11 millimètres d'épaisseur (soit 0,00011 mètres). Combien de fois faut-il la plier pour qu'elle atteigne la hauteur de la tour Eiffel (324m) ? Et pour atteindre la Lune (distance moyenne de 384 402 000 mètres) ? Ceci est bien sûr un calcul théorique, dans la réalité il n'est guère possible de plier une feuille de papier plus de 7 fois, voire un peu plus avec [certaines techniques](http://www.le-saviez-vous.fr/2011/03/combien-de-fois-peux-t-on-reellement.html).\n",
    "\n",
    "**ASTUCES**:\n",
    "\n",
    "- Plier une feuille revient à doubler sa taille à chaque pliage.\n",
    "- Il vous faudra créer trois variables en entrée : la taille de la feuille, et le nombre de pliages réalisés (le compteur, ou *count*), la distance à dépasser.\n",
    "- Il suffit d'environ 6 lignes de codes."
   ]
  },
  {
   "cell_type": "code",
   "execution_count": null,
   "metadata": {},
   "outputs": [],
   "source": [
    "# Tapez votre code ici:"
   ]
  },
  {
   "cell_type": "markdown",
   "metadata": {},
   "source": [
    "## Exercice (difficile)\n",
    "\n",
    "Théodore et ses amis du club de maths viennent vous proposer un nouveau défi. Saurez-vous élaborer un programme qui permette non pas de vérifier si un nombre est premier ou pas, mais de trouver **TOUS** les nombres premiers présents sur une plage de nombre donnée.\n",
    "Vous devez afficher tous les nombres premiers trouvés, ainsi que le nombre total de nombres premiers trouvés.\n",
    "\n",
    "Pour vérifier les réponses de votre programme sachez qu'il existe:\n",
    "- 25 nombre premiers entre 2 et 100.\n",
    "- 21 nombre premiers entre 100 et 200.\n",
    "\n",
    "Une liste plus précise est disponible sur cette [page wikipédia](https://fr.wikipedia.org/wiki/Liste_de_nombres_premiers) ou bien [sur ce site là](https://www.nombres-premiers.fr/liste.html) si vous voulez avoir le détail des nombres.\n",
    "\n",
    "**ASTUCES**\n",
    "\n",
    "- Afin d'améliorer la vitesse de votre programme vous pouvez utiliser deux méthodes :\n",
    "\n",
    "   1. Utilisez une boucle ``for`` afin de récupérer chaque nombre de la plage étudiée, mais lors du test de chaque nombre utilisez plutôt une boucle ``while`` afin de tester si le nombre est premier ou pas. En écrivant la bonne condition au ``while`` vous pouvez ainsi faire en sorte que la boucle cesse dès lors que l'on sait que le nombre testé n'est pas premier.\n",
    "   \n",
    "   1. Pour accélérer de manière notable la vitesse d'exécution du code, on peut utiliser le théorème suivant : **\"Si n n'est divisible par aucun des nombres premiers inférieur ou égaux à sa racine carrée, on peut affirmer qu'il est premier.\"** Au lieu de tester jusqu'au nombre cible, on peut s'arrêter à sa racine carrée. En python il existe différent moyen d'écrire la racine carrée, une méthode simple et rapide et d'utiliser la puissance 0.5 : ``n**0.5``"
   ]
  },
  {
   "cell_type": "code",
   "execution_count": null,
   "metadata": {},
   "outputs": [],
   "source": []
  },
  {
   "cell_type": "markdown",
   "metadata": {
    "tags": [
     "fr"
    ]
   },
   "source": [
    "## Poursuivons les itérations sur les listes"
   ]
  },
  {
   "cell_type": "markdown",
   "metadata": {
    "tags": [
     "fr"
    ]
   },
   "source": [
    "## La fonction enumerate()\n",
    "\n",
    "On a parfois envie de récupérer aussi l'index (la position) de l'élément en question. Pour cela on utilise la fonction ``enumerate()``. ``Enumerate`` retourne deux valeurs : l'index, qui est stockée dans la première variable qu'on lui indique, et l'élément lui-même qui est stocké dans la seconde variable.\n",
    "\n",
    "Beaucoup de programmeurs nomment \"i\" (diminutif de \"index\") la variable contenant l'index de l'élément traité par la boucle."
   ]
  },
  {
   "cell_type": "code",
   "execution_count": null,
   "metadata": {
    "tags": [
     "fr"
    ]
   },
   "outputs": [],
   "source": [
    "panier = [\"kiwi\", \"poire\", \"pomme\", \"ananas\", \"framboise\"]\n",
    "\n",
    "for i, el in enumerate(panier):\n",
    "    print(f\"Index : {i} - Element : {el}\")"
   ]
  },
  {
   "cell_type": "markdown",
   "metadata": {
    "tags": [
     "fr"
    ]
   },
   "source": [
    "## Exercice (moyen)\n",
    "\n",
    "Écrire un programme qui parcourt la liste suivante et remplace toutes les strings \"banane\" en \"gorille\" en utilisant ``enumerate()``."
   ]
  },
  {
   "cell_type": "code",
   "execution_count": null,
   "metadata": {
    "tags": [
     "fr"
    ]
   },
   "outputs": [],
   "source": [
    "liste = [\"mangue\", \"banane\", \"kiwi\", \"orange\",\n",
    "         \"banane\", \"banane\", \"banane\", \"banane\",\n",
    "         \"fraise\", \"poire\", \"banane\", \"peche\", \"banane\",\n",
    "         \"ananas\"]\n",
    "\n",
    "# Tapez le code ici:"
   ]
  },
  {
   "cell_type": "markdown",
   "metadata": {},
   "source": [
    "## Exercice (moyen/difficile)\n",
    "\n",
    "Ecrivez un programme qui demande à l'utilisateur de rentrer ses notes une par une puis, dès qu'il entre autre chose qu'un nombre, lui affiche la liste de toutes ses notes ainsi que sa moyenne. Pour simplifier, on considère que toutes les notes sont des nombres entiers (mais la moyenne elle peut être un *float*).\n",
    "\n",
    "Petite difficulté supplémentaire, cette fois-ci vous n'avez pas le droit d'utiliser la fonction ``len()``. Au lieu de cela, utilisez enumerate et récupérez l'index. Ce dernier vous servira à calculer le nombre de notes.\n",
    "\n",
    "**ASTUCES**:\n",
    "\n",
    "- Pour que l'utilisateur puisse entrer des notes, on utilise la fonction ``input()``. Rappellez-vous que cette fonction stocke la réponse de l'utilisateur en format string.\n",
    "- Utilisez une boucle ``while`` afin que l'utilisateur puisse entrer autant de notes qu'il le désire. Quittez cette boucle si la note entrée n'est pas un nombre, pour tester cela, utilisez la méthode ``.isdigit()`` qui renvoie ``True`` si une chaîne de caractères ne contient que des nombres.\n",
    "- Une fois que vous savez que l'utilisateur a entré un nombre, n'oubliez pas de convertir cette chaîne de caractère en format numérique avec la fonction ``int()``.\n",
    "- Ajoutez chaque nombre dans une liste avec ``.append()``. \n",
    "- Vous avez plusieurs moyens de calculer la moyenne. Par exemple vous pouvez utilisez une boucle ``for`` avec ``enumerate`` sur la liste de notes en se servant de l'index final pour connaître le nombre d'éléments de la liste. Il faudra peut-être rectifier sa valeur.\n",
    "- Vous aurez besoin de stocker les informations dans une variable et une liste, n'oubliez pas de remettre la variable à 0 et de vider la liste au début de votre code.\n",
    "- Vous pouvez effectuer des calculs directement dans une f-string.\n",
    "- Réalisable en 9 ou 10 lignes de code.\n",
    "- Comme d'habitude, avancez progressivement en vérifiant à chaque étape que votre code fonctionne."
   ]
  },
  {
   "cell_type": "code",
   "execution_count": null,
   "metadata": {},
   "outputs": [],
   "source": [
    "# Tapez votre code ici !"
   ]
  },
  {
   "cell_type": "markdown",
   "metadata": {},
   "source": [
    "# Exercice (moyen / difficile)\n",
    "\n",
    "Modifiez le programme précédent pour que celui-ci demande à l'utilisateur d'entrer un mot ou un nombre puis stocke la réponse dans deux listes différentes : une liste nommée \"mots\" qui ne contiendra que des chaînes de caractère, et l'autre nommé \"entiers\" qui ne contiendra que des entiers (*integers*). Pour ne pas créer une boucle infini, prévoyez que le programme quitte la boucle d'entrée lorsque l'utilisateur écrit \"stop\" en minuscule.\n",
    "\n",
    "A la fin, affichez les deux listes.\n",
    "\n",
    "**ASTUCES**\n",
    "\n",
    "- Réalisable en 9 lignes de code."
   ]
  },
  {
   "cell_type": "code",
   "execution_count": null,
   "metadata": {},
   "outputs": [],
   "source": [
    "# Entrez votre code ici\n"
   ]
  },
  {
   "cell_type": "markdown",
   "metadata": {
    "tags": [
     "fr"
    ]
   },
   "source": [
    "## Trouver l'index d'une valeur\n",
    "\n",
    "On utilise la méthode ``.index()``. Par exemple :"
   ]
  },
  {
   "cell_type": "code",
   "execution_count": null,
   "metadata": {
    "tags": [
     "fr"
    ]
   },
   "outputs": [],
   "source": [
    "ma_liste = [\"Mon premier élément\", \"Mon second élément\", 16.767, \"Mon quatrième élément\", True, \"Mon cinquième élément\"]\n",
    "\n",
    "print(\"L'index de 'Mon quatrième élément' est :\", ma_liste.index(\"Mon quatrième élément\"))"
   ]
  },
  {
   "cell_type": "markdown",
   "metadata": {
    "tags": [
     "fr"
    ]
   },
   "source": [
    "## Manipulation de listes : retirer un élément"
   ]
  },
  {
   "cell_type": "markdown",
   "metadata": {
    "tags": [
     "fr"
    ]
   },
   "source": [
    "### Par l'index avec la fonction ``del``\n",
    "\n",
    "En lui donnant comme argument l'élément, via son index, à effacer. Exemple :"
   ]
  },
  {
   "cell_type": "code",
   "execution_count": null,
   "metadata": {
    "tags": [
     "fr"
    ]
   },
   "outputs": [],
   "source": [
    "animaux_des_villes = [\"chat\", \"chien\", \"ornithorynque\"]\n",
    "\n",
    "print(\"animaux_des_villes avant : \", animaux_des_villes)\n",
    "\n",
    "del animaux_des_villes[2]\n",
    "\n",
    "print(\"animaux_des_villes après : \", animaux_des_villes)"
   ]
  },
  {
   "cell_type": "markdown",
   "metadata": {
    "tags": [
     "fr"
    ]
   },
   "source": [
    "### Par son nom avec la méthode ``.remove()``\n",
    "\n",
    "On peut aussi utiliser la méthode ``.remove()`` qui prend comme argument l'élément que l'on souhaite retirer. Exemple :"
   ]
  },
  {
   "cell_type": "code",
   "execution_count": null,
   "metadata": {
    "tags": [
     "fr"
    ]
   },
   "outputs": [],
   "source": [
    "animaux_des_villes = [\"chat\", \"chien\", \"ornithorynque\"]\n",
    "\n",
    "print(\"animaux_des_villes avant : \", animaux_des_villes)\n",
    "\n",
    "animaux_des_villes.remove(\"ornithorynque\")\n",
    "\n",
    "print(\"animaux_des_villes après : \", animaux_des_villes)"
   ]
  },
  {
   "cell_type": "markdown",
   "metadata": {
    "tags": [
     "fr"
    ]
   },
   "source": [
    "Et si jamais il y a deux fois le même élément dans la liste ? ``.remove()`` enlève le premier qu'il trouve !"
   ]
  },
  {
   "cell_type": "code",
   "execution_count": null,
   "metadata": {
    "tags": [
     "fr"
    ]
   },
   "outputs": [],
   "source": [
    "animaux_des_villes = [\"chat\", \"ornithorynque\", \"chien\", \"ornithorynque\"]\n",
    "\n",
    "print(\"animaux_des_villes avant : \", animaux_des_villes)\n",
    "\n",
    "animaux_des_villes.remove(\"ornithorynque\")\n",
    "\n",
    "print(\"animaux_des_villes après le .remove() : \", animaux_des_villes)"
   ]
  },
  {
   "cell_type": "markdown",
   "metadata": {
    "tags": [
     "fr"
    ]
   },
   "source": [
    "Cette fonction \"itère\" dans la liste, c'est-à-dire qu'elle se déplace d'élement en élément dans l'ordre de l'index, elle vérifie si le nom correspond, et si c'est le cas elle l'efface. Nous aurons l'occasion de revenir sur le concept d'itération plus loin."
   ]
  },
  {
   "cell_type": "markdown",
   "metadata": {
    "tags": [
     "fr"
    ]
   },
   "source": [
    "## Exercice (facile)\n",
    "\n",
    "Dans la liste suivante :\n",
    "\n",
    "- Retirez avec ``.remove()`` les arachnides (scorpions, araignées).\n",
    "- Uilisez ``del`` pour retirer les insectes.\n",
    "- Affichez les mammifères restants\n",
    "\n",
    "**ASTUCES**:\n",
    "\n",
    "- Attention, la suppression des premiers éléments va décaler l'index des autres."
   ]
  },
  {
   "cell_type": "code",
   "execution_count": null,
   "metadata": {},
   "outputs": [],
   "source": [
    "grenier = [\"scorpion\", \"fourmi\", \"chauve-souris\", \"loire\", \"araignée\", \"papillon\", \"souris\"]\n",
    "\n",
    "# Tapez votre code ici :"
   ]
  },
  {
   "cell_type": "markdown",
   "metadata": {
    "tags": [
     "fr"
    ]
   },
   "source": [
    "# Génération de nombres aléatoires"
   ]
  },
  {
   "cell_type": "markdown",
   "metadata": {
    "tags": [
     "fr"
    ]
   },
   "source": [
    "## Aperçu des librairies\n",
    "\n",
    "Les librairies sont des sortes de bibliothèques qui permettent à Python \"d'apprendre\" des fonctions supplémentaires. Pour importer une librairie, il suffit d'écrire au début du code :\n",
    "\n",
    "```python\n",
    "import le_nom_de_ma_librairie\n",
    "```\n",
    "\n",
    "Puis d'indiquer que l'on veut utiliser la fonction de cette librairie, et pas d'une autre :\n",
    "\n",
    "```python\n",
    "le_nom_de_ma_librairie.le_nom_de_ma_fonction()\n",
    "\n",
    "```"
   ]
  },
  {
   "cell_type": "markdown",
   "metadata": {
    "tags": [
     "fr"
    ]
   },
   "source": [
    "## La fonction ``randint()``\n",
    "\n",
    "Ici pour générer un nombre aléatoire nous allons utiliser la librairie \"random\" qui contient une fonction fort utile : ``randint()``.\n",
    "\n",
    "Celle-ci prend deux paramètres : la borne inférieure (comprise) et la borne supérieure (comprise également).\n",
    "\n",
    "Exemple avec un nombre aléatoire compris entre 0 et 10. Remarquez qu'à chaque fois que nous relançons la cellule il est très probable que le nombre affiché soit différent. C'est normal puisque celui-ci est généré aléatoirement."
   ]
  },
  {
   "cell_type": "code",
   "execution_count": null,
   "metadata": {},
   "outputs": [],
   "source": [
    "import random\n",
    "\n",
    "random.randint(0,10)"
   ]
  },
  {
   "cell_type": "markdown",
   "metadata": {
    "tags": [
     "fr"
    ]
   },
   "source": [
    "## Exercice (moyen)\n",
    "\n",
    "Théodore vous propose un jeu amusant : il pense à un nombre compris entre 1 et 10 et vous devez deviner ce nombre. À chaque fois que vous vous trompez il vous indique si le nombre que vous avez proposé est plus grand ou plus petit que le nombre à deviner.\n",
    "\n",
    "**ASTUCES**:\n",
    "\n",
    "- Vous devez utiliser ``input()`` pour que le joueur saisisse un nombre.\n",
    "- Si le joueur ne trouve pas le nombre du premier coup, il faudra lui redemander de saisir un nouveau nombre (et donc utiliser encore la fonction ``input()``).\n",
    "- N'oubliez pas de mettre au bon format la variable entrée.\n",
    "- Tant que le jeu n'est pas fini, il faut Vous n'avez besoin que d'une seule boucle ``while``."
   ]
  },
  {
   "cell_type": "code",
   "execution_count": null,
   "metadata": {},
   "outputs": [],
   "source": [
    "# Tapez votre code ici:"
   ]
  },
  {
   "cell_type": "markdown",
   "metadata": {
    "tags": [
     "fr"
    ]
   },
   "source": [
    "## Le paramètre \"step\" de la fonction range"
   ]
  },
  {
   "cell_type": "markdown",
   "metadata": {
    "tags": [
     "fr"
    ]
   },
   "source": [
    "Si on donne 3 arguments à la fonction ``range()``, il considèrera le dernier nombre comme le \"pas\", aussi appelé l'incrément ou le \"*step*\". Par défaut celui-ci est de 1. C'est pour cela que dans les deux derniers exemples de la partie sur ``range()`` les nombres se suivaient tous.\n",
    "\n",
    "La syntaxe complète de range est donc celle-ci :\n",
    "```python\n",
    "\n",
    "range(start, stop, step)\n",
    "\n",
    "```\n",
    "Mais imaginons que nous ne voulons afficher que les nombres pairs de 4 jusqu'à 16. Exemple :"
   ]
  },
  {
   "cell_type": "code",
   "execution_count": null,
   "metadata": {},
   "outputs": [],
   "source": [
    "for nombre in range(4,16,2):\n",
    "    print(nombre)"
   ]
  },
  {
   "cell_type": "markdown",
   "metadata": {
    "tags": [
     "fr"
    ]
   },
   "source": [
    "Encore une fois, vous constatez que la borne supérieure, le 16, ne s'affiche pas. En revanche si on change le 16 par un 17, on a :"
   ]
  },
  {
   "cell_type": "code",
   "execution_count": null,
   "metadata": {},
   "outputs": [],
   "source": [
    "for nombre in range(4,17,2):\n",
    "    print(nombre)"
   ]
  },
  {
   "cell_type": "markdown",
   "metadata": {
    "tags": [
     "fr"
    ]
   },
   "source": [
    "## Exercice (moyen)\n",
    "\n",
    "En utilisant une variable nommée \"etoile\" valant ``\"*\"``, ainsi qu'une boucle ``for`` et ``range()``, afficher le résultat suivant:\n",
    "    \n",
    "```python\n",
    "***\n",
    "******\n",
    "*********\n",
    "************\n",
    "***************\n",
    "******************\n",
    "*********************\n",
    "\n",
    "```\n",
    "\n",
    "**ASTUCE**:\n",
    "\n",
    "- Cette fois utilisez le paramètre \"step\" !\n",
    "- Les étoiles sont désormais empilées trois par trois."
   ]
  },
  {
   "cell_type": "code",
   "execution_count": null,
   "metadata": {},
   "outputs": [],
   "source": [
    "etoile = \"*\"\n",
    "\n",
    "# Tapez votre code ici :"
   ]
  }
 ],
 "metadata": {
  "kernelspec": {
   "display_name": "Python 3 (ipykernel)",
   "language": "python",
   "name": "python3"
  },
  "language_info": {
   "codemirror_mode": {
    "name": "ipython",
    "version": 3
   },
   "file_extension": ".py",
   "mimetype": "text/x-python",
   "name": "python",
   "nbconvert_exporter": "python",
   "pygments_lexer": "ipython3",
   "version": "3.10.9"
  }
 },
 "nbformat": 4,
 "nbformat_minor": 4
}
