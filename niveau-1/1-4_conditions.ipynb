{
 "cells": [
  {
   "cell_type": "markdown",
   "metadata": {},
   "source": [
    "# Définition"
   ]
  },
  {
   "cell_type": "markdown",
   "metadata": {},
   "source": [
    "## Idée générale\n",
    "Pour l'instant tout ce que nous avons fait est d'exécuter des lignes de code les unes à la suite des autres. Mais l'objet même de la programmation est de pouvoir s'adapter au contenu des données que nous utilisons en entrée.\n",
    "\n",
    "Pour cela on a envie de faire des \"tests\", c'est-à-dire de vérifier si une condition est remplie et si c'est le cas de faire certaines actions. Revenons au marché et prenons un exemple : si il nous avons encore de l'argent, profitons-en pour remplir nptre frigo de légumes. Mais si nous n'avons plus d'argent dans notre porte-monnaie, peut-être serait-il sage d'arrêter de faire notre marché.\n",
    "\n",
    "```\n",
    "si j'ai encore de l'argent dans mon portefeuille :\n",
    "    acheter des légumes\n",
    "si je n'ai plus d'argent :\n",
    "    rentrer chez moi\n",
    "```"
   ]
  },
  {
   "cell_type": "markdown",
   "metadata": {},
   "source": [
    "## L'identation\n",
    "\n",
    "<img src=\"files/tab.jpg\" alt=\"tab\" width=\"200\" align=\"left\"/>\n",
    "Dans l'exemple plus haut Vous remarquerez qu'il existe un \"décalage\", un espace, entre la ligne qui contient la condition à tester et celle qui contient l'action à réaliser.\n",
    "\n",
    "C'est ce qu'on appelle **\"l'identation\"**. C'est-à-dire le fait de rajouter des espaces, ou des séries d'espace grâce à la touche \"tabulation\" pour faire ressortir des blocs de code. Par exemple :"
   ]
  },
  {
   "cell_type": "raw",
   "metadata": {},
   "source": [
    "bonjour\n",
    "    voici une ligne identée\n",
    "    celle-ci aussi\n",
    "        celle-là est identée par rapport à la précédente\n",
    "        et celle-ci aussi\n",
    "Et nous voici revenu à la normale"
   ]
  },
  {
   "cell_type": "markdown",
   "metadata": {},
   "source": [
    "# Tests et conditions"
   ]
  },
  {
   "cell_type": "markdown",
   "metadata": {},
   "source": [
    "## L'instruction \"if\"\n",
    "\n",
    "L'instruction \"if\", qui signifie, \"si\" en anglais permet d'effectuer une condition. Si c'est condition est remplie le code identé au-dessous s'exécutera, sinon il ne sera pas exécuté. Pour tester une condition on utilise des opérateurs tels que :\n",
    "\n",
    "- ``<`` signifie \"inférieur à\"\n",
    "- ``>`` signifie \"supérieur à\"\n",
    "- ``==`` signifie \"est égal à\"\n",
    "\n",
    "**Note:** Remarquez que le signe ``==`` est différent de ``=``. Le premier test si deux expressions (ou variables) sont égales. Le second affecte le contenu de l'expression de droite dans celle de gauche. Exemple :"
   ]
  },
  {
   "cell_type": "code",
   "execution_count": 4,
   "metadata": {},
   "outputs": [
    {
     "data": {
      "text/plain": [
       "False"
      ]
     },
     "execution_count": 4,
     "metadata": {},
     "output_type": "execute_result"
    }
   ],
   "source": [
    "une_variable = 1 # Désormais cette variable vaut 1\n",
    "\n",
    "une_variable == 1 # On teste si cette variable est égal à 1"
   ]
  },
  {
   "cell_type": "code",
   "execution_count": null,
   "metadata": {},
   "outputs": [],
   "source": []
  }
 ],
 "metadata": {
  "kernelspec": {
   "display_name": "Python 3",
   "language": "python",
   "name": "python3"
  },
  "language_info": {
   "codemirror_mode": {
    "name": "ipython",
    "version": 3
   },
   "file_extension": ".py",
   "mimetype": "text/x-python",
   "name": "python",
   "nbconvert_exporter": "python",
   "pygments_lexer": "ipython3",
   "version": "3.7.3"
  }
 },
 "nbformat": 4,
 "nbformat_minor": 4
}
