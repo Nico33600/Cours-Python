{
 "cells": [
  {
   "cell_type": "markdown",
   "metadata": {},
   "source": [
    "# Définition"
   ]
  },
  {
   "cell_type": "markdown",
   "metadata": {},
   "source": [
    "## Idée générale\n",
    "Pour l'instant tout ce que nous avons fait est d'exécuter des lignes de code les unes à la suite des autres. Mais l'objet même de la programmation est de pouvoir s'adapter au contenu des données que nous utilisons en entrée.\n",
    "\n",
    "Pour cela on a envie de faire des \"tests\", c'est-à-dire de vérifier si une condition est remplie et si c'est le cas de faire certaines actions. Revenons au marché et prenons un exemple : si il nous avons encore de l'argent, profitons-en pour remplir nptre frigo de légumes. Mais si nous n'avons plus d'argent dans notre porte-monnaie, peut-être serait-il sage d'arrêter de faire notre marché.\n",
    "\n",
    "```\n",
    "si j'ai encore de l'argent dans mon portefeuille :\n",
    "    acheter des légumes\n",
    "si je n'ai plus d'argent :\n",
    "    rentrer chez moi\n",
    "```"
   ]
  },
  {
   "cell_type": "markdown",
   "metadata": {},
   "source": [
    "## L'identation\n",
    "\n",
    "<img src=\"files/tab.jpg\" alt=\"tab\" width=\"200\" align=\"left\"/>\n",
    "Dans l'exemple plus haut Vous remarquerez qu'il existe un \"décalage\", un espace, entre la ligne qui contient la condition à tester et celle qui contient l'action à réaliser.\n",
    "\n",
    "C'est ce qu'on appelle **\"l'identation\"**. C'est-à-dire le fait de rajouter des espaces, ou des séries d'espace grâce à la touche \"tabulation\" pour faire ressortir des blocs de code. Les blocs peuvent être identés successivement, on parle alors de niveaux d'identation. Par exemple :"
   ]
  },
  {
   "cell_type": "raw",
   "metadata": {},
   "source": [
    "bonjour\n",
    "    voici une ligne identée\n",
    "    celle-ci aussi\n",
    "        celle-là est identée par rapport à la précédente\n",
    "        et celle-ci aussi\n",
    "Et nous voici revenu à la normale"
   ]
  },
  {
   "cell_type": "markdown",
   "metadata": {},
   "source": [
    "# Tests et conditions"
   ]
  },
  {
   "cell_type": "markdown",
   "metadata": {},
   "source": [
    "## L'instruction \"if\"\n",
    "\n",
    "L'instruction \"if\", qui signifie \"si\" en anglais, permet d'exécuter du code si jamais une certaine condition est remplie.\n",
    "\n",
    "Une condition est un test qui permet de tester une valeur.\n",
    "\n",
    "Si c'est condition est remplie le code identé au-dessous s'exécutera, sinon il ne sera pas exécuté. Pour tester une condition on utilise des opérateurs tels que :\n",
    "\n",
    "- ``<`` signifie \"inférieur à\"\n",
    "- ``>`` signifie \"supérieur à\"\n",
    "- ``>=`` signifie \"supérieur ou égal à\"\n",
    "- ``<=`` signifie \"inférieur ou égal à\"\n",
    "- ``==`` signifie \"est égal à\"\n",
    "\n",
    "**Note:** Remarquez que le signe ``==`` est différent de ``=``. Le premier teste si deux expressions sont égales. Le second affecte le contenu de l'expression de droite dans celle de gauche. Exemple :"
   ]
  },
  {
   "cell_type": "code",
   "execution_count": 23,
   "metadata": {},
   "outputs": [],
   "source": [
    "une_variable = 3 # Désormais cette variable vaut 3"
   ]
  },
  {
   "cell_type": "markdown",
   "metadata": {},
   "source": [
    "Lorsqu'on effectue une condition, python génère un résultat qui est soit vrai (``true``) ou faux (``false``). Exemple :"
   ]
  },
  {
   "cell_type": "code",
   "execution_count": 24,
   "metadata": {},
   "outputs": [
    {
     "data": {
      "text/plain": [
       "True"
      ]
     },
     "execution_count": 24,
     "metadata": {},
     "output_type": "execute_result"
    }
   ],
   "source": [
    "une_variable == 3"
   ]
  },
  {
   "cell_type": "code",
   "execution_count": 25,
   "metadata": {},
   "outputs": [
    {
     "data": {
      "text/plain": [
       "False"
      ]
     },
     "execution_count": 25,
     "metadata": {},
     "output_type": "execute_result"
    }
   ],
   "source": [
    "une_variable == 4"
   ]
  },
  {
   "cell_type": "markdown",
   "metadata": {},
   "source": [
    "Par \"expression\" on entend tout objet pouvant être évalué, comme une variable, un caractère, un nombre, ainsi que leur association, par exemple en utilisant des parenthèses. Ex:"
   ]
  },
  {
   "cell_type": "code",
   "execution_count": 27,
   "metadata": {},
   "outputs": [
    {
     "data": {
      "text/plain": [
       "True"
      ]
     },
     "execution_count": 27,
     "metadata": {},
     "output_type": "execute_result"
    }
   ],
   "source": [
    "(une_variable + 3) == (2 + 2 * 2)"
   ]
  },
  {
   "cell_type": "code",
   "execution_count": 28,
   "metadata": {},
   "outputs": [
    {
     "data": {
      "text/plain": [
       "True"
      ]
     },
     "execution_count": 28,
     "metadata": {},
     "output_type": "execute_result"
    }
   ],
   "source": [
    "(une_variable * une_variable) == 9"
   ]
  },
  {
   "cell_type": "code",
   "execution_count": 29,
   "metadata": {},
   "outputs": [
    {
     "data": {
      "text/plain": [
       "False"
      ]
     },
     "execution_count": 29,
     "metadata": {},
     "output_type": "execute_result"
    }
   ],
   "source": [
    "(une_variable * une_variable) == 9.000001"
   ]
  },
  {
   "cell_type": "code",
   "execution_count": 30,
   "metadata": {},
   "outputs": [
    {
     "name": "stdout",
     "output_type": "stream",
     "text": [
      "Oui, cette variable est bien égale à trois. Car la condition 'une_variable == 3' retourne 'true'\n"
     ]
    }
   ],
   "source": [
    "if une_variable == 3:\n",
    "    print(\"Oui, cette variable est bien égale à trois. Car la condition 'une_variable == 3' retourne 'true'\")\n"
   ]
  },
  {
   "cell_type": "markdown",
   "metadata": {},
   "source": [
    "Mais cela marche également pour les chaînes de caractères bien évidemment."
   ]
  },
  {
   "cell_type": "code",
   "execution_count": 31,
   "metadata": {},
   "outputs": [
    {
     "name": "stdout",
     "output_type": "stream",
     "text": [
      "Ce légume a un label AB\n"
     ]
    }
   ],
   "source": [
    "label = \"Agriculture Biologique\"\n",
    "\n",
    "if label == \"Agriculture Biologique\":\n",
    "    print(\"Ce légume a un label AB\")\n",
    "    "
   ]
  },
  {
   "cell_type": "code",
   "execution_count": null,
   "metadata": {},
   "outputs": [],
   "source": []
  }
 ],
 "metadata": {
  "kernelspec": {
   "display_name": "Python 3",
   "language": "python",
   "name": "python3"
  },
  "language_info": {
   "codemirror_mode": {
    "name": "ipython",
    "version": 3
   },
   "file_extension": ".py",
   "mimetype": "text/x-python",
   "name": "python",
   "nbconvert_exporter": "python",
   "pygments_lexer": "ipython3",
   "version": "3.7.3"
  }
 },
 "nbformat": 4,
 "nbformat_minor": 4
}
