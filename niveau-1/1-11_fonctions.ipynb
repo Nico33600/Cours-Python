{
 "cells": [
  {
   "cell_type": "markdown",
   "metadata": {},
   "source": [
    "LES FONCTIONS"
   ]
  },
  {
   "cell_type": "markdown",
   "metadata": {},
   "source": [
    "# Définition\n",
    "\n",
    "Nous avons déjà utilisé de grands nombres de fonctions jusqu'à présent. Cependant en Python il est très facile de pouvoir créer les siennes en quelques lignes seulement ! "
   ]
  },
  {
   "cell_type": "markdown",
   "metadata": {},
   "source": [
    "## Syntaxe\n",
    "\n",
    "Pour cela on utilise la syntaxe suivante, qui est très similaire à celles des boucles ou des tests :\n",
    "\n",
    "- On commence par écrire le mot-clé ``def``  pour faire comprendre à Python que la suite sera une fonction.\n",
    "- On écrit le nom de sa fonction.\n",
    "- On oublie pas les parenthèses à la fin.\n",
    "- On ajoute le signe ``:`` pour préciser que la suite sera le contenu de la fonction"
   ]
  },
  {
   "cell_type": "code",
   "execution_count": null,
   "metadata": {},
   "outputs": [],
   "source": [
    "def ma_premiere_fonction():\n",
    "    print(\"Félicitations ! Vous venez d'écrire votre première fonction !\")"
   ]
  },
  {
   "cell_type": "markdown",
   "metadata": {},
   "source": [
    "## Exécution"
   ]
  },
  {
   "cell_type": "markdown",
   "metadata": {},
   "source": [
    "Tiens ? Mais quand on l'éxecute rien ne se passe ? C'est normal, votre fonction est désormais **définie**, elle existe quelque part dans la mémoire de Python. Pour l'exécuter, il faut tout simplement l'appeler comme n'importe quelle autre fonction."
   ]
  },
  {
   "cell_type": "code",
   "execution_count": null,
   "metadata": {},
   "outputs": [],
   "source": [
    "ma_premiere_fonction()"
   ]
  },
  {
   "cell_type": "markdown",
   "metadata": {},
   "source": [
    "## L'instruction ``return``\n",
    "\n",
    "C'est elle qui gère les paramètres de sortie. Ici notre programme affiche une ligne, mais il ne **retourne** aucune valeur. Grâce à ``return``, on peut lui spécifier qu'après avoir exécuté les opérations il doit générer une ou plusieurs valeurs en sortie. On va faire ceci grâce à ``return``."
   ]
  },
  {
   "cell_type": "code",
   "execution_count": null,
   "metadata": {},
   "outputs": [],
   "source": [
    "def ma_deuxieme_fonction():\n",
    "    return \"Félicitations ! Vous venez d'écrire votre deuxième fonction !\"\n",
    "\n",
    "ma_deuxieme_fonction()"
   ]
  },
  {
   "cell_type": "markdown",
   "metadata": {},
   "source": [
    "Ici la fonction a **retourné** une string au lieu de l'afficher. Examinez la différence si on utilise la fonction qu'on a créé en argument de la fonction ``print()`` :"
   ]
  },
  {
   "cell_type": "code",
   "execution_count": null,
   "metadata": {},
   "outputs": [],
   "source": [
    "# Premier cas\n",
    "\n",
    "print(ma_premiere_fonction())"
   ]
  },
  {
   "cell_type": "code",
   "execution_count": null,
   "metadata": {},
   "outputs": [],
   "source": [
    "# Deuxième cas\n",
    "\n",
    "print(ma_deuxieme_fonction())"
   ]
  },
  {
   "cell_type": "markdown",
   "metadata": {},
   "source": [
    "- Dans le premier cas la fonction s'est exécutée. Elle a donc affiché la ligne. Mais elle n'a pas de ``return``, donc elle ne retourne rien. En Python rien est un objet spécial de type ``None``.\n",
    "\n",
    "- Dans le deuxième cas la fonction s'est exécutée et elle a retournée une string. C'est un peu comme si elle s'était elle-même transformée en string. Comme on a donné un argument valable à ``Print()``, le résultat a pu être affiché !"
   ]
  },
  {
   "cell_type": "markdown",
   "metadata": {},
   "source": [
    "# Les arguments\n",
    "\n",
    "Tout ce qui se trouve entre les parenthèses sont les arguments, c'est-à-dire la ou les valeurs que prend en entrée la fonction."
   ]
  },
  {
   "cell_type": "markdown",
   "metadata": {},
   "source": [
    "## Utilisation des arguments\n",
    "\n",
    "Pour spécifier un argument, on lui donne en entrée un nom de variable. Notez que ce nom est propre à la fonction, vous pouvez l'appeler comme vous voulez. Toutefois une fois ce choix fait, il faut être consistant et l'appeler de la même manière pendant toute la définition de votre fonction.\n",
    "\n",
    "Imaginons qu'on écrive une fonction qui renvoie un nombre au carré:"
   ]
  },
  {
   "cell_type": "code",
   "execution_count": null,
   "metadata": {},
   "outputs": [],
   "source": [
    "def carre(x):\n",
    "    return x * x\n",
    "\n",
    "print(carre(2))\n",
    "print(carre(7))\n",
    "print(carre(9))"
   ]
  },
  {
   "cell_type": "markdown",
   "metadata": {},
   "source": [
    "Quand on **appelle** la fonction, c'est-à-dire qu'on l'exécute, on lui donne en entrée la valeur désirée. Cette valeur là prend ensuite la place de \"x\" dans notre fonction. Mais notez qu'on aurait pu écrire cela et obtenir exactement les mêmes résultats :"
   ]
  },
  {
   "cell_type": "code",
   "execution_count": null,
   "metadata": {},
   "outputs": [],
   "source": [
    "def carre(j_ecris_ce_que_je_veux):\n",
    "    return j_ecris_ce_que_je_veux * j_ecris_ce_que_je_veux\n",
    "\n",
    "print(carre(2))\n",
    "print(carre(7))\n",
    "print(carre(9))\n",
    "\n",
    "nombre = 49\n",
    "\n",
    "print(carre(nombre))"
   ]
  },
  {
   "cell_type": "markdown",
   "metadata": {},
   "source": [
    "## Arguments par défaut\n",
    "\n",
    "Si l'utilisateur ne spécifie pas d'arguments, on peut en définir par défaut en lui précisant en utilisant le signe ``=``. Ex:"
   ]
  },
  {
   "cell_type": "code",
   "execution_count": null,
   "metadata": {},
   "outputs": [],
   "source": [
    "def multiplie_par_10(x=10):\n",
    "    return x * 10\n",
    "\n",
    "print(multiplie_par_10()) # ici on ne rentre aucune valeur\n",
    "print(multiplie_par_10(5))\n",
    "print(multiplie_par_10(23))\n",
    "print(multiplie_par_10()) # ici non plus"
   ]
  },
  {
   "cell_type": "markdown",
   "metadata": {},
   "source": [
    "## Exercice - ```Max()``` (moyen)\n",
    "\n",
    "La fonction ``max()`` de python renvoie la valeur la plus élevée de certains objets, comme les listes par exemple. Par exemple :"
   ]
  },
  {
   "cell_type": "code",
   "execution_count": null,
   "metadata": {},
   "outputs": [],
   "source": [
    "nombres = [5, 8, 1, 6, 9, 12]\n",
    "max(nombres)"
   ]
  },
  {
   "cell_type": "markdown",
   "metadata": {},
   "source": [
    "Reprogrammez-la en utilisant des tests et des boucles. Nommez-la ``max2()``."
   ]
  },
  {
   "cell_type": "code",
   "execution_count": null,
   "metadata": {},
   "outputs": [],
   "source": [
    "# Complétez la fonction:\n",
    "\n",
    "def max2(suite):\n",
    "    \n",
    "    \n",
    "    \n",
    "    \n",
    "    return"
   ]
  },
  {
   "cell_type": "code",
   "execution_count": null,
   "metadata": {},
   "outputs": [],
   "source": [
    "# Utilisez cette cellule pour vérifier :\n",
    "nombres = [5,8,1,6,9,12]\n",
    "if max(nombres) == max2(nombres): print(\"Bravo !\")"
   ]
  },
  {
   "cell_type": "markdown",
   "metadata": {},
   "source": [
    "## Exercice (moyen) - ```.isdigit()```\n",
    "\n",
    "Vous vous souvenez de la méthode ``.isdigit()`` ? Celle-ci permet de savoir si une chaîne de caractère ne contient que des chiffres. Recreéez-la sous forme de fonction.\n",
    "\n",
    "**ASTUCES**:\n",
    "\n",
    "- Votre fonction doit retourner ``True`` ou ``False``\n",
    "- Une fonction peut tout à fait plusieurs ``return``, mais dès qu'elle en exécute un elle s'arrête immédiatement. Utilisez ce comportement à votre avantage !"
   ]
  },
  {
   "cell_type": "code",
   "execution_count": null,
   "metadata": {},
   "outputs": [],
   "source": [
    "def isdigit2(chaine):\n",
    "    \n",
    "    digits = ['0', '1', '2', '3', '4', '5', '6', '7', '8', '9']\n",
    "        \n",
    "# Tapez votre code ici !"
   ]
  },
  {
   "cell_type": "code",
   "execution_count": null,
   "metadata": {},
   "outputs": [],
   "source": [
    "isdigit2(\"5364\")"
   ]
  },
  {
   "cell_type": "markdown",
   "metadata": {},
   "source": [
    "## Exercice - Médiane (moyen/difficile)\n",
    "\n",
    "Créez une fonction nommée ``med()`` qui calcule la médiane d'une suite d'entiers stockée dans une liste.\n",
    "\n",
    "**RAPPEL:**\n",
    "\n",
    "La médiane d'un distribution est une valeur x qui permet de couper l'ensemble des valeurs en deux parties égales : mettant d'un côté une moitié des valeurs, qui sont toutes inférieures ou égales à x et de l'autre côté l'autre moitié des valeurs, qui sont toutes supérieures ou égales à x.\n",
    "\n",
    "Si le nombre de valeurs de la distribution est paire, la médiane est la moyenne des deux valeurs centrales.\n",
    "\n",
    "**ASTUCES**\n",
    "\n",
    "- On peut donner une liste comme argument à la fonction ``sorted()`` pour la classer par ordre croissant.\n",
    "- Convertir un ``float`` en ``int`` ne prend que la partie entière d'un nombre. Par exemple ``8.5`` converti en entier devient alors ``8``. Cela peut se révéler pratique dans le cas où cet entier doit être utilisé comme index d'une liste.\n",
    "- Il y a deux cas de figure : soit le nombre d'éléments de la suite est paire, soit il est impaire."
   ]
  },
  {
   "cell_type": "code",
   "execution_count": null,
   "metadata": {},
   "outputs": [],
   "source": [
    "def med(suite):\n",
    "\n",
    "# Tapez votre code ici"
   ]
  },
  {
   "cell_type": "code",
   "execution_count": null,
   "metadata": {},
   "outputs": [],
   "source": [
    "# Une fois votre fonction écrite,\n",
    "# utilisez cette cellule pour vérifier que votre code\n",
    "# vous donne la bonne réponse !\n",
    "\n",
    "import numpy as np\n",
    "\n",
    "a = [172.67,3,78,-67, 8900, 8, 19, 9, 89]\n",
    "\n",
    "print(\"médiane (avec notre fonction) =\", med(a))\n",
    "print(\"mediane (avec numpy) =\", np.median(a))\n",
    "if med(a) == np.median(a) : print (\"bravo !\")\n",
    "else: print(\"On cherche encore un peu !\")"
   ]
  },
  {
   "cell_type": "markdown",
   "metadata": {},
   "source": [
    "## Exercice - Mode (difficile)\n",
    "\n",
    "La valeur modale est la valeur la plus présente dans une distribution. Prenons par exemple la suite suivante : ``[2, 3, 3, 5, -1, 3, 12, 3]``\n",
    "\n",
    "Sa valeur modale est \"3\", car elle y est présente 4 fois. Ce nombre, 4, s'appelle aussi l'effectif de la valeur modale.\n",
    "\n",
    "Une distribution peut avoir plusieurs modes puisqu'il peut y avoir une égalité entre les valeurs les plus présentes. Par exemple la suite ``[2, 3, 3, 4, 4]`` a deux valeurs modales : 3 et 4 (et l'effectif de ces deux valeurs modales est 2).\n",
    "\n",
    "**Sans utiliser la fonction ``max()`` ou ``count()``**, écrire une fonction nommée ``mode()`` qui renvoie la ou les valeurs modales avec l'effectif qui y est associé. La fonction doit donc renvoyer deux objets : une liste contenant le ou les valeurs modales et un nombre correspondant à l'effectif de cette valeur ou de ces valeurs. Exemple :\n",
    "\n",
    "```python\n",
    "mode([2, 3, 19, 2, 1, 0, -7, 2])\n",
    ">>> ([2], 3)\n",
    "```\n",
    "```python\n",
    "mode([7, 8, 9, 8, 9])\n",
    ">>> ([8, 9], 2)\n",
    "```\n",
    "**ASTUCES**\n",
    "\n",
    "- L'utilisation d'un dictionnaire est une bonne idée.\n",
    "- L'une des solutions à cet exercice peut vous amener à manipuler des nombres infinis, en ce cas on peut utiliser ``float('inf')`` ou ``float('-inf')``.\n",
    "- ``sorted()`` peut là encore être utilisé."
   ]
  },
  {
   "cell_type": "code",
   "execution_count": null,
   "metadata": {},
   "outputs": [],
   "source": [
    "def mode(suite):\n",
    "    \n",
    "# Tapez votre code ici"
   ]
  },
  {
   "cell_type": "code",
   "execution_count": null,
   "metadata": {},
   "outputs": [],
   "source": [
    "# Une fois votre fonction écrite,\n",
    "# utilisez cette cellule pour vérifier que votre code\n",
    "# vous donne la bonne réponse ! \n",
    "\n",
    "from scipy import stats\n",
    "\n",
    "b = [50, 70, 80, 90, 70, 60, 50, 60, 40, 30, 30, 80, 120, 150, 50, 60, 80, 90, 60, 30, 60, 70, 90, 90, 90, 50, 50]\n",
    "\n",
    "print(\"mode (avec notre fonction) =\", mode(b))\n",
    "print(\"mode (avec stats) =\", stats.mode(b)[0][0], \",\", stats.mode(b)[1][0])\n",
    "\n",
    "# Notez que la fonction stats n'affiche que la valeur modale la plus petite.\n",
    "# Pourtant dans le cas de b il y a bien trois valeurs modales à trouver.\n",
    "# Notre fonction est donc meilleure que celle de la librairie scipy ! :)"
   ]
  },
  {
   "cell_type": "markdown",
   "metadata": {},
   "source": [
    "## Exercice - Calcul de la pluviométrie (difficile)\n",
    "\n",
    "Ecrivez une fonction qui prend une liste d'entiers positifs, représentant chacun la hauteur d'un bâtiment, et détermine ensuite le volume maximum d'eau qui peut être contenu dans cette structure. Par exemple la liste ``[5,0,4,2,0,3]`` peut être représentée sous cette forme :\n",
    "\n",
    "```\n",
    "___               \n",
    "| |   ___         \n",
    "| |   | |      ___\n",
    "| |   | |___   | |\n",
    "| |   |    |   | |\n",
    "| |___|    |___| |\n",
    "```\n",
    "\n",
    "Le premier bâtiment s'étend sur 5 étages, soit 5 lignes, puisque sa hauteur est de 5. Le second est plat puisque sa hauteur est de 0 etc.\n",
    "Par convention la largeur de chaque bâtiment est de 1 (même si graphiquement cette largeur est représentée par une suite de 3 caractères).\n",
    "\n",
    "En imaginant qu'il se mette à pleuvoir sur cette \"ville\", alors l'eau va commencer à s'accumuler et former des poches entre les deux plus grands bâtiments de part et d'autre :\n",
    "\n",
    "```\n",
    "___               \n",
    "| |   ___         \n",
    "| |+++| |      ___\n",
    "| |+++| |±±±+++| |\n",
    "| |+++|    |+++| |\n",
    "| |±±±|    |±±±| |\n",
    "````\n",
    "\n",
    "Ici, graphiquement, chaque groupe de trois +++ représente un volume d'eau. On constate donc que cette \"ville\" peut contenir 8 volumes d'eau. C'est ce résultat, le nombre de volumes d'eau, que la fonction devra retourner.\n",
    "\n",
    "Exemples:\n",
    "- Input: ``[1, 2, 1, 2]``\n",
    "- Output: ``1``\n",
    "- Input: ``[5, 0, 4, 2, 0, 3]``\n",
    "- Output: ``8``\n",
    "- Input: ``[0, 2, 4, 0, 2, 1, 2, 6]``\n",
    "- Output: ``11``\n",
    "- Input: ``[10, 0, 1, 2, 0, 12]``\n",
    "- Output: ``37``\n",
    "- Input: ``[0, 0, 12, 4, 0, 5, 15, 2, 4, 7, 0, 3, 6, 2, 2, 2, 2, 4]``\n",
    "- Output: ``52``\n",
    "\n",
    "<div style=\"page-break-after: always;\"></div>"
   ]
  },
  {
   "cell_type": "code",
   "execution_count": null,
   "metadata": {},
   "outputs": [],
   "source": []
  }
 ],
 "metadata": {
  "kernelspec": {
   "display_name": "Python 3",
   "language": "python",
   "name": "python3"
  },
  "language_info": {
   "codemirror_mode": {
    "name": "ipython",
    "version": 3
   },
   "file_extension": ".py",
   "mimetype": "text/x-python",
   "name": "python",
   "nbconvert_exporter": "python",
   "pygments_lexer": "ipython3",
   "version": "3.8.5"
  }
 },
 "nbformat": 4,
 "nbformat_minor": 4
}
