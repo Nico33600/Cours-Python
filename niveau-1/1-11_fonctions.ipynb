{
 "cells": [
  {
   "cell_type": "markdown",
   "metadata": {
    "tags": [
     "fr"
    ]
   },
   "source": [
    "# LES FONCTIONS"
   ]
  },
  {
   "cell_type": "markdown",
   "metadata": {
    "tags": [
     "fr"
    ]
   },
   "source": [
    "Nous avons déjà utilisé de grands nombres de fonctions jusqu'à présent. Cependant en programmation il est courant de créer ses propres fonctions qui seront ainsi parfaitement adaptées à nos besoins. Python permet de faire cela très facilement en quelques lignes seulement ! "
   ]
  },
  {
   "cell_type": "markdown",
   "metadata": {
    "tags": [
     "fr"
    ]
   },
   "source": [
    "# Syntaxe\n",
    "\n",
    "Pour cela on utilise la syntaxe suivante, qui est très similaire à celles des boucles ou des tests :\n",
    "\n",
    "- On commence par écrire le mot-clé ``def``  pour faire comprendre à Python que la suite sera une fonction.\n",
    "- On écrit le nom que l'on veut lui donner.\n",
    "- On ajoute des parenthèses entre lesquels on indiquera, éventuellement, des arguments.\n",
    "- On ajoute le signe ``:`` pour préciser que la suite sera le contenu de la fonction\n",
    "- A n'importe quel moment de la fonction on peut lui indiquer qu'on veut qu'elle nous retourne une valeur à l'aide de l'instruction ``return``. Mais ceci n'est pas obligatoire."
   ]
  },
  {
   "cell_type": "code",
   "execution_count": null,
   "metadata": {
    "tags": [
     "fr"
    ]
   },
   "outputs": [],
   "source": [
    "def ma_premiere_fonction():\n",
    "    return \"Félicitations ! Vous venez d'écrire votre première fonction !\""
   ]
  },
  {
   "cell_type": "markdown",
   "metadata": {
    "tags": [
     "fr"
    ]
   },
   "source": [
    "## Exécution"
   ]
  },
  {
   "cell_type": "markdown",
   "metadata": {
    "tags": [
     "fr"
    ]
   },
   "source": [
    "Tiens ? Mais quand on l'éxecute rien ne se passe ? C'est normal, votre fonction est désormais **définie**, elle existe quelque part dans la mémoire de Python. Pour l'exécuter, il faut tout simplement l'appeler comme n'importe quelle autre fonction. On dit aussi qu'on \"appelle\" cette fonction."
   ]
  },
  {
   "cell_type": "code",
   "execution_count": null,
   "metadata": {
    "tags": [
     "fr"
    ]
   },
   "outputs": [],
   "source": [
    "ma_premiere_fonction()"
   ]
  },
  {
   "cell_type": "markdown",
   "metadata": {},
   "source": [
    "# Les arguments\n",
    "\n",
    "Tout ce qui se trouve entre les parenthèses sont les arguments, c'est-à-dire la ou les valeurs que prend en entrée la fonction."
   ]
  },
  {
   "cell_type": "markdown",
   "metadata": {},
   "source": [
    "## Utilisation des arguments\n",
    "\n",
    "Pour spécifier un argument, on lui donne en entrée un nom de variable. Notez que ce nom est propre à la fonction, il s'agit d'une variable local, et vous pouvez l'appeler comme vous voulez. Toutefois, une fois ce choix fait, il faut être consistant et l'appeler de la même manière pendant toute la définition de votre fonction.\n",
    "\n",
    "Imaginons qu'on écrive une fonction qui renvoie un nombre au carré:"
   ]
  },
  {
   "cell_type": "code",
   "execution_count": null,
   "metadata": {},
   "outputs": [],
   "source": [
    "def carre(x):\n",
    "    return x * x\n",
    "\n",
    "print(carre(2))\n",
    "print(carre(7))\n",
    "print(carre(9))"
   ]
  },
  {
   "cell_type": "markdown",
   "metadata": {},
   "source": [
    "Quand on **appelle** la fonction, c'est-à-dire qu'on l'exécute, on lui donne en entrée la valeur désirée. Cette valeur là prend ensuite la place de \"x\" dans notre fonction. Mais remarquez que nous aurions pu écrire cela et obtenir exactement les mêmes résultats :"
   ]
  },
  {
   "cell_type": "code",
   "execution_count": null,
   "metadata": {},
   "outputs": [],
   "source": [
    "def carre(j_ecris_ce_que_je_veux):\n",
    "    return j_ecris_ce_que_je_veux * j_ecris_ce_que_je_veux\n",
    "\n",
    "print(carre(2))\n",
    "print(carre(7))\n",
    "print(carre(9))\n",
    "\n",
    "# On peut également donner une variable comme argument\n",
    "nombre = 49\n",
    "print(carre(nombre))"
   ]
  },
  {
   "cell_type": "markdown",
   "metadata": {
    "tags": [
     "fr"
    ]
   },
   "source": [
    "## L'instruction ``return``\n",
    "\n",
    "La grande majorité des fonctions comporte une ou plusieurs instructions ``return``. Cette instruction gère les paramètres de sortie, elle indique donc en quoi ce qu'elle renvoie, ce qu'elle retourne, en quoi se \"transforme\" notre fonction. Après avoir exécuté un ``return`` la fonction se termine automatiquement sans exécuter les autres lignes de code.\n",
    "\n",
    "Dans l'exemple suivant la fonction retourne le carré d'un nombre si on lui donne un nombre en entier. Sinon, si on lui a donné du texte, elle passe la phrase en majuscules. Dans tous les autres cas elle ne retourne rien."
   ]
  },
  {
   "cell_type": "code",
   "execution_count": null,
   "metadata": {
    "tags": [
     "fr"
    ]
   },
   "outputs": [],
   "source": [
    "def carre_ou_maj(x):\n",
    "    if isinstance(x, int): return x * x\n",
    "    elif isinstance(x, str): return x.upper()"
   ]
  },
  {
   "cell_type": "code",
   "execution_count": null,
   "metadata": {
    "tags": [
     "fr"
    ]
   },
   "outputs": [],
   "source": [
    "carre_ou_maj(2)"
   ]
  },
  {
   "cell_type": "code",
   "execution_count": null,
   "metadata": {
    "tags": [
     "fr"
    ]
   },
   "outputs": [],
   "source": [
    "carre_ou_maj(\"vélo\")"
   ]
  },
  {
   "cell_type": "code",
   "execution_count": null,
   "metadata": {
    "tags": [
     "fr"
    ]
   },
   "outputs": [],
   "source": [
    "carre_ou_maj(['une liste', 56, 71])"
   ]
  },
  {
   "cell_type": "markdown",
   "metadata": {
    "tags": [
     "fr"
    ]
   },
   "source": [
    "### Exercice (facile)\n",
    "\n",
    "Ecrivez une fonction qui prend en entrée une chaîne de caractère ou un nombre.\n",
    "\n",
    "- Si c'est une string, retournez la string sous forme de liste où chaque élément est en majuscules.\n",
    "- Si c'est un nombre, retournez une string contenant le caractère \"#\" autant de fois que le nombre qui a été rentré.\n",
    "\n",
    "**Astuces**\n",
    "\n",
    "- Pour traiter la chaîne de caractère vous pouvez utiliser une liste compréhensive ou bien la fonction ``list()``.\n",
    "- Une fois que vous avez défini la fonction, n'oubliez pas de l'appeler pour vérifier si elle fonctionne."
   ]
  },
  {
   "cell_type": "code",
   "execution_count": null,
   "metadata": {
    "tags": [
     "fr"
    ]
   },
   "outputs": [],
   "source": [
    "def exo_facile(x):\n",
    "    # tapez votre code ici"
   ]
  },
  {
   "cell_type": "markdown",
   "metadata": {
    "tags": [
     "fr"
    ]
   },
   "source": [
    "## Arguments par défaut\n",
    "\n",
    "Si l'utilisateur ne spécifie pas d'arguments, on peut en définir par défaut en lui précisant en utilisant le signe ``=``. Ex:"
   ]
  },
  {
   "cell_type": "code",
   "execution_count": null,
   "metadata": {
    "tags": [
     "fr"
    ]
   },
   "outputs": [],
   "source": [
    "def multiplie_par_10(x=10):\n",
    "    return x * 10\n",
    "\n",
    "print(multiplie_par_10()) # ici on ne rentre aucune valeur\n",
    "print(multiplie_par_10(5))\n",
    "print(multiplie_par_10(23))\n",
    "print(multiplie_par_10()) # ici non plus"
   ]
  },
  {
   "cell_type": "markdown",
   "metadata": {},
   "source": [
    "## Arguments multiples\n",
    "\n",
    "On peut donner différents arguments à une fonction en les séparant par une virgule. Par exemple la fonction suivante retourne différents nombres multipliés entre eux :"
   ]
  },
  {
   "cell_type": "code",
   "execution_count": null,
   "metadata": {},
   "outputs": [],
   "source": [
    "def mult(a, b, c):\n",
    "    return a * b * c\n",
    "\n",
    "mult(3, 4, 5)"
   ]
  },
  {
   "cell_type": "markdown",
   "metadata": {},
   "source": [
    "### Exercice (facile)\n",
    "\n",
    "Ecrivez une fonction nommée ``convert()`` qui convertit des degrés celsius en degrés fahrenheit ou des degrés celsius en degré fahrenheit. Elle prend en entrée deux arguments :\n",
    "\n",
    "- Une valeur (int ou float).\n",
    "- L'unité de cette valeur, est-elle un degré celsius ou fahrenheit ? Vous pouvez utiliser les lettres \"C\" ou \"F\" pour désigner chacune des unités.\n",
    "\n",
    "Le programme vous retourne alors la valeur convertie dans l'unité où elle n'est pas.\n",
    "\n",
    "Pour rappel :\n",
    "\n",
    "- température Fahrenheit = (température Celsius x 9/5) + 32\n",
    "\n",
    "- température Celsius = (température Fahrenheit - 32) × 5/9"
   ]
  },
  {
   "cell_type": "code",
   "execution_count": null,
   "metadata": {},
   "outputs": [],
   "source": [
    "# tapez votre code ici\n",
    "\n"
   ]
  },
  {
   "cell_type": "markdown",
   "metadata": {
    "tags": [
     "fr"
    ]
   },
   "source": [
    "## Exercices\n",
    "\n",
    "Pour la série d'exercices suivants ne vous préoccupez pas des messages d'erreur. Faites au plus simple, il n'y aura besoin que d'un seul argument et une seule instruction ``return`` pour résoudre chacun de ces problèmes"
   ]
  },
  {
   "cell_type": "markdown",
   "metadata": {
    "tags": [
     "fr"
    ]
   },
   "source": [
    "## Exercice - ```Max()``` (moyen)\n",
    "\n",
    "La fonction ``max()`` de python renvoie la valeur la plus élevée de certains objets, comme les listes par exemple. Par exemple :"
   ]
  },
  {
   "cell_type": "code",
   "execution_count": null,
   "metadata": {
    "tags": [
     "fr"
    ]
   },
   "outputs": [],
   "source": [
    "nombres = [5, 8, 1, 6, 9, 12]\n",
    "max(nombres)"
   ]
  },
  {
   "cell_type": "markdown",
   "metadata": {},
   "source": [
    "Reprogrammez-la en utilisant des tests et des boucles. Nommez-la ``max2()``."
   ]
  },
  {
   "cell_type": "code",
   "execution_count": null,
   "metadata": {},
   "outputs": [],
   "source": [
    "# Complétez la fonction:\n",
    "\n",
    "def max2(suite):\n",
    "    \n",
    "    \n",
    "    \n",
    "    \n",
    "    return"
   ]
  },
  {
   "cell_type": "code",
   "execution_count": null,
   "metadata": {},
   "outputs": [],
   "source": [
    "# Utilisez cette cellule pour vérifier vos résultats :\n",
    "nombres = [5,8,1,6,9,12]\n",
    "if max(nombres) == max2(nombres): print(\"Bravo !\")"
   ]
  },
  {
   "cell_type": "markdown",
   "metadata": {},
   "source": [
    "## Exercice (moyen) - ```.isdigit()```\n",
    "\n",
    "Vous vous souvenez de la méthode ``.isdigit()`` ? Celle-ci permet de savoir si une chaîne de caractère ne contient que des chiffres. Recreéez-la sous forme de fonction.\n",
    "\n",
    "**ASTUCES**:\n",
    "\n",
    "- Votre fonction doit retourner ``True`` ou ``False``\n",
    "- Une fonction peut tout à fait comporter plusieurs ``return``, mais dès qu'elle en exécute un elle s'arrête immédiatement. Utilisez ce comportement à votre avantage !\n",
    "- Vous pouvez utiliser ``not`` pour raccourcir un peu votre code."
   ]
  },
  {
   "cell_type": "code",
   "execution_count": null,
   "metadata": {},
   "outputs": [],
   "source": [
    "def isdigit2(chaine):\n",
    "    \n",
    "    digits = '0123456789'\n",
    "        \n",
    "# Tapez votre code ici !"
   ]
  },
  {
   "cell_type": "code",
   "execution_count": 27,
   "metadata": {},
   "outputs": [
    {
     "name": "stdout",
     "output_type": "stream",
     "text": [
      "Bravo !\n",
      "Bravo !\n"
     ]
    }
   ],
   "source": [
    "if isdigit2(\"5364\") == True: print(\"Bravo !\")\n",
    "if isdigit2(\"5A364a\") == False: print(\"Bravo !\") "
   ]
  },
  {
   "cell_type": "markdown",
   "metadata": {
    "tags": [
     "fr"
    ]
   },
   "source": [
    "## Exercice - Médiane (moyen/difficile)\n",
    "\n",
    "Créez une fonction nommée ``med()`` qui calcule la médiane d'une suite d'entiers stockée dans une liste.\n",
    "\n",
    "**RAPPEL:**\n",
    "\n",
    "La médiane d'un distribution est une valeur x qui permet de couper l'ensemble des valeurs en deux parties égales : mettant d'un côté une moitié des valeurs, qui sont toutes inférieures ou égales à x et de l'autre côté l'autre moitié des valeurs, qui sont toutes supérieures ou égales à x.\n",
    "\n",
    "Si le nombre de valeurs de la distribution est paire, la médiane est la moyenne des deux valeurs centrales.\n",
    "\n",
    "**ASTUCES**\n",
    "\n",
    "- On peut donner une liste comme argument à la fonction ``sorted()`` pour la classer par ordre croissant.\n",
    "- Convertir un ``float`` en ``int`` ne prend que la partie entière d'un nombre. Par exemple ``8.5`` converti en entier devient alors ``8``. Cela peut se révéler pratique dans le cas où cet entier doit être utilisé comme index d'une liste.\n",
    "- Il y a deux cas de figure : soit le nombre d'éléments de la suite est paire, soit il est impaire."
   ]
  },
  {
   "cell_type": "code",
   "execution_count": null,
   "metadata": {},
   "outputs": [],
   "source": [
    "def med(suite):\n",
    "\n",
    "# Tapez votre code ici"
   ]
  },
  {
   "cell_type": "code",
   "execution_count": 31,
   "metadata": {
    "tags": []
   },
   "outputs": [
    {
     "name": "stdout",
     "output_type": "stream",
     "text": [
      "médiane (avec notre fonction) = 19\n",
      "mediane (avec numpy) = 19.0\n",
      "bravo !\n"
     ]
    }
   ],
   "source": [
    "# Une fois votre fonction écrite,\n",
    "# utilisez cette cellule pour vérifier que votre code\n",
    "# vous donne la bonne réponse !\n",
    "\n",
    "import numpy as np\n",
    "\n",
    "a = [172.67,3,78,-67, 8900, 8, 19, 9, 89]\n",
    "\n",
    "print(\"médiane (avec notre fonction) =\", med(a))\n",
    "print(\"mediane (avec numpy) =\", np.median(a))\n",
    "if med(a) == np.median(a) : print (\"bravo !\")\n",
    "else: print(\"Raté !\")"
   ]
  },
  {
   "cell_type": "markdown",
   "metadata": {
    "tags": [
     "fr"
    ]
   },
   "source": [
    "## Exercice - Mode (difficile)\n",
    "\n",
    "La valeur modale est la valeur la plus présente dans une distribution. Prenons par exemple la suite suivante : ``[2, 3, 3, 5, -1, 3, 12, 3]``\n",
    "\n",
    "Sa valeur modale est \"3\", car elle y est présente 4 fois. Ce nombre, 4, s'appelle aussi l'effectif de la valeur modale.\n",
    "\n",
    "Une distribution peut avoir plusieurs modes puisqu'il peut y avoir une égalité entre les valeurs les plus présentes. Par exemple la suite ``[17, 34, 34, 42, 42]`` a deux valeurs modales : 34 et 42 (et l'effectif de ces deux valeurs modales est 2).\n",
    "\n",
    "**Sans utiliser la fonction ``max()`` ou ``count()``**, écrire une fonction nommée ``mode()`` qui renvoie la ou les valeurs modales avec l'effectif qui y est associé. La fonction doit donc renvoyer deux objets : une liste contenant le ou les valeurs modales et un nombre correspondant à l'effectif de cette valeur ou de ces valeurs. Exemple :\n",
    "\n",
    "```python\n",
    "mode([2, 3, 19, 2, 1, 0, -7, 2])\n",
    ">>> ([2], 3)\n",
    "```\n",
    "```python\n",
    "mode([7, 8, 9, 8, 9])\n",
    ">>> ([8, 9], 2)\n",
    "```\n",
    "**ASTUCES**\n",
    "\n",
    "- L'utilisation d'un dictionnaire est une bonne idée.\n",
    "- L'une des solutions à cet exercice peut vous amener à manipuler des nombres infinis, en ce cas on peut utiliser ``float('inf')`` ou ``float('-inf')``.\n",
    "- ``sorted()`` peut là encore être utilisé."
   ]
  },
  {
   "cell_type": "code",
   "execution_count": null,
   "metadata": {},
   "outputs": [],
   "source": [
    "def mode(suite):\n",
    "    \n",
    "# Tapez votre code ici"
   ]
  },
  {
   "cell_type": "code",
   "execution_count": null,
   "metadata": {
    "tags": [
     "fr"
    ]
   },
   "outputs": [],
   "source": [
    "# Une fois votre fonction écrite,\n",
    "# utilisez cette cellule pour vérifier que votre code\n",
    "# vous donne la bonne réponse ! \n",
    "\n",
    "from scipy import stats\n",
    "\n",
    "b = [50, 70, 80, 90, 70, 60, 50, 60, 40, 30, 30, 80, 120, 150, 50, 60, 80, 90, 60, 30, 60, 70, 90, 90, 90, 50, 50]\n",
    "\n",
    "print(\"mode (avec notre fonction) =\", mode(b))\n",
    "print(\"mode (avec stats) =\", stats.mode(b)[0][0], \",\", stats.mode(b)[1][0])\n",
    "\n",
    "# Notez que la fonction stats n'affiche que la valeur modale la plus petite.\n",
    "# Pourtant dans le cas de b il y a bien trois valeurs modales à trouver.\n",
    "# Notre fonction est donc meilleure que celle de la librairie scipy ! :)"
   ]
  },
  {
   "cell_type": "markdown",
   "metadata": {
    "tags": [
     "fr"
    ]
   },
   "source": [
    "## Exercice - Calcul de la pluviométrie (difficile)\n",
    "\n",
    "Ecrivez une fonction qui prend une liste d'entiers positifs, représentant chacun la hauteur d'un bâtiment, et détermine ensuite le volume maximum d'eau qui peut être contenu dans cette structure. Par exemple la liste ``[5,0,4,2,0,3]`` peut être représentée sous cette forme :\n",
    "\n",
    "```\n",
    "___               \n",
    "| |   ___         \n",
    "| |   | |      ___\n",
    "| |   | |___   | |\n",
    "| |   |    |   | |\n",
    "| |___|    |___| |\n",
    "```\n",
    "\n",
    "Le premier bâtiment s'étend sur 5 étages, soit 5 lignes, puisque sa hauteur est de 5. Le second est plat puisque sa hauteur est de 0 etc.\n",
    "Par convention la largeur de chaque bâtiment est de 1 (même si graphiquement cette largeur est représentée par une suite de 3 caractères).\n",
    "\n",
    "En imaginant qu'il se mette à pleuvoir sur cette \"ville\", alors l'eau va commencer à s'accumuler et former des poches entre les deux plus grands bâtiments de part et d'autre :\n",
    "\n",
    "```\n",
    "___               \n",
    "| |   ___         \n",
    "| |+++| |      ___\n",
    "| |+++| |±±±+++| |\n",
    "| |+++|    |+++| |\n",
    "| |±±±|    |±±±| |\n",
    "````\n",
    "\n",
    "Ici, graphiquement, chaque groupe de trois +++ représente un volume d'eau. On constate donc que cette \"ville\" peut contenir 8 volumes d'eau. C'est ce résultat, le nombre de volumes d'eau, que la fonction devra retourner.\n",
    "\n",
    "Exemples:\n",
    "- Input: ``[1, 2, 1, 2]``\n",
    "- Output: ``1``\n",
    "- Input: ``[5, 0, 4, 2, 0, 3]``\n",
    "- Output: ``8``\n",
    "- Input: ``[0, 2, 4, 0, 2, 1, 2, 6]``\n",
    "- Output: ``11``\n",
    "- Input: ``[10, 0, 1, 2, 0, 12]``\n",
    "- Output: ``37``\n",
    "- Input: ``[0, 0, 12, 4, 0, 5, 15, 2, 4, 7, 0, 3, 6, 2, 2, 2, 2, 4]``\n",
    "- Output: ``52``\n",
    "\n",
    "<div style=\"page-break-after: always;\"></div>"
   ]
  },
  {
   "cell_type": "code",
   "execution_count": null,
   "metadata": {
    "tags": [
     "fr"
    ]
   },
   "outputs": [],
   "source": [
    "def compute_water_qty(arr):\n",
    "    water_qty_total = 0\n",
    "    # tapez votre code ici\n",
    "    # il est possible de le résoudre en une seule ligne (une boucle for et son instruction à la suite)\n",
    "    return water_qty_total"
   ]
  },
  {
   "cell_type": "code",
   "execution_count": 6,
   "metadata": {
    "tags": [
     "fr"
    ]
   },
   "outputs": [
    {
     "name": "stdout",
     "output_type": "stream",
     "text": [
      "Test 1 : Succès\n",
      "Test 2 : Succès\n",
      "Test 3 : Succès\n",
      "Test 4 : Succès\n",
      "Test 5 : Succès\n"
     ]
    }
   ],
   "source": [
    "# utiliser cette cellule pour tester votre fonction\n",
    "\n",
    "test = {\"1\":[[1, 2, 1, 2], 1],\n",
    "        \"2\":[[5, 0, 4, 2, 0, 3], 8],\n",
    "        \"3\":[[0, 2, 4, 0, 2, 1, 2, 6], 11],\n",
    "        \"4\":[[10, 0, 1, 2, 0, 12], 37],\n",
    "        \"5\":[[0, 0, 12, 4, 0, 5, 15, 2, 4, 7, 0, 3, 6, 2, 2, 2, 2, 4], 52]}\n",
    "\n",
    "for k, v in test.items():\n",
    "    if compute_water_qty(v[0]) == v[1]: print(f\"Test {k} : Succès\")\n",
    "    else: print(f\"Test {k} : Echec\")"
   ]
  },
  {
   "cell_type": "code",
   "execution_count": null,
   "metadata": {},
   "outputs": [],
   "source": []
  }
 ],
 "metadata": {
  "kernelspec": {
   "display_name": "Python 3 (ipykernel)",
   "language": "python",
   "name": "python3"
  },
  "language_info": {
   "codemirror_mode": {
    "name": "ipython",
    "version": 3
   },
   "file_extension": ".py",
   "mimetype": "text/x-python",
   "name": "python",
   "nbconvert_exporter": "python",
   "pygments_lexer": "ipython3",
   "version": "3.10.8"
  }
 },
 "nbformat": 4,
 "nbformat_minor": 4
}
