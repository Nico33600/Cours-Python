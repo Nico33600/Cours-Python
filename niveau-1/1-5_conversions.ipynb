{
 "cells": [
  {
   "cell_type": "markdown",
   "metadata": {},
   "source": [
    "# Définition\n",
    "\n",
    "Jusqu'à présent nous avons vu que les variables pouvaient être de différents types : ``int``, ``str``, ``float`` ou ``bool`` par exemple. Mais parfois nous avons besoin de convertir un type de variable vers un autre\n",
    "\n",
    "Heureusement certaines fonctions sont là pour cela :  ``int()``, ``str()``, ``float()`` et ``bool()``."
   ]
  },
  {
   "cell_type": "markdown",
   "metadata": {},
   "source": [
    "# Vérification des données entrées\n",
    "\n",
    "Jusqu'à présent nous entrions les données en modifiant directement les variables dans le code. Mais que se passe-t-il si nous souhaitons que ce soit l'utilisateur qui rentre différentes valeurs sans toucher au code ?\n",
    "\n",
    "C'est tout à fait possible ! Mais comme les utilisateurs ont une fâcheuse tendance à ne pas faire ce que l'on attend d'eux, il va falloir vérifier que les données entrées soient valables."
   ]
  },
  {
   "cell_type": "markdown",
   "metadata": {},
   "source": [
    "## La fonction ``input()``\n",
    "\n",
    "Elle permet tout simplement de saisir un texte ou un nombre sans avoir à modifier le code. Elle n'est utile que pour faire des tests dans Jupyter Lab ou dans la console. \n",
    "\n",
    "**Attention !** Car en utilisant ``input()`` la variable récupérée est de type ``str``. Si on veut effectuer des modifications il faut la convertir dans un autre format numérique en utilisant la fonction ``int()``."
   ]
  },
  {
   "cell_type": "code",
   "execution_count": 1,
   "metadata": {},
   "outputs": [
    {
     "name": "stdout",
     "output_type": "stream",
     "text": [
      "Quel est votre nom ?\n"
     ]
    },
    {
     "name": "stdin",
     "output_type": "stream",
     "text": [
      " Wissam\n"
     ]
    },
    {
     "name": "stdout",
     "output_type": "stream",
     "text": [
      "Wissam ? Quel joli nom !\n"
     ]
    }
   ],
   "source": [
    "print(\"Quel est votre nom ?\")\n",
    "nom = input()\n",
    "print(nom,\"? Quel joli nom !\")"
   ]
  },
  {
   "cell_type": "markdown",
   "metadata": {},
   "source": [
    "## Les fonctions de conversion : ``int()``\n",
    "\n",
    "La fonction ``int()``, à ne pas confondre avec le type ``int``, permet de convertir une chaîne de caractère en un nombre entier. Si la conversion réussit, le programme continue de s'exécuter. Dans le cas contraire, il renvoie une erreur et s'arrête. N'hésitez pas à tester par vous-même ces possibilités."
   ]
  },
  {
   "cell_type": "markdown",
   "metadata": {},
   "source": [
    "### Conversion d'une string vers un integer\n",
    "\n",
    "Si tous les caractères de la string sont des nombres, alors la conversion peut s'effectuer sans erreur."
   ]
  },
  {
   "cell_type": "code",
   "execution_count": 164,
   "metadata": {},
   "outputs": [
    {
     "name": "stdout",
     "output_type": "stream",
     "text": [
      "variable_a_convertir contient 12 et est de type : <class 'str'>\n",
      "variable_a_convertir contient 12 et est de type : <class 'int'>\n"
     ]
    }
   ],
   "source": [
    "variable_a_convertir = \"12\" # Ici variable_a_convertir est une chaîne de caractère.\n",
    "print (\"variable_a_convertir contient\", variable_a_convertir, \"et est de type :\", type(variable_a_convertir))\n",
    "\n",
    "variable_a_convertir = int(variable_a_convertir) # Désormais variable_a_convertir est un entier !\n",
    "print (\"variable_a_convertir contient\", variable_a_convertir, \"et est de type :\", type(variable_a_convertir))"
   ]
  },
  {
   "cell_type": "markdown",
   "metadata": {},
   "source": [
    "### Conversion d'un float vers un integer\n",
    "\n",
    "Dans ce cas présent la conversion ne prend que la partie entière du nombre, elle ne l'arrondit pas ! Pour ceci il existe d'autres fonctions que nous verrons plus loin."
   ]
  },
  {
   "cell_type": "code",
   "execution_count": 165,
   "metadata": {},
   "outputs": [
    {
     "name": "stdout",
     "output_type": "stream",
     "text": [
      "variable_a_convertir contient 12.9999 et est de type : <class 'float'>\n",
      "variable_a_convertir contient 12 et est de type : <class 'int'>\n"
     ]
    }
   ],
   "source": [
    "variable_a_convertir = 12.9999 # Ici variable_a_convertir est un flottant.\n",
    "print (\"variable_a_convertir contient\", variable_a_convertir, \"et est de type :\", type(variable_a_convertir))\n",
    "\n",
    "variable_a_convertir = int(variable_a_convertir) # Désormais variable_a_convertir est un entier !\n",
    "print (\"variable_a_convertir contient\", variable_a_convertir, \"et est de type :\", type(variable_a_convertir))"
   ]
  },
  {
   "cell_type": "markdown",
   "metadata": {},
   "source": [
    "## la méthode .isdigit()\n",
    "\n",
    "Une ``string`` est un type de donnée, mais c'est aussi une classe. Le fait que ce soit une classe permet d'utiliser des méthodes, c'est-à-dire des sortes de fonctions incluses même dans la définition de l'objet. Inutile de rentrer dans les détails pour l'instant.\n",
    "\n",
    "Lorsqu'on utilise une fonction, on place des arguments dans les parenthèses. Ex: ``print(\"ceci est mon argument\")``.\n",
    "\n",
    "Dans le cas d'une méthode on écrit le nom de l'objet, puis on rajoute un point avec le nom de la méthode, qui se termine par des parenthèses (mais nous ne sommes pas obligés de fournir des arguments).\n",
    "\n",
    "La méthode ``.isdigit()``, permet de savoir si une chaîne de caractère est un nombre ou pas. C'est-à-dire que si le contenu de la string n'est pas nul et si tous ses caractères sont des représentations de nombres (\"0\", \"1\", \"2\", \"3\", \"4\", \"5\", \"6\", \"7\", \"8\", \"9\").\n",
    "\n",
    "Exemple :"
   ]
  },
  {
   "cell_type": "code",
   "execution_count": 8,
   "metadata": {},
   "outputs": [
    {
     "data": {
      "text/plain": [
       "True"
      ]
     },
     "execution_count": 8,
     "metadata": {},
     "output_type": "execute_result"
    }
   ],
   "source": [
    "ceci_est_une_string = \"164971717167\"\n",
    "ceci_est_une_string.isdigit()"
   ]
  },
  {
   "cell_type": "code",
   "execution_count": null,
   "metadata": {},
   "outputs": [],
   "source": [
    "## "
   ]
  },
  {
   "cell_type": "code",
   "execution_count": null,
   "metadata": {},
   "outputs": [],
   "source": [
    "## Exercice (moyen)\n",
    "\n"
   ]
  },
  {
   "cell_type": "markdown",
   "metadata": {},
   "source": [
    "## Exercice (difficile)\n",
    "\n",
    "Reprenez la même consigne que l'exercice précédent mais ajoutez une première structure conditionnelle pour vérifier que la personne a entré un nombre de type ``int``, et pas une ``str`` ou un ``float``. Adaptez-les messages d'erreurs en conséquence.\n",
    "\n",
    "**Astuces**:\n",
    "\n",
    "- Il vous faudra sans doute utiliser plusieurs niveaux d'identation. On parle alors de tests \"imbriqués\".\n",
    "- Pour vérifier le type d'une variable, il faudra faire appel à ``type()``.\n",
    "- Les mots ``int``, ``str`` et ``float`` sont des mots réservés de python et désignent, respectivement, les entiers, les chaînes de caractères et les flottants.\n",
    "- Pour que la conversion ne renvoie pas d'erreurs, il faudra utiliser les fonctions ``try`` et ``except``. Vous trouverez de [la documentation ici](https://docs.python.org/fr/3.5/tutorial/errors.html)."
   ]
  },
  {
   "cell_type": "code",
   "execution_count": null,
   "metadata": {},
   "outputs": [],
   "source": [
    "## Exercice (difficile)\n",
    "\n"
   ]
  },
  {
   "cell_type": "code",
   "execution_count": 114,
   "metadata": {},
   "outputs": [
    {
     "name": "stdout",
     "output_type": "stream",
     "text": [
      "ok\n"
     ]
    }
   ],
   "source": [
    "if type(size) == float: print(\"ok\")"
   ]
  },
  {
   "cell_type": "code",
   "execution_count": 1,
   "metadata": {},
   "outputs": [
    {
     "name": "stdin",
     "output_type": "stream",
     "text": [
      " 12\n"
     ]
    }
   ],
   "source": [
    "a = int(input())"
   ]
  },
  {
   "cell_type": "code",
   "execution_count": 2,
   "metadata": {},
   "outputs": [
    {
     "data": {
      "text/plain": [
       "int"
      ]
     },
     "execution_count": 2,
     "metadata": {},
     "output_type": "execute_result"
    }
   ],
   "source": [
    "type(a)"
   ]
  },
  {
   "cell_type": "code",
   "execution_count": null,
   "metadata": {},
   "outputs": [],
   "source": []
  },
  {
   "cell_type": "code",
   "execution_count": null,
   "metadata": {},
   "outputs": [],
   "source": []
  },
  {
   "cell_type": "code",
   "execution_count": null,
   "metadata": {},
   "outputs": [],
   "source": []
  },
  {
   "cell_type": "code",
   "execution_count": null,
   "metadata": {},
   "outputs": [],
   "source": []
  },
  {
   "cell_type": "code",
   "execution_count": null,
   "metadata": {},
   "outputs": [],
   "source": []
  },
  {
   "cell_type": "code",
   "execution_count": null,
   "metadata": {},
   "outputs": [],
   "source": []
  },
  {
   "cell_type": "code",
   "execution_count": null,
   "metadata": {},
   "outputs": [],
   "source": []
  },
  {
   "cell_type": "markdown",
   "metadata": {},
   "source": [
    "# A virer ?"
   ]
  },
  {
   "cell_type": "code",
   "execution_count": 166,
   "metadata": {},
   "outputs": [
    {
     "name": "stdout",
     "output_type": "stream",
     "text": [
      "Prends un parapluie !\n",
      "Et vas-y à pieds.\n"
     ]
    }
   ],
   "source": [
    "meteo = \"pluie\"\n",
    "#meteo = \"soleil\"\n",
    "#meteo = \"verglas\"\n",
    "#meteo = \"\"\n",
    "\n",
    "if meteo == \"pluie\" :\n",
    "    print(\"Prends un parapluie !\")\n",
    "    print(\"Et vas-y à pieds.\")\n",
    "    \n",
    "elif meteo == \"verglas\":\n",
    "    print(\"Attention, ça glisse\")\n",
    "    print(\"Il serait plus sûr de prendre le bus\")\n",
    "    \n",
    "elif meteo == \"soleil\":\n",
    "    print(\"Vas-y en vélo !\")\n",
    "    \n",
    "else:\n",
    "    print(\"Pas de données ou données incomplètes !\")"
   ]
  },
  {
   "cell_type": "code",
   "execution_count": null,
   "metadata": {},
   "outputs": [],
   "source": []
  }
 ],
 "metadata": {
  "kernelspec": {
   "display_name": "Python 3",
   "language": "python",
   "name": "python3"
  },
  "language_info": {
   "codemirror_mode": {
    "name": "ipython",
    "version": 3
   },
   "file_extension": ".py",
   "mimetype": "text/x-python",
   "name": "python",
   "nbconvert_exporter": "python",
   "pygments_lexer": "ipython3",
   "version": "3.7.3"
  }
 },
 "nbformat": 4,
 "nbformat_minor": 4
}
