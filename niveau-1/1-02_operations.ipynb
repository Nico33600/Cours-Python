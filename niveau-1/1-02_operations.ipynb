{
 "cells": [
  {
   "cell_type": "code",
   "execution_count": null,
   "metadata": {},
   "outputs": [],
   "source": []
  },
  {
   "cell_type": "markdown",
   "metadata": {},
   "source": [
    "Sans plus tarder, commençons à programmer."
   ]
  },
  {
   "cell_type": "markdown",
   "metadata": {},
   "source": [
    "# Arithmétique basique"
   ]
  },
  {
   "cell_type": "markdown",
   "metadata": {},
   "source": [
    "## Rappel du cours précédent"
   ]
  },
  {
   "cell_type": "markdown",
   "metadata": {},
   "source": [
    "### Quelques raccourcis communément utilisés dans Jupyter\n",
    "\n",
    "- Maj + entrée -> Exécuter le contenu d'une cellule\n",
    "\n",
    "On rappelle que la touche échap (souvent désignée par \"esc\" pour \"escape\") permet d'entrer en mode \"command\".\n",
    "\n",
    "- Esc + a -> Insérer une ligne au-dessus\n",
    "- Esc + b -> Insérer une ligne au-dessous\n",
    "- Esc + m -> Passer la cellule en format \"markdown\" (pour afficher du texte)\n",
    "- Esc + y -> Passer la cellule en mode \"code\" (qui peut donc être utilisé)\n",
    "- Esc + r -> Passer la cellule en mode \"raw\" (qui n'est ni du code, ni du markdown)\n",
    "- Esc + d d -> Effacer une cellule\n",
    "\n",
    "On pourra trouver une liste plus détaillée en [suivant ce lien](https://opensharing.fr/scripting-python-jupyter-shortcuts).\n"
   ]
  },
  {
   "cell_type": "markdown",
   "metadata": {},
   "source": [
    "### Afficher un message à l'aide de la fonction Print\n",
    "\n",
    "La fonction print permet d'afficher un message. La syntaxe est simplissime : il suffit de taper print(), et de lui donner comme argument le texte à afficher en le plaçant entre guillemets. Par exemple :"
   ]
  },
  {
   "cell_type": "code",
   "execution_count": 1,
   "metadata": {},
   "outputs": [
    {
     "name": "stdout",
     "output_type": "stream",
     "text": [
      "Hello World!\n"
     ]
    }
   ],
   "source": [
    "print(\"Hello World!\")"
   ]
  },
  {
   "cell_type": "markdown",
   "metadata": {},
   "source": [
    "Vous savez désormais ce qu'est une fonction en programmation : Cela ressemble beaucoup à une fonction en mathématiques. C'est-à-dire que c'est un processus qui, dans la plupart des cas, prend des paramètres en entrée et vous retourne (ou vous renvoie) un résultat."
   ]
  },
  {
   "cell_type": "markdown",
   "metadata": {},
   "source": [
    "## Formatage du langage\n",
    "\n",
    "- Python est un langage qui suit une structure stricte : chaque instruction doit être est écrite sur une ligne différente.\n",
    "\n",
    "- Des commentaires peuvent être rajoutés en utilisant le dièse avant de l'écrire. Les commentaires sont utiles pour expliquer ou structurer le code. Concrètement pour python le \"#\" lui indique qu'il ne doit pas exécuter les instructions jusqu'à la fin de la ligne. Exemple:"
   ]
  },
  {
   "cell_type": "code",
   "execution_count": 2,
   "metadata": {},
   "outputs": [
    {
     "name": "stdout",
     "output_type": "stream",
     "text": [
      "Hello World!\n"
     ]
    }
   ],
   "source": [
    "# Je peux écrire un commentaire ici\n",
    "\n",
    "print(\"Hello World!\") # Ou bien ici à la fin de la ligne"
   ]
  },
  {
   "cell_type": "markdown",
   "metadata": {},
   "source": [
    "## Opérations basiques\n",
    "\n",
    "Python, a minima, est une calculatrice géante. Les opérateurs de bases s'écrivent ainsi :\n",
    "\n",
    "- Addition : +\n",
    "- Soustraction: -\n",
    "- Multiplication: *\n",
    "- Division : /\n",
    "\n",
    "Pour rajouter des décimales, on utilise le \".\" comme séparateur."
   ]
  },
  {
   "cell_type": "markdown",
   "metadata": {},
   "source": [
    "## Exemples"
   ]
  },
  {
   "cell_type": "code",
   "execution_count": 3,
   "metadata": {},
   "outputs": [
    {
     "data": {
      "text/plain": [
       "2"
      ]
     },
     "execution_count": 3,
     "metadata": {},
     "output_type": "execute_result"
    }
   ],
   "source": [
    "1 + 1"
   ]
  },
  {
   "cell_type": "code",
   "execution_count": 4,
   "metadata": {},
   "outputs": [
    {
     "data": {
      "text/plain": [
       "10.0"
      ]
     },
     "execution_count": 4,
     "metadata": {},
     "output_type": "execute_result"
    }
   ],
   "source": [
    "9.3 + 0.7"
   ]
  },
  {
   "cell_type": "code",
   "execution_count": 5,
   "metadata": {},
   "outputs": [
    {
     "data": {
      "text/plain": [
       "-26"
      ]
     },
     "execution_count": 5,
     "metadata": {},
     "output_type": "execute_result"
    }
   ],
   "source": [
    "12 - 38"
   ]
  },
  {
   "cell_type": "code",
   "execution_count": 6,
   "metadata": {},
   "outputs": [
    {
     "data": {
      "text/plain": [
       "51782.673941999994"
      ]
     },
     "execution_count": 6,
     "metadata": {},
     "output_type": "execute_result"
    }
   ],
   "source": [
    "57.678 * 897.789"
   ]
  },
  {
   "cell_type": "code",
   "execution_count": 7,
   "metadata": {},
   "outputs": [
    {
     "data": {
      "text/plain": [
       "14.89788537361772"
      ]
     },
     "execution_count": 7,
     "metadata": {},
     "output_type": "execute_result"
    }
   ],
   "source": [
    "525346.456 / 35263.156"
   ]
  },
  {
   "cell_type": "markdown",
   "metadata": {},
   "source": [
    "## Exercice (facile)"
   ]
  },
  {
   "cell_type": "markdown",
   "metadata": {},
   "source": [
    "Vous allez faire vos courses chez le maraîcher bio du coin. À partir de cette liste de course, calculez le prix que vous devrez payer pour chaque type de légumes, ainsi que le prix total.\n",
    "\n",
    "\n",
    "| Légume           | Prix            | Quantité        | Remarque                   |\n",
    "|------------------|-----------------|-----------------|----------------------------|\n",
    "| Navets           | 1,94€/kg        | 751g            |                            |\n",
    "| Botte d'oignons  | 0,70cts l'unité | 3 bottes        |                            |\n",
    "| Courge Butternut | 5,17€ la pièce  | Une demi-courge |                            |\n",
    "| Epinards         | 3,23€ le kilo   | 1,335 kg        | En promo, 75% de réduction |"
   ]
  },
  {
   "cell_type": "code",
   "execution_count": null,
   "metadata": {},
   "outputs": [],
   "source": []
  },
  {
   "cell_type": "markdown",
   "metadata": {},
   "source": [
    "# Arithmétique avancé"
   ]
  },
  {
   "cell_type": "markdown",
   "metadata": {},
   "source": [
    "- Les puissances : **\n",
    "- La division euclidienne : //\n",
    "- Le modulo (reste de la division euclidienne): %"
   ]
  },
  {
   "cell_type": "code",
   "execution_count": 14,
   "metadata": {},
   "outputs": [
    {
     "data": {
      "text/plain": [
       "537824"
      ]
     },
     "execution_count": 14,
     "metadata": {},
     "output_type": "execute_result"
    }
   ],
   "source": [
    "14 ** 5"
   ]
  },
  {
   "cell_type": "code",
   "execution_count": 10,
   "metadata": {},
   "outputs": [
    {
     "data": {
      "text/plain": [
       "2"
      ]
     },
     "execution_count": 10,
     "metadata": {},
     "output_type": "execute_result"
    }
   ],
   "source": [
    "14 // 5"
   ]
  },
  {
   "cell_type": "code",
   "execution_count": 12,
   "metadata": {},
   "outputs": [
    {
     "data": {
      "text/plain": [
       "4"
      ]
     },
     "execution_count": 12,
     "metadata": {},
     "output_type": "execute_result"
    }
   ],
   "source": [
    "14 % 5"
   ]
  }
 ],
 "metadata": {
  "kernelspec": {
   "display_name": "Python 3",
   "language": "python",
   "name": "python3"
  },
  "language_info": {
   "codemirror_mode": {
    "name": "ipython",
    "version": 3
   },
   "file_extension": ".py",
   "mimetype": "text/x-python",
   "name": "python",
   "nbconvert_exporter": "python",
   "pygments_lexer": "ipython3",
   "version": "3.7.3"
  }
 },
 "nbformat": 4,
 "nbformat_minor": 4
}
