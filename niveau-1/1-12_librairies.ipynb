{
 "cells": [
  {
   "cell_type": "markdown",
   "id": "1154521b-c5e1-49d0-8f5a-5ecde3988e79",
   "metadata": {
    "tags": []
   },
   "source": [
    "# Librairies\n",
    "\n",
    "## Qu'est-ce qu'une librairie ?\n",
    "\n",
    "Les librairies sont l'un des principaux points forts de python. Lorsqu'on importe une librairie, notre kernel \"apprend\" de nouvelles fonctions et de nouveaux objets que l'on peut réutiliser à notre guise.\n",
    "\n",
    "Les librairies les plus connues de Python (Pandas, Numpy, SciKitlearn...) ont été créées et sont maintenus par des milliers de contributeurs bénévoles, et parfois par certaines entreprises. Elles sont régulièrement améliorées et mises à jour.\n",
    "\n",
    "Lorsque l'on installe Python, beaucoup de librairies sont déjà incluses dans ce que l'on appelle la \"bibliothèque standard\" de python. D'autres nécessitent d'être installées via des commandes spécifiques.\n",
    "\n",
    "<div>\n",
    "<img src=\"files/librairies_populaires.png\" alt=\"librairies\" width=\"90%\" align='center'/><br><font size=\"1\">Source : https://www.data-bird.co/python/bibliotheque-python</font> </div>"
   ]
  },
  {
   "cell_type": "markdown",
   "id": "5298fc45-8569-4181-bc37-ffe5dfc9c08f",
   "metadata": {},
   "source": [
    "## Bibliothèque, librairie, package et module\n",
    "\n",
    "Ces termes font référence à différents niveau de complexité.\n",
    "\n",
    "- La bibliothèque englobe un grand nombre de librairie. Exemple : la bibliothèque standard de Python.\n",
    "\n",
    "- Une librairie est généralement défini comme un ensemble de *packages*.\n",
    "\n",
    "- Un package est un ensemble de module, possédant une arborescence et un constructeur matérialisé par un fichier ``__init__.py``.\n",
    "\n",
    "- Un module est un fichier portant une extension .py et contenant du code.\n",
    "\n",
    "<div>\n",
    "<img src=\"files/library_in_python.png\" alt=\"librairies, packages, modules\" width=\"100%\" align='center'/></div>"
   ]
  },
  {
   "cell_type": "markdown",
   "id": "077d4b7c-5ac9-4768-bef0-29a63b85ee93",
   "metadata": {},
   "source": [
    "## Module\n",
    "\n",
    "Un module est un fichier ayant une extension .py. Il peut servir à stocker du code, comme des fonctions par exemple, que l'on peut alors utiliser dans différents scripts ou différents programme.\n",
    "\n",
    "- Pour importer un module on peut l'importer dans son intégralité :\n",
    "\n",
    "```python\n",
    "import mon_module\n",
    "```\n",
    "\n",
    "Dans ce cas pour appeler une fonction, il faut préciser le module d'où est issu la fonction puis le nom de la fonction en les séparant d'un point. Par exemple :\n",
    "\n",
    "```python\n",
    "mon_module.ma_fonction()\n",
    "```\n",
    "\n",
    "- On peut aussi choisir de n'importer qu'une ou plusieurs fonctions spécifiques\n",
    "\n",
    "```python\n",
    "from mon_module import ma_fonction1, ma_fonction2\n",
    "```\n",
    "\n",
    "Dans ce cas on peut appeler directement la fonction :\n",
    "\n",
    "```python\n",
    "ma_fonction1()\n",
    "ma_fonction2()\n",
    "\n",
    "```\n",
    "\n",
    "- Finalement on peut aussi choisir d'importer directement toutes les fonctions d'un module en utilisant l'opérateur `*`. Exemple :\n",
    "\n",
    "```python\n",
    "from mon_module import *\n",
    "```\n",
    "\n",
    "Dans ce cas, comme le cas précédent, on peut directement appeler les fonctions, sans devoir préciser la librairie."
   ]
  },
  {
   "cell_type": "markdown",
   "id": "c1de5c61-7317-4486-ad09-8b6266f91c48",
   "metadata": {},
   "source": [
    "### Exercice\n",
    "\n",
    "- Créez un fichier .py nommé \"module1.py\".\n",
    "- Écrivez à l'intérieur de celui-ci une fonction nommé `square()` qui retourne le carré d'un nombre.\n",
    "- Importez l'intégralité du module et utilisez la fonction `square()`.\n",
    "- Puis n'importez que la fonction `square()` du module1 et utilisez-la."
   ]
  },
  {
   "cell_type": "markdown",
   "id": "6030b0f4-36e0-40cb-99db-89c0c1367a7f",
   "metadata": {},
   "source": [
    "## Installer une librairie\n",
    "\n",
    "Le plus facile est d'ouvrir une fenêtre de terminal, de vérifier que nous sommes dans le bon environnement virtuel, si nous en avons un, puis d'utiliser `conda` ou `pip` pour installer la librairie. En règle générale la commande est simplement :\n",
    "\n",
    "```\n",
    "pip install le_nom_de_ma_librairie\n",
    "```"
   ]
  }
 ],
 "metadata": {
  "kernelspec": {
   "display_name": "Python 3 (ipykernel)",
   "language": "python",
   "name": "python3"
  },
  "language_info": {
   "codemirror_mode": {
    "name": "ipython",
    "version": 3
   },
   "file_extension": ".py",
   "mimetype": "text/x-python",
   "name": "python",
   "nbconvert_exporter": "python",
   "pygments_lexer": "ipython3",
   "version": "3.10.9"
  }
 },
 "nbformat": 4,
 "nbformat_minor": 5
}
