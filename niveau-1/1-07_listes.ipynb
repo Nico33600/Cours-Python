{
 "cells": [
  {
   "cell_type": "markdown",
   "metadata": {},
   "source": [
    "# Définition"
   ]
  },
  {
   "cell_type": "markdown",
   "metadata": {},
   "source": [
    "## Qu'est-ce qu'une liste ?\n",
    "\n",
    "Les listes sont des objets python spéciaux qui peuvent contenir des listes d'autres objets. On les reconnaît parce que le contenu de ces variables est encadré par des ``[ ]``. Par exemple :\n",
    "\n",
    "```python\n",
    "\n",
    "ma_liste = [element1, element2, element3]\n",
    "\n",
    "```\n",
    "\n",
    "Cette liste peut contenir des objets différents (des strings, des entiers, des variables...): \n",
    "\n",
    "```python\n",
    "\n",
    "ma_variable = 12.34\n",
    "ma_liste = [\"Ceci est une string\", 356, ma_variable]\n",
    "\n",
    "```"
   ]
  },
  {
   "cell_type": "markdown",
   "metadata": {},
   "source": [
    "## Exercice (facile)\n",
    "\n",
    "Dans mon panier je trouve : \n",
    "\n",
    "- Mes lunettes (de soleil ou de vue selon la météo)\n",
    "- Mon porte-monnaie qui contient un billet de 20€\n",
    "- Des courgettes\n",
    "- Des poivrons\n",
    "\n",
    "\n",
    "Créez une liste de ces différents objets appelée \"panier\". \n",
    "\n",
    "- Pour le portefeuille, créez une variable nommée \"portefeuille\" qui contient un integer de 20.\n",
    "- Créez une variable ``type_de_lunettes`` qui prendra deux valeurs en fonction d'une troisième variable ``meteo``. Si ``meteo == \"soleil\"``, assignez-lui la valeur``lunettes de soleil``, sinon assignez-lui ``lunettes de vue``. \n",
    "- Les poivrons et les courgettes sont justes des chaînes de caractère."
   ]
  },
  {
   "cell_type": "code",
   "execution_count": null,
   "metadata": {},
   "outputs": [],
   "source": []
  },
  {
   "cell_type": "markdown",
   "metadata": {},
   "source": [
    "# Manipulation de listes"
   ]
  },
  {
   "cell_type": "markdown",
   "metadata": {},
   "source": [
    "## Les index\n",
    "\n",
    "Dans une liste les éléments sont répétoriés par un index. Pour Python le premier élément d'une liste correspond à l'élément 0. Cela peut sembler étrange, mais ce système de comptage a ses avantages (nous le verrons plus loin). Si vous voulez en savoir plus, vous pouvez [lire ici un post de Guido Van Rossum](http://python-history.blogspot.com/2013/10/why-python-uses-0-based-indexing.html), le créateur de Python, qui explique ce choix.\n",
    "\n",
    "| Contenu   | Index |\n",
    "|-----------|-------|\n",
    "| Élément 1 | 0     |\n",
    "| Élément 2 | 1     |\n",
    "| Élément 3 | 2     |\n",
    "| ...       | ...   |\n",
    "| Élément n | n-1   |"
   ]
  },
  {
   "cell_type": "markdown",
   "metadata": {},
   "source": [
    "## Manipulation à l'aide de l'index\n",
    "\n",
    "Pour accéder à un élément dans une liste il suffit d'indiquer l'index entre ``[]``\n",
    "\n",
    "Exemple :"
   ]
  },
  {
   "cell_type": "code",
   "execution_count": null,
   "metadata": {},
   "outputs": [],
   "source": [
    "ma_liste = [\"Mon premier élément\", \"Mon second élément\", 16.767, \"Mon quatrième élément\", True, \"Mon cinquième élément\"]\n",
    "\n",
    "print(\"ma_liste[0] :\", ma_liste[0])\n",
    "print(\"ma_liste[1] :\", ma_liste[1])\n",
    "print(\"ma_liste[2] :\", ma_liste[2])\n",
    "print(\"ma_liste[3] :\", ma_liste[3])\n",
    "print(\"ma_liste[4] :\", ma_liste[4])\n",
    "print(\"ma_liste[5] :\", ma_liste[5])"
   ]
  },
  {
   "cell_type": "markdown",
   "metadata": {},
   "source": [
    "## Trouver l'index d'une valeur\n",
    "\n",
    "On utilise la méthode ``.index()``. Par exemple :"
   ]
  },
  {
   "cell_type": "code",
   "execution_count": null,
   "metadata": {},
   "outputs": [],
   "source": [
    "ma_liste = [\"Mon premier élément\", \"Mon second élément\", 16.767, \"Mon quatrième élément\", True, \"Mon cinquième élément\"]\n",
    "\n",
    "print(\"L'index de 'Mon quatrième élément' est :\", ma_liste.index(\"Mon quatrième élément\"))\n"
   ]
  },
  {
   "cell_type": "markdown",
   "metadata": {},
   "source": [
    "## Ajout d'un élément\n",
    "\n",
    "Cela se fait avec la méthode ``.append()``. Exemple :"
   ]
  },
  {
   "cell_type": "code",
   "execution_count": null,
   "metadata": {},
   "outputs": [],
   "source": [
    "animaux_des_villes = [\"chat\", \"chien\"]\n",
    "\n",
    "print(\"Voici la liste des espèces vivantes dans le centre-ville :\", animaux_des_villes)\n",
    "\n",
    "animaux_des_villes.append(\"pigeon\")\n",
    "\n",
    "print(\"Voici la liste des espèces vivantes dans le centre-ville :\", animaux_des_villes)"
   ]
  },
  {
   "cell_type": "markdown",
   "metadata": {},
   "source": [
    "## Retirer un élément"
   ]
  },
  {
   "cell_type": "markdown",
   "metadata": {},
   "source": [
    "### Par l'index avec la fonction ``del``\n",
    "\n",
    "En lui donnant comme argument l'élément, via son index, à effacer. Exemple :"
   ]
  },
  {
   "cell_type": "code",
   "execution_count": null,
   "metadata": {},
   "outputs": [],
   "source": [
    "animaux_des_villes = [\"chat\", \"chien\", \"ornithorynque\"]\n",
    "\n",
    "print(\"animaux_des_villes avant : \", animaux_des_villes)\n",
    "\n",
    "del animaux_des_villes[2]\n",
    "\n",
    "print(\"animaux_des_villes après : \", animaux_des_villes)"
   ]
  },
  {
   "cell_type": "markdown",
   "metadata": {},
   "source": [
    "### Par son nom avec la méthode ``.remove()``\n",
    "\n",
    "On peut aussi utiliser la méthode ``.remove()``, qui elle utilise l'élément lui-même comme argument. Exemple :"
   ]
  },
  {
   "cell_type": "code",
   "execution_count": null,
   "metadata": {},
   "outputs": [],
   "source": [
    "animaux_des_villes = [\"chat\", \"chien\", \"ornithorynque\"]\n",
    "\n",
    "print(\"animaux_des_villes avant : \", animaux_des_villes)\n",
    "\n",
    "animaux_des_villes.remove(\"ornithorynque\")\n",
    "\n",
    "print(\"animaux_des_villes après : \", animaux_des_villes)"
   ]
  },
  {
   "cell_type": "markdown",
   "metadata": {},
   "source": [
    "Et si jamais il y a deux fois le même élément dans la liste ? ``.remove()`` enlève le premier qu'il trouve !"
   ]
  },
  {
   "cell_type": "code",
   "execution_count": null,
   "metadata": {},
   "outputs": [],
   "source": [
    "animaux_des_villes = [\"chat\", \"ornithorynque\", \"chien\", \"ornithorynque\"]\n",
    "\n",
    "print(\"animaux_des_villes avant : \", animaux_des_villes)\n",
    "\n",
    "animaux_des_villes.remove(\"ornithorynque\")\n",
    "\n",
    "print(\"animaux_des_villes après le .remove() : \", animaux_des_villes)"
   ]
  },
  {
   "cell_type": "markdown",
   "metadata": {},
   "source": [
    "Cette fonction \"itère\" dans la liste, c'est-à-dire qu'elle se déplace d'élement en élément dans l'ordre de l'index, elle vérifie si le nom correspond, et si c'est le cas elle l'efface. Nous aurons l'occasion de revenir sur le concept d'itération plus loin."
   ]
  },
  {
   "cell_type": "markdown",
   "metadata": {},
   "source": [
    "## Exercice (facile)\n",
    "\n",
    "Dans la liste suivante :\n",
    "\n",
    "- Retirez avec ``.remove()`` les arachnides (scorpions, araignées).\n",
    "- Uilisez ``del`` pour retirer les insectes.\n",
    "- Affichez les mammifères restants\n",
    "\n",
    "**ASTUCES**:\n",
    "\n",
    "- Attention, la suppression des premiers éléments va décaler l'index des autres."
   ]
  },
  {
   "cell_type": "code",
   "execution_count": null,
   "metadata": {},
   "outputs": [],
   "source": [
    "grenier = [\"scorpion\", \"fourmi\", \"chauve-souris\", \"loire\", \"araignée\", \"papillon\", \"souris\"]"
   ]
  },
  {
   "cell_type": "markdown",
   "metadata": {},
   "source": [
    "# Itéreration d'une liste\n",
    "\n",
    "Il arrive souvent que l'on veuille itérer (parcourir) une liste. La méthode la plus facile consiste à utiliser une boucle ``for``."
   ]
  },
  {
   "cell_type": "markdown",
   "metadata": {},
   "source": [
    "## Avec for\n",
    "\n",
    "En utilisant une boucle for, chaque élément de la liste sera sélectionné un par un afin que l'on puisse les utiliser. Par convention on utilise souvent \"el\" pour élément. Par exemple :"
   ]
  },
  {
   "cell_type": "code",
   "execution_count": null,
   "metadata": {},
   "outputs": [],
   "source": [
    "grenier = [\"scorpion\", \"fourmi\", \"chauve-souris\", \"loire\", \"araignée\", \"papillon\", \"souris\"]\n",
    "\n",
    "for el in grenier:\n",
    "    print(el)"
   ]
  },
  {
   "cell_type": "markdown",
   "metadata": {},
   "source": [
    "## Avec enumerate()\n",
    "\n",
    "Mais dans le cas où l'on veut modifier une liste, il nous faut aussi récupérer l'index (la position) de l'élément en question. Pour cela on utilise la fonction enumerate(). Enumerate retourne deux valeurs : l'index, qui est stockée dans la première variable qu'on lui indique, et l'élément lui-mêmequi est stocké dans la seconde variable."
   ]
  },
  {
   "cell_type": "code",
   "execution_count": null,
   "metadata": {},
   "outputs": [],
   "source": [
    "grenier = [\"scorpion\", \"fourmi\", \"chauve-souris\", \"loire\", \"araignée\", \"papillon\", \"souris\"]\n",
    "\n",
    "for i, el in enumerate(grenier):\n",
    "    print(\"Index :\", i, \"- Element :\", el)"
   ]
  },
  {
   "cell_type": "markdown",
   "metadata": {},
   "source": [
    "## Exercice (moyen)\n",
    "\n",
    "Écrire un programme qui parcourt la liste suivante et remplace toutes les strings \"banane\" en \"gorille\".\n",
    "\n",
    "**ASTUCES**:\n",
    "\n",
    "Il y a deux méthodes pour accomplir ceci :\n",
    "- 1) Vous pouvez le faire avec une boucle ``for``, et, après avoir testé si l'élément est égal à \"banane\", modifier la liste en trouvant l'index grâce à a méthode ``index()``. Ce n'est pas une méthode très propre en programmation, mais cela fonctionne.\n",
    "- 2) Vous pouvez utiliser enumerate(), ce qui est la méthode recommandée.\n",
    "- (Vous pouvez aussi écrire les deux méthodes pour comparer.)"
   ]
  },
  {
   "cell_type": "code",
   "execution_count": null,
   "metadata": {},
   "outputs": [],
   "source": [
    "liste = [\"mangue\", \"banane\", \"kiwi\", \"orange\",\n",
    "         \"banane\", \"banane\", \"banane\", \"banane\",\n",
    "         \"fraise\", \"poire\", \"banane\", \"peche\", \"banane\",\n",
    "         \"ananas\"]\n",
    "\n",
    "# Tapez le code ici:"
   ]
  },
  {
   "cell_type": "markdown",
   "metadata": {},
   "source": [
    "# Les listes compréhensives"
   ]
  },
  {
   "cell_type": "markdown",
   "metadata": {},
   "source": [
    "## Définition\n",
    "\n",
    "Les listes compréhensives sont des boucles qui vont créer des listes. Elles sont très utiles dans de nombreux domaines.\n",
    "\n",
    "Pour les créer la syntaxe est la suivante:\n",
    "\n",
    "```python\n",
    "\n",
    "[expression for element in iterable]\n",
    "\n",
    "```\n",
    "\n",
    "L'expression est le résultat que l'on veut obtenir, l'élément est le nom que l'on va donner à chaque élément. Et l'itérable est le nom de l'objet sur lequel on va pouvoir itérer. Si je prends une liste de nombre et que je veux les retourner au carré :"
   ]
  },
  {
   "cell_type": "code",
   "execution_count": null,
   "metadata": {},
   "outputs": [],
   "source": [
    "liste_de_nombres = [2,6,8,5,7,9,1,2,3,6]\n",
    "\n",
    "[nombre * nombre for nombre in liste_de_nombres]"
   ]
  },
  {
   "cell_type": "markdown",
   "metadata": {},
   "source": [
    "On peut aussi rajouter des conditions en utilisant un \"if\" à la fin, par exemple imaginons qu'on ne veut avoir les carrés que des nombres 2,4 et 6."
   ]
  },
  {
   "cell_type": "code",
   "execution_count": null,
   "metadata": {},
   "outputs": [],
   "source": [
    "liste_de_nombres = [2,6,8,5,7,9,1,2,3,6]\n",
    "\n",
    "[nombre * nombre for nombre in liste_de_nombres if nombre in [2,4,6]]"
   ]
  },
  {
   "cell_type": "markdown",
   "metadata": {},
   "source": [
    "## Filtrer avec des listes compréhensives\n",
    "\n",
    "Si l'on itère sur une liste et que l'on veut y supprimer tous les integer par exemple. On pourrait adopter cette stratégie :"
   ]
  },
  {
   "cell_type": "code",
   "execution_count": null,
   "metadata": {},
   "outputs": [],
   "source": [
    "encore_une_liste = [\"a garder\", 3, 4, 5, 9, \"a garder\", \"hello\", 4, 5, 9, \"world\", 5, 7]\n",
    "\n",
    "for el in encore_une_liste:\n",
    "    if type(el) == int: encore_une_liste.remove(el)\n",
    "\n",
    "encore_une_liste"
   ]
  },
  {
   "cell_type": "markdown",
   "metadata": {},
   "source": [
    "Tiens ? Bizarrement ça ne marche pas pour tous les nombes on dirait ?\n",
    "\n",
    "En effet, parce qu'à chaque fois qu'on retire un élément, on décale les index ce qui fausse le résultat final ! On peut trouver une solution en utilisant une autre liste. Exemple :"
   ]
  },
  {
   "cell_type": "code",
   "execution_count": null,
   "metadata": {},
   "outputs": [],
   "source": [
    "encore_une_liste = [\"a garder\", 3, 4, 5, 9, \"a garder\", \"hello\", 4, 5, 9, \"world\", 5, 7]\n",
    "\n",
    "nouvelle_liste = [] # liste vide\n",
    "for el in encore_une_liste:\n",
    "    if type(el) != int: nouvelle_liste.append(el)\n",
    "        \n",
    "nouvelle_liste"
   ]
  },
  {
   "cell_type": "markdown",
   "metadata": {},
   "source": [
    "Mais cela reste laborieux ! Heureusement nous avons les listes compréhensives qui nous permettent de faire la même chose en une seule ligne !"
   ]
  },
  {
   "cell_type": "code",
   "execution_count": null,
   "metadata": {},
   "outputs": [],
   "source": [
    "encore_une_liste = [\"a garder\", 3, 4, 5, 9, \"a garder\", \"hello\", 4, 5, 9, \"world\", 5, 7]\n",
    "\n",
    "[el for el in encore_une_liste if type(el) != int]"
   ]
  },
  {
   "cell_type": "markdown",
   "metadata": {},
   "source": [
    "## Exercice (facile/moyen)\n",
    "\n",
    "Filtrer cette liste en une seule ligne en ne retenant que les strings ou bien les nombres dont le carré est plus petit que 40.\n",
    "\n",
    "**ASTUCES**:\n",
    "    \n",
    "- Vous vous souvenez des ``and`` ?\n",
    "- Attention l'ordre dans laquelle vous utiliserez vos expressions est déterminant."
   ]
  },
  {
   "cell_type": "code",
   "execution_count": null,
   "metadata": {},
   "outputs": [],
   "source": [
    "filtrez_moi = [\"gardez-moi\", 5, \"Moi aussi !\", 9, 7, 5, 1, 3, 5, 7, \"et moi, et moi !\", 5, 12, 11]"
   ]
  },
  {
   "cell_type": "markdown",
   "metadata": {},
   "source": [
    "## Liste compréhensives avec if else\n",
    "\n",
    "Il est tout à fait possible d'inclure des conditions lors de la création d'une liste compréhensive. La syntaxe est :\n",
    "\n",
    "\n",
    "```python\n",
    "[ce_que_l_on_veut_obtenir if notre_condition_est_vraie else ce_que_l_on_veut_si_la_condition_est_fausse for element in objet]\n",
    "```\n",
    "\n",
    "Autrement dit, on veut a si la condition est satisfaite et b si elle ne l'est pas, où a et b sont éventuellement des transformations de l'élément noté el :\n",
    "\n",
    "```python\n",
    "[a if cond else b for el in iterable]\n",
    "```"
   ]
  },
  {
   "cell_type": "markdown",
   "metadata": {},
   "source": [
    "## Exercice facile/moyen\n",
    "\n",
    "Reprenez l'exercice précédent sur les fruits où il fallait parcourir la liste suivante et remplacer toutes les strings \"banane\" en \"gorille\", mais utilisez plutôt une liste compréhensive pour modifier les \"banane\" en \"gorille\". En python l'usage d'une liste compréhensive dans ce cas là est le moyen le plus court, le plus élégant et le plus rapide en termes de performance pour remplacer les éléments d'une liste.\n",
    "\n",
    "**Astuces:**\n",
    "\n",
    "- Une seule ligne de code est requise."
   ]
  },
  {
   "cell_type": "code",
   "execution_count": null,
   "metadata": {},
   "outputs": [],
   "source": [
    "liste = [\"mangue\", \"banane\", \"kiwi\", \"orange\",\n",
    "         \"banane\", \"banane\", \"banane\", \"banane\",\n",
    "         \"fraise\", \"poire\", \"banane\", \"peche\", \"banane\",\n",
    "         \"ananas\"]"
   ]
  },
  {
   "cell_type": "code",
   "execution_count": null,
   "metadata": {},
   "outputs": [],
   "source": []
  }
 ],
 "metadata": {
  "kernelspec": {
   "display_name": "Python 3",
   "language": "python",
   "name": "python3"
  },
  "language_info": {
   "codemirror_mode": {
    "name": "ipython",
    "version": 3
   },
   "file_extension": ".py",
   "mimetype": "text/x-python",
   "name": "python",
   "nbconvert_exporter": "python",
   "pygments_lexer": "ipython3",
   "version": "3.7.3"
  }
 },
 "nbformat": 4,
 "nbformat_minor": 4
}
