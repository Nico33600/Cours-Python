{
 "cells": [
  {
   "cell_type": "markdown",
   "metadata": {},
   "source": [
    "# Définition"
   ]
  },
  {
   "cell_type": "markdown",
   "metadata": {},
   "source": [
    "## Qu'est-ce qu'une liste ?\n",
    "\n",
    "Les listes sont des objets python spéciaux qui peuvent contenir des listes d'autres objets. On les reconnaît parce que le contenu de ces variables sont encadrés par des ``[ ]``. Par exemple :\n",
    "\n",
    "```python\n",
    "\n",
    "ma_liste = [element1, element2, element3]\n",
    "\n",
    "```\n",
    "\n",
    "Cette liste peut contenir des objets différents (des strings, des entiers, des variables...): \n",
    "\n",
    "```python\n",
    "\n",
    "ma_variable = 12.34\n",
    "ma_liste = [\"Ceci est une string\", 356, ma_variable]\n",
    "\n",
    "```"
   ]
  },
  {
   "cell_type": "markdown",
   "metadata": {},
   "source": [
    "## Exercice (facile)\n",
    "\n",
    "Dans mon panier je trouve : \n",
    "    \n",
    "- Des courgettes\n",
    "- Des poivrons\n",
    "- Mes lunettes (de soleil ou de vue selon le temps)\n",
    "- Mon porte-monnaie qui contient un billet de 20€\n",
    "\n",
    "Créez une liste de ces différents objets appelée \"panier\". \n",
    "\n",
    "- Pour le portefeuille, créez une variable nommée \"portefeuille\" qui contient un integer de 20.\n",
    "- Créez une variable ``type_de_lunettes`` qui prendra deux valeurs en fonction d'une troisième variable ``meteo``. Si ``meteo == \"soleil\"``, assignez-lui la valeur``lunettes de soleil``, sinon assignez-lui ``lunettes de vue``. \n",
    "- Les poivrons et les courgettes sont justes des strings..."
   ]
  },
  {
   "cell_type": "markdown",
   "metadata": {},
   "source": [
    "# Manipulation de listes"
   ]
  },
  {
   "cell_type": "markdown",
   "metadata": {},
   "source": [
    "## Les index\n",
    "\n",
    "Dans une liste les éléments sont répétoriés par un index. Pour Python le premier élément d'une liste correspond à l'élément 0. Cela peut sembler étrange, mais ce système de comptage a ses avantages (nous le verrons plus loin). Si vous voulez en savoir plus, vous pouvez [lire ici un post de Guido Van Rossum](http://python-history.blogspot.com/2013/10/why-python-uses-0-based-indexing.html), le créateur de Python, qui explique ce choix.\n",
    "\n",
    "| Contenu   | Index |\n",
    "|-----------|-------|\n",
    "| Élément 1 | 0     |\n",
    "| Élément 2 | 1     |\n",
    "| Élément 3 | 2     |\n",
    "| ...       | ...   |\n",
    "| Élément n | n-1   |"
   ]
  },
  {
   "cell_type": "markdown",
   "metadata": {},
   "source": [
    "## Manipulation à l'aide de l'index\n",
    "\n",
    "Pour accéder à un élément dans une liste il suffit d'indiquer l'index entre ``[]``\n",
    "\n",
    "Exemple :"
   ]
  },
  {
   "cell_type": "code",
   "execution_count": 12,
   "metadata": {},
   "outputs": [
    {
     "name": "stdout",
     "output_type": "stream",
     "text": [
      "ma_liste[0] : Mon premier élément\n",
      "ma_liste[1] : Mon second élément\n",
      "ma_liste[2] : 16.767\n",
      "ma_liste[3] : Mon quatrième élément\n",
      "ma_liste[4] : True\n",
      "ma_liste[5] : Mon cinquième élément\n"
     ]
    }
   ],
   "source": [
    "ma_liste = [\"Mon premier élément\", \"Mon second élément\", 16.767, \"Mon quatrième élément\", True, \"Mon cinquième élément\"]\n",
    "\n",
    "print(\"ma_liste[0] :\", ma_liste[0])\n",
    "print(\"ma_liste[1] :\", ma_liste[1])\n",
    "print(\"ma_liste[2] :\", ma_liste[2])\n",
    "print(\"ma_liste[3] :\", ma_liste[3])\n",
    "print(\"ma_liste[4] :\", ma_liste[4])\n",
    "print(\"ma_liste[5] :\", ma_liste[5])"
   ]
  },
  {
   "cell_type": "markdown",
   "metadata": {},
   "source": [
    "## Trouver l'index d'une valeur\n",
    "\n",
    "On utilise la méthode ``.index()``. Par exemple :"
   ]
  },
  {
   "cell_type": "code",
   "execution_count": 26,
   "metadata": {},
   "outputs": [
    {
     "name": "stdout",
     "output_type": "stream",
     "text": [
      "L'index de 'Mon quatrième élément' est : 3\n"
     ]
    }
   ],
   "source": [
    "ma_liste = [\"Mon premier élément\", \"Mon second élément\", 16.767, \"Mon quatrième élément\", True, \"Mon cinquième élément\"]\n",
    "\n",
    "print(\"L'index de 'Mon quatrième élément' est :\", ma_liste.index(\"Mon quatrième élément\"))\n"
   ]
  },
  {
   "cell_type": "markdown",
   "metadata": {},
   "source": [
    "## Ajout d'un élément\n",
    "\n",
    "Cela se fait avec la méthode ``.append()``. Exemple :"
   ]
  },
  {
   "cell_type": "code",
   "execution_count": 13,
   "metadata": {},
   "outputs": [
    {
     "name": "stdout",
     "output_type": "stream",
     "text": [
      "Voici la liste des espèces vivantes dans le centre-ville : ['chat', 'chien']\n",
      "Voici la liste des espèces vivantes dans le centre-ville : ['chat', 'chien', 'pigeon']\n"
     ]
    }
   ],
   "source": [
    "animaux_des_villes = [\"chat\", \"chien\"]\n",
    "\n",
    "print(\"Voici la liste des espèces vivantes dans le centre-ville :\", animaux_des_villes)\n",
    "\n",
    "animaux_des_villes.append(\"pigeon\")\n",
    "\n",
    "print(\"Voici la liste des espèces vivantes dans le centre-ville :\", animaux_des_villes)"
   ]
  },
  {
   "cell_type": "markdown",
   "metadata": {},
   "source": [
    "## Retirer un élément"
   ]
  },
  {
   "cell_type": "markdown",
   "metadata": {},
   "source": [
    "### Par l'index avec la fonction ``del``\n",
    "\n",
    "En lui donnant comme argument l'élément à effacer. Exemple :"
   ]
  },
  {
   "cell_type": "code",
   "execution_count": 26,
   "metadata": {},
   "outputs": [
    {
     "name": "stdout",
     "output_type": "stream",
     "text": [
      "animaux_des_villes avant :  ['chat', 'chien', 'ornithorynque']\n",
      "animaux_des_villes après :  ['chat', 'chien']\n"
     ]
    }
   ],
   "source": [
    "animaux_des_villes = [\"chat\", \"chien\", \"ornithorynque\"]\n",
    "\n",
    "print(\"animaux_des_villes avant : \", animaux_des_villes)\n",
    "\n",
    "del animaux_des_villes[2]\n",
    "\n",
    "print(\"animaux_des_villes après : \", animaux_des_villes)"
   ]
  },
  {
   "cell_type": "markdown",
   "metadata": {},
   "source": [
    "### Par son nom avec la méthode ``.remove()``\n",
    "\n",
    "On peut aussi utiliser la méthode ``.remove()``, qui elle prend le nom comme argument. Exemple :"
   ]
  },
  {
   "cell_type": "code",
   "execution_count": 24,
   "metadata": {},
   "outputs": [
    {
     "name": "stdout",
     "output_type": "stream",
     "text": [
      "animaux_des_villes avant :  ['chat', 'chien', 'ornithorynque']\n",
      "animaux_des_villes avant :  ['chat', 'chien']\n"
     ]
    }
   ],
   "source": [
    "animaux_des_villes = [\"chat\", \"chien\", \"ornithorynque\"]\n",
    "\n",
    "print(\"animaux_des_villes avant : \", animaux_des_villes)\n",
    "\n",
    "animaux_des_villes.remove(\"ornithorynque\")\n",
    "\n",
    "print(\"animaux_des_villes avant : \", animaux_des_villes)"
   ]
  },
  {
   "cell_type": "markdown",
   "metadata": {},
   "source": [
    "Et si jamais il y a deux fois le même élément dans la liste ? ``.remove()`` enlève le premier qu'il trouve !"
   ]
  },
  {
   "cell_type": "code",
   "execution_count": 30,
   "metadata": {},
   "outputs": [
    {
     "name": "stdout",
     "output_type": "stream",
     "text": [
      "animaux_des_villes avant :  ['chat', 'ornithorynque', 'chien', 'ornithorynque']\n",
      "animaux_des_villes avant :  ['chat', 'chien', 'ornithorynque']\n"
     ]
    }
   ],
   "source": [
    "animaux_des_villes = [\"chat\", \"ornithorynque\", \"chien\", \"ornithorynque\"]\n",
    "\n",
    "print(\"animaux_des_villes avant : \", animaux_des_villes)\n",
    "\n",
    "animaux_des_villes.remove(\"ornithorynque\")\n",
    "\n",
    "print(\"animaux_des_villes après le .remove() : \", animaux_des_villes)"
   ]
  },
  {
   "cell_type": "markdown",
   "metadata": {},
   "source": [
    "Cette fonction \"itère\" dans la liste, c'est-à-dire qu'elle se déplace d'élement en élément dan l'ordre de l'index, elle vérifie si le nom correspond, et si c'est le cas elle l'efface. Nous aurons l'occasion de revenir sur le concept d'itération plus loin."
   ]
  },
  {
   "cell_type": "markdown",
   "metadata": {},
   "source": [
    "## Exercice (facile)\n",
    "\n",
    "Dans la liste suivante :\n",
    "\n",
    "- Retirez avec ``.remove()`` les arachnides (scorpions, araignées).\n",
    "- Uilisez ``del`` pour retirer les insectes.\n",
    "- Affichez les mammifères restants\n",
    "\n",
    "**ASTUCES**:\n",
    "\n",
    "- Attention, la suppression des premiers éléments va décaler l'index des autres."
   ]
  },
  {
   "cell_type": "code",
   "execution_count": 21,
   "metadata": {},
   "outputs": [
    {
     "data": {
      "text/plain": [
       "['chauve-souris', 'loire', 'souris']"
      ]
     },
     "execution_count": 21,
     "metadata": {},
     "output_type": "execute_result"
    }
   ],
   "source": [
    "grenier = [\"scorpion\", \"fourmi\", \"chauve-souris\", \"loire\", \"araignée\", \"papillon\", \"souris\"]\n",
    "\n"
   ]
  },
  {
   "cell_type": "markdown",
   "metadata": {},
   "source": [
    "## Exercice (moyen)\n",
    "\n",
    "Écrire un programme qui parcourt la liste suivante avec une boucle ``for``et remplace toutes les strings \"banane\" en \"gorille\".\n",
    "\n",
    "**ASTUCES**:\n",
    "\n",
    "- Vous devez trouver un moyen de lui indiquer quel index le programme doit modifier à chaque boucle. Essayez donc la méthode ``index()``."
   ]
  },
  {
   "cell_type": "code",
   "execution_count": 22,
   "metadata": {},
   "outputs": [
    {
     "data": {
      "text/plain": [
       "['mangue',\n",
       " 'gorille',\n",
       " 'kiwi',\n",
       " 'orange',\n",
       " 'gorille',\n",
       " 'gorille',\n",
       " 'gorille',\n",
       " 'gorille',\n",
       " 'fraise',\n",
       " 'poire',\n",
       " 'gorille',\n",
       " 'peche',\n",
       " 'gorille',\n",
       " 'ananas']"
      ]
     },
     "execution_count": 22,
     "metadata": {},
     "output_type": "execute_result"
    }
   ],
   "source": [
    "liste = [\"mangue\", \"banane\", \"kiwi\", \"orange\", \"banane\", \"banane\", \"banane\", \"banane\", \"fraise\", \"poire\", \"banane\", \"peche\", \"banane\", \"ananas\"]"
   ]
  },
  {
   "cell_type": "markdown",
   "metadata": {},
   "source": [
    "# Les listes compréhensives"
   ]
  },
  {
   "cell_type": "markdown",
   "metadata": {},
   "source": [
    "## Définition\n",
    "\n",
    "Les listes compréhensives sont des boucles qui vont créer des listes. Elles sont très utiles dans de nombreux domaines.\n",
    "\n",
    "Pour les créer la syntaxe est la suivante:\n",
    "\n",
    "```python\n",
    "\n",
    "[l_expression for l_element in l_iterable]\n",
    "\n",
    "```\n",
    "\n",
    "L'expression est le résultat que l'on veut obtenir, l_element est le nom que l'on va donner à chaque élément. Et l'itérable est le nom de l'objet sur lequel on va pouvoir itérer. Si je prends une liste de nombre et que je veux les retourner au carré :"
   ]
  },
  {
   "cell_type": "code",
   "execution_count": 28,
   "metadata": {},
   "outputs": [
    {
     "data": {
      "text/plain": [
       "[4, 36, 64, 25, 49, 81, 1, 4, 9, 36]"
      ]
     },
     "execution_count": 28,
     "metadata": {},
     "output_type": "execute_result"
    }
   ],
   "source": [
    "liste_de_nombres = [2,6,8,5,7,9,1,2,3,6]\n",
    "\n",
    "[nombre * nombre for nombre in liste_de_nombres]"
   ]
  },
  {
   "cell_type": "markdown",
   "metadata": {},
   "source": [
    "On peut aussi rajouter des conditions en utilisant un \"if\" à la fin, par exemple imaginons qu'on ne veut avoir les carrés que des nombres 2,4 et 6."
   ]
  },
  {
   "cell_type": "code",
   "execution_count": 40,
   "metadata": {},
   "outputs": [
    {
     "data": {
      "text/plain": [
       "[4, 36, 4, 36]"
      ]
     },
     "execution_count": 40,
     "metadata": {},
     "output_type": "execute_result"
    }
   ],
   "source": [
    "liste_de_nombres = [2,6,8,5,7,9,1,2,3,6]\n",
    "\n",
    "[nombre * nombre for nombre in liste_de_nombres if nombre in [2,4,6]]"
   ]
  },
  {
   "cell_type": "markdown",
   "metadata": {},
   "source": [
    "## Filtrer avec des listes compréhensives\n",
    "\n",
    "Si l'on itère sur une liste et que l'on veut y supprimer tous les integer par exemple. On pourrait adopter cette stratégie :"
   ]
  },
  {
   "cell_type": "code",
   "execution_count": 31,
   "metadata": {},
   "outputs": [
    {
     "data": {
      "text/plain": [
       "['a garder', 'a garder', 'hello', 4, 9, 'world', 5, 7]"
      ]
     },
     "execution_count": 31,
     "metadata": {},
     "output_type": "execute_result"
    }
   ],
   "source": [
    "encore_une_liste = [\"a garder\", 3, 4, 5, 9, \"a garder\", \"hello\", 4, 5, 9, \"world\", 5, 7]\n",
    "\n",
    "for el in encore_une_liste:\n",
    "    if type(el) == int: encore_une_liste.remove(el)\n",
    "\n",
    "encore_une_liste"
   ]
  },
  {
   "cell_type": "markdown",
   "metadata": {},
   "source": [
    "Tiens ? Bizarrement ça ne marche pas pour tous les nombes on dirait ?\n",
    "\n",
    "En effet, parce qu'à chaque fois qu'on retire un élément, on décale les index ce qui fausse le résultat final ! On peut trouver une solution en utilisant une autre liste. Exemple :"
   ]
  },
  {
   "cell_type": "code",
   "execution_count": 42,
   "metadata": {},
   "outputs": [
    {
     "data": {
      "text/plain": [
       "['a garder', 'a garder', 'hello', 'world']"
      ]
     },
     "execution_count": 42,
     "metadata": {},
     "output_type": "execute_result"
    }
   ],
   "source": [
    "encore_une_liste = [\"a garder\", 3, 4, 5, 9, \"a garder\", \"hello\", 4, 5, 9, \"world\", 5, 7]\n",
    "\n",
    "nouvelle_liste = [] # liste vide\n",
    "for el in encore_une_liste:\n",
    "    if type(el) != int: nouvelle_liste.append(el)\n",
    "        \n",
    "nouvelle_liste"
   ]
  },
  {
   "cell_type": "markdown",
   "metadata": {},
   "source": [
    "Mais cela reste laborieux ! Heureusement nous avons les listes compréhensives qui nous permettent de faire la même chose en une seule ligne !"
   ]
  },
  {
   "cell_type": "code",
   "execution_count": 43,
   "metadata": {},
   "outputs": [
    {
     "data": {
      "text/plain": [
       "['a garder', 'a garder', 'hello', 'world']"
      ]
     },
     "execution_count": 43,
     "metadata": {},
     "output_type": "execute_result"
    }
   ],
   "source": [
    "encore_une_liste = [\"a garder\", 3, 4, 5, 9, \"a garder\", \"hello\", 4, 5, 9, \"world\", 5, 7]\n",
    "\n",
    "[el for el in encore_une_liste if type(el) != int]"
   ]
  },
  {
   "cell_type": "markdown",
   "metadata": {},
   "source": [
    "## Exercice (facile/moyen)\n",
    "\n",
    "Filtrer cette liste en une seule ligne en ne retenant que les strings ou bien les nombres dont le carré est plus petit que 40.\n",
    "\n",
    "**ASTUCES**:\n",
    "    \n",
    "- Vous vous souvenez des ``and`` ?\n",
    "- Attention l'ordre dans laquelle vous utiliserez vos expressions est déterminant."
   ]
  },
  {
   "cell_type": "code",
   "execution_count": 47,
   "metadata": {},
   "outputs": [
    {
     "data": {
      "text/plain": [
       "['a garder', 3, 4, 5, 'a garder', 'hello', 4, 5, 'world', 5]"
      ]
     },
     "execution_count": 47,
     "metadata": {},
     "output_type": "execute_result"
    }
   ],
   "source": [
    "filtrez_moi = [\"gardez-moi\", 5, \"Moi aussi !\", 9, 7, 5, 1, 3, 5, 7, \"et moi, et moi !\", 5, 12, 11]"
   ]
  },
  {
   "cell_type": "code",
   "execution_count": null,
   "metadata": {},
   "outputs": [],
   "source": []
  }
 ],
 "metadata": {
  "kernelspec": {
   "display_name": "Python 3",
   "language": "python",
   "name": "python3"
  },
  "language_info": {
   "codemirror_mode": {
    "name": "ipython",
    "version": 3
   },
   "file_extension": ".py",
   "mimetype": "text/x-python",
   "name": "python",
   "nbconvert_exporter": "python",
   "pygments_lexer": "ipython3",
   "version": "3.7.4"
  }
 },
 "nbformat": 4,
 "nbformat_minor": 4
}
