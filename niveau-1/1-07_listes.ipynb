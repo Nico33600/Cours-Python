{
 "cells": [
  {
   "cell_type": "markdown",
   "metadata": {},
   "source": [
    "# Définition"
   ]
  },
  {
   "cell_type": "markdown",
   "metadata": {},
   "source": [
    "## Qu'est-ce qu'une liste ?\n",
    "\n",
    "Les listes sont des objets python spéciaux qui peuvent contenir d'autres objets. On les reconnaît parce que le contenu de ces variables est encadré par des ``[ ]``. Par exemple :\n",
    "\n",
    "```python\n",
    "\n",
    "ma_liste = [element1, element2, element3]\n",
    "\n",
    "```\n",
    "\n",
    "Cette liste peut contenir des objets différents (des strings, des entiers, des variables, d'autres listes...): \n",
    "\n",
    "```python\n",
    "\n",
    "ma_variable = 12.34\n",
    "une_autre_liste = [1, 2, 3, \"soleil\"]\n",
    "ma_liste = [\"Ceci est une string\", 356, ma_variable, une_autre_liste]\n",
    "\n",
    "```"
   ]
  },
  {
   "cell_type": "markdown",
   "metadata": {},
   "source": [
    "## Exercice (facile)\n",
    "\n",
    "Dans mon panier je trouve : \n",
    "\n",
    "- Des courgettes\n",
    "- Mon porte-monnaie qui contient :\n",
    "    - Un billet de 20€,\n",
    "    - L'équivalent de 0.76 centimes d'euros en monnaie.\n",
    "\n",
    "Créez une liste de ces différents objets appelée \"panier\".\n",
    "\n",
    "- Pour les courgettes, stockez-les sous forme de chaînes de caractère.\n",
    "- Pour le portefeuille, créez une nouvelle liste nommée \"portefeuille\" qui contient un integer de 20, un float de 0.76."
   ]
  },
  {
   "cell_type": "code",
   "execution_count": null,
   "metadata": {},
   "outputs": [],
   "source": [
    "# tapez votre code ci-dessous !\n"
   ]
  },
  {
   "cell_type": "markdown",
   "metadata": {},
   "source": [
    "# Manipulation de listes"
   ]
  },
  {
   "cell_type": "markdown",
   "metadata": {},
   "source": [
    "## Les index\n",
    "\n",
    "Dans une liste les éléments sont répétoriés par un index. Pour Python le premier élément d'une liste correspond à l'élément 0. Cela peut sembler étrange, mais ce système de comptage a ses avantages (nous le verrons plus loin). Si vous voulez en savoir plus, vous pouvez [lire ici un post de Guido Van Rossum](http://python-history.blogspot.com/2013/10/why-python-uses-0-based-indexing.html), le créateur de Python, qui explique ce choix.\n",
    "\n",
    "| Contenu   | Index |\n",
    "|-----------|-------|\n",
    "| Élément 1 | 0     |\n",
    "| Élément 2 | 1     |\n",
    "| Élément 3 | 2     |\n",
    "| ...       | ...   |\n",
    "| Élément n | n-1   |"
   ]
  },
  {
   "cell_type": "markdown",
   "metadata": {},
   "source": [
    "## Manipulation à l'aide de l'index"
   ]
  },
  {
   "cell_type": "markdown",
   "metadata": {},
   "source": [
    "### Afficher un élément\n",
    "\n",
    "Pour accéder à un élément dans une liste il suffit d'indiquer l'index entre ``[]``.\n",
    "\n",
    "Exemple :"
   ]
  },
  {
   "cell_type": "code",
   "execution_count": null,
   "metadata": {},
   "outputs": [],
   "source": [
    "l = [\"Mon premier élément\", \"Mon second élément\", 16.767, \"Mon quatrième élément\", True, \"Mon cinquième élément\"]\n",
    "print(l[0])"
   ]
  },
  {
   "cell_type": "markdown",
   "metadata": {},
   "source": [
    "### Modifier un élément\n",
    "\n",
    "Pour remplacer un élément par un autre, on utilise la même syntaxe que si l'on voulait modifier une variable, c'est-à-dire :\n",
    "\n",
    "```python\n",
    "l[0] = mon_nouvel_element\n",
    "```"
   ]
  },
  {
   "cell_type": "markdown",
   "metadata": {},
   "source": [
    "## Exercice (facile)\n",
    "\n",
    "A l'aide de la méthode ci-dessus, remplacez les fruits exotiques par des fruits locaux de votre choix. Puis affichez le contenu du panier."
   ]
  },
  {
   "cell_type": "code",
   "execution_count": null,
   "metadata": {},
   "outputs": [],
   "source": [
    "panier = [\"kiwi\", \"poire\", \"pomme\", \"ananas\", \"framboise\"]\n",
    "\n",
    "# tapez votre code ici:"
   ]
  },
  {
   "cell_type": "markdown",
   "metadata": {},
   "source": [
    "## Ajout d'un élément\n",
    "\n",
    "Cela se fait avec la méthode ``.append()`` (\"ajouter\" en anglais). Exemple :"
   ]
  },
  {
   "cell_type": "code",
   "execution_count": null,
   "metadata": {},
   "outputs": [],
   "source": [
    "panier = [\"poire\", \"pomme\", \"framboise\"]\n",
    "print(f\"Fruits locaux : {panier}\")\n",
    "\n",
    "panier.append(\"raisin\")\n",
    "print(f\"Fruits locaux : {panier}\")"
   ]
  },
  {
   "cell_type": "markdown",
   "metadata": {},
   "source": [
    "## Exercice (facile)\n",
    "\n",
    "Effectuez les opérations suivantes dans cet ordre:\n",
    "\n",
    "- Créez une liste vide nommée \"ma_liste\".\n",
    "- Utilisez la méthode ``.append()`` pour lui ajouter les objets suivants :\n",
    "\n",
    "    - \"banane\"\n",
    "    - ``False``\n",
    "\n",
    "- Affichez ``False`` en y accédant par son index.\n",
    "- Affichez le contenu de toute la liste.\n",
    "- Remplacez le mot \"banane\" par le mot \"poire\".\n",
    "- Remplacez ``False`` par ``True``.\n",
    "- Affichez le contenu de \"ma_liste\".\n",
    "\n",
    "**ASTUCES**:\n",
    "\n",
    "- Avec ``.append()`` on ne peut ajouter qu'un objet à la fois.\n",
    "- Une liste vide correspond tout simplement à ``[]``."
   ]
  },
  {
   "cell_type": "code",
   "execution_count": null,
   "metadata": {},
   "outputs": [],
   "source": []
  },
  {
   "cell_type": "markdown",
   "metadata": {},
   "source": [
    "# Itération d'une liste\n",
    "\n",
    "Il arrive souvent que l'on veuille itérer (parcourir) une liste. La méthode la plus facile consiste à utiliser une boucle ``for``."
   ]
  },
  {
   "cell_type": "markdown",
   "metadata": {},
   "source": [
    "## Avec for\n",
    "\n",
    "En utilisant une boucle for, chaque élément de la liste sera sélectionné un par un afin que l'on puisse les traiter séparément. Beaucoup de programmeurs utilisent le nom \"el\" (diminutif de \"élément\") afin de désigner la variable qui va contenir successivement chaque élément de l'itérable, mais ce n'est qu'une habitude. Par exemple :"
   ]
  },
  {
   "cell_type": "code",
   "execution_count": 1,
   "metadata": {},
   "outputs": [
    {
     "name": "stdout",
     "output_type": "stream",
     "text": [
      "1\n",
      "bla bla\n",
      "47\n",
      "bli bli\n",
      "53\n"
     ]
    }
   ],
   "source": [
    "encore_une_liste = [1, \"bla bla\", 47, \"bli bli\", 53]\n",
    "\n",
    "for el in encore_une_liste:\n",
    "    print(el)"
   ]
  },
  {
   "cell_type": "markdown",
   "metadata": {},
   "source": [
    "## Exercice (facile)\n",
    "\n",
    "Pour chaque nombre de la liste suivante:\n",
    "\n",
    "- Si celui-ci est inférieur à 100, affichez le résultat de ce nombre multiplié par 3.\n",
    "- Si celui-ci est supérieur ou égal à 100, affichez le résultat de ce nombre divisé par 5."
   ]
  },
  {
   "cell_type": "code",
   "execution_count": null,
   "metadata": {},
   "outputs": [],
   "source": [
    "suite = [50, 100, 213, 15, 350, 78, 101, 423]\n",
    "# tapez votre code ici :"
   ]
  },
  {
   "cell_type": "markdown",
   "metadata": {},
   "source": [
    "## La fonction ``len()``\n",
    "\n",
    "La fonction ``len()``, abréviation de _lenght_ en anglais (la longueur), permet de déterminer combien de caractères possède une string, ou tout autre objet itérable par ailleurs. Attention car ``len()`` retourne le nombre d'éléments pas l'index maximum ! Ex:"
   ]
  },
  {
   "cell_type": "code",
   "execution_count": null,
   "metadata": {},
   "outputs": [],
   "source": [
    "ma_chaine = \"Hello World !!!\"\n",
    "\n",
    "une_liste = [\"une chose\", \"encore un autre élément\", 3]\n",
    "\n",
    "print(len(ma_chaine)) # 15 caractères donc retourne 15. Mais l'index va de 0 à 14\n",
    "print(len(une_liste)) # 3 éléments, donc retourne 3. Mais l'index va de 0 à 2"
   ]
  },
  {
   "cell_type": "markdown",
   "metadata": {},
   "source": [
    "## Exercice (facile / moyen)\n",
    "\n",
    "Ecrivez une fonction qui calcule la moyenne d'une liste ne contenant que des nombres.\n",
    "\n",
    "**ASTUCES**:\n",
    "\n",
    "- Créez une nouvelle variable qui contiendra le total des notes et que vous initialiserez à 0.\n",
    "- Utilisez une boucle for pour itérer sur la liste et additionner toutes les notes.\n",
    "- Utilisez ``len()`` pour calculer la taille de la liste."
   ]
  },
  {
   "cell_type": "code",
   "execution_count": null,
   "metadata": {},
   "outputs": [],
   "source": [
    "notes = [10, 12, 16, 8, 17, 5, 9, 18, 14, 12, 11, 6, 8, 14, 20]\n",
    "# tapez votre code ici :\n",
    "\n",
    "total = 0\n",
    "for el in notes:\n",
    "    total = total + el\n",
    "print(f\"moyenne = {total / len(notes)}\")"
   ]
  },
  {
   "cell_type": "markdown",
   "metadata": {},
   "source": [
    "## Exercice (moyen)\n",
    "\n",
    "- Créez deux listes vides que vous nommerez \"moins_de_10\" et \"plus_de_10\".\n",
    "\n",
    "- Itérez sur la liste \"notes\" et ajoutez les notes inférieures à 10 dans la première liste et supérieures ou égales à 10 dans la seconde liste.\n",
    "\n",
    "- Créez ensuite une liste contenant ces deux listes nommée \"liste_de_listes\".\n",
    "\n",
    "- Calculez la moyenne de chacune des listes en itérant sur cette liste de liste et en réutilisant le code de l'exercice précédent.\n",
    "\n",
    "**ASTUCES**:\n",
    "\n",
    "- Pour ajouter des éléments à une liste, on utilise la méthide ``.append()``\n",
    "- Imbriquez une boucle ``for`` dans une autre pour calculer la moyenne de chaque liste sans avoir à copier/coller le code deux fois."
   ]
  },
  {
   "cell_type": "code",
   "execution_count": 13,
   "metadata": {},
   "outputs": [
    {
     "name": "stdout",
     "output_type": "stream",
     "text": [
      "moyenne = 7.2\n",
      "moyenne = 14.4\n"
     ]
    }
   ],
   "source": [
    "notes = [10, 12, 16, 8, 17, 5, 9, 18, 14, 12, 11, 6, 8, 14, 20]\n",
    "# tapez votre code ici :\n",
    "\n",
    "moins_de_10 = []\n",
    "plus_de_10 = []\n",
    "for el in notes:\n",
    "    if el < 10: moins_de_10.append(el)\n",
    "    else: plus_de_10.append(el)\n",
    "\n",
    "liste_de_listes = [moins_de_10, plus_de_10]\n",
    "\n",
    "for liste in liste_de_listes:\n",
    "    total = 0\n",
    "    for el in liste:\n",
    "        total = total + el\n",
    "    print(f\"moyenne = {total / len(liste)}\")"
   ]
  },
  {
   "cell_type": "markdown",
   "metadata": {},
   "source": [
    "# Pour aller plus loin"
   ]
  },
  {
   "cell_type": "markdown",
   "metadata": {},
   "source": [
    "## Avec enumerate()\n",
    "\n",
    "On a parfois envie de récupérer aussi l'index (la position) de l'élément en question. Pour cela on utilise la fonction ``enumerate()``. ``Enumerate`` retourne deux valeurs : l'index, qui est stockée dans la première variable qu'on lui indique, et l'élément lui-même qui est stocké dans la seconde variable.\n",
    "\n",
    "Beaucoup de programmeurs nomment \"i\" (diminutif de \"index\") la variable contenant l'index de l'élément traité par la boucle."
   ]
  },
  {
   "cell_type": "code",
   "execution_count": null,
   "metadata": {},
   "outputs": [],
   "source": [
    "panier = [\"kiwi\", \"poire\", \"pomme\", \"ananas\", \"framboise\"]\n",
    "\n",
    "for i, el in enumerate(panier):\n",
    "    print(f\"Index : {i} - Element : {el}\")"
   ]
  },
  {
   "cell_type": "markdown",
   "metadata": {},
   "source": [
    "## Exercice (moyen)\n",
    "\n",
    "Écrire un programme qui parcourt la liste suivante et remplace toutes les strings \"banane\" en \"gorille\".\n",
    "\n",
    "**ASTUCES**:\n",
    "\n",
    "- Même si plusieurs méthodes sont possibles, la meilleure consiste à utiliser ``enumerate()`` afin de récupérer l'index des strings \"banane\"."
   ]
  },
  {
   "cell_type": "code",
   "execution_count": null,
   "metadata": {},
   "outputs": [],
   "source": [
    "liste = [\"mangue\", \"banane\", \"kiwi\", \"orange\",\n",
    "         \"banane\", \"banane\", \"banane\", \"banane\",\n",
    "         \"fraise\", \"poire\", \"banane\", \"peche\", \"banane\",\n",
    "         \"ananas\"]\n",
    "\n",
    "# Tapez le code ici:"
   ]
  },
  {
   "cell_type": "markdown",
   "metadata": {},
   "source": [
    "## Exercice (moyen/difficile)\n",
    "\n",
    "Ecrivez un programme qui demande à l'utilisateur de rentrer ses notes une par une puis, dès qu'il entre autre chose qu'un nombre, lui affiche la liste de toutes ses notes ainsi que sa moyenne. Pour simplifier, on considère que toutes les notes sont des nombres entiers (mais la moyenne elle peut être un *float*).\n",
    "\n",
    "Petite difficulté supplémentaire, cette fois-ci vous n'avez pas le droit d'utiliser la fonction ``len()``. Au lieu de cela, utilisez enumerate et récupérez l'index. Ce dernier vous servira à calculer le nombre de notes.\n",
    "\n",
    "**ASTUCES**:\n",
    "\n",
    "- Pour que l'utilisateur puisse entrer des notes, on utilise la fonction ``input()``. Rappellez-vous que cette fonction stocke la réponse de l'utilisateur en format string.\n",
    "- Utilisez une boucle ``while`` afin que l'utilisateur puisse entrer autant de notes qu'il le désire. Quittez cette boucle si la note entrée n'est pas un nombre, pour tester cela, utilisez la méthode ``.isdigit()`` qui renvoie ``True`` si une chaîne de caractères ne contient que des nombres.\n",
    "- Une fois que vous savez que l'utilisateur a entré un nombre, n'oubliez pas de convertir cette chaîne de caractère en format numérique avec la fonction ``int()``.\n",
    "- Ajoutez chaque nombre dans une liste avec ``.append()``. \n",
    "- Vous avez plusieurs moyens de calculer la moyenne. Par exemple vous pouvez utilisez une boucle ``for`` avec ``enumerate`` sur la liste de notes en se servant de l'index final pour connaître le nombre d'éléments de la liste. Il faudra peut-être rectifier sa valeur.\n",
    "- Vous aurez besoin de stocker les informations dans une variable et une liste, n'oubliez pas de remettre la variable à 0 et de vider la liste au début de votre code.\n",
    "- Vous pouvez effectuer des calculs directement dans une f-string.\n",
    "- Réalisable en 9 ou 10 lignes de code.\n",
    "- Comme d'habitude, avancez progressivement en vérifiant à chaque étape que votre code fonctionne."
   ]
  },
  {
   "cell_type": "code",
   "execution_count": null,
   "metadata": {},
   "outputs": [],
   "source": [
    "# Tapez votre code ici !"
   ]
  },
  {
   "cell_type": "markdown",
   "metadata": {},
   "source": [
    "# Exercice (moyen / difficile)\n",
    "\n",
    "Modifiez le programme précédent pour que celui-ci demande à l'utilisateur d'entrer un mot ou un nombre puis stocke la réponse dans deux deux listes différentes : une liste nommée \"mots\" qui ne contiendra que des chaînes de caractère, et l'autre nommé \"entiers\" qui ne contiendra que des entiers (*integers*). Pour ne pas créer une boucle infini, prévoyez que le programme quitte la boucle d'entrée lorsque l'utilisateur écrit \"stop\" en minuscule.\n",
    "\n",
    "A la fin, affichez les deux listes.\n",
    "\n",
    "**ASTUCES**\n",
    "\n",
    "- Réalisable en 9 lignes de code."
   ]
  },
  {
   "cell_type": "code",
   "execution_count": null,
   "metadata": {},
   "outputs": [],
   "source": [
    "# Entrez votre code ici\n"
   ]
  },
  {
   "cell_type": "markdown",
   "metadata": {},
   "source": [
    "## Trouver l'index d'une valeur\n",
    "\n",
    "On utilise la méthode ``.index()``. Par exemple :"
   ]
  },
  {
   "cell_type": "code",
   "execution_count": 16,
   "metadata": {},
   "outputs": [
    {
     "name": "stdout",
     "output_type": "stream",
     "text": [
      "L'index de 'Mon quatrième élément' est : 3\n"
     ]
    }
   ],
   "source": [
    "ma_liste = [\"Mon premier élément\", \"Mon second élément\", 16.767, \"Mon quatrième élément\", True, \"Mon cinquième élément\"]\n",
    "\n",
    "print(\"L'index de 'Mon quatrième élément' est :\", ma_liste.index(\"Mon quatrième élément\"))"
   ]
  },
  {
   "cell_type": "markdown",
   "metadata": {},
   "source": [
    "## Manipulation de listes : retirer un élément"
   ]
  },
  {
   "cell_type": "markdown",
   "metadata": {},
   "source": [
    "### Par l'index avec la fonction ``del``\n",
    "\n",
    "En lui donnant comme argument l'élément, via son index, à effacer. Exemple :"
   ]
  },
  {
   "cell_type": "code",
   "execution_count": null,
   "metadata": {},
   "outputs": [],
   "source": [
    "animaux_des_villes = [\"chat\", \"chien\", \"ornithorynque\"]\n",
    "\n",
    "print(\"animaux_des_villes avant : \", animaux_des_villes)\n",
    "\n",
    "del animaux_des_villes[2]\n",
    "\n",
    "print(\"animaux_des_villes après : \", animaux_des_villes)"
   ]
  },
  {
   "cell_type": "markdown",
   "metadata": {},
   "source": [
    "### Par son nom avec la méthode ``.remove()``\n",
    "\n",
    "On peut aussi utiliser la méthode ``.remove()`` qui prend comme argument l'élément que l'on souhaite retirer. Exemple :"
   ]
  },
  {
   "cell_type": "code",
   "execution_count": null,
   "metadata": {},
   "outputs": [],
   "source": [
    "animaux_des_villes = [\"chat\", \"chien\", \"ornithorynque\"]\n",
    "\n",
    "print(\"animaux_des_villes avant : \", animaux_des_villes)\n",
    "\n",
    "animaux_des_villes.remove(\"ornithorynque\")\n",
    "\n",
    "print(\"animaux_des_villes après : \", animaux_des_villes)"
   ]
  },
  {
   "cell_type": "markdown",
   "metadata": {},
   "source": [
    "Et si jamais il y a deux fois le même élément dans la liste ? ``.remove()`` enlève le premier qu'il trouve !"
   ]
  },
  {
   "cell_type": "code",
   "execution_count": null,
   "metadata": {},
   "outputs": [],
   "source": [
    "animaux_des_villes = [\"chat\", \"ornithorynque\", \"chien\", \"ornithorynque\"]\n",
    "\n",
    "print(\"animaux_des_villes avant : \", animaux_des_villes)\n",
    "\n",
    "animaux_des_villes.remove(\"ornithorynque\")\n",
    "\n",
    "print(\"animaux_des_villes après le .remove() : \", animaux_des_villes)"
   ]
  },
  {
   "cell_type": "markdown",
   "metadata": {},
   "source": [
    "Cette fonction \"itère\" dans la liste, c'est-à-dire qu'elle se déplace d'élement en élément dans l'ordre de l'index, elle vérifie si le nom correspond, et si c'est le cas elle l'efface. Nous aurons l'occasion de revenir sur le concept d'itération plus loin."
   ]
  },
  {
   "cell_type": "markdown",
   "metadata": {},
   "source": [
    "## Exercice (facile)\n",
    "\n",
    "Dans la liste suivante :\n",
    "\n",
    "- Retirez avec ``.remove()`` les arachnides (scorpions, araignées).\n",
    "- Uilisez ``del`` pour retirer les insectes.\n",
    "- Affichez les mammifères restants\n",
    "\n",
    "**ASTUCES**:\n",
    "\n",
    "- Attention, la suppression des premiers éléments va décaler l'index des autres."
   ]
  },
  {
   "cell_type": "code",
   "execution_count": null,
   "metadata": {},
   "outputs": [],
   "source": [
    "grenier = [\"scorpion\", \"fourmi\", \"chauve-souris\", \"loire\", \"araignée\", \"papillon\", \"souris\"]\n",
    "\n",
    "# Tapez votre code ici :"
   ]
  }
 ],
 "metadata": {
  "kernelspec": {
   "display_name": "Python 3",
   "language": "python",
   "name": "python3"
  },
  "language_info": {
   "codemirror_mode": {
    "name": "ipython",
    "version": 3
   },
   "file_extension": ".py",
   "mimetype": "text/x-python",
   "name": "python",
   "nbconvert_exporter": "python",
   "pygments_lexer": "ipython3",
   "version": "3.8.5"
  }
 },
 "nbformat": 4,
 "nbformat_minor": 4
}
