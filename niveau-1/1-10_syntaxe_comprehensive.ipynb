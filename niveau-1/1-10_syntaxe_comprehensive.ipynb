{
 "cells": [
  {
   "cell_type": "markdown",
   "id": "e092b9bf",
   "metadata": {
    "tags": [
     "fr"
    ]
   },
   "source": [
    "# Syntaxe Compréhensive\n",
    "\n",
    "La syntaxe compréhensive est une syntaxe propre à certains langages de programmation qui vient du monde des mathématiques et qui, au lieu de décrire des éléments un par un, décrit plutôt les propriétés qu'ont en commun ces différents éléments.\n",
    "\n",
    "En Python, on peut considérer cela comme une formule qui permet de générer des éléments au lieu de les écrire tous un par un.\n",
    "\n",
    "Cette syntaxe peut s'appliquer sur différents objets (listes, sets et dictionnaires) et est très utilisée, notamment pour filtrer facilement des itérables.\n",
    "\n",
    "Même si cette manière d'écrire est concise, élégante et offre de meilleures performances car elle fait appel à des fonctions codées en bas niveau, il n'est pourtant pas recommandé de les utiliser partout où c'est possible. En effet si l'opération à effecteur est complexe mieux vaut utiliser une boucle ``for`` qui prendra un peu plus de place dans le code mais sera aussi plus facile à créer, à tester, à débugger et à comprendre par un autre programmeur."
   ]
  },
  {
   "cell_type": "markdown",
   "id": "b53fc5f6",
   "metadata": {
    "tags": [
     "fr"
    ]
   },
   "source": [
    "# Les listes compréhensives"
   ]
  },
  {
   "cell_type": "markdown",
   "id": "82fc579c",
   "metadata": {
    "tags": [
     "fr"
    ]
   },
   "source": [
    "## Définition\n",
    "\n",
    "Les listes compréhensives sont donc des sortes de \"formules magiques\" qui vont créer des listes. En général on part d'un objet itérable d'après lequel on veut créer une liste (ce peut donc être une autre liste, mais aussi un dictionnaire ou n'importe quel autre objet itérable).\n",
    "\n",
    "Pour créer une liste compréhensive on ouvre les crochets comme si on voulait créer une liste mais au lieu d'énumérer les différents éléments qui la composent on utilise la syntaxe suivante :\n",
    "\n",
    "```python\n",
    "[expression for element in iterable]\n",
    "```\n",
    "Ici :\n",
    "\n",
    "- La variable **expression** est le résultat que l'on veut obtenir.\n",
    "- La variable **élément** est le nom que l'on va donner à chaque élément sur lequel on itère.\n",
    "- La variable **itérable** est le nom de l'objet sur lequel on va pouvoir itérer.\n",
    "\n",
    "On pourrait donc l'écrire ainsi :\n",
    "\n",
    "```python\n",
    "[ce_que_l_on_veut_obtenir for variable_contenant_successivement_chaque_element in objet_iterable]\n",
    "```\n",
    "\n",
    "Pour commencer de manière très simple, créeons une liste compréhensive qui va générer une copie d'une autre liste :"
   ]
  },
  {
   "cell_type": "code",
   "execution_count": 1,
   "id": "01c523ed",
   "metadata": {
    "tags": [
     "fr"
    ]
   },
   "outputs": [
    {
     "data": {
      "text/plain": [
       "[2, 6, 8, 5, 7, 9, 1, 2, 3, 6]"
      ]
     },
     "execution_count": 1,
     "metadata": {},
     "output_type": "execute_result"
    }
   ],
   "source": [
    "liste_de_nombres = [2, 6, 8, 5, 7, 9, 1, 2, 3, 6]\n",
    "\n",
    "[nombre for nombre in liste_de_nombres]"
   ]
  },
  {
   "cell_type": "markdown",
   "id": "fc4ae9a4",
   "metadata": {
    "tags": [
     "fr"
    ]
   },
   "source": [
    "Maintenant imaginons que nous voulions générer une nouvelle liste contenant les carrés de chacun de ces chiffres, on va alors modifier l'expression que l'on cherche à obtenir :"
   ]
  },
  {
   "cell_type": "code",
   "execution_count": 2,
   "id": "6112c0d7",
   "metadata": {
    "tags": [
     "fr"
    ]
   },
   "outputs": [
    {
     "data": {
      "text/plain": [
       "[4, 36, 64, 25, 49, 81, 1, 4, 9, 36]"
      ]
     },
     "execution_count": 2,
     "metadata": {},
     "output_type": "execute_result"
    }
   ],
   "source": [
    "liste_de_nombres = [2, 6, 8, 5, 7, 9, 1, 2, 3, 6]\n",
    "\n",
    "[nombre ** 2 for nombre in liste_de_nombres]"
   ]
  },
  {
   "cell_type": "markdown",
   "id": "ee4f39f7",
   "metadata": {},
   "source": [
    "Notez qu'on aurait pu l'écrire avec une boucle ``for`` ainsi, mais c'est plus long :"
   ]
  },
  {
   "cell_type": "code",
   "execution_count": null,
   "id": "d4f768c1",
   "metadata": {
    "tags": [
     "fr"
    ]
   },
   "outputs": [],
   "source": [
    "liste_de_nombres = [2, 6, 8, 5, 7, 9, 1, 2, 3, 6]\n",
    "\n",
    "nouvelle_liste = []\n",
    "\n",
    "for nombre in liste_de_nombres:\n",
    "    nouvelle_liste.append(nombre ** 2)\n",
    "\n",
    "print(nouvelle_liste)"
   ]
  },
  {
   "cell_type": "markdown",
   "id": "7623a3f1",
   "metadata": {
    "tags": [
     "fr"
    ]
   },
   "source": [
    "### Exercice (facile)\n",
    "\n",
    "A partir de la liste suivante, générez une nouvelle liste à l'aide de la syntaxe compréhensive qui triple chaque caractère. Par exemple La lettre \"c\" deviendra \"ccc\" dans la nouvelle liste.\n",
    "\n",
    "**Astuce**\n",
    "\n",
    "- Rappelez-vous, en python il est possible de multiplier des strings par des entiers."
   ]
  },
  {
   "cell_type": "code",
   "execution_count": null,
   "id": "f9ac133c",
   "metadata": {
    "tags": [
     "fr"
    ]
   },
   "outputs": [],
   "source": [
    "liste_de_lettres = [\"a\", \"c\", \"d\", \"f\", \"g\", \"z\", \"e\", \"i\"]\n",
    "\n",
    "# tapez votre code ici"
   ]
  },
  {
   "cell_type": "markdown",
   "id": "0adfc4fc",
   "metadata": {
    "tags": [
     "fr"
    ]
   },
   "source": [
    "## Filtrer avec des listes compréhensives et ``if``\n",
    "\n",
    "Les listes compréhensives permettent de facilement filtrer, c'est-à-dire choisir les éléments qu'on va traiter (et ceux qu'on ne traitera pas).\n",
    "\n",
    "Pour cela on ajoute tout simplement un ``if`` à la fin de la syntaxe.\n",
    "\n",
    "```python\n",
    "[el for el in iterable if cond]\n",
    "```\n",
    "Autrement dit, on veut \"el\" si la condition est satisfaite, où \"el\" est l'élément qui sera ajouté dans notre liste. Sinon l'élément ne sera pas traité.\n",
    "\n",
    "On pourrait aussi l'écrire de cette manière :\n",
    "\n",
    "```python\n",
    "[ce_que_l_on_veut_obtenir for variable_contenant_successivement_chaque_element in objet_iterable if notre_condition_est_vraie]\n",
    "```\n",
    "\n",
    "Reprenons le dernier exemple et imaginons que nous ne voulions tripler les lettres uniquement dans le cas où celles-ci sont des voyelles :"
   ]
  },
  {
   "cell_type": "code",
   "execution_count": null,
   "id": "ac5709bc",
   "metadata": {
    "tags": [
     "fr"
    ]
   },
   "outputs": [],
   "source": [
    "liste_de_lettres = [\"a\", \"c\", \"d\", \"f\", \"g\", \"z\", \"e\", \"i\"]\n",
    "\n",
    "[el * 3 for el in liste_de_lettres if el in [\"a\", \"e\", \"i\", \"o\", \"u\", \"y\"]]"
   ]
  },
  {
   "cell_type": "markdown",
   "id": "4a8d9378",
   "metadata": {},
   "source": [
    "## Exercice (facile)\n",
    "\n",
    "Ecrivez une liste compréhensive qui retourne le carré des nombres suivants uniquement si ils sont strictement plus grands que 5."
   ]
  },
  {
   "cell_type": "code",
   "execution_count": null,
   "id": "31b2c6d8",
   "metadata": {
    "tags": [
     "fr"
    ]
   },
   "outputs": [],
   "source": [
    "liste_de_nombres = [2, 6, 8, 5, 7, 9, 1, 2, 3, 6]\n",
    "\n",
    "# tapez votre code ici"
   ]
  },
  {
   "cell_type": "markdown",
   "id": "22264751",
   "metadata": {
    "tags": [
     "fr"
    ]
   },
   "source": [
    "## ``if`` et ``else`` dans une liste compréhensive\n",
    "\n",
    "Parfois on souhaite appliquer différentes transformations aux éléments en fonction de leur nature. Dans ce cas là on peut ajouter des ``if`` et des ``else`` dans la première partie de l'expression afin de leur faire subir un traitement différencié.\n",
    "\n",
    "```python\n",
    "[expression_1 if condition else expression_2 for element in iterable]\n",
    "```\n",
    "Par exemple imaginons qu'on veut avoir les carrés des nombres 2, 4 et 6 et le cube des autres nombres."
   ]
  },
  {
   "cell_type": "code",
   "execution_count": null,
   "id": "9737d35c",
   "metadata": {
    "tags": [
     "fr"
    ]
   },
   "outputs": [],
   "source": [
    "liste_de_nombres = [2, 6, 8, 5, 7, 9, 1, 2, 3, 6]\n",
    "\n",
    "[nombre ** 2 if nombre in [2, 4, 6] else nombre ** 3 for nombre in liste_de_nombres]"
   ]
  },
  {
   "cell_type": "markdown",
   "id": "a1dd2047",
   "metadata": {
    "tags": [
     "fr"
    ]
   },
   "source": [
    "Notez que l'on peut cumuler l'utilisation d'expressions conditionnelles (``if`` et ``else``) avec l'utilisation d'un ``if`` à la fin de l'expression qui lui filtrera en amont les éléments :"
   ]
  },
  {
   "cell_type": "code",
   "execution_count": null,
   "id": "9dab9666",
   "metadata": {
    "tags": [
     "fr"
    ]
   },
   "outputs": [],
   "source": [
    "liste_de_nombres = [2, 6, 8, 5, 7, 9, 1, 2, 3, 6]\n",
    "\n",
    "[nombre ** 2 if nombre in [2, 4, 6] else nombre ** 3 for nombre in liste_de_nombres if nombre > 5]"
   ]
  },
  {
   "cell_type": "markdown",
   "id": "3007a7b9",
   "metadata": {
    "tags": [
     "fr"
    ]
   },
   "source": [
    "## Exercice facile\n",
    "\n",
    "Reprenons l'exerice du chapitre sur les listes où il fallait parcourir la liste suivante et remplacer toutes les strings \"banane\" en \"gorille\". Cette fois-ci , utilisez plutôt une liste compréhensive pour modifier les \"banane\" en \"gorille\"."
   ]
  },
  {
   "cell_type": "code",
   "execution_count": null,
   "id": "5562113d",
   "metadata": {},
   "outputs": [],
   "source": [
    "liste = [\"mangue\", \"banane\", \"kiwi\", \"orange\",\n",
    "         \"banane\", \"banane\", \"banane\", \"banane\",\n",
    "         \"fraise\", \"poire\", \"banane\", \"peche\", \"banane\",\n",
    "         \"ananas\"]\n",
    "\n",
    "# Tapez le code ici:"
   ]
  },
  {
   "cell_type": "markdown",
   "id": "552bb33d",
   "metadata": {
    "tags": [
     "fr"
    ]
   },
   "source": [
    "## Exercice (moyen)\n",
    "\n",
    "Ecrivez une liste compréhensive qui itérera sur la liste nommez \"Filtrez-moi\" et appliquera les modifications suivantes :\n",
    "- Ne prendra pas en compte les strings égales ou plus grandes que 14 caractères.\n",
    "- Ne prendra pas en compte les integer dont le carré est strictement plus petit que 40.\n",
    "- Passera en majuscules les strings.\n",
    "- Retournera le cube des nombres.\n",
    "\n",
    "**Précision sur les tests de type**\n",
    "\n",
    "Pour tester le type d'un élément, on pourrait bien sûr écrire quelque chose comme :\n",
    "```python\n",
    "if type(\"Hello World !\") == str: print(\"C'est une string !\")\n",
    "```\n",
    "Mais il est préférable d'utiliser la fonction ``isinstance()`` qui a été conçue pour réaliser ce type de tests et qui est plus robuste. Sa syntaxe est : ``isinstance(el, type)``. Ex:\n",
    "\n",
    "```python\n",
    "if isinstance(\"Hello World !\", str): print(\"C'est une string !\")\n",
    "```\n",
    "\n",
    "**ASTUCES**:\n",
    "\n",
    "- Vous vous souvenez des ``and`` et des ``or`` ?\n",
    "- Et de ``.upper()`` et ``len()`` ?\n",
    "- Attention à ne pas utiliser des opérations numériques sur des strings ou des méthodes réservées aux strings sur des nombres, dans ce cas-là python renverra une erreur. Pour éviter cela vérifiez le type de l'élément avec ``isinstance()``.\n",
    "- La réponse tient en une seule ligne de code, mais comme celle-ci est un peu longue sachez que vous pouvez tout à fait écrire des listes compréhensives sur plusieurs lignes."
   ]
  },
  {
   "cell_type": "code",
   "execution_count": null,
   "id": "998ed3fc",
   "metadata": {
    "tags": [
     "fr"
    ]
   },
   "outputs": [],
   "source": [
    "filtrez_moi = [\"topinambour\", 5, \"patate\", 9, 7, 5, 1, 3, 5, 7, \"tomates anciennes\", 5, 12, 11]\n",
    "\n",
    "# Tapez le code ici:\n"
   ]
  },
  {
   "cell_type": "markdown",
   "id": "db46b09e",
   "metadata": {
    "tags": [
     "fr"
    ]
   },
   "source": [
    "# Dictionnaires compréhensifs"
   ]
  },
  {
   "cell_type": "markdown",
   "id": "9386acf4",
   "metadata": {
    "tags": [
     "fr"
    ]
   },
   "source": [
    "## Définition\n",
    "\n",
    "Les dictionnaires compréhensifs se comportent de la même manière que les listes compréhensives, à la différence que l'on doit leur donner deux expressions à retourner : la clé et la valeur. La syntaxe est donc légèrement différente. Voyons cela :\n",
    "\n",
    "```python\n",
    "{k:v for k, v in iterable}\n",
    "```\n",
    "Ici :\n",
    "\n",
    "- La variable **k** (*key*) désigne la variable qui sera utilisée comme clé.\n",
    "- La variable **v** (*value*) est la valeur associée à cette clé.\n",
    "- La variable **itérable** est le nom de l'objet sur lequel on va pouvoir itérer, il faut donc que cet itérable contienne des couples de valeurs.\n",
    "\n",
    "Commençons simplement en créant une copie d'un dictionnaire, dans ce cas-là il faut itérer sur celui-ci à l'aide de la méthode ``.items()`` afin qu'à chaque itération un couple clé valeur soit retourné."
   ]
  },
  {
   "cell_type": "code",
   "execution_count": null,
   "id": "58a75397",
   "metadata": {
    "tags": [
     "fr"
    ]
   },
   "outputs": [],
   "source": [
    "dictionnaire = {\"oranges\":3,\n",
    "                \"bananes\":12,\n",
    "                 \"poires\": 7}\n",
    "\n",
    "{k:v for k, v in dictionnaire.items()}"
   ]
  },
  {
   "cell_type": "markdown",
   "id": "fae7173d",
   "metadata": {
    "tags": [
     "fr"
    ]
   },
   "source": [
    "Désormais multiplions les quantités par 5."
   ]
  },
  {
   "cell_type": "code",
   "execution_count": null,
   "id": "5596a3a7",
   "metadata": {
    "tags": [
     "fr"
    ]
   },
   "outputs": [],
   "source": [
    "dictionnaire = {\"oranges\":3,\n",
    "               \"bananes\":12,\n",
    "               \"poires\": 7}\n",
    "\n",
    "{k:v * 5 for k, v in dictionnaire.items()}"
   ]
  },
  {
   "cell_type": "markdown",
   "id": "a405c518",
   "metadata": {
    "tags": [
     "fr"
    ]
   },
   "source": [
    "Et passons les clés en majuscules."
   ]
  },
  {
   "cell_type": "code",
   "execution_count": null,
   "id": "f5dbb948",
   "metadata": {
    "tags": [
     "fr"
    ]
   },
   "outputs": [],
   "source": [
    "dictionnaire = {\"oranges\":3,\n",
    "               \"bananes\":12,\n",
    "               \"poires\": 7}\n",
    "\n",
    "{k.upper():v * 5 for k, v in dictionnaire.items()}"
   ]
  },
  {
   "cell_type": "markdown",
   "id": "d955bb23",
   "metadata": {
    "tags": [
     "fr"
    ]
   },
   "source": [
    "## Générer un dictionnaire à partir de listes\n",
    "\n",
    "Imaginons que nous ayons deux listes, et que nous voulions que l'une devienne une clé et l'autre la valeur. Nous pouvons alors utiliser la fonction ``zip()`` qui va faire correspondre chaque élément d'une liste à l'autre afin que nous puissions itérer sur les deux listes simultanément !\n",
    "\n",
    "Créons un objet de type ``zip`` et itérons dessus pour observer son comportement :"
   ]
  },
  {
   "cell_type": "code",
   "execution_count": null,
   "id": "5e1e1436",
   "metadata": {
    "tags": [
     "fr"
    ]
   },
   "outputs": [],
   "source": [
    "l1 = [\"oranges\", \"bananes\", \"poires\"]\n",
    "l2 = [3, 12, 7]\n",
    "\n",
    "for el in zip(l1, l2): print(el)"
   ]
  },
  {
   "cell_type": "markdown",
   "id": "02428891",
   "metadata": {
    "tags": [
     "fr"
    ]
   },
   "source": [
    "On constate que le fait de \"zipper\" les listes entre elles a donc créé un objet spécial de type \"zip\" qui permet de parcourir les deux listes à la fois. Celui-ci renvoie un \"tuple\" (une liste non modifiable) à chaque itération. Maintenant générons notre dictionnaire à l'aide de la syntaxe compréhensive :"
   ]
  },
  {
   "cell_type": "code",
   "execution_count": null,
   "id": "e210cbd4",
   "metadata": {
    "tags": [
     "fr"
    ]
   },
   "outputs": [],
   "source": [
    "l1 = [\"oranges\", \"bananes\", \"poires\"]\n",
    "l2 = [3, 12, 7]\n",
    "\n",
    "{k:v for k, v in zip(l1, l2)}"
   ]
  },
  {
   "cell_type": "markdown",
   "id": "c891b97e",
   "metadata": {
    "tags": [
     "fr"
    ]
   },
   "source": [
    "Bien évidemment les structures conditionnelles (``if`` et ``else``) s'appliquent de la même manière que les listes compréhensives. Vérifiez ceci en effectuant l'exercice suivant :"
   ]
  },
  {
   "cell_type": "markdown",
   "id": "3545b063",
   "metadata": {
    "tags": [
     "fr"
    ]
   },
   "source": [
    "# Exercice (facile / moyen)\n",
    "\n",
    "Créer un dictionnaire à partir des deux listes suivantes. Celle contenant les noms des légumes sera la clé, l'autre sera celle des valeurs. Faites en sorte que les contraintes suivantes soient respectées :\n",
    "- Les clés commençant par la lettre \"c\" ne devront pas être prises en compte.\n",
    "- La première lettre de chaque clé du dictionnaire doit commencer par une majuscule.\n",
    "- Si la valeur est égale ou inférieure à 0, remplacez-la par \"stock épuisé\".\n",
    "\n",
    "**ASTUCES**\n",
    "\n",
    "- Utilisez ``.upper()``afin de gérer la casse.\n",
    "- Vous souvenez-vous de l'utilisation des *slices* ?"
   ]
  },
  {
   "cell_type": "code",
   "execution_count": null,
   "id": "1b4d3ed6",
   "metadata": {
    "tags": [
     "fr"
    ]
   },
   "outputs": [],
   "source": [
    "legumes = [\"Courgettes\", \"tomates\", \"concombres\", \"pommes de terre\", \"poireaux\", \"endives\", \"Carottes\"]\n",
    "stock = [1, 0, 2, 16, 46, -1, 36]\n",
    "\n",
    "# Tapez votre code ici :"
   ]
  }
 ],
 "metadata": {
  "kernelspec": {
   "display_name": "Python 3 (ipykernel)",
   "language": "python",
   "name": "python3"
  },
  "language_info": {
   "codemirror_mode": {
    "name": "ipython",
    "version": 3
   },
   "file_extension": ".py",
   "mimetype": "text/x-python",
   "name": "python",
   "nbconvert_exporter": "python",
   "pygments_lexer": "ipython3",
   "version": "3.10.9"
  }
 },
 "nbformat": 4,
 "nbformat_minor": 5
}
