{
 "cells": [
  {
   "cell_type": "code",
   "execution_count": null,
   "id": "consistent-magic",
   "metadata": {},
   "outputs": [],
   "source": [
    "Syntaxe Compréhensive"
   ]
  },
  {
   "cell_type": "markdown",
   "id": "differential-forge",
   "metadata": {},
   "source": [
    "# Introduction\n",
    "\n",
    "La syntaxe compréhensive est une syntaxe propre à certains langages de programmation qui vient du monde des mathématiques et qui, au lieu de décrire des éléments un par un, décrit plutôt les critères auxquels les éléments doivent satisfaire.\n",
    "\n",
    "En Python, on peut considérer cela comme une formule qui permet de générer cette liste d'éléments au lieu de les écrire tous un par un.\n",
    "\n",
    "Ils sont appliquables sur différents objets, tels que les listes, les sets et les dictionnaires et sont très utilisés, notamment pour filtrer facilement des listes.\n",
    "\n",
    "Même si les listes compréhensives sont concises et élégantes, il n'est pourtant pas recommandé de les utiliser partout où c'est possible. Si elles s'avèrent trop complexes à écrire, mieux vaut utiliser une boucle for qui sera plus facile à créer, tester, déboguer et comprendre par un autre programmeur (ou votre vous du futur).\n",
    "\n"
   ]
  },
  {
   "cell_type": "markdown",
   "id": "psychological-composite",
   "metadata": {},
   "source": [
    "# Les listes compréhensives"
   ]
  },
  {
   "cell_type": "markdown",
   "id": "greek-tobacco",
   "metadata": {},
   "source": [
    "## Définition\n",
    "\n",
    "Les listes compréhensives sont donc des sortes de \"formules magiques\" qui vont créer des listes. Elles sont très utilisées dans de nombreux domaines. En général on part d'un objet itérable d'après lequel on veut créer une liste (ce peut donc être une autre liste, mais aussi un dictionnaire ou n'importe quel autre objet itérable).\n",
    "\n",
    "Pour les créer la syntaxe est la suivante : on ouvre les crochets comme si on voulait créer une liste mais au lieu d'énumérer les différents éléments on écrit la syntaxe suivante.\n",
    "\n",
    "```python\n",
    "[ce_que_l_on_veut_obtenir for chaque_element in objet_iterable]\n",
    "```\n",
    "\n",
    "Ou formulé de manière plus concise :\n",
    "\n",
    "```python\n",
    "\n",
    "[expression for element in iterable]\n",
    "\n",
    "```\n",
    "\n",
    "Ici :\n",
    "\n",
    "- La variable **expression** est le résultat que l'on veut obtenir.\n",
    "- La variable **élément** est le nom que l'on va donner à chaque élément sur lequel on itère.\n",
    "- La variable **itérable** est le nom de l'objet sur lequel on va pouvoir itérer.\n",
    "\n",
    "Par exemple, imaginons que je dispose d'une liste de nombre et que je veuille les retourner au carré :"
   ]
  },
  {
   "cell_type": "code",
   "execution_count": null,
   "id": "advisory-knife",
   "metadata": {},
   "outputs": [],
   "source": [
    "liste_de_nombres = [2, 6, 8, 5, 7, 9, 1, 2, 3, 6]\n",
    "\n",
    "[nombre * nombre for nombre in liste_de_nombres]"
   ]
  },
  {
   "cell_type": "markdown",
   "id": "vulnerable-heart",
   "metadata": {},
   "source": [
    "On peut aussi rajouter des conditions en utilisant un ``if`` à la fin, par exemple imaginons qu'on ne veut avoir les carrés que des nombres 2, 4 et 6. (Notez l'utilisation de ``in`` pour tester si le nombre appartient à la liste des nombres recherchés)."
   ]
  },
  {
   "cell_type": "code",
   "execution_count": null,
   "id": "alert-polls",
   "metadata": {},
   "outputs": [],
   "source": [
    "liste_de_nombres = [2, 6, 8, 5, 7, 9, 1, 2, 3, 6]\n",
    "\n",
    "[nombre * nombre for nombre in liste_de_nombres if nombre in [2, 4, 6]]"
   ]
  },
  {
   "cell_type": "markdown",
   "id": "corresponding-moldova",
   "metadata": {},
   "source": [
    "## Filtrer avec des listes compréhensives\n",
    "\n",
    "Si l'on itère sur une liste et que l'on veut y supprimer tous les integer par exemple. On pourrait adopter cette stratégie :"
   ]
  },
  {
   "cell_type": "code",
   "execution_count": null,
   "id": "liquid-strengthening",
   "metadata": {},
   "outputs": [],
   "source": [
    "encore_une_liste = [\"a garder\", 3, 4, 5, 9, \"a garder\", \"hello\", 4, 5, 9, \"world\", 5, 7]\n",
    "\n",
    "for el in encore_une_liste:\n",
    "    if type(el) == int: encore_une_liste.remove(el)\n",
    "    # notez que pour tester un type, il vaut mieux utiliser la fonction isinstance():\n",
    "    # if isinstance(el, int): encore_une_liste.remove(el)\n",
    "\n",
    "encore_une_liste"
   ]
  },
  {
   "cell_type": "markdown",
   "id": "running-ownership",
   "metadata": {},
   "source": [
    "Tiens ? Bizarrement ça ne marche pas pour tous les nombres on dirait ?\n",
    "\n",
    "En effet, parce qu'à chaque fois qu'on retire un élément, on décale les index ce qui fausse le résultat final ! On peut trouver une solution en utilisant une autre liste. Exemple :"
   ]
  },
  {
   "cell_type": "code",
   "execution_count": null,
   "id": "relevant-worker",
   "metadata": {},
   "outputs": [],
   "source": [
    "encore_une_liste = [\"a garder\", 3, 4, 5, 9, \"a garder\", \"hello\", 4, 5, 9, \"world\", 5, 7]\n",
    "\n",
    "nouvelle_liste = [] # liste vide\n",
    "for el in encore_une_liste:\n",
    "    if type(el) != int: nouvelle_liste.append(el)\n",
    "        \n",
    "nouvelle_liste"
   ]
  },
  {
   "cell_type": "markdown",
   "id": "sapphire-secondary",
   "metadata": {},
   "source": [
    "Mais cela reste laborieux ! Heureusement nous avons les listes compréhensives qui nous permettent de faire la même chose en une seule ligne !"
   ]
  },
  {
   "cell_type": "markdown",
   "id": "private-morrison",
   "metadata": {},
   "source": [
    "## Liste compréhensives avec ``if``\n",
    "\n",
    "Il est tout à fait possible d'inclure un ``if`` lors de la création d'une liste compréhensive. La syntaxe est :\n",
    "\n",
    "```python\n",
    "[ce_que_l_on_veut_obtenir for element in objet_iterable if notre_condition_est_vraie]\n",
    "```\n",
    "\n",
    "Autrement dit, on veut a si la condition est satisfaite, où a est l'élément qui sera ajouté dans notre liste :\n",
    "\n",
    "```python\n",
    "[a for el in iterable if cond]\n",
    "```"
   ]
  },
  {
   "cell_type": "code",
   "execution_count": null,
   "id": "numerical-calvin",
   "metadata": {},
   "outputs": [],
   "source": [
    "encore_une_liste = [\"a garder\", 3, 4, 5, 9, \"a garder\", \"hello\", 4, 5, 9, \"world\", 5, 7]\n",
    "\n",
    "[el for el in encore_une_liste if type(el) != int]"
   ]
  },
  {
   "cell_type": "markdown",
   "id": "referenced-effects",
   "metadata": {},
   "source": [
    "## Exercice (facile/moyen)\n",
    "\n",
    "Filtrez cette liste en une seule ligne grâce à une liste compréhensive en ne retenant que les strings ou bien les nombres dont le carré est plus petit que 40.\n",
    "\n",
    "**ASTUCES**:\n",
    "\n",
    "- La condition qui suit un ``if`` peut très bien être plus complexe que dans les exemples précédents.\n",
    "- Vous vous souvenez des ``or`` ?\n",
    "- Attention l'ordre dans laquelle vous utiliserez vos expressions est déterminant."
   ]
  },
  {
   "cell_type": "code",
   "execution_count": null,
   "id": "potential-basket",
   "metadata": {},
   "outputs": [],
   "source": [
    "filtrez_moi = [\"gardez-moi\", 5, \"Moi aussi !\", 9, 7, 5, 1, 3, 5, 7, \"et moi, et moi !\", 5, 12, 11]\n",
    "\n",
    "# Tapez le code ici:"
   ]
  },
  {
   "cell_type": "markdown",
   "id": "funny-revision",
   "metadata": {},
   "source": [
    "## Liste compréhensives avec ``if`` / ``else``\n",
    "\n",
    "Il est tout à fait possible d'inclure un ``else`` lors de la création d'une liste compréhensive. La syntaxe est :\n",
    "\n",
    "```python\n",
    "[ce_que_l_on_veut_obtenir if notre_condition_est_vraie else ce_que_l_on_veut_si_la_condition_est_fausse for element in objet_iterable]\n",
    "```\n",
    "\n",
    "Autrement dit, on veut *a* si la condition est satisfaite et *b* si elle ne l'est pas, où *a* et *b* sont les éléments que l'on veut obtenir dans notre liste :\n",
    "\n",
    "```python\n",
    "[a if cond else b for el in iterable]\n",
    "```"
   ]
  },
  {
   "cell_type": "markdown",
   "id": "experimental-reducing",
   "metadata": {},
   "source": [
    "## Exercice facile/moyen\n",
    "\n",
    "Reprenez l'exercice précédent sur les fruits où il fallait parcourir la liste suivante et remplacer toutes les strings \"banane\" en \"gorille\", mais utilisez plutôt une liste compréhensive pour modifier les \"banane\" en \"gorille\". En python l'usage d'une liste compréhensive dans ce cas là est le moyen le plus court, le plus élégant et le plus performant pour remplacer les éléments d'une liste.\n",
    "\n",
    "**Astuces:**\n",
    "\n",
    "- Une seule ligne de code est requise."
   ]
  },
  {
   "cell_type": "code",
   "execution_count": null,
   "id": "australian-carol",
   "metadata": {},
   "outputs": [],
   "source": [
    "liste = [\"mangue\", \"banane\", \"kiwi\", \"orange\",\n",
    "         \"banane\", \"banane\", \"banane\", \"banane\",\n",
    "         \"fraise\", \"poire\", \"banane\", \"peche\", \"banane\",\n",
    "         \"ananas\"]\n",
    "\n",
    "# Tapez le code ici:"
   ]
  }
 ],
 "metadata": {
  "kernelspec": {
   "display_name": "Python 3",
   "language": "python",
   "name": "python3"
  },
  "language_info": {
   "codemirror_mode": {
    "name": "ipython",
    "version": 3
   },
   "file_extension": ".py",
   "mimetype": "text/x-python",
   "name": "python",
   "nbconvert_exporter": "python",
   "pygments_lexer": "ipython3",
   "version": "3.8.5"
  }
 },
 "nbformat": 4,
 "nbformat_minor": 5
}
