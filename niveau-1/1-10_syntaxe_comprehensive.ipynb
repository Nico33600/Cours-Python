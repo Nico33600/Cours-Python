{
 "cells": [
  {
   "cell_type": "code",
   "execution_count": null,
   "id": "intensive-tuesday",
   "metadata": {},
   "outputs": [],
   "source": [
    "Syntaxe Compréhensive"
   ]
  },
  {
   "cell_type": "markdown",
   "id": "awful-flush",
   "metadata": {},
   "source": [
    "# Introduction\n",
    "\n",
    "La syntaxe compréhensive est une syntaxe propre à certains langages de programmation qui vient du monde des mathématiques et qui, au lieu de décrire des éléments un par un, décrit plutôt les propriétés que partagent ces éléments.\n",
    "\n",
    "En Python, on peut considérer cela comme une formule qui permet de générer cette liste d'éléments au lieu de les écrire tous un par un.\n",
    "\n",
    "Ils sont appliquables sur différents objets, tels que les listes, les sets et les dictionnaires et sont très utilisés, notamment pour filtrer facilement des itérables.\n",
    "\n",
    "Même si les listes compréhensives sont concises et élégantes, il n'est pourtant pas recommandé de les utiliser partout où c'est possible. Si elles s'avèrent trop complexes à écrire, mieux vaut utiliser une boucle for qui sera sans doute plus longue à écrire mais aussi plus facile à créer, tester, déboguer et comprendre par un autre programmeur."
   ]
  },
  {
   "cell_type": "markdown",
   "id": "statistical-pattern",
   "metadata": {},
   "source": [
    "# Les listes compréhensives"
   ]
  },
  {
   "cell_type": "markdown",
   "id": "controlling-premises",
   "metadata": {},
   "source": [
    "## Définition\n",
    "\n",
    "Les listes compréhensives sont donc des sortes de \"formules magiques\" qui vont créer des listes. Elles sont très utilisées dans de nombreux domaines. En général on part d'un objet itérable d'après lequel on veut créer une liste (ce peut donc être une autre liste, mais aussi un dictionnaire ou n'importe quel autre objet itérable).\n",
    "\n",
    "Pour les créer une liste compréhensive la syntaxe est la suivante : on ouvre les crochets comme si on voulait créer une liste mais au lieu d'énumérer les différents éléments on écrit la syntaxe suivante :\n",
    "\n",
    "```python\n",
    "[expression for element in iterable]\n",
    "```\n",
    "Ici :\n",
    "\n",
    "- La variable **expression** est le résultat que l'on veut obtenir.\n",
    "- La variable **élément** est le nom que l'on va donner à chaque élément sur lequel on itère.\n",
    "- La variable **itérable** est le nom de l'objet sur lequel on va pouvoir itérer.\n",
    "\n",
    "On pourrait donc l'écrire ainsi également :\n",
    "\n",
    "```python\n",
    "[ce_que_l_on_veut_obtenir for variable_contenant_successivement_chaque_element in objet_iterable]\n",
    "```\n",
    "\n",
    "Par exemple, imaginons que je dispose d'une liste de nombre et que je veuille les retourner au carré, la syntaxe sera :"
   ]
  },
  {
   "cell_type": "code",
   "execution_count": 15,
   "id": "chemical-pizza",
   "metadata": {},
   "outputs": [
    {
     "data": {
      "text/plain": [
       "[4, 36, 64, 25, 49, 81, 1, 4, 9, 36]"
      ]
     },
     "execution_count": 15,
     "metadata": {},
     "output_type": "execute_result"
    }
   ],
   "source": [
    "liste_de_nombres = [2, 6, 8, 5, 7, 9, 1, 2, 3, 6]\n",
    "\n",
    "[nombre ** 2 for nombre in liste_de_nombres]"
   ]
  },
  {
   "cell_type": "markdown",
   "id": "spanish-damage",
   "metadata": {},
   "source": [
    "### Exercice (facile)\n",
    "\n",
    "A partir de la liste suivante, générez une nouvelle liste à l'aide de la syntaxe compréhensive qui triple chaque caractère. Par exemple La lettre \"b\" deviendra \"bbb\" dans la nouvelle liste."
   ]
  },
  {
   "cell_type": "code",
   "execution_count": null,
   "id": "indirect-latest",
   "metadata": {},
   "outputs": [],
   "source": [
    "liste_de_lettres = [\"a\", \"c\", \"d\", \"f\", \"g\", \"z\", \"e\", \"i\"]\n",
    "\n",
    "# tapez votre code ici"
   ]
  },
  {
   "cell_type": "markdown",
   "id": "flying-lighter",
   "metadata": {},
   "source": [
    "## Filtrer avec des listes compréhensives et ``if``\n",
    "\n",
    "Les listes compréhensives permettent de facilement filtrer, c'est-à-dire choisir les éléments qu'on va traiter (et ceux qu'on ne traitera pas).\n",
    "\n",
    "Pour cela on ajoute tout simplement un \"if\" à la fin de la syntaxe.\n",
    "\n",
    "```python\n",
    "[a for el in iterable if cond]\n",
    "```\n",
    "Autrement dit, on veut a si la condition est satisfaite, où a est l'élément qui sera ajouté dans notre liste. Sinon l'élément ne sera pas traité.\n",
    "\n",
    "On pourrait aussi l'écrire de cette manière :\n",
    "\n",
    "```python\n",
    "[ce_que_l_on_veut_obtenir for variable_contenant_successivement_chaque_element in objet_iterable if notre_condition_est_vraie]\n",
    "```\n",
    "\n",
    "Reprenons le dernier exemple et imaginons que je ne veuille tripler les lettres que si ce sont des voyelles :"
   ]
  },
  {
   "cell_type": "code",
   "execution_count": 17,
   "id": "guided-generic",
   "metadata": {},
   "outputs": [
    {
     "data": {
      "text/plain": [
       "['aaa', 'eee', 'iii']"
      ]
     },
     "execution_count": 17,
     "metadata": {},
     "output_type": "execute_result"
    }
   ],
   "source": [
    "liste_de_lettres = [\"a\", \"c\", \"d\", \"f\", \"g\", \"z\", \"e\", \"i\"]\n",
    "\n",
    "[el * 3 for el in liste_de_lettres if el in [\"a\", \"e\", \"i\", \"o\", \"u\", \"y\"]]"
   ]
  },
  {
   "cell_type": "markdown",
   "id": "virgin-representation",
   "metadata": {},
   "source": [
    "## Exercice (facile)\n",
    "\n",
    "Ecrivez une liste compréhensive qui retourne le carré des nombres suivants uniquement si ils sont strictement plus grands que 5."
   ]
  },
  {
   "cell_type": "code",
   "execution_count": 19,
   "id": "directed-butter",
   "metadata": {},
   "outputs": [
    {
     "data": {
      "text/plain": [
       "[36, 64, 49, 81, 36]"
      ]
     },
     "execution_count": 19,
     "metadata": {},
     "output_type": "execute_result"
    }
   ],
   "source": [
    "liste_de_nombres = [2, 6, 8, 5, 7, 9, 1, 2, 3, 6]\n",
    "\n",
    "# tapez votre code ici"
   ]
  },
  {
   "cell_type": "markdown",
   "id": "unavailable-adrian",
   "metadata": {},
   "source": [
    "## ``if`` et ``else`` dans une liste compréhensive\n",
    "\n",
    "Parfois on souhaite appliquer différentes transformations aux éléments en fonction de leur nature. Dans ce cas là on peut ajouter des ``if`` et des ``else`` dans la première partie de l'expression afin de leur faire subir un traitement différencié.\n",
    "\n",
    "```python\n",
    "[expression_1 if condition else expression_2 for element in iterable]\n",
    "```\n",
    "Par exemple imaginons qu'on veut avoir les carrés des nombres 2, 4 et 6 et le cube des autres nombres."
   ]
  },
  {
   "cell_type": "code",
   "execution_count": 20,
   "id": "equivalent-documentation",
   "metadata": {},
   "outputs": [
    {
     "data": {
      "text/plain": [
       "[4, 36, 512, 125, 343, 729, 1, 4, 27, 36]"
      ]
     },
     "execution_count": 20,
     "metadata": {},
     "output_type": "execute_result"
    }
   ],
   "source": [
    "liste_de_nombres = [2, 6, 8, 5, 7, 9, 1, 2, 3, 6]\n",
    "\n",
    "[nombre ** 2 if nombre in [2, 4, 6] else nombre ** 3 for nombre in liste_de_nombres]"
   ]
  },
  {
   "cell_type": "markdown",
   "id": "dynamic-james",
   "metadata": {},
   "source": [
    "Notez que l'on peut cumuler l'utilisation d'expressions conditionnelles (``if`` et ``else``) avec l'utilisation d'un ``if`` à la fin de l'expression qui lui filtrera en amont les éléments :"
   ]
  },
  {
   "cell_type": "code",
   "execution_count": 21,
   "id": "tutorial-supply",
   "metadata": {},
   "outputs": [
    {
     "data": {
      "text/plain": [
       "[36, 512, 343, 729, 36]"
      ]
     },
     "execution_count": 21,
     "metadata": {},
     "output_type": "execute_result"
    }
   ],
   "source": [
    "liste_de_nombres = [2, 6, 8, 5, 7, 9, 1, 2, 3, 6]\n",
    "\n",
    "[nombre ** 2 if nombre in [2, 4, 6] else nombre ** 3 for nombre in liste_de_nombres if nombre > 5]"
   ]
  },
  {
   "cell_type": "markdown",
   "id": "possible-outline",
   "metadata": {},
   "source": [
    "## Exercice (moyen)\n",
    "\n",
    "Ecrivez une liste compréhensive qui :\n",
    "- Ne prend pas en compte les strings égales ou plus grandes que 14 caractères.\n",
    "- Ne prend pas en compte les integer dont le carré est strictement plus petit que 40.\n",
    "- Passe en majuscules les strings.\n",
    "- Retourne le cube des nombres.\n",
    "\n",
    "Filtrez cette liste en une seule ligne grâce à une liste compréhensive en ne retenant que les strings ou bien les nombres dont le carré est plus petit que 40.\n",
    "\n",
    "**Précision sur les tests de type**\n",
    "\n",
    "Pour tester le type d'un élément, on pourrait bien sûr écrire quelque chose comme :\n",
    "```python\n",
    "if type(\"Hello World !\") == str: print(\"C'est une string !\")\n",
    "```\n",
    "Mais il est préférable d'utiliser la fonction ``isinstance()`` qui a été conçue pour réaliser ce type de tests et qui est plus robuste. Sa syntaxe est : ``isinstance(el, type)``. Ex:\n",
    "\n",
    "```python\n",
    "if isinstance(\"Hello World !\", str): print(\"C'est une string !\")\n",
    "```\n",
    "\n",
    "**ASTUCES**:\n",
    "\n",
    "- Vous vous souvenez des ``and`` et des ``or`` ?\n",
    "- Et de ``.upper()`` et ``len()`` ?\n",
    "- Attention à ne pas utiliser des opérations numériques sur des strings ou des méthodes réservées aux strings sur des nombres, dans ce cas-là python renverra une erreur. Pour éviter cela vérifiez le type de l'élément avec ``isinstance()``\n",
    "- Vous pouvez tout à fait écrire des listes compréhensives sur plusieurs lignes pour plus de lisibilité."
   ]
  },
  {
   "cell_type": "code",
   "execution_count": 34,
   "id": "super-turkey",
   "metadata": {},
   "outputs": [
    {
     "data": {
      "text/plain": [
       "['GARDEZ-MOI', 'MOI AUSSI !', 729, 343, 343, 1728, 1331]"
      ]
     },
     "execution_count": 34,
     "metadata": {},
     "output_type": "execute_result"
    }
   ],
   "source": [
    "filtrez_moi = [\"gardez-moi\", 5, \"Moi aussi !\", 9, 7, 5, 1, 3, 5, 7, \"et moi, et moi !\", 5, 12, 11]\n",
    "\n",
    "# Tapez le code ici:\n",
    "\n",
    "[el.upper() if (isinstance(el, str)) else el ** 3 for el in filtrez_moi\n",
    "if (isinstance(el, str) and len(el) < 14) or\n",
    "   (isinstance(el, int) and el ** 2 > 40)]"
   ]
  },
  {
   "cell_type": "markdown",
   "id": "upper-packing",
   "metadata": {},
   "source": [
    "## Liste compréhensives avec ``if`` / ``else``\n",
    "\n",
    "Il est tout à fait possible d'inclure un ``else`` lors de la création d'une liste compréhensive. La syntaxe est :\n",
    "\n",
    "```python\n",
    "[ce_que_l_on_veut_obtenir if notre_condition_est_vraie else ce_que_l_on_veut_si_la_condition_est_fausse for element in objet_iterable]\n",
    "```\n",
    "\n",
    "Autrement dit, on veut *a* si la condition est satisfaite et *b* si elle ne l'est pas, où *a* et *b* sont les éléments que l'on veut obtenir dans notre liste :\n",
    "\n",
    "```python\n",
    "[a if cond else b for el in iterable]\n",
    "```"
   ]
  },
  {
   "cell_type": "markdown",
   "id": "correct-finish",
   "metadata": {},
   "source": [
    "## Exercice facile/moyen\n",
    "\n",
    "Reprenez l'exercice précédent sur les fruits où il fallait parcourir la liste suivante et remplacer toutes les strings \"banane\" en \"gorille\", mais utilisez plutôt une liste compréhensive pour modifier les \"banane\" en \"gorille\". En python l'usage d'une liste compréhensive dans ce cas là est le moyen le plus court, le plus élégant et le plus performant pour remplacer les éléments d'une liste.\n",
    "\n",
    "**Astuces:**\n",
    "\n",
    "- Une seule ligne de code est requise."
   ]
  },
  {
   "cell_type": "code",
   "execution_count": null,
   "id": "documented-porter",
   "metadata": {},
   "outputs": [],
   "source": [
    "liste = [\"mangue\", \"banane\", \"kiwi\", \"orange\",\n",
    "         \"banane\", \"banane\", \"banane\", \"banane\",\n",
    "         \"fraise\", \"poire\", \"banane\", \"peche\", \"banane\",\n",
    "         \"ananas\"]\n",
    "\n",
    "# Tapez le code ici:"
   ]
  }
 ],
 "metadata": {
  "kernelspec": {
   "display_name": "Python 3",
   "language": "python",
   "name": "python3"
  },
  "language_info": {
   "codemirror_mode": {
    "name": "ipython",
    "version": 3
   },
   "file_extension": ".py",
   "mimetype": "text/x-python",
   "name": "python",
   "nbconvert_exporter": "python",
   "pygments_lexer": "ipython3",
   "version": "3.8.5"
  }
 },
 "nbformat": 4,
 "nbformat_minor": 5
}
