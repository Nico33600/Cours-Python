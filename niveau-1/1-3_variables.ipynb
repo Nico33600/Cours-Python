{
 "cells": [
  {
   "cell_type": "markdown",
   "metadata": {},
   "source": [
    "LES VARIABLES"
   ]
  },
  {
   "cell_type": "markdown",
   "metadata": {},
   "source": [
    "# Définition"
   ]
  },
  {
   "cell_type": "markdown",
   "metadata": {},
   "source": [
    "Le concept de variable est central dans la programmation puique l'une des principales fonctions d'ordinateur consiste à effectuer les mêmes opérations sur des données différentes. Pour cela il faut donc faire \"varier\" ce que l'on utilise en entrée (\"_input_\").\n",
    "\n",
    "Commençons par un définition simple : une variable est une zone de la mémoire vive de l'ordinateur où nous allons pouvoir y stocker ce que nous voulons ! Une variable est comme le tirour d'un meuble dans lequel nous pouvons choisir ce que l'on y stocke. Essayons avec des chiffres pour commencer. Pour déclarer une variable en python, il suffit d'écrire le nom de la variable puis d'utiliser \"=\". On dit alors qu'on \"affecte\" une valeur à une variable. Exemple :"
   ]
  },
  {
   "cell_type": "code",
   "execution_count": 2,
   "metadata": {},
   "outputs": [],
   "source": [
    "ma_variable = 12"
   ]
  },
  {
   "cell_type": "code",
   "execution_count": 3,
   "metadata": {},
   "outputs": [],
   "source": [
    "je_tape_ce_que_je_veux = 148894978"
   ]
  },
  {
   "cell_type": "markdown",
   "metadata": {},
   "source": [
    "**/!\\ Attention /!\\** Le nom de la variable a quand même quelques limitations :\n",
    "\n",
    "- **Uniquement des lettres** (majuscules ou minuscules) ou **des chiffres** (mais on ne peut pas commencer par un chiffre).\n",
    "- **Pas de caractère spéciaux** (**sauf \"_\"** que l'on appelle _underscore_, ou  \"tiret du bas\")\n",
    "- **Pas de nom déjà utilisé par python**. Voici une liste des principaux mots interdits, que l'on appelle aussi des mots \"réservés\" : \"del\", \"from\", \"none\", \"true\", \"as\", \"elif\", \"global\", \"nonlocal\", \"try\", \"assert\", \"else\", \"if\", \"not\", \"while\", \"break\", \"except\", \"import\", \"or\", \"with\", \"class\", \"false\", \"in\", \"pass\", \"yield\", \"continue\", \"finally\", \"is\", \"raise\", \"def\", \"for\", \"lambda, \"return\"."
   ]
  },
  {
   "cell_type": "markdown",
   "metadata": {},
   "source": [
    "Maintenant si je tape le début du nom de ma variable puis que j'utilise \"tab\", Jupyter Lab va me suggérer ou bien compléter mon nom de variable. Essayez donc sur la ligne suivante où les lettres \"ma\" sont déjà inscrites :\n",
    "(Si jamais l'auto-complétion ne fonctionne pas, c'est peut-être parce que vous n'avez pas exécuté la cellule qui définit ces noms de variables)."
   ]
  },
  {
   "cell_type": "code",
   "execution_count": null,
   "metadata": {},
   "outputs": [],
   "source": [
    "ma"
   ]
  },
  {
   "cell_type": "markdown",
   "metadata": {},
   "source": [
    "# Manipulation de variables contenant des nombres"
   ]
  },
  {
   "cell_type": "markdown",
   "metadata": {},
   "source": [
    "## Modification d'une variable\n",
    "\n",
    "Pour l'instant notre variable contient le nombre \"12\". Essayons d'effectuer des opérations avec ce contenu. Par exemple :"
   ]
  },
  {
   "cell_type": "code",
   "execution_count": 7,
   "metadata": {},
   "outputs": [
    {
     "data": {
      "text/plain": [
       "14"
      ]
     },
     "execution_count": 7,
     "metadata": {},
     "output_type": "execute_result"
    }
   ],
   "source": [
    "ma_variable + 2"
   ]
  },
  {
   "cell_type": "code",
   "execution_count": 8,
   "metadata": {},
   "outputs": [
    {
     "data": {
      "text/plain": [
       "3.0"
      ]
     },
     "execution_count": 8,
     "metadata": {},
     "output_type": "execute_result"
    }
   ],
   "source": [
    "ma_variable / 4"
   ]
  },
  {
   "cell_type": "code",
   "execution_count": 9,
   "metadata": {},
   "outputs": [
    {
     "data": {
      "text/plain": [
       "144"
      ]
     },
     "execution_count": 9,
     "metadata": {},
     "output_type": "execute_result"
    }
   ],
   "source": [
    "ma_variable * ma_variable"
   ]
  },
  {
   "cell_type": "code",
   "execution_count": 10,
   "metadata": {},
   "outputs": [
    {
     "data": {
      "text/plain": [
       "12"
      ]
     },
     "execution_count": 10,
     "metadata": {},
     "output_type": "execute_result"
    }
   ],
   "source": [
    "ma_variable"
   ]
  },
  {
   "cell_type": "markdown",
   "metadata": {},
   "source": [
    "On constate que toutes ces opérations n'ont pas modifié la valeur initiale de ma variable. Elle reste toujours à 12, pour reprendre la métaphore du meuble, le contenu du tiroir est toujours le même. En revanche si on tape :"
   ]
  },
  {
   "cell_type": "code",
   "execution_count": 11,
   "metadata": {},
   "outputs": [],
   "source": [
    "ma_variable = ma_variable * 2"
   ]
  },
  {
   "cell_type": "code",
   "execution_count": 12,
   "metadata": {},
   "outputs": [
    {
     "data": {
      "text/plain": [
       "24"
      ]
     },
     "execution_count": 12,
     "metadata": {},
     "output_type": "execute_result"
    }
   ],
   "source": [
    "ma_variable"
   ]
  },
  {
   "cell_type": "markdown",
   "metadata": {},
   "source": [
    "Ici on a changé la valeur de la variable. Auparavant, notre variable contenait \"12\", désormais elle contient \"24\". On dit aussi qu'on lui a affecté une nouvelle valeur."
   ]
  },
  {
   "cell_type": "markdown",
   "metadata": {},
   "source": [
    "## Exercice (facile)\n",
    "\n",
    "Créez une variable appelée \"mon_annee_de_naissance\" (sans les guillemets). Puis calculer l'âge que vous aurez en l'an 2037. Calculez également l'âge de deux autres personnes de votre choix qui ne sont pas nées la même année que vous. Pour cela modifiez uniquement la valeur de la variable au moment où elle est définie et relancez le calcul de la cellule."
   ]
  },
  {
   "cell_type": "code",
   "execution_count": null,
   "metadata": {},
   "outputs": [],
   "source": []
  },
  {
   "cell_type": "markdown",
   "metadata": {},
   "source": [
    "## Petites précisions\n",
    "\n",
    "- En python le nom des variables est, par convention, toujours en minuscule.\n",
    "- Les espaces avant et après le signe \"=\" sont là eux aussi par convention, ils permettent que le code soit plus lisible. \n",
    "- Différence entre \"initialisation\" et \"affectation\" : La première fois qu'on affecte une valeur à une variable on parle d'initialisation puisque cette opération crée à la fois l'espace nécessaire dans la mémoire vive pour y faire tenir le contenu de notre variable et affecte une valeur à notre variable. Ensuite, si l'on modifie sa valeur, il s'agit juste d'une affectation."
   ]
  },
  {
   "cell_type": "markdown",
   "metadata": {},
   "source": [
    "# Les différents types de variable"
   ]
  },
  {
   "cell_type": "markdown",
   "metadata": {},
   "source": [
    "## Introduction\n",
    "\n",
    "Pour l'instant les variables que nous avons utilisées contenaient uniquement des nombres. Mais une variable peut contenir différents \"type de donnée\". Essayez instinctivement de trouver la différence entre les deux variables suivantes :"
   ]
  },
  {
   "cell_type": "code",
   "execution_count": 23,
   "metadata": {},
   "outputs": [],
   "source": [
    "variable_1 = 123\n",
    "variable_2 = \"123\""
   ]
  },
  {
   "cell_type": "markdown",
   "metadata": {},
   "source": [
    "Examinons ce qui se passe si on les multiplie chacun par 3 :"
   ]
  },
  {
   "cell_type": "code",
   "execution_count": 26,
   "metadata": {},
   "outputs": [
    {
     "data": {
      "text/plain": [
       "369"
      ]
     },
     "execution_count": 26,
     "metadata": {},
     "output_type": "execute_result"
    }
   ],
   "source": [
    "variable_1 * 3"
   ]
  },
  {
   "cell_type": "code",
   "execution_count": 27,
   "metadata": {},
   "outputs": [
    {
     "data": {
      "text/plain": [
       "'123123123'"
      ]
     },
     "execution_count": 27,
     "metadata": {},
     "output_type": "execute_result"
    }
   ],
   "source": [
    "variable_2 * 3"
   ]
  },
  {
   "cell_type": "markdown",
   "metadata": {},
   "source": [
    "Vous l'avez deviné, la variable_1 contient un nombre alors que la variable 2 contient du texte. Au lieu du mot \"texte\", on préfère appeller cela une \"chaîne de caractère\", car ceux-ci sont en réalité différents caractères mis bout à bout, ou encore une \"_string_\"."
   ]
  },
  {
   "cell_type": "markdown",
   "metadata": {},
   "source": [
    "## Les différents types de variables\n",
    "\n",
    "Les variables ont donc différents types. Pour l'instant nous n'allons en examiner que quelques-uns."
   ]
  },
  {
   "cell_type": "markdown",
   "metadata": {},
   "source": [
    "### Les integer\n",
    "\n",
    "On appelle \"entier\", \"integer\" (\"int\" en abrégé) les nombres qui n'ont pas de décimales après la virgule. Exemple :\n",
    "\n",
    "```python\n",
    "-45, 12, 54645, -45645456 \n",
    "\n",
    "```"
   ]
  },
  {
   "cell_type": "markdown",
   "metadata": {},
   "source": [
    "### Les float\n",
    "\n",
    "On appelle \"flottants\" ou \"_float_\" les nombres qui ont une ou plusieurs décimales après la virgule. Exemple :\n",
    "\n",
    "```python\n",
    "-45.56, 12.1, 548.56, -416974562.14568941346759314619 \n",
    "\n",
    "```"
   ]
  },
  {
   "cell_type": "markdown",
   "metadata": {},
   "source": [
    "### Les chaînes de caractères\n",
    "\n",
    "On appelle \"chaîne de caractère\" ou \"_string_\" (\"str\" en abrégé) les nombres qui ont une ou plusieurs décimales après la virgule. Celles-ci sont toujours placées entre guillemets pour ne pas les confondre avec les nombres. En voici trois exemples :\n",
    "\n",
    "```python\n",
    "\"ceci est un navet\", \"Voici mon email : bla.blabla@blabla.bla\", '6 * 7 = 42'\n",
    "```\n",
    "\n",
    "On peut utiliser indifféremment des doubles quotes \" \" ou des simples cotes ' ' pour définir une variable. Cela sert aussi inclure les uns dans les autres. Par exemple :"
   ]
  },
  {
   "cell_type": "code",
   "execution_count": 50,
   "metadata": {},
   "outputs": [
    {
     "data": {
      "text/plain": [
       "\"Ces navets sont-ils vraiment 'biologiques' ?\""
      ]
     },
     "execution_count": 50,
     "metadata": {},
     "output_type": "execute_result"
    }
   ],
   "source": [
    "\"Ces navets sont-ils vraiment 'biologiques' ?\""
   ]
  },
  {
   "cell_type": "code",
   "execution_count": 51,
   "metadata": {},
   "outputs": [
    {
     "data": {
      "text/plain": [
       "'Ces navets sont-ils vraiment \"biologiques\" ?'"
      ]
     },
     "execution_count": 51,
     "metadata": {},
     "output_type": "execute_result"
    }
   ],
   "source": [
    "'Ces navets sont-ils vraiment \"biologiques\" ?'"
   ]
  },
  {
   "cell_type": "markdown",
   "metadata": {},
   "source": [
    "Ici les \" \" et les ' ' sont rajoutés par Jupyter Lab pour préciser que ce sont des variables de type str. Mais en utilisant la fonction print(), on peut savoir exactement comment ces phrases seraient affichés dans un programme."
   ]
  },
  {
   "cell_type": "code",
   "execution_count": 53,
   "metadata": {},
   "outputs": [
    {
     "name": "stdout",
     "output_type": "stream",
     "text": [
      "Ces navets sont-ils vraiment 'biologiques' ?\n",
      "Ces navets sont-ils vraiment \"biologiques\" ?\n"
     ]
    }
   ],
   "source": [
    "print (\"Ces navets sont-ils vraiment 'biologiques' ?\")\n",
    "print ('Ces navets sont-ils vraiment \"biologiques\" ?')"
   ]
  },
  {
   "cell_type": "markdown",
   "metadata": {},
   "source": [
    "L'avantage d'utiliser la fonction print() est que l'on peut afficher plusieurs résultats après n'avoir exécuté qu'une seule cellule."
   ]
  },
  {
   "cell_type": "markdown",
   "metadata": {},
   "source": [
    "## La fonction type()\n",
    "\n",
    "Cette fonction permet de savoir de quel type est une variable. Par exemple :"
   ]
  },
  {
   "cell_type": "code",
   "execution_count": 49,
   "metadata": {},
   "outputs": [
    {
     "data": {
      "text/plain": [
       "int"
      ]
     },
     "execution_count": 49,
     "metadata": {},
     "output_type": "execute_result"
    }
   ],
   "source": [
    "# La variable est de type \"int\", signifiant \"integer\" donc \"entier\"\n",
    "# Je vous rappelle que les phrases suivies d'un \"#\" sont des commentaires et ne sont pas exécutées\n",
    "\n",
    "type(variable_1)"
   ]
  },
  {
   "cell_type": "code",
   "execution_count": 35,
   "metadata": {},
   "outputs": [
    {
     "data": {
      "text/plain": [
       "str"
      ]
     },
     "execution_count": 35,
     "metadata": {},
     "output_type": "execute_result"
    }
   ],
   "source": [
    "# La variable est de type \"str\", signifiant \"string\" donc \"chaîne de caractères\"\n",
    "\n",
    "type(variable_2)"
   ]
  },
  {
   "cell_type": "code",
   "execution_count": 37,
   "metadata": {},
   "outputs": [
    {
     "data": {
      "text/plain": [
       "float"
      ]
     },
     "execution_count": 37,
     "metadata": {},
     "output_type": "execute_result"
    }
   ],
   "source": [
    "# La variable est de type \"float\", donc \"flottant\"\n",
    "\n",
    "variable_3 = 48.45\n",
    "\n",
    "type(variable_3)"
   ]
  },
  {
   "cell_type": "markdown",
   "metadata": {},
   "source": [
    "## Exercice (facile)\n",
    "\n",
    "Écrire un programme qui multiplie deux variables entre elles et retourne le résultat suivant :\n",
    "\n",
    "```python\n",
    "\"Moi je connais une chanson qui énerve les gens ! Moi je connais une chanson qui énerve les gens ! Moi je connais une chanson qui énerve les gens ! Moi je connais une chanson qui énerve les gens ! Moi je connais une chanson qui énerve les gens ! Moi je connais une chanson qui énerve les gens ! Moi je connais une chanson qui énerve les gens ! Moi je connais une chanson qui énerve les gens ! Moi je connais une chanson qui énerve les gens ! Moi je connais une chanson qui énerve les gens ! Moi je connais une chanson qui énerve les gens ! Moi je connais une chanson qui énerve les gens ! Moi je connais une chanson qui énerve les gens ! Moi je connais une chanson qui énerve les gens ! Moi je connais une chanson qui énerve les gens ! \"\n",
    "```\n",
    "\n",
    "**Astuces :**\n",
    "- Inutile de compter : la même phrase est répétée 15 fois.\n",
    "- Vous pouvez donner le nom que vous voulez aux deux variables que vous allez créer.\n",
    "- Le programme nécessite 3 lignes de code au total."
   ]
  },
  {
   "cell_type": "code",
   "execution_count": 42,
   "metadata": {},
   "outputs": [
    {
     "data": {
      "text/plain": [
       "'Moi je connais une chanson qui énerve les gens ! Moi je connais une chanson qui énerve les gens ! Moi je connais une chanson qui énerve les gens ! Moi je connais une chanson qui énerve les gens ! Moi je connais une chanson qui énerve les gens ! Moi je connais une chanson qui énerve les gens ! Moi je connais une chanson qui énerve les gens ! Moi je connais une chanson qui énerve les gens ! Moi je connais une chanson qui énerve les gens ! Moi je connais une chanson qui énerve les gens ! Moi je connais une chanson qui énerve les gens ! Moi je connais une chanson qui énerve les gens ! Moi je connais une chanson qui énerve les gens ! Moi je connais une chanson qui énerve les gens ! Moi je connais une chanson qui énerve les gens ! '"
      ]
     },
     "execution_count": 42,
     "metadata": {},
     "output_type": "execute_result"
    }
   ],
   "source": [
    "bla = \"Moi je connais une chanson qui énerve les gens ! \"\n",
    "blou = 15\n",
    "bla * blou"
   ]
  },
  {
   "cell_type": "code",
   "execution_count": null,
   "metadata": {},
   "outputs": [],
   "source": []
  }
 ],
 "metadata": {
  "kernelspec": {
   "display_name": "Python 3",
   "language": "python",
   "name": "python3"
  },
  "language_info": {
   "codemirror_mode": {
    "name": "ipython",
    "version": 3
   },
   "file_extension": ".py",
   "mimetype": "text/x-python",
   "name": "python",
   "nbconvert_exporter": "python",
   "pygments_lexer": "ipython3",
   "version": "3.7.3"
  }
 },
 "nbformat": 4,
 "nbformat_minor": 4
}
