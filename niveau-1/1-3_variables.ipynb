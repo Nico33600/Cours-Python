{
 "cells": [
  {
   "cell_type": "markdown",
   "metadata": {},
   "source": [
    "LES VARIABLES"
   ]
  },
  {
   "cell_type": "markdown",
   "metadata": {},
   "source": [
    "# Définition"
   ]
  },
  {
   "cell_type": "markdown",
   "metadata": {},
   "source": [
    "Le concept de variable est central dans la programmation puique l'une des principales fonctions d'ordinateur consiste à effectuer les mêmes opérations sur des données différentes. Pour cela il faut donc faire \"varier\" ce que l'on utilise en entrée (\"_input_\").\n",
    "\n",
    "Commençons par un définition simple : une variable est une zone de la mémoire vive de l'ordinateur où nous allons pouvoir y stocker ce que nous voulons ! Une variable est comme le tirour d'un meuble dans lequel nous pouvons choisir ce que l'on y stocke. Essayons avec des chiffres pour commencer. Pour déclarer une variable en python, il suffit d'écrire le nom de la variable puis d'utiliser ``=``. On dit alors qu'on \"affecte\" une valeur à une variable. Exemple :"
   ]
  },
  {
   "cell_type": "code",
   "execution_count": 57,
   "metadata": {},
   "outputs": [],
   "source": [
    "ma_variable = 12"
   ]
  },
  {
   "cell_type": "code",
   "execution_count": 58,
   "metadata": {},
   "outputs": [],
   "source": [
    "je_tape_ce_que_je_veux = 148894978"
   ]
  },
  {
   "cell_type": "markdown",
   "metadata": {},
   "source": [
    "**/!\\ Attention /!\\** Le nom de la variable a quand même quelques limitations :\n",
    "\n",
    "- **Uniquement des lettres** (majuscules ou minuscules) ou **des chiffres** (mais on ne peut pas commencer par un chiffre).\n",
    "- **Pas de caractère spéciaux** (**sauf \"_\"** que l'on appelle _underscore_, ou  \"tiret du bas\")\n",
    "- **Pas de nom déjà utilisé par python**. Voici une liste des principaux mots interdits, que l'on appelle aussi des mots \"réservés\" :\n",
    "\n",
    "``del``, ``from``, ``none``, ``true``, ``as``, ``elif``, ``global``, ``nonlocal``, ``try``, ``assert``, ``else``, ``if``, ``not``, ``while``, ``break``, ``except``, ``import``, ``or``, ``with``, ``class``, ``false``, ``in``, ``pass``, ``yield``, ``continue``, ``finally``, ``is``, ``raise``, ``def``, ``for``, ``lambda``, ``return``."
   ]
  },
  {
   "cell_type": "markdown",
   "metadata": {},
   "source": [
    "<img src=\"files/tab.jpg\" alt=\"tab\" width=\"200\" align=\"left\"/> **L'auto-complétion :**\n",
    "\n",
    "Maintenant si je tape le début du nom de ma variable puis que j'utilise **\"tab\"**. Jupyter Lab va me suggérer ou bien compléter mon nom de variable. Essayez donc sur la ligne suivante. Tapez les caractères \"ma_\" puis appuyez sur la touche \"tab\" : Jupyter Lab vous propose automatiquement votre nom de variable.\n",
    "\n",
    "\n",
    "(Si jamais l'auto-complétion ne fonctionne pas, c'est peut-être parce que vous n'avez pas exécuté la cellule qui définit ces noms de variables)."
   ]
  },
  {
   "cell_type": "code",
   "execution_count": null,
   "metadata": {},
   "outputs": [],
   "source": []
  },
  {
   "cell_type": "markdown",
   "metadata": {},
   "source": [
    "# Manipulation de variables contenant des nombres"
   ]
  },
  {
   "cell_type": "markdown",
   "metadata": {},
   "source": [
    "## Modification d'une variable\n",
    "\n",
    "Pour l'instant notre variable contient le nombre \"12\". Essayons d'effectuer des opérations avec ce contenu. Par exemple :"
   ]
  },
  {
   "cell_type": "code",
   "execution_count": 59,
   "metadata": {},
   "outputs": [
    {
     "data": {
      "text/plain": [
       "14"
      ]
     },
     "execution_count": 59,
     "metadata": {},
     "output_type": "execute_result"
    }
   ],
   "source": [
    "ma_variable + 2"
   ]
  },
  {
   "cell_type": "code",
   "execution_count": 60,
   "metadata": {},
   "outputs": [
    {
     "data": {
      "text/plain": [
       "3.0"
      ]
     },
     "execution_count": 60,
     "metadata": {},
     "output_type": "execute_result"
    }
   ],
   "source": [
    "ma_variable / 4"
   ]
  },
  {
   "cell_type": "code",
   "execution_count": 61,
   "metadata": {},
   "outputs": [
    {
     "data": {
      "text/plain": [
       "144"
      ]
     },
     "execution_count": 61,
     "metadata": {},
     "output_type": "execute_result"
    }
   ],
   "source": [
    "ma_variable * ma_variable"
   ]
  },
  {
   "cell_type": "code",
   "execution_count": 62,
   "metadata": {},
   "outputs": [
    {
     "data": {
      "text/plain": [
       "12"
      ]
     },
     "execution_count": 62,
     "metadata": {},
     "output_type": "execute_result"
    }
   ],
   "source": [
    "ma_variable"
   ]
  },
  {
   "cell_type": "markdown",
   "metadata": {},
   "source": [
    "On constate que toutes ces opérations n'ont pas modifié la valeur initiale de ma variable. Elle reste toujours à 12, pour reprendre la métaphore du meuble, le contenu du tiroir est toujours le même. En revanche si on tape :"
   ]
  },
  {
   "cell_type": "code",
   "execution_count": 63,
   "metadata": {},
   "outputs": [],
   "source": [
    "ma_variable = ma_variable * 2"
   ]
  },
  {
   "cell_type": "code",
   "execution_count": 64,
   "metadata": {},
   "outputs": [
    {
     "data": {
      "text/plain": [
       "24"
      ]
     },
     "execution_count": 64,
     "metadata": {},
     "output_type": "execute_result"
    }
   ],
   "source": [
    "ma_variable"
   ]
  },
  {
   "cell_type": "markdown",
   "metadata": {},
   "source": [
    "Ici on a changé la valeur de la variable. Auparavant, notre variable contenait \"12\", désormais elle contient \"24\". On dit aussi qu'on lui a affecté une nouvelle valeur."
   ]
  },
  {
   "cell_type": "markdown",
   "metadata": {},
   "source": [
    "## Exercice (facile)\n",
    "\n",
    "Créez une variable appelée \"mon_annee_de_naissance\" (sans les guillemets). Puis calculer l'âge que vous aurez en l'an 2037. Calculez également l'âge de deux autres personnes de votre choix qui ne sont pas nées la même année que vous. Pour cela modifiez uniquement la valeur de la variable au moment où elle est définie et relancez le calcul de la cellule."
   ]
  },
  {
   "cell_type": "code",
   "execution_count": null,
   "metadata": {},
   "outputs": [],
   "source": []
  },
  {
   "cell_type": "markdown",
   "metadata": {},
   "source": [
    "> **Note :**\n",
    "\n",
    "> - En python le nom des variables est, par convention, toujours en minuscule.\n",
    "> - Les espaces avant et après le signe \"=\" sont là eux aussi par convention, ils permettent que le code soit plus lisible. \n",
    "> - Différence entre \"initialisation\" et \"affectation\" : La première fois qu'on affecte une valeur à une variable on parle d'initialisation puisque cette opération crée à la fois l'espace nécessaire dans la mémoire vive pour y faire tenir le contenu de notre variable et affecte une valeur à notre variable. Ensuite, si l'on modifie sa valeur, il s'agit juste d'une affectation."
   ]
  },
  {
   "cell_type": "markdown",
   "metadata": {},
   "source": [
    "# Les différents types de variable"
   ]
  },
  {
   "cell_type": "markdown",
   "metadata": {},
   "source": [
    "## Introduction\n",
    "\n",
    "Pour l'instant les variables que nous avons utilisées contenaient uniquement des nombres. Mais une variable peut contenir différents \"type de donnée\". Essayez instinctivement de trouver la différence entre les deux variables suivantes :"
   ]
  },
  {
   "cell_type": "code",
   "execution_count": 65,
   "metadata": {},
   "outputs": [],
   "source": [
    "variable_1 = 123\n",
    "variable_2 = \"123\""
   ]
  },
  {
   "cell_type": "markdown",
   "metadata": {},
   "source": [
    "Une idée ? Continuons à expérimenter, que se passe-t-il si on les multiplie chacun par 3 ?"
   ]
  },
  {
   "cell_type": "code",
   "execution_count": 84,
   "metadata": {},
   "outputs": [
    {
     "data": {
      "text/plain": [
       "369"
      ]
     },
     "execution_count": 84,
     "metadata": {},
     "output_type": "execute_result"
    }
   ],
   "source": [
    "variable_1 * 3"
   ]
  },
  {
   "cell_type": "code",
   "execution_count": 85,
   "metadata": {},
   "outputs": [
    {
     "data": {
      "text/plain": [
       "'123123123'"
      ]
     },
     "execution_count": 85,
     "metadata": {},
     "output_type": "execute_result"
    }
   ],
   "source": [
    "variable_2 * 3"
   ]
  },
  {
   "cell_type": "markdown",
   "metadata": {},
   "source": [
    "Vous l'avez deviné, la variable_1 contient **un nombre** alors que la variable 2 contient **du texte**. Au lieu du mot \"texte\", on préfère appeller cela une **\"chaîne de caractère\"**, car ceux-ci sont en réalité différents caractères mis bout à bout, ou encore une **\"_string_\"**.\n",
    "\n",
    "> **Note** :\n",
    "\n",
    "> - Une petite particularité du langage python, lorsqu'on multiplie une string par un nombre entier, la string est répétée.\n",
    "> - Ex : 3 fois \"Z\" est égal à \"ZZZ\". C'est ce que nous avons fait pour la cellule du dessus."
   ]
  },
  {
   "cell_type": "markdown",
   "metadata": {},
   "source": [
    "## Les différents types de variables\n",
    "\n",
    "Les variables sont donc de types différents. Pour l'instant nous n'allons en examiner que quelques-uns."
   ]
  },
  {
   "cell_type": "markdown",
   "metadata": {},
   "source": [
    "### Les integer\n",
    "\n",
    "On appelle \"entier\", \"integer\" (\"int\" en abrégé) les nombres qui n'ont pas de décimales après la virgule. Exemple :\n",
    "\n",
    "```python\n",
    "-45\n",
    "\n",
    "12\n",
    "\n",
    "54645\n",
    "\n",
    "-45645456 \n",
    "\n",
    "```"
   ]
  },
  {
   "cell_type": "markdown",
   "metadata": {},
   "source": [
    "### Les float\n",
    "\n",
    "On appelle \"flottants\" ou \"_float_\" les nombres qui ont une ou plusieurs décimales après la virgule. Exemple :\n",
    "\n",
    "```python\n",
    "-45.56\n",
    "\n",
    "12.1\n",
    "\n",
    "548.56\n",
    "\n",
    "-416974562.14568941346759314619 \n",
    "```"
   ]
  },
  {
   "cell_type": "markdown",
   "metadata": {},
   "source": [
    "### Les chaînes de caractères\n",
    "\n",
    "On appelle \"chaîne de caractère\" ou \"_string_\" (\"str\" en abrégé) les nombres qui ont une ou plusieurs décimales après la virgule. Celles-ci sont toujours placées entre guillemets pour ne pas les confondre avec les nombres. En voici trois exemples :\n",
    "\n",
    "```python\n",
    "\"ceci est un navet\"\n",
    "\n",
    "\"Voici mon email : bla.blabla@blabla.bla\"\n",
    "\n",
    "'6 * 7 = 42'\n",
    "```\n",
    "\n",
    "On peut utiliser indifféremment des doubles quotes \" \" ou des simples cotes ' ' pour définir une variable. Cela sert aussi inclure les uns dans les autres. Par exemple :"
   ]
  },
  {
   "cell_type": "code",
   "execution_count": 68,
   "metadata": {},
   "outputs": [
    {
     "data": {
      "text/plain": [
       "\"Ces navets sont-ils vraiment 'biologiques' ?\""
      ]
     },
     "execution_count": 68,
     "metadata": {},
     "output_type": "execute_result"
    }
   ],
   "source": [
    "\"Ces navets sont-ils vraiment 'biologiques' ?\""
   ]
  },
  {
   "cell_type": "code",
   "execution_count": 69,
   "metadata": {},
   "outputs": [
    {
     "data": {
      "text/plain": [
       "'Ces navets sont-ils vraiment \"biologiques\" ?'"
      ]
     },
     "execution_count": 69,
     "metadata": {},
     "output_type": "execute_result"
    }
   ],
   "source": [
    "'Ces navets sont-ils vraiment \"biologiques\" ?'"
   ]
  },
  {
   "cell_type": "markdown",
   "metadata": {},
   "source": [
    "Ici les \" \" et les ' ' sont rajoutés par Jupyter Lab pour préciser que ce sont des variables de type _string_. Mais en utilisant la fonction ``print()``, on peut savoir exactement comment ces phrases seraient affichées dans un programme."
   ]
  },
  {
   "cell_type": "code",
   "execution_count": 70,
   "metadata": {},
   "outputs": [
    {
     "name": "stdout",
     "output_type": "stream",
     "text": [
      "Ces navets sont-ils vraiment 'biologiques' ?\n",
      "Ces navets sont-ils vraiment \"biologiques\" ?\n"
     ]
    }
   ],
   "source": [
    "print(\"Ces navets sont-ils vraiment 'biologiques' ?\")\n",
    "print('Ces navets sont-ils vraiment \"biologiques\" ?')"
   ]
  },
  {
   "cell_type": "markdown",
   "metadata": {},
   "source": [
    "## Exercice (facile)\n",
    "\n",
    "Écrire un programme qui multiplie deux variables entre elles et retourne le résultat suivant :\n",
    "\n",
    "```python\n",
    "'Moi je connais une chanson qui énerve les gens ! Moi je connais une chanson qui énerve les gens ! Moi je connais une chanson qui énerve les gens ! Moi je connais une chanson qui énerve les gens ! Moi je connais une chanson qui énerve les gens ! Moi je connais une chanson qui énerve les gens ! Moi je connais une chanson qui énerve les gens ! Moi je connais une chanson qui énerve les gens ! Moi je connais une chanson qui énerve les gens ! Moi je connais une chanson qui énerve les gens ! Moi je connais une chanson qui énerve les gens ! Moi je connais une chanson qui énerve les gens ! Moi je connais une chanson qui énerve les gens ! Moi je connais une chanson qui énerve les gens ! Moi je connais une chanson qui énerve les gens ! '\n",
    "```\n",
    "\n",
    "**Astuces :**\n",
    "- Ne perdez pas de temps à compter : la même phrase est répétée 15 fois.\n",
    "- Vous pouvez donner le nom que vous voulez aux deux variables que vous allez créer.\n",
    "- Le programme nécessite 3 lignes de code au total.\n",
    "- Vous pouvez utiliser ``print()`` pour afficher le résultat, mais ce n'est pas nécessaire."
   ]
  },
  {
   "cell_type": "code",
   "execution_count": null,
   "metadata": {},
   "outputs": [],
   "source": []
  },
  {
   "cell_type": "markdown",
   "metadata": {},
   "source": [
    "# De nouvelles fonctions très utiles"
   ]
  },
  {
   "cell_type": "markdown",
   "metadata": {},
   "source": [
    "## Nouveautés concernant la fonction ``print()``\n",
    "\n",
    "En simplifiant on pourrait dire que l'interpréteur de jupyter lab ne vous affiche que le dernier résultat de votre programme. Mais en utilisant la fonction  ``print()``, comme ci-dessus, il est possible d'afficher autant de lignes que l'on souhaite tout en n'exécutant qu'une seule cellule !\n",
    "\n",
    "Tout au long de ce cours la fonction ``print()`` sera votre meilleure alliée ! Elle permet d'afficher des résultats finaux mais aussi intermédiaire et est très utilisée pour \"débugguer\" un problème.\n",
    "\n",
    "Pour l'instant nous n'avions utilisé la fonction ``print()`` qu'avec un seul argument, mais elle peut en prendre plusieurs ! Pour cela il suffit simplement de les séparer par une virgule. Exemple :"
   ]
  },
  {
   "cell_type": "code",
   "execution_count": 101,
   "metadata": {},
   "outputs": [
    {
     "name": "stdout",
     "output_type": "stream",
     "text": [
      "Mon légume préféré est la courgette ! Son prix est de 3.51 €/kg\n",
      "Mais moi mon légume préféré c'est plutôt l'aubergine ! Son prix est de 4.59 €/kg\n"
     ]
    }
   ],
   "source": [
    "# Exemple de la fonction print()\n",
    "\n",
    "legume = \"la courgette\"\n",
    "prix = 3.51\n",
    "\n",
    "print(\"Mon légume préféré est\", legume, \"! Son prix est de\", prix, \"€/kg\")\n",
    "\n",
    "legume = \"l'aubergine\"\n",
    "prix = 4.59\n",
    "\n",
    "print(\"Mais moi mon légume préféré c'est plutôt\", legume, \"! Son prix est de\", prix, \"€/kg\")\n"
   ]
  },
  {
   "cell_type": "markdown",
   "metadata": {},
   "source": [
    "## La fonction _type()_"
   ]
  },
  {
   "cell_type": "markdown",
   "metadata": {},
   "source": [
    "### Idée générale\n",
    "\n",
    "Cette fonction permet de savoir de quel type est une variable. Par exemple :"
   ]
  },
  {
   "cell_type": "code",
   "execution_count": 91,
   "metadata": {},
   "outputs": [
    {
     "name": "stdout",
     "output_type": "stream",
     "text": [
      "la variable variable_1 contient la valeur : 123\n",
      "Son type est : \n"
     ]
    },
    {
     "data": {
      "text/plain": [
       "int"
      ]
     },
     "execution_count": 91,
     "metadata": {},
     "output_type": "execute_result"
    }
   ],
   "source": [
    "# La variable est de type \"int\", signifiant \"integer\" donc \"entier\"\n",
    "# Je vous rappelle que les phrases suivies d'un \"#\" sont des commentaires et ne sont pas exécutées\n",
    "\n",
    "print(\"La variable variable_1 contient la valeur :\", variable_1)\n",
    "print(\"Son type est : \")\n",
    "\n",
    "type(variable_1)"
   ]
  },
  {
   "cell_type": "code",
   "execution_count": 93,
   "metadata": {},
   "outputs": [
    {
     "name": "stdout",
     "output_type": "stream",
     "text": [
      "la variable variable_2 contient la valeur : 123\n",
      "Mais son type est : \n"
     ]
    },
    {
     "data": {
      "text/plain": [
       "str"
      ]
     },
     "execution_count": 93,
     "metadata": {},
     "output_type": "execute_result"
    }
   ],
   "source": [
    "# La variable est de type \"str\", signifiant \"string\" donc \"chaîne de caractères\"\n",
    "\n",
    "print (\"La variable variable_2 contient la valeur :\", variable_2)\n",
    "print (\"Mais son type est : \")\n",
    "\n",
    "type(variable_2)"
   ]
  },
  {
   "cell_type": "markdown",
   "metadata": {},
   "source": [
    "### Exercice (facile)\n",
    "\n",
    "En s'inspirant des deux cellules du dessus complétez la cellule dessous ainsi :\n",
    "- Créez une nouvelle variable intitulée \"variable_3\" et donnez-lui pour valeur un nombre flottant.\n",
    "- Affichez le contenu de la variable.\n",
    "- Affichez son type, celui-ci doit être de type _float_"
   ]
  },
  {
   "cell_type": "code",
   "execution_count": 104,
   "metadata": {},
   "outputs": [],
   "source": [
    "# La variable est de type \"float\", donc \"flottant\"\n",
    "\n",
    "\n"
   ]
  },
  {
   "cell_type": "markdown",
   "metadata": {},
   "source": [
    "### Particularité d'affichage avec ``print()``\n",
    "\n",
    "Si l'on utilise ``print()`` pour afficher le résultat de la fonction ``type()``, on obtient quelque chose de légèrement différent :"
   ]
  },
  {
   "cell_type": "code",
   "execution_count": 106,
   "metadata": {},
   "outputs": [
    {
     "name": "stdout",
     "output_type": "stream",
     "text": [
      "Le type de la variable_2 est :  <class 'str'>\n"
     ]
    }
   ],
   "source": [
    "print (\"Le type de la variable_2 est : \", type(variable_2))"
   ]
  },
  {
   "cell_type": "markdown",
   "metadata": {},
   "source": [
    "Ceci est tout à fait normal car ``print()`` est une fonction de python alors qu'auparavant c'était l'interpréteur de Jupyter Lab qui affichait le résultat. Inutile de rentrer dans le détail pour l'instant. On constate néanmoins ce mot _class_ qui signifie que cet objet appartient à la classe de type _string_. Nous aurons l'occasion de reparler du concept de classe mais pas avant longtemps. En attendant, on comprend bien ici que cette variable est de type _string_."
   ]
  },
  {
   "cell_type": "markdown",
   "metadata": {},
   "source": [
    "## Changement de type de variable\n",
    "\n",
    "Python est un langage intelligent qui définit le type de la variable en fonction de la valeur que vous lui assignez. Mais rien ne vous empêche de modifier ensuite le type de cette variable. Pour cela il suffit simplement de lui affecter une variable d'un autre type."
   ]
  },
  {
   "cell_type": "code",
   "execution_count": 115,
   "metadata": {},
   "outputs": [
    {
     "name": "stdout",
     "output_type": "stream",
     "text": [
      "Le type de variable_surprise est  <class 'float'> car sa valeur est 45.2513\n",
      "Le type de variable_surprise est  <class 'int'> car sa valeur est 2020\n",
      "Le type de variable_surprise est  <class 'str'> car sa valeur est choux de bruxelles\n"
     ]
    }
   ],
   "source": [
    "variable_surprise = 45.2513\n",
    "\n",
    "print(\"Le type de variable_surprise est \", type(variable_surprise), \"car sa valeur est\", variable_surprise)\n",
    "\n",
    "variable_surprise = 2020\n",
    "\n",
    "print(\"Le type de variable_surprise est \", type(variable_surprise), \"car sa valeur est\", variable_surprise)\n",
    "\n",
    "variable_surprise = 'choux de bruxelles'\n",
    "\n",
    "print(\"Le type de variable_surprise est \", type(variable_surprise), \"car sa valeur est\", variable_surprise)\n"
   ]
  },
  {
   "cell_type": "code",
   "execution_count": null,
   "metadata": {},
   "outputs": [],
   "source": []
  }
 ],
 "metadata": {
  "kernelspec": {
   "display_name": "Python 3",
   "language": "python",
   "name": "python3"
  },
  "language_info": {
   "codemirror_mode": {
    "name": "ipython",
    "version": 3
   },
   "file_extension": ".py",
   "mimetype": "text/x-python",
   "name": "python",
   "nbconvert_exporter": "python",
   "pygments_lexer": "ipython3",
   "version": "3.7.3"
  }
 },
 "nbformat": 4,
 "nbformat_minor": 4
}
