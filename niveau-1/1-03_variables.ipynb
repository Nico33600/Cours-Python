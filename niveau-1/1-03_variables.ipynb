{
 "cells": [
  {
   "cell_type": "markdown",
   "metadata": {},
   "source": [
    "LES VARIABLES"
   ]
  },
  {
   "cell_type": "markdown",
   "metadata": {},
   "source": [
    "# Définition"
   ]
  },
  {
   "cell_type": "markdown",
   "metadata": {},
   "source": [
    "Le concept de variable est central dans la programmation puisque l'une des principales fonctions d'un ordinateur consiste à effectuer les mêmes opérations sur des données différentes. Pour cela il faut donc faire \"varier\" ce que l'on utilise en entrée (\"_input_\").\n",
    "\n",
    "Commençons par une définition simple : une variable est une zone de la mémoire vive de l'ordinateur où nous allons pouvoir y stocker ce que nous voulons ! Une variable est comme le tiroir d'un meuble dans lequel nous pouvons choisir ce que l'on y stocke. Essayons avec des chiffres pour commencer. Pour déclarer une variable en python, il suffit d'écrire le nom de la variable puis d'utiliser ``=``. On dit alors qu'on \"affecte\" une valeur à une variable. Exemple :"
   ]
  },
  {
   "cell_type": "code",
   "execution_count": null,
   "metadata": {},
   "outputs": [],
   "source": [
    "ma_variable = 12"
   ]
  },
  {
   "cell_type": "code",
   "execution_count": null,
   "metadata": {},
   "outputs": [],
   "source": [
    "je_lui_donne_le_nom_que_je_veux = 148894978"
   ]
  },
  {
   "cell_type": "markdown",
   "metadata": {},
   "source": [
    "**/!\\ Attention /!\\** En Python le nom de la variable fait l'objet de quelques limitations :\n",
    "\n",
    "- **Uniquement des lettres** (majuscules ou minuscules) ou **des chiffres** (mais on ne peut pas commencer par un chiffre).\n",
    "- **Pas de caractère spéciaux** (**sauf \"_\"** que l'on appelle _underscore_, ou  \"tiret du bas\")\n",
    "- **Pas de nom déjà utilisé par python**. Voici une liste des principaux mots interdits, que l'on appelle aussi des mots \"réservés\". Notez que ceux-ci s'affichent en vert quand on les tape dans une cellule de jupyter lab :\n",
    "\n",
    "``del``, ``from``, ``None``, ``True``, ``as``, ``elif``, ``global``, ``nonlocal``, ``try``, ``assert``, ``else``, ``if``, ``not``, ``while``, ``break``, ``except``, ``import``, ``or``, ``with``, ``class``, ``True``, ``False``, ``in``, ``pass``, ``yield``, ``continue``, ``finally``, ``is``, ``raise``, ``def``, ``for``, ``lambda``, ``return``, ``str``, ``int``, ``float``, ``bool``"
   ]
  },
  {
   "cell_type": "markdown",
   "metadata": {},
   "source": [
    "<img src='files/tab.jpg' alt='tab' width='200' align=\"left\"/> **L'auto-complétion :**\n",
    "\n",
    "Si l'on tape le début du nom de ma variable puis qu'on utilise **\"tab\"**. Jupyter Lab va suggérer ou bien compléter le nom de la variable. Essayez donc sur la ligne suivante. Tapez les caractères \"ma_\" puis appuyez sur la touche \"tab\" : Jupyter Lab vous propose automatiquement votre nom de variable.\n",
    "\n",
    "\n",
    "(Si jamais l'auto-complétion ne fonctionne pas, c'est peut-être parce que vous n'avez pas exécuté la cellule qui définit ces noms de variables)."
   ]
  },
  {
   "cell_type": "code",
   "execution_count": null,
   "metadata": {},
   "outputs": [],
   "source": []
  },
  {
   "cell_type": "markdown",
   "metadata": {},
   "source": [
    "# Manipulation de variables contenant des nombres"
   ]
  },
  {
   "cell_type": "markdown",
   "metadata": {},
   "source": [
    "## Modification d'une variable\n",
    "\n",
    "Pour l'instant notre variable contient le nombre \"12\". Essayons d'effectuer des opérations avec ce contenu. Par exemple :"
   ]
  },
  {
   "cell_type": "code",
   "execution_count": null,
   "metadata": {},
   "outputs": [],
   "source": [
    "ma_variable + 2"
   ]
  },
  {
   "cell_type": "code",
   "execution_count": null,
   "metadata": {},
   "outputs": [],
   "source": [
    "ma_variable / 4"
   ]
  },
  {
   "cell_type": "code",
   "execution_count": null,
   "metadata": {},
   "outputs": [],
   "source": [
    "ma_variable * ma_variable"
   ]
  },
  {
   "cell_type": "code",
   "execution_count": null,
   "metadata": {},
   "outputs": [],
   "source": [
    "ma_variable"
   ]
  },
  {
   "cell_type": "markdown",
   "metadata": {},
   "source": [
    "On constate que toutes ces opérations n'ont pas modifié la valeur initiale de ma variable. Elle reste toujours à 12, pour reprendre la métaphore du meuble, le contenu du tiroir est toujours le même. En revanche si on tape :"
   ]
  },
  {
   "cell_type": "code",
   "execution_count": null,
   "metadata": {},
   "outputs": [],
   "source": [
    "ma_variable = ma_variable * 2"
   ]
  },
  {
   "cell_type": "code",
   "execution_count": null,
   "metadata": {},
   "outputs": [],
   "source": [
    "ma_variable"
   ]
  },
  {
   "cell_type": "markdown",
   "metadata": {},
   "source": [
    "Ici on a changé la valeur de la variable. Auparavant, notre variable contenait \"12\", désormais elle contient \"24\". On dit aussi qu'on lui a affecté une nouvelle valeur."
   ]
  },
  {
   "cell_type": "markdown",
   "metadata": {},
   "source": [
    "## Exercice (facile)\n",
    "\n",
    "Créez une variable appelée \"annee_de_naissance\" (sans les guillemets). Puis calculez l'âge que vous (ou quelqu'un d'autre) aurez en l'an 2034 en soustrayant la variable que vous avez créé à 2034."
   ]
  },
  {
   "cell_type": "code",
   "execution_count": null,
   "metadata": {},
   "outputs": [],
   "source": []
  },
  {
   "cell_type": "markdown",
   "metadata": {},
   "source": [
    "> **Note :**\n",
    "\n",
    "> - En python le nom des variables est, par convention, toujours en minuscule.\n",
    "> - Les espaces avant et après le signe \"=\" sont là eux aussi par convention, ils permettent que le code soit plus lisible. \n",
    "> - Différence entre \"initialisation\" et \"affectation\" : La première fois qu'on affecte une valeur à une variable on parle d'initialisation puisque cette opération crée à la fois l'espace nécessaire dans la mémoire vive pour y faire tenir le contenu de notre variable et affecte une valeur à notre variable. Ensuite, si l'on modifie sa valeur, il s'agit juste d'une affectation."
   ]
  },
  {
   "cell_type": "markdown",
   "metadata": {},
   "source": [
    "# Les différents types de variable"
   ]
  },
  {
   "cell_type": "markdown",
   "metadata": {},
   "source": [
    "## Introduction\n",
    "\n",
    "Pour l'instant les variables que nous avons utilisées contenaient uniquement des nombres. Mais une variable peut contenir différents \"type de donnée\". Essayez instinctivement de trouver la différence entre les deux variables suivantes :"
   ]
  },
  {
   "cell_type": "code",
   "execution_count": null,
   "metadata": {},
   "outputs": [],
   "source": [
    "variable_1 = 123\n",
    "variable_2 = \"123\""
   ]
  },
  {
   "cell_type": "markdown",
   "metadata": {},
   "source": [
    "Une idée ? Continuons à expérimenter, que se passe-t-il si on les multiplie chacun par 3 ?"
   ]
  },
  {
   "cell_type": "code",
   "execution_count": null,
   "metadata": {},
   "outputs": [],
   "source": [
    "variable_1 * 3"
   ]
  },
  {
   "cell_type": "code",
   "execution_count": null,
   "metadata": {},
   "outputs": [],
   "source": [
    "variable_2 * 3"
   ]
  },
  {
   "cell_type": "markdown",
   "metadata": {},
   "source": [
    "Vous l'avez deviné, la variable_1 contient **un nombre** alors que la variable 2 contient **du texte**. Au lieu du mot \"texte\", on préfère appeller cela une **\"chaîne de caractère\"**, car ceux-ci sont en réalité différents caractères mis bout à bout, ou encore une **\"_string_\"**.\n",
    "\n",
    "> **Note** :\n",
    "\n",
    "> - Une petite particularité du langage python, lorsqu'on multiplie une string par un nombre entier, la string est répétée.\n",
    "> - Ex : 3 fois \"Z\" est égal à \"ZZZ\". C'est ce que nous avons fait pour la cellule du dessus."
   ]
  },
  {
   "cell_type": "markdown",
   "metadata": {},
   "source": [
    "## Les différents types de variables\n",
    "\n",
    "Les variables sont donc de types différents. Pour l'instant nous n'allons en examiner que quelques-uns."
   ]
  },
  {
   "cell_type": "markdown",
   "metadata": {},
   "source": [
    "### Les integer\n",
    "\n",
    "On appelle \"entier\", \"integer\" (\"int\" en abrégé) les nombres qui n'ont pas de décimales après la virgule. Exemple :\n",
    "\n",
    "```python\n",
    "-45\n",
    "\n",
    "12\n",
    "\n",
    "54645\n",
    "\n",
    "-45645456 \n",
    "\n",
    "```\n",
    "\n",
    "Note : Certains prononcent ce mot à la française \"int-é-guerre\", d'autres à l'anglaise \"int-é-djeur\"."
   ]
  },
  {
   "cell_type": "markdown",
   "metadata": {},
   "source": [
    "### Les float\n",
    "\n",
    "On appelle \"flottants\", \"_float_\" ou encore \"décimaux\" les nombres qui ont une ou plusieurs décimales après la virgule. Exemple :\n",
    "\n",
    "```python\n",
    "-45.56\n",
    "\n",
    "12.1\n",
    "\n",
    "548.56\n",
    "\n",
    "-416974562.14568941346759314619 \n",
    "```"
   ]
  },
  {
   "cell_type": "markdown",
   "metadata": {},
   "source": [
    "### Les chaînes de caractères\n",
    "\n",
    "Comme vu précédemment, on appelle \"chaîne de caractère\" ou \"_string_\" (\"str\" en abrégé) les variables qui contiennent du texte. Le texte est toujours placé entre guillemets pour ne pas les confondre avec les nombres. Par exemple :\n",
    "\n",
    "```python\n",
    "\"ceci est un navet\"\n",
    "\n",
    "\"Voici mon email : bla.blabla@blabla.bla\"\n",
    "\n",
    "\"6 * 7 = 42\"\n",
    "```\n",
    "\n",
    "On peut utiliser indifféremment des guillemets doubles droits (_double quote_) \" \" ou des guillemets droits simples (_simple quote_) ' ', qui sont aussi des apostrophes, pour définir une variable. Exemple :\n",
    "\n",
    "```python\n",
    "'ceci est un navet'\n",
    "\n",
    "'Voici mon email : bla.blabla@blabla.bla'\n",
    "\n",
    "'6 * 7 = 42'\n",
    "```\n",
    "\n",
    "Cela sert aussi à inclure les uns dans les autres, ce qui est utile si on veut utiliser des apostrophes ou des guillemets dans du texte. Par exemple :\n",
    "\n",
    "```python\n",
    "\"Comment tu t'appelles ?\"\n",
    "\n",
    "'Le mot bizarre est lui-même \"bizarre\", non ?'\n",
    "```"
   ]
  },
  {
   "cell_type": "code",
   "execution_count": null,
   "metadata": {},
   "outputs": [],
   "source": [
    "# Comparez la différence d'affichage\n",
    "print(\"Ces navets sont-ils vraiment 'biologiques' ?\")\n",
    "print('Ces navets sont-ils vraiment \"biologiques\" ?')"
   ]
  },
  {
   "cell_type": "markdown",
   "metadata": {},
   "source": [
    "## Exercice (facile)\n",
    "\n",
    "Écrire un programme qui **multiplie deux variables entre elles** et retourne le résultat suivant :\n",
    "\n",
    "```python\n",
    "'Moi je connais une chanson qui énerve les gens ! Moi je connais une chanson qui énerve les gens ! Moi je connais une chanson qui énerve les gens ! Moi je connais une chanson qui énerve les gens ! Moi je connais une chanson qui énerve les gens ! Moi je connais une chanson qui énerve les gens ! Moi je connais une chanson qui énerve les gens ! Moi je connais une chanson qui énerve les gens ! Moi je connais une chanson qui énerve les gens ! Moi je connais une chanson qui énerve les gens ! Moi je connais une chanson qui énerve les gens ! Moi je connais une chanson qui énerve les gens ! Moi je connais une chanson qui énerve les gens ! Moi je connais une chanson qui énerve les gens ! Moi je connais une chanson qui énerve les gens ! '\n",
    "```\n",
    "\n",
    "**Astuces :**\n",
    "- Ne perdez pas de temps à compter : la même phrase est répétée 15 fois.\n",
    "- Vous pouvez donner le nom que vous voulez aux deux variables que vous allez créer.\n",
    "- Le programme nécessite 3 lignes de code au total."
   ]
  },
  {
   "cell_type": "code",
   "execution_count": null,
   "metadata": {},
   "outputs": [],
   "source": []
  },
  {
   "cell_type": "markdown",
   "metadata": {},
   "source": [
    "# De nouvelles fonctions très utiles"
   ]
  },
  {
   "cell_type": "markdown",
   "metadata": {},
   "source": [
    "## Nouveautés concernant la fonction ``print()``\n",
    "\n",
    "En simplifiant on pourrait dire que l'interpréteur de jupyter lab ne vous affiche que le dernier résultat de votre programme. Mais en utilisant la fonction  ``print()`` il est possible d'afficher autant de lignes que l'on souhaite tout en n'exécutant qu'une seule cellule.\n",
    "\n",
    "Tout au long de ce cours la fonction ``print()`` sera votre meilleure alliée ! Elle permet d'afficher des résultats finaux mais aussi intermédiaires et est très utilisée pour \"débugguer\" un programme.\n",
    "\n",
    "En programmation, comme en mathématiques, un argument est la donnée qui va être traitée par une fonction. Quand on écrit :\n",
    "\n",
    "```python\n",
    "print(\"un texte\")\n",
    "```\n",
    "\n",
    "La fonction est ```print()``` et l'argument est \"un texte\", qui en l'occurrence est une chaîne de caractère.\n",
    "\n",
    "```python\n",
    "une_variable = \"un autre texte\"\n",
    "print(une_variable)\n",
    "```\n",
    "\n",
    "Ici la fonction est toujours ```print()``` mais l'argument cette fois-ci est ``une_variable``, qui est une variable qui contient le texte \"un autre texte\".\n",
    "\n",
    "Pour l'instant nous n'avions utilisé la fonction ``print()`` qu'avec un seul argument, mais elle peut en prendre plusieurs. Pour cela il suffit simplement de les séparer par une virgule. Exemple :"
   ]
  },
  {
   "cell_type": "code",
   "execution_count": null,
   "metadata": {},
   "outputs": [],
   "source": [
    "# Exemple de la fonction print()\n",
    "\n",
    "legume = \"la courgette\"\n",
    "prix = 3.51\n",
    "\n",
    "print(\"Mon légume préféré est\", legume, \"! Son prix est de\", prix, \"€/kg\")\n",
    "\n",
    "legume = \"l'aubergine\"\n",
    "prix = 4.59\n",
    "\n",
    "print(\"Mais moi mon légume préféré c'est plutôt\", legume, \"! Son prix est de\", prix, \"€/kg\")\n"
   ]
  },
  {
   "cell_type": "markdown",
   "metadata": {},
   "source": [
    "## La fonction _``type()``_"
   ]
  },
  {
   "cell_type": "markdown",
   "metadata": {},
   "source": [
    "### Idée générale\n",
    "\n",
    "Cette fonction permet de savoir de quel type est une variable. Par exemple :"
   ]
  },
  {
   "cell_type": "code",
   "execution_count": null,
   "metadata": {},
   "outputs": [],
   "source": [
    "# La variable est de type \"int\", signifiant \"integer\" donc \"entier\"\n",
    "# Pour rappel : les phrases suivies d'un \"#\" sont des commentaires et ne sont pas exécutées\n",
    "variable_1 = 12\n",
    "\n",
    "print(\"La variable variable_1 contient la valeur :\", variable_1)\n",
    "print(\"Son type est : \")\n",
    "\n",
    "type(variable_1)"
   ]
  },
  {
   "cell_type": "code",
   "execution_count": null,
   "metadata": {},
   "outputs": [],
   "source": [
    "# La variable est de type \"str\", signifiant \"string\" donc \"chaîne de caractères\"\n",
    "variable_2 = \"12\"\n",
    "\n",
    "print (\"La variable variable_2 contient la valeur :\", variable_2)\n",
    "print (\"Mais son type est : \")\n",
    "\n",
    "type(variable_2)"
   ]
  },
  {
   "cell_type": "markdown",
   "metadata": {},
   "source": [
    "### Exercice (facile)\n",
    "\n",
    "En s'inspirant des deux cellules du dessus complétez la cellule dessous ainsi :\n",
    "- Créez une nouvelle variable intitulée \"variable_3\" et donnez-lui pour valeur un nombre flottant.\n",
    "- Affichez le contenu de la variable.\n",
    "- Affichez son type, celui-ci doit être de type _float_"
   ]
  },
  {
   "cell_type": "code",
   "execution_count": null,
   "metadata": {},
   "outputs": [],
   "source": [
    "# La variable est de type \"float\", donc \"flottant\"\n"
   ]
  },
  {
   "cell_type": "markdown",
   "metadata": {},
   "source": [
    "### Particularité d'affichage avec ``print()``\n",
    "\n",
    "Si l'on utilise ``print()`` pour afficher le résultat de la fonction ``type()``, on obtient quelque chose de légèrement différent :"
   ]
  },
  {
   "cell_type": "code",
   "execution_count": null,
   "metadata": {},
   "outputs": [],
   "source": [
    "print(\"Le type de la variable_2 est : \", type(variable_2))"
   ]
  },
  {
   "cell_type": "markdown",
   "metadata": {},
   "source": [
    "Ceci est tout à fait normal car auparavant c'était l'interpréteur de Jupyter Lab qui affichait le résultat, alors qu'ici c'est ``print()``, une fonction incluse dans python, qui se charge de l'affichage. Inutile de rentrer dans le détail pour l'instant. On retiendra néanmoins ce mot _class_ signifie que cet objet appartient à la classe de type _string_. Nous aurons l'occasion de reparler du concept de classe mais pas avant longtemps. En attendant, on comprend bien ici que cette variable est de type _string_."
   ]
  },
  {
   "cell_type": "markdown",
   "metadata": {},
   "source": [
    "## Modification du type d'une variable\n",
    "\n",
    "Python est un langage intelligent qui définit le type de la variable en fonction de la valeur que vous lui assignez. Mais rien ne vous empêche de modifier ensuite le type de cette variable. Pour cela il suffit simplement de lui affecter une valeur correspondant à un autre type."
   ]
  },
  {
   "cell_type": "code",
   "execution_count": null,
   "metadata": {},
   "outputs": [],
   "source": [
    "variable_surprise = 45.2513\n",
    "print(\"Le type de variable_surprise est \", type(variable_surprise), \"car sa valeur est\", variable_surprise)\n",
    "\n",
    "variable_surprise = 2020\n",
    "print(\"Le type de variable_surprise est \", type(variable_surprise), \"car sa valeur est\", variable_surprise)\n",
    "\n",
    "variable_surprise = 'choux de bruxelles'\n",
    "print(\"Le type de variable_surprise est \", type(variable_surprise), \"car sa valeur est\", variable_surprise)"
   ]
  },
  {
   "cell_type": "markdown",
   "metadata": {},
   "source": [
    "## Addition de strings entre elles\n",
    "\n",
    "On a vu qu'une string multipliée par un entier répétait la chaîne de caractères. Mais que se passe-t-il si on les additionne ?\n"
   ]
  },
  {
   "cell_type": "code",
   "execution_count": null,
   "metadata": {},
   "outputs": [],
   "source": [
    "string_1 = \"Hello,\"\n",
    "string_2 = \" world!\"\n",
    "\n",
    "print(string_1 + string_2)"
   ]
  },
  {
   "cell_type": "markdown",
   "metadata": {},
   "source": [
    "Les deux strings se retrouvent concaténées, c'est-à-dire \"collées\" ensemble. Alors que si on donne plusieurs arguments séparés par des virgules à la fonction ```print()```, celle-ci les affiche par défaut séparé par un espace."
   ]
  },
  {
   "cell_type": "markdown",
   "metadata": {},
   "source": [
    "## Exercice (facile)\n",
    "\n",
    "Utilisez la fonction ``print()`` pour écrire le mot \"riquiqui\" à partir des variables proposées dans la cellule suivante. Vous devez obligatoirement utiliser **une addition et une multiplication**."
   ]
  },
  {
   "cell_type": "code",
   "execution_count": null,
   "metadata": {},
   "outputs": [],
   "source": [
    "a = \"ri\"\n",
    "b = \"qui\"\n",
    "\n",
    "# Tapez votre code ici :"
   ]
  }
 ],
 "metadata": {
  "kernelspec": {
   "display_name": "Python 3",
   "language": "python",
   "name": "python3"
  },
  "language_info": {
   "codemirror_mode": {
    "name": "ipython",
    "version": 3
   },
   "file_extension": ".py",
   "mimetype": "text/x-python",
   "name": "python",
   "nbconvert_exporter": "python",
   "pygments_lexer": "ipython3",
   "version": "3.7.3"
  }
 },
 "nbformat": 4,
 "nbformat_minor": 4
}
