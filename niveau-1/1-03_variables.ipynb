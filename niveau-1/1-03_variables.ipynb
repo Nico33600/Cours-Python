{
 "cells": [
  {
   "cell_type": "markdown",
   "metadata": {},
   "source": [
    "# VARIABLES"
   ]
  },
  {
   "cell_type": "markdown",
   "metadata": {
    "tags": [
     "fr"
    ]
   },
   "source": [
    "# Définition"
   ]
  },
  {
   "cell_type": "markdown",
   "metadata": {
    "tags": [
     "fr"
    ]
   },
   "source": [
    "Le concept de variable est central dans la programmation puisque l'une des principales fonctions d'un ordinateur consiste à effectuer les mêmes opérations sur des données différentes. Pour cela il faut donc faire \"varier\" ce que l'on utilise en entrée (\"_input_\").\n",
    "\n",
    "Commençons par une définition simple : une variable est une zone de la mémoire vive de l'ordinateur où nous allons pouvoir y stocker ce que nous voulons ! Une variable est comme le tiroir d'un meuble dans lequel nous pouvons choisir ce que l'on y stocke. Essayons avec des chiffres pour commencer. Pour déclarer une variable en python, il suffit d'écrire le nom de la variable puis d'utiliser ``=``. On dit alors qu'on \"affecte\" une valeur à une variable. Exemple :"
   ]
  },
  {
   "cell_type": "code",
   "execution_count": null,
   "metadata": {
    "tags": [
     "fr"
    ]
   },
   "outputs": [],
   "source": [
    "ma_variable = 12"
   ]
  },
  {
   "cell_type": "code",
   "execution_count": null,
   "metadata": {
    "tags": [
     "fr"
    ]
   },
   "outputs": [],
   "source": [
    "je_lui_donne_le_nom_que_je_veux = 148894978"
   ]
  },
  {
   "cell_type": "markdown",
   "metadata": {
    "tags": [
     "fr"
    ]
   },
   "source": [
    "**/!\\ Attention /!\\** En Python le nom de la variable fait l'objet de quelques limitations :\n",
    "\n",
    "- **Uniquement des lettres** (majuscules ou minuscules) ou **des chiffres** (mais on ne peut pas commencer par un chiffre).\n",
    "- **Pas de caractère spéciaux** (**sauf \"_\"** que l'on appelle _underscore_, ou  \"tiret du bas\")\n",
    "- **Pas de nom déjà utilisé par python**. Voici une liste des principaux mots interdits, que l'on appelle aussi des mots \"réservés\". Notez que ceux-ci s'affichent en vert quand on les tape dans une cellule de jupyter lab :\n",
    "\n",
    "``del``, ``from``, ``None``, ``True``, ``as``, ``elif``, ``global``, ``nonlocal``, ``try``, ``assert``, ``else``, ``if``, ``not``, ``while``, ``break``, ``except``, ``import``, ``or``, ``with``, ``class``, ``True``, ``False``, ``in``, ``pass``, ``yield``, ``continue``, ``finally``, ``is``, ``raise``, ``def``, ``for``, ``lambda``, ``return``, ``str``, ``int``, ``float``, ``bool``"
   ]
  },
  {
   "cell_type": "markdown",
   "metadata": {
    "tags": [
     "fr"
    ]
   },
   "source": [
    "<img src='files/tab.jpg' alt='tab' width='200' align=\"left\"/> **L'auto-complétion :**\n",
    "\n",
    "Si l'on tape le début du nom de ma variable puis qu'on utilise **\"tab\"**. Jupyter Lab va suggérer ou bien compléter le nom de la variable. Essayez donc sur la ligne suivante. Tapez les caractères \"ma_\" puis appuyez sur la touche \"tab\" : Jupyter Lab vous propose automatiquement votre nom de variable.\n",
    "\n",
    "\n",
    "(Si jamais l'auto-complétion ne fonctionne pas, c'est peut-être parce que vous n'avez pas exécuté la cellule qui définit ces noms de variables)."
   ]
  },
  {
   "cell_type": "code",
   "execution_count": null,
   "metadata": {},
   "outputs": [],
   "source": []
  },
  {
   "cell_type": "markdown",
   "metadata": {
    "tags": [
     "fr"
    ]
   },
   "source": [
    "# Manipulation de variables contenant des nombres"
   ]
  },
  {
   "cell_type": "markdown",
   "metadata": {
    "tags": [
     "fr"
    ]
   },
   "source": [
    "## Modification d'une variable\n",
    "\n",
    "Pour l'instant notre variable contient le nombre \"12\". Essayons d'effectuer des opérations avec ce contenu. Par exemple :"
   ]
  },
  {
   "cell_type": "code",
   "execution_count": null,
   "metadata": {
    "tags": [
     "fr"
    ]
   },
   "outputs": [],
   "source": [
    "ma_variable + 2"
   ]
  },
  {
   "cell_type": "code",
   "execution_count": null,
   "metadata": {
    "tags": [
     "fr"
    ]
   },
   "outputs": [],
   "source": [
    "ma_variable / 4"
   ]
  },
  {
   "cell_type": "code",
   "execution_count": null,
   "metadata": {
    "tags": [
     "fr"
    ]
   },
   "outputs": [],
   "source": [
    "ma_variable * ma_variable"
   ]
  },
  {
   "cell_type": "code",
   "execution_count": null,
   "metadata": {
    "tags": [
     "fr"
    ]
   },
   "outputs": [],
   "source": [
    "ma_variable"
   ]
  },
  {
   "cell_type": "markdown",
   "metadata": {
    "tags": [
     "fr"
    ]
   },
   "source": [
    "On constate que toutes ces opérations n'ont pas modifié la valeur initiale de ma variable. Elle reste toujours à 12, pour reprendre la métaphore du meuble, le contenu du tiroir est toujours le même. En revanche si on tape :"
   ]
  },
  {
   "cell_type": "code",
   "execution_count": null,
   "metadata": {
    "tags": [
     "fr"
    ]
   },
   "outputs": [],
   "source": [
    "ma_variable = ma_variable * 2"
   ]
  },
  {
   "cell_type": "code",
   "execution_count": null,
   "metadata": {
    "tags": [
     "fr"
    ]
   },
   "outputs": [],
   "source": [
    "ma_variable"
   ]
  },
  {
   "cell_type": "markdown",
   "metadata": {
    "tags": [
     "fr"
    ]
   },
   "source": [
    "Ici on a changé la valeur de la variable. Auparavant, notre variable contenait \"12\", désormais elle contient \"24\". On dit aussi qu'on lui a affecté une nouvelle valeur."
   ]
  },
  {
   "cell_type": "markdown",
   "metadata": {
    "tags": [
     "fr"
    ]
   },
   "source": [
    "## Exercice (facile)\n",
    "\n",
    "Créez une variable appelée \"annee\" (sans les guillemets) et affectez lui votre année de naissance. Puis calculez l'âge que vous aurez en l'an 2034 en soustrayant la variable que vous avez créé à 2034."
   ]
  },
  {
   "cell_type": "code",
   "execution_count": null,
   "metadata": {},
   "outputs": [],
   "source": []
  },
  {
   "cell_type": "markdown",
   "metadata": {
    "tags": [
     "fr"
    ]
   },
   "source": [
    "> **Notes :**\n",
    "\n",
    "> - En python le nom des variables est, par convention, toujours en minuscule.\n",
    "> - Les espaces avant et après le signe \"=\" sont là eux aussi par convention, ils permettent que le code soit plus lisible. \n",
    "> - Différence entre \"initialisation\" et \"affectation\" : La première fois qu'on affecte une valeur à une variable on parle d'initialisation puisque cette opération crée à la fois l'espace nécessaire dans la mémoire vive pour y faire tenir le contenu de notre variable et affecte une valeur à notre variable. Ensuite, si l'on modifie sa valeur, il s'agit juste d'une affectation."
   ]
  },
  {
   "cell_type": "markdown",
   "metadata": {
    "tags": [
     "fr"
    ]
   },
   "source": [
    "# Les différents types de variable"
   ]
  },
  {
   "cell_type": "markdown",
   "metadata": {
    "tags": [
     "fr"
    ]
   },
   "source": [
    "## Introduction\n",
    "\n",
    "Pour l'instant les variables que nous avons utilisées contenaient uniquement des nombres. Mais une variable peut contenir différents \"type de donnée\". Essayez instinctivement de trouver la différence entre les deux variables suivantes :"
   ]
  },
  {
   "cell_type": "code",
   "execution_count": null,
   "metadata": {
    "tags": [
     "fr"
    ]
   },
   "outputs": [],
   "source": [
    "variable_1 = 123\n",
    "variable_2 = \"123\""
   ]
  },
  {
   "cell_type": "markdown",
   "metadata": {
    "tags": [
     "fr"
    ]
   },
   "source": [
    "Une idée ? Continuons à expérimenter, que se passe-t-il si on les multiplie chacun par 3 ?"
   ]
  },
  {
   "cell_type": "code",
   "execution_count": null,
   "metadata": {
    "tags": [
     "fr"
    ]
   },
   "outputs": [],
   "source": [
    "variable_1 * 3"
   ]
  },
  {
   "cell_type": "code",
   "execution_count": null,
   "metadata": {
    "tags": [
     "fr"
    ]
   },
   "outputs": [],
   "source": [
    "variable_2 * 3"
   ]
  },
  {
   "cell_type": "markdown",
   "metadata": {
    "tags": [
     "fr"
    ]
   },
   "source": [
    "Vous l'avez deviné, la variable_1 contient **un nombre** alors que la variable 2 contient **du texte**. Au lieu du mot \"texte\", on préfère appeller cela une **\"chaîne de caractère\"**, car ceux-ci sont en réalité différents caractères mis bout à bout, ou encore une **\"_string_\"**.\n",
    "\n",
    "> **Note** :\n",
    "\n",
    "> - Une petite particularité du langage python, lorsqu'on multiplie une string par un nombre entier, la string est répétée.\n",
    "> Ex : 3 fois \"Z\" est égal à \"ZZZ\". C'est ce que nous avons fait pour la cellule du dessus."
   ]
  },
  {
   "cell_type": "markdown",
   "metadata": {
    "tags": [
     "fr"
    ]
   },
   "source": [
    "## Les différents types de variables\n",
    "\n",
    "Les variables stockent donc différents types de valeurs. Examinons-en quelques-uns."
   ]
  },
  {
   "cell_type": "markdown",
   "metadata": {
    "tags": [
     "fr"
    ]
   },
   "source": [
    "### Les integer\n",
    "\n",
    "On appelle \"entier\", \"*integer*\" (\"int\" en abrégé) les nombres qui n'ont pas de décimales après la virgule. Exemple :\n",
    "\n",
    "```python\n",
    "-45\n",
    "\n",
    "12\n",
    "\n",
    "54645\n",
    "\n",
    "-45645456 \n",
    "\n",
    "```\n",
    "\n",
    "Note : Certains prononcent ce mot à la française \"int-é-guerre\", d'autres à l'anglaise \"int-é-djeur\"."
   ]
  },
  {
   "cell_type": "markdown",
   "metadata": {
    "tags": [
     "fr"
    ]
   },
   "source": [
    "### Les float\n",
    "\n",
    "On appelle \"flottants\", \"*float*\" ou encore \"décimaux\" les nombres qui ont une ou plusieurs décimales après la virgule. Exemple :\n",
    "\n",
    "```python\n",
    "-45.56\n",
    "\n",
    "12.1\n",
    "\n",
    "548.56\n",
    "\n",
    "-416974562.14568941346759314619 \n",
    "```"
   ]
  },
  {
   "cell_type": "markdown",
   "metadata": {
    "tags": [
     "fr"
    ]
   },
   "source": [
    "### Les chaînes de caractères\n",
    "\n",
    "Comme vu précédemment, on appelle \"chaîne de caractère\" ou \"*string*\" (\"str\" en abrégé) les variables qui contiennent du texte. Le texte est toujours placé entre guillemets pour ne pas les confondre avec les nombres. Par exemple :\n",
    "\n",
    "```python\n",
    "\"ceci est un navet\"\n",
    "\n",
    "\"Voici mon email : bla.blabla@blabla.bla\"\n",
    "\n",
    "\"6 * 7 = 42\"\n",
    "```\n",
    "\n",
    "On peut utiliser indifféremment des guillemets doubles droits (*double quote*) \" \" ou des guillemets droits simples (*simple quote*) ' ', qui sont aussi des apostrophes, pour définir une variable. Exemple :\n",
    "\n",
    "```python\n",
    "'ceci est un navet'\n",
    "\n",
    "'Voici mon email : bla.blabla@blabla.bla'\n",
    "\n",
    "'6 * 7 = 42'\n",
    "```\n",
    "\n",
    "Cela sert aussi à inclure les uns dans les autres, ce qui est utile si on veut utiliser des apostrophes ou des guillemets dans du texte. Par exemple :\n",
    "\n",
    "```python\n",
    "\"Comment tu t'appelles ?\"\n",
    "\n",
    "'Le mot bizarre est lui-même \"bizarre\", non ?'\n",
    "```"
   ]
  },
  {
   "cell_type": "markdown",
   "metadata": {
    "tags": [
     "fr"
    ]
   },
   "source": [
    "## Exercice (facile)\n",
    "\n",
    "Écrire un programme qui **multiplie deux variables entre elles** et retourne le résultat suivant :\n",
    "\n",
    "```python\n",
    "'Moi je connais une chanson qui énerve les gens ! Moi je connais une chanson qui énerve les gens ! Moi je connais une chanson qui énerve les gens ! Moi je connais une chanson qui énerve les gens ! Moi je connais une chanson qui énerve les gens ! Moi je connais une chanson qui énerve les gens ! Moi je connais une chanson qui énerve les gens ! Moi je connais une chanson qui énerve les gens ! Moi je connais une chanson qui énerve les gens ! Moi je connais une chanson qui énerve les gens ! Moi je connais une chanson qui énerve les gens ! Moi je connais une chanson qui énerve les gens ! Moi je connais une chanson qui énerve les gens ! Moi je connais une chanson qui énerve les gens ! Moi je connais une chanson qui énerve les gens ! '\n",
    "```\n",
    "\n",
    "**Astuces :**\n",
    "- Ne perdez pas de temps à compter : la même phrase est répétée 15 fois.\n",
    "- Vous pouvez donner le nom que vous voulez aux deux variables que vous allez créer.\n",
    "- Le programme nécessite 3 lignes de code au total.\n",
    "- On peut, bien sûr, multiplier la phrase par 15, mais le but de l'exercice est de multiplier deux variables entre elles."
   ]
  },
  {
   "cell_type": "code",
   "execution_count": null,
   "metadata": {},
   "outputs": [],
   "source": []
  },
  {
   "cell_type": "markdown",
   "metadata": {
    "tags": [
     "fr"
    ]
   },
   "source": [
    "# De nouvelles fonctions très utiles"
   ]
  },
  {
   "cell_type": "markdown",
   "metadata": {
    "tags": [
     "fr"
    ]
   },
   "source": [
    "## Nouveautés concernant la fonction ``print()``"
   ]
  },
  {
   "cell_type": "markdown",
   "metadata": {
    "tags": [
     "fr"
    ]
   },
   "source": [
    "### Arguments multiples\n",
    "\n",
    "En simplifiant on pourrait dire que l'interpréteur de jupyter lab ne vous affiche que le dernier résultat de votre programme. Mais en utilisant la fonction  ``print()`` il est possible d'afficher autant de lignes que l'on souhaite tout en n'exécutant qu'une seule cellule.\n",
    "\n",
    "Tout au long de ce cours la fonction ``print()`` sera votre meilleure alliée ! Elle permet d'afficher des résultats finaux mais aussi intermédiaires et est très utilisée pour \"débugguer\" un programme.\n",
    "\n",
    "En programmation, comme en mathématiques, un argument est la donnée qui va être traitée par une fonction. Quand on écrit :"
   ]
  },
  {
   "cell_type": "code",
   "execution_count": null,
   "metadata": {
    "tags": [
     "fr"
    ]
   },
   "outputs": [],
   "source": [
    "print(\"un texte\")"
   ]
  },
  {
   "cell_type": "markdown",
   "metadata": {
    "tags": [
     "fr"
    ]
   },
   "source": [
    "La fonction est ```print()``` et l'argument est \"un texte\", qui en l'occurrence est une chaîne de caractère."
   ]
  },
  {
   "cell_type": "code",
   "execution_count": null,
   "metadata": {
    "tags": [
     "fr"
    ]
   },
   "outputs": [],
   "source": [
    "une_variable = \"un autre texte\"\n",
    "print(une_variable)"
   ]
  },
  {
   "cell_type": "markdown",
   "metadata": {
    "tags": [
     "fr"
    ]
   },
   "source": [
    "Ici la fonction est toujours ```print()``` mais l'argument cette fois-ci est ``une_variable``, qui est une variable qui contient le texte \"un autre texte\".\n",
    "\n",
    "Pour l'instant nous n'avions utilisé la fonction ``print()`` qu'avec un seul argument, mais elle peut en prendre plusieurs. Pour cela il suffit simplement de les séparer par une virgule. Exemple :"
   ]
  },
  {
   "cell_type": "code",
   "execution_count": null,
   "metadata": {
    "tags": [
     "fr"
    ]
   },
   "outputs": [],
   "source": [
    "legume = \"courgette\"\n",
    "prix = 3.50\n",
    "poids = 1.5 # en kg\n",
    "\n",
    "print(\"Le prix total de\", poids, \"kg de\", legume, \"est de\", prix * poids, \"€ !\")"
   ]
  },
  {
   "cell_type": "markdown",
   "metadata": {
    "tags": [
     "fr"
    ]
   },
   "source": [
    "### les \"f-strings\"\n",
    "\n",
    "Cependant, comme il est important de prendre de bonnes habitudes dès le début, la méthode la plus lisible et la plus efficace consiste néanmoins à utiliser les \"*f-strings*\", c'est une autre méthode pour insérer le contenu de variables dans du texte.\n",
    "\n",
    "Pour ce faire, on ajoute un \"f\" (abréviation de \"*formatter*\") après la première parenthèse du ``print``, puis on place les variables entre les accolades \"{\" et \"}\". Exemple :"
   ]
  },
  {
   "cell_type": "code",
   "execution_count": null,
   "metadata": {
    "tags": [
     "fr"
    ]
   },
   "outputs": [],
   "source": [
    "legume = \"courgette\"\n",
    "prix = 3.50\n",
    "poids = 1.5 # en kg\n",
    "\n",
    "print(f\"Le prix total de {poids}kg de {legume} est de {prix * poids}€ !\")"
   ]
  },
  {
   "cell_type": "markdown",
   "metadata": {
    "tags": [
     "fr"
    ]
   },
   "source": [
    "## La fonction _``type()``_"
   ]
  },
  {
   "cell_type": "markdown",
   "metadata": {
    "tags": [
     "fr"
    ]
   },
   "source": [
    "### Idée générale\n",
    "\n",
    "Cette fonction permet de savoir de quel type est une variable. Par exemple :"
   ]
  },
  {
   "cell_type": "code",
   "execution_count": null,
   "metadata": {
    "tags": [
     "fr"
    ]
   },
   "outputs": [],
   "source": [
    "variable_1 = 12\n",
    "print(type(variable_1))"
   ]
  },
  {
   "cell_type": "markdown",
   "metadata": {
    "tags": [
     "fr"
    ]
   },
   "source": [
    "Pour l'instant considérons ici le mot _\"class\"_ comme équivalent à \"type\". Le **'int'**, diminutif de *integer*, signifie que cette variable est un entier."
   ]
  },
  {
   "cell_type": "code",
   "execution_count": null,
   "metadata": {
    "tags": [
     "fr"
    ]
   },
   "outputs": [],
   "source": [
    "variable_2 = \"12\"\n",
    "print(type(variable_2))"
   ]
  },
  {
   "cell_type": "markdown",
   "metadata": {
    "tags": [
     "fr"
    ]
   },
   "source": [
    "Le **'str'**, diminutif de *string*, signifie que cette variable est une chaîne de caractère."
   ]
  },
  {
   "cell_type": "markdown",
   "metadata": {
    "tags": [
     "fr"
    ]
   },
   "source": [
    "### Exercice (facile)\n",
    "\n",
    "En s'inspirant des deux cellules du dessus complétez la cellule dessous ainsi :\n",
    "- Créez une nouvelle variable intitulée \"variable_3\" et donnez-lui pour valeur un nombre flottant.\n",
    "- Affichez son type, celui-ci doit être de type _float_"
   ]
  },
  {
   "cell_type": "code",
   "execution_count": null,
   "metadata": {
    "tags": [
     "fr"
    ]
   },
   "outputs": [],
   "source": [
    "# La variable est de type \"float\", donc \"flottant\"\n"
   ]
  },
  {
   "cell_type": "markdown",
   "metadata": {
    "tags": [
     "fr"
    ]
   },
   "source": [
    "## Modification du type d'une variable\n",
    "\n",
    "Python est un langage intelligent qui définit le type de la variable en fonction de la valeur que vous lui assignez. Mais rien ne vous empêche de modifier ensuite le type de cette variable. Pour cela il suffit simplement de lui affecter une valeur correspondant à un autre type."
   ]
  },
  {
   "cell_type": "code",
   "execution_count": null,
   "metadata": {
    "tags": [
     "fr"
    ]
   },
   "outputs": [],
   "source": [
    "x = 45.2513\n",
    "print(f\"Le type de x est {type(x)} car sa valeur est {x}\")"
   ]
  },
  {
   "cell_type": "code",
   "execution_count": null,
   "metadata": {
    "tags": [
     "fr"
    ]
   },
   "outputs": [],
   "source": [
    "x = 2020\n",
    "print(f\"Le type de x est {type(x)} car sa valeur est {x}\")"
   ]
  },
  {
   "cell_type": "code",
   "execution_count": null,
   "metadata": {
    "tags": [
     "fr"
    ]
   },
   "outputs": [],
   "source": [
    "x = 'choux de bruxelles'\n",
    "print(f\"Le type de x est {type(x)} car sa valeur est {x}\")"
   ]
  },
  {
   "cell_type": "markdown",
   "metadata": {
    "tags": [
     "fr"
    ]
   },
   "source": [
    "## Addition de strings entre elles\n",
    "\n",
    "On a vu qu'une string multipliée par un entier répétait la chaîne de caractères. Mais que se passe-t-il si on les additionne ?\n"
   ]
  },
  {
   "cell_type": "code",
   "execution_count": null,
   "metadata": {
    "tags": [
     "fr"
    ]
   },
   "outputs": [],
   "source": [
    "string_1 = \"Hello,\"\n",
    "string_2 = \" world!\"\n",
    "\n",
    "print(string_1 + string_2)"
   ]
  },
  {
   "cell_type": "markdown",
   "metadata": {
    "tags": [
     "fr"
    ]
   },
   "source": [
    "Les deux strings se retrouvent **concaténées**, c'est-à-dire \"collées\" ensemble. Alors que si on donne plusieurs arguments séparés par des virgules à la fonction ```print()```, celle-ci les affiche par défaut séparé par un espace."
   ]
  },
  {
   "cell_type": "markdown",
   "metadata": {
    "tags": [
     "fr"
    ]
   },
   "source": [
    "## Exercice (facile)\n",
    "\n",
    "Utilisez la fonction ``print()`` pour écrire le mot \"riquiqui\" à partir des variables proposées dans la cellule suivante. Vous devez obligatoirement utiliser **une addition et une multiplication** et utiliser les variables existantes."
   ]
  },
  {
   "cell_type": "code",
   "execution_count": 2,
   "metadata": {
    "tags": [
     "fr"
    ]
   },
   "outputs": [],
   "source": [
    "a = \"ri\"\n",
    "b = \"qui\"\n",
    "\n",
    "# Tapez votre code ici :"
   ]
  },
  {
   "cell_type": "code",
   "execution_count": 3,
   "metadata": {
    "tags": [
     "fr",
     "solution"
    ]
   },
   "outputs": [
    {
     "data": {
      "text/plain": [
       "'riquiqui'"
      ]
     },
     "execution_count": 3,
     "metadata": {},
     "output_type": "execute_result"
    }
   ],
   "source": [
    "a + b * 2"
   ]
  },
  {
   "cell_type": "code",
   "execution_count": null,
   "metadata": {
    "tags": []
   },
   "outputs": [],
   "source": []
  }
 ],
 "metadata": {
  "kernelspec": {
   "display_name": "Python 3 (ipykernel)",
   "language": "python",
   "name": "python3"
  },
  "language_info": {
   "codemirror_mode": {
    "name": "ipython",
    "version": 3
   },
   "file_extension": ".py",
   "mimetype": "text/x-python",
   "name": "python",
   "nbconvert_exporter": "python",
   "pygments_lexer": "ipython3",
   "version": "3.10.8"
  },
  "toc-showtags": false
 },
 "nbformat": 4,
 "nbformat_minor": 4
}
