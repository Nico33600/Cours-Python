{
 "cells": [
  {
   "cell_type": "markdown",
   "metadata": {},
   "source": [
    "# Notebook 5 - Conversions"
   ]
  },
  {
   "cell_type": "code",
   "execution_count": 17,
   "metadata": {},
   "outputs": [
    {
     "name": "stdin",
     "output_type": "stream",
     "text": [
      "Bonjour, combien désirez-vous de courges ? 26\n"
     ]
    },
    {
     "name": "stdout",
     "output_type": "stream",
     "text": [
      "Désolé, nous n'avons pas assez de stock !\n"
     ]
    }
   ],
   "source": [
    "### Exercice conversion sur la courge\n",
    "\n",
    "prix_au_kilo = 4.5\n",
    "stock_max = 25\n",
    "\n",
    "nombre = input(\"Bonjour, combien désirez-vous de courges ?\")\n",
    "\n",
    "if nombre.isdigit():\n",
    "    \n",
    "    nombre = int(nombre)\n",
    "    \n",
    "    if nombre < 1: print(\"Dites-moi un nombre au moins égal à 1 !\") \n",
    "    elif nombre > 25: print(\"Désolé, nous n'avons pas assez de stock !\")\n",
    "    else:\n",
    "        if nombre < 3: prix = nombre * prix_au_kilo\n",
    "        else: prix = (3 * prix_au_kilo) + (nombre - 3) * (prix_au_kilo / 2)\n",
    "        print(\"Très bien, cela fera\", prix,\"! Bon appétit \")\n",
    "\n",
    "else: print(\"Désolé, mais\", nombre, \"n'est pas un nombre valide !\")"
   ]
  },
  {
   "cell_type": "markdown",
   "metadata": {},
   "source": [
    "# Notebook 6 - Boucles"
   ]
  },
  {
   "cell_type": "code",
   "execution_count": null,
   "metadata": {},
   "outputs": [],
   "source": [
    "num = 9\n",
    "count = 0\n",
    "\n",
    "while count <= 10:\n",
    "    print(num,\"*\",count,\"=\",num*count)\n",
    "    count += 1"
   ]
  },
  {
   "cell_type": "code",
   "execution_count": null,
   "metadata": {},
   "outputs": [],
   "source": [
    "# Exo facile while\n",
    "\n",
    "nombre = input()\n",
    "count = 0\n",
    "\n",
    "if nombre.isdigit():\n",
    "    nombre = int(nombre)\n",
    "    while nombre >= 0:\n",
    "        nombre -= 7\n",
    "        count += 1\n",
    "    print (\"Fini ! Le nombre final vaut\", nombre)\n",
    "    print (\"Il a fallu\", count, \"passages\")\n",
    "else: print(\"Entrez un nombre valide !\")"
   ]
  },
  {
   "cell_type": "code",
   "execution_count": null,
   "metadata": {},
   "outputs": [],
   "source": [
    "#Exo de la tour Eiffel:\n",
    "    \n",
    "size = 0.01\n",
    "count = 0\n",
    "while size <= 324:\n",
    "    size = size*2\n",
    "    print(size)\n",
    "    count += 1\n",
    "print(count)\n",
    "\n",
    "\n",
    "## Pour la Lune :\n",
    "\n",
    "#Exo de la tour Eiffel/ lune:\n",
    "    \n",
    "size = 0.00011\n",
    "count = 0\n",
    "while size <= 384402000:\n",
    "    size = size*2\n",
    "    count += 1\n",
    "print(count)"
   ]
  },
  {
   "cell_type": "code",
   "execution_count": 20,
   "metadata": {},
   "outputs": [
    {
     "name": "stdin",
     "output_type": "stream",
     "text": [
      " 31\n"
     ]
    },
    {
     "name": "stdout",
     "output_type": "stream",
     "text": [
      "False\n",
      "Entrez un nombre entier supérieur ou égal à 2 !\n"
     ]
    }
   ],
   "source": [
    "### EXERCICE SUR LES CHIFFRES PREMIERS\n",
    "\n",
    "### A VIRER ???\n",
    "\n",
    "\n",
    "num = input()\n",
    "\n",
    "type(num)\n",
    "print(type(num) == int)\n",
    "if (num == int) and (num > 2) :\n",
    "    print(\"go\")\n",
    "    if num > 2 and num % 2 == 0:\n",
    "        print(num, \"n'est pas un nombre premier !\")\n",
    "    for x in range(2, num // 2):\n",
    "        if num % x == 0:\n",
    "            print(num, \"n'est pas un nombre premier !\")\n",
    "    print(num, \"est pas un nombre premier !\")\n",
    "else:\n",
    "    print (\"Entrez un nombre entier supérieur ou égal à 2 !\")"
   ]
  },
  {
   "cell_type": "code",
   "execution_count": null,
   "metadata": {},
   "outputs": [],
   "source": []
  },
  {
   "cell_type": "code",
   "execution_count": 25,
   "metadata": {},
   "outputs": [
    {
     "name": "stdout",
     "output_type": "stream",
     "text": [
      "98 n'est pas un nombre premier ! :-( \n"
     ]
    }
   ],
   "source": [
    "### Exercice sur les nombres premiers avec while:\n",
    "\n",
    "num = 98\n",
    "i = 2\n",
    "is_prime = True\n",
    "\n",
    "while (i < num) and (is_prime == True):\n",
    "    if (num % i) == 0: is_prime = False\n",
    "    else: i += 1\n",
    "\n",
    "if is_prime == True: print(num,\"est un nombre premier ! :-) \")\n",
    "else : print(num,\"n'est pas un nombre premier ! :-( \")\n"
   ]
  },
  {
   "cell_type": "code",
   "execution_count": 19,
   "metadata": {},
   "outputs": [
    {
     "name": "stdout",
     "output_type": "stream",
     "text": [
      "Voici la liste des nombres premiers compris entre 2 et 10 :\n",
      "2\n",
      "3\n",
      "5\n",
      "7\n",
      "Nombre premiers trouvés dans cet intervalle: 4\n"
     ]
    }
   ],
   "source": [
    "### Exercices sur les nombres premiers avec range()\n",
    "\n",
    "start = 2\n",
    "end = 10\n",
    "count = 0\n",
    "\n",
    "print(\"Voici la liste des nombres premiers compris entre\", start, \"et\", end, \":\")\n",
    "\n",
    "for num in range(start, end):\n",
    "    is_prime = True\n",
    "    i = 2\n",
    "    \n",
    "    # tous les nombres premiers sont plus grands que 1\n",
    "    while (i < num) and (is_prime == True):\n",
    "        if (num % i) == 0:\n",
    "            is_prime = False\n",
    "        else: \n",
    "            i += 1\n",
    "    if is_prime == True:\n",
    "        print (num)\n",
    "        count += 1\n",
    "            \n",
    "        \n",
    "print(\"Nombre premiers trouvés dans cet intervalle:\", count)"
   ]
  },
  {
   "cell_type": "code",
   "execution_count": null,
   "metadata": {},
   "outputs": [],
   "source": [
    "# Jeu de Théodore\n",
    "\n",
    "import random\n",
    "\n",
    "bon_numero = random.randint(0,10)\n",
    "numero_propose = int(input(\"À quel nombre penses-tu ?\"))\n",
    "\n",
    "while bon_numero != numero_propose:\n",
    "    \n",
    "    if bon_numero < numero_propose: print(\"Trop grand !\")\n",
    "    else: print(\"Trop petit !\")\n",
    "        \n",
    "    numero_propose = int(input(\"À quel nombre penses-tu ?\"))\n",
    "\n",
    "print(\"Bravo ! C'était bien\", bon_numero, \"!\")"
   ]
  },
  {
   "cell_type": "markdown",
   "metadata": {},
   "source": [
    "# dictionnaires"
   ]
  },
  {
   "cell_type": "code",
   "execution_count": null,
   "metadata": {},
   "outputs": [],
   "source": [
    "Vérifiez que random donne des résultats égaux :"
   ]
  },
  {
   "cell_type": "code",
   "execution_count": 152,
   "metadata": {},
   "outputs": [
    {
     "data": {
      "text/plain": [
       "{'6': 9983,\n",
       " '1': 10063,\n",
       " '0': 9868,\n",
       " '7': 9986,\n",
       " '5': 10020,\n",
       " '8': 9760,\n",
       " '9': 10062,\n",
       " '3': 10016,\n",
       " '2': 10041,\n",
       " '4': 10201}"
      ]
     },
     "execution_count": 152,
     "metadata": {},
     "output_type": "execute_result"
    }
   ],
   "source": [
    "import random\n",
    "\n",
    "results = {}\n",
    "count = 0\n",
    "\n",
    "while count < 100000:\n",
    "    num = random.randint(0,9)\n",
    "    if str(num) in results: results[str(num)] = results.get(str(num)) + 1\n",
    "    else: results[str(num)] = 1 \n",
    "    count +=1\n",
    "results"
   ]
  },
  {
   "cell_type": "code",
   "execution_count": 153,
   "metadata": {},
   "outputs": [
    {
     "data": {
      "image/png": "[encoded data removed]",
      "text/plain": [
       "<Figure size 432x288 with 1 Axes>"
      ]
     },
     "metadata": {},
     "output_type": "display_data"
    }
   ],
   "source": [
    "import matplotlib.pyplot as plt\n",
    "\n",
    "plt.bar(range(len(results)), list(results.values()), align='center')\n",
    "plt.xticks(range(len(results)), list(results.keys()));"
   ]
  }
 ],
 "metadata": {
  "kernelspec": {
   "display_name": "Python 3",
   "language": "python",
   "name": "python3"
  },
  "language_info": {
   "codemirror_mode": {
    "name": "ipython",
    "version": 3
   },
   "file_extension": ".py",
   "mimetype": "text/x-python",
   "name": "python",
   "nbconvert_exporter": "python",
   "pygments_lexer": "ipython3",
   "version": "3.7.3"
  }
 },
 "nbformat": 4,
 "nbformat_minor": 4
}
