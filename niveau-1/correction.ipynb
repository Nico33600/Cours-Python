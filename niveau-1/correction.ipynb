{
 "cells": [
  {
   "cell_type": "markdown",
   "metadata": {},
   "source": [
    "# Notebook 5 - Conversions"
   ]
  },
  {
   "cell_type": "code",
   "execution_count": 17,
   "metadata": {},
   "outputs": [
    {
     "name": "stdin",
     "output_type": "stream",
     "text": [
      "Bonjour, combien désirez-vous de courges ? 26\n"
     ]
    },
    {
     "name": "stdout",
     "output_type": "stream",
     "text": [
      "Désolé, nous n'avons pas assez de stock !\n"
     ]
    }
   ],
   "source": [
    "### Exercice conversion sur la courge\n",
    "\n",
    "prix_au_kilo = 4.5\n",
    "stock_max = 25\n",
    "\n",
    "nombre = input(\"Bonjour, combien désirez-vous de courges ?\")\n",
    "\n",
    "if nombre.isdigit():\n",
    "    \n",
    "    nombre = int(nombre)\n",
    "    \n",
    "    if nombre < 1: print(\"Dites-moi un nombre au moins égal à 1 !\") \n",
    "    elif nombre > 25: print(\"Désolé, nous n'avons pas assez de stock !\")\n",
    "    else:\n",
    "        if nombre < 3: prix = nombre * prix_au_kilo\n",
    "        else: prix = (3 * prix_au_kilo) + (nombre - 3) * (prix_au_kilo / 2)\n",
    "        print(\"Très bien, cela fera\", prix,\"! Bon appétit \")\n",
    "\n",
    "else: print(\"Désolé, mais\", nombre, \"n'est pas un nombre valide !\")"
   ]
  },
  {
   "cell_type": "markdown",
   "metadata": {},
   "source": [
    "# Notebook 6 - Boucles"
   ]
  },
  {
   "cell_type": "code",
   "execution_count": null,
   "metadata": {},
   "outputs": [],
   "source": [
    "# Exo facile while\n",
    "\n",
    "nombre = input()\n",
    "count = 0\n",
    "\n",
    "if nombre.isdigit():\n",
    "    nombre = int(nombre)\n",
    "    while nombre >= 0:\n",
    "        nombre -= 7\n",
    "        count += 1\n",
    "    print (\"Fini ! Le nombre final vaut\", nombre)\n",
    "    print (\"Il a fallu\", count, \"passages\")\n",
    "else: print(\"Entrez un nombre valide !\")"
   ]
  },
  {
   "cell_type": "code",
   "execution_count": null,
   "metadata": {},
   "outputs": [],
   "source": [
    "#Exo de la tour Eiffel:\n",
    "    \n",
    "size = 0.01\n",
    "count = 0\n",
    "while size <= 324:\n",
    "    size = size*2\n",
    "    print(size)\n",
    "    count += 1\n",
    "print(count)"
   ]
  },
  {
   "cell_type": "code",
   "execution_count": null,
   "metadata": {},
   "outputs": [],
   "source": [
    "### EXERCICE SUR LES CHIFFRES PREMIERS\n",
    "\n",
    "\n",
    "num = input()\n",
    "\n",
    "type(num)\n",
    "print(type(num) == int)\n",
    "if (num == int) and (num > 2) :\n",
    "    print(\"go\")\n",
    "    if num > 2 and num % 2 == 0:\n",
    "        print(num, \"n'est pas un nombre premier !\")\n",
    "    for x in range(2, num // 2):\n",
    "        if num % x == 0:\n",
    "            print(num, \"n'est pas un nombre premier !\")\n",
    "    print(num, \"est pas un nombre premier !\")\n",
    "else:\n",
    "    print (\"Entrez un nombre entier supérieur ou égal à 2 !\")"
   ]
  },
  {
   "cell_type": "code",
   "execution_count": null,
   "metadata": {},
   "outputs": [],
   "source": []
  }
 ],
 "metadata": {
  "kernelspec": {
   "display_name": "Python 3",
   "language": "python",
   "name": "python3"
  },
  "language_info": {
   "codemirror_mode": {
    "name": "ipython",
    "version": 3
   },
   "file_extension": ".py",
   "mimetype": "text/x-python",
   "name": "python",
   "nbconvert_exporter": "python",
   "pygments_lexer": "ipython3",
   "version": "3.7.3"
  }
 },
 "nbformat": 4,
 "nbformat_minor": 4
}
