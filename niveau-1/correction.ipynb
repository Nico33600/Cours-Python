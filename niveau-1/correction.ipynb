{
 "cells": [
  {
   "cell_type": "markdown",
   "metadata": {},
   "source": [
    "# Notebook 5 - Conversions"
   ]
  },
  {
   "cell_type": "code",
   "execution_count": 17,
   "metadata": {},
   "outputs": [
    {
     "name": "stdin",
     "output_type": "stream",
     "text": [
      "Bonjour, combien désirez-vous de courges ? 26\n"
     ]
    },
    {
     "name": "stdout",
     "output_type": "stream",
     "text": [
      "Désolé, nous n'avons pas assez de stock !\n"
     ]
    }
   ],
   "source": [
    "### Exercice conversion sur la courge\n",
    "\n",
    "prix_au_kilo = 4.5\n",
    "stock_max = 25\n",
    "\n",
    "nombre = input(\"Bonjour, combien désirez-vous de courges ?\")\n",
    "\n",
    "if nombre.isdigit():\n",
    "    \n",
    "    nombre = int(nombre)\n",
    "    \n",
    "    if nombre < 1: print(\"Dites-moi un nombre au moins égal à 1 !\") \n",
    "    elif nombre > 25: print(\"Désolé, nous n'avons pas assez de stock !\")\n",
    "    else:\n",
    "        if nombre < 3: prix = nombre * prix_au_kilo\n",
    "        else: prix = (3 * prix_au_kilo) + (nombre - 3) * (prix_au_kilo / 2)\n",
    "        print(\"Très bien, cela fera\", prix,\"! Bon appétit \")\n",
    "\n",
    "else: print(\"Désolé, mais\", nombre, \"n'est pas un nombre valide !\")"
   ]
  },
  {
   "cell_type": "markdown",
   "metadata": {},
   "source": [
    "# Notebook 6 - Boucles"
   ]
  },
  {
   "cell_type": "code",
   "execution_count": null,
   "metadata": {},
   "outputs": [],
   "source": [
    "num = 9\n",
    "count = 0\n",
    "\n",
    "while count <= 10:\n",
    "    print(num,\"*\",count,\"=\",num*count)\n",
    "    count += 1"
   ]
  },
  {
   "cell_type": "code",
   "execution_count": null,
   "metadata": {},
   "outputs": [],
   "source": [
    "#Exo de la tour Eiffel/ lune:\n",
    "\n",
    "## la tour Eiffel:\n",
    "    \n",
    "size = 0.01\n",
    "count = 0\n",
    "while size <= 324:\n",
    "    size = size*2\n",
    "    print(size)\n",
    "    count += 1\n",
    "print(count)\n",
    "\n",
    "\n",
    "## Pour la Lune :\n",
    "\n",
    "size = 0.00011\n",
    "count = 0\n",
    "while size <= 384402000:\n",
    "    size = size*2\n",
    "    count += 1\n",
    "print(count)"
   ]
  },
  {
   "cell_type": "code",
   "execution_count": 25,
   "metadata": {},
   "outputs": [
    {
     "name": "stdout",
     "output_type": "stream",
     "text": [
      "98 n'est pas un nombre premier ! :-( \n"
     ]
    }
   ],
   "source": [
    "### Exercice sur les nombres premiers avec while:\n",
    "\n",
    "num = 98\n",
    "i = 2\n",
    "is_prime = True\n",
    "\n",
    "while (i < num) and (is_prime == True):\n",
    "    if (num % i) == 0: is_prime = False\n",
    "    else: i += 1\n",
    "\n",
    "if is_prime == True: print(num,\"est un nombre premier ! :-) \")\n",
    "else : print(num,\"n'est pas un nombre premier ! :-( \")\n"
   ]
  },
  {
   "cell_type": "code",
   "execution_count": 5,
   "metadata": {},
   "outputs": [
    {
     "name": "stdout",
     "output_type": "stream",
     "text": [
      "Voici la liste des nombres premiers compris entre 100 et 200 :\n",
      "101\n",
      "103\n",
      "107\n",
      "109\n",
      "113\n",
      "127\n",
      "131\n",
      "137\n",
      "139\n",
      "149\n",
      "151\n",
      "157\n",
      "163\n",
      "167\n",
      "173\n",
      "179\n",
      "181\n",
      "191\n",
      "193\n",
      "197\n",
      "199\n",
      "Nombre premiers trouvés dans cet intervalle: 21\n"
     ]
    }
   ],
   "source": [
    "### Exercices sur les nombres premiers avec range()\n",
    "\n",
    "start = 100\n",
    "end = 200\n",
    "count = 0\n",
    "\n",
    "print(\"Voici la liste des nombres premiers compris entre\", start, \"et\", end, \":\")\n",
    "\n",
    "for num in range(start, end):\n",
    "    is_prime = True\n",
    "    i = 2\n",
    "    \n",
    "    # tous les nombres premiers sont plus grands que 1\n",
    "    while (i < num) and (is_prime == True):\n",
    "        if (num % i) == 0:\n",
    "            is_prime = False\n",
    "        else: \n",
    "            i += 1\n",
    "    if is_prime == True:\n",
    "        print (num)\n",
    "        count += 1\n",
    "            \n",
    "        \n",
    "print(\"Nombre premiers trouvés dans cet intervalle:\", count)"
   ]
  },
  {
   "cell_type": "code",
   "execution_count": null,
   "metadata": {},
   "outputs": [],
   "source": [
    "# Jeu de Théodore\n",
    "\n",
    "import random\n",
    "\n",
    "bon_numero = random.randint(0,10)\n",
    "numero_propose = int(input(\"À quel nombre penses-tu ?\"))\n",
    "\n",
    "while bon_numero != numero_propose:\n",
    "    \n",
    "    if bon_numero < numero_propose: print(\"Trop grand !\")\n",
    "    else: print(\"Trop petit !\")\n",
    "        \n",
    "    numero_propose = int(input(\"À quel nombre penses-tu ?\"))\n",
    "\n",
    "print(\"Bravo ! C'était bien\", bon_numero, \"!\")"
   ]
  },
  {
   "cell_type": "code",
   "execution_count": null,
   "metadata": {},
   "outputs": [],
   "source": [
    "## Mme Michu\n",
    "\n",
    "nombre = 0\n",
    "\n",
    "for caracteres in \"anticonstitutionnellement\":\n",
    "    nombre += 1\n",
    "    \n",
    "print(\"Il y a\", nombre, \"caractères dans le mot 'anticonstitutionnellement' !\")"
   ]
  },
  {
   "cell_type": "code",
   "execution_count": null,
   "metadata": {},
   "outputs": [],
   "source": []
  },
  {
   "cell_type": "code",
   "execution_count": null,
   "metadata": {},
   "outputs": [],
   "source": []
  },
  {
   "cell_type": "code",
   "execution_count": null,
   "metadata": {},
   "outputs": [],
   "source": [
    "##### Jeu du dessin 1\n",
    "\n",
    "for i in range(1,8): print(i*\"*\")"
   ]
  },
  {
   "cell_type": "code",
   "execution_count": null,
   "metadata": {},
   "outputs": [],
   "source": [
    "##### Jeu du dessin 2\n",
    "\n",
    "etoile = \"*\"\n",
    "for i in range(3,22,3): print(etoile * i)\n"
   ]
  },
  {
   "cell_type": "markdown",
   "metadata": {},
   "source": [
    "# Notebook 8 - Chaines de Caractères"
   ]
  },
  {
   "cell_type": "code",
   "execution_count": null,
   "metadata": {},
   "outputs": [],
   "source": [
    "jours_tronques = [\"lun\", \"mar\", \"mer\", \"jeu\", \"vendre\", \"same\", \"manche\"]\n",
    "\n",
    "for jour in jours_tronques:\n",
    "    if jour == \"manche\": print(\"di\" + jour)\n",
    "    else: print (jour + \"di\")"
   ]
  },
  {
   "cell_type": "code",
   "execution_count": null,
   "metadata": {},
   "outputs": [],
   "source": [
    "nombre_de_e = 0\n",
    "\n",
    "for i in baudelaire:\n",
    "    if i in [\"e\",\"è\",\"è\",\"ê\"]: nombre_de_e += 1\n",
    "        \n",
    "print(\"nombre de e:\", nombre_de_e)"
   ]
  },
  {
   "cell_type": "markdown",
   "metadata": {},
   "source": [
    "# Notebook 9 - Dictionnaires"
   ]
  },
  {
   "cell_type": "code",
   "execution_count": null,
   "metadata": {},
   "outputs": [],
   "source": [
    "Vérifiez que random donne des résultats égaux :"
   ]
  },
  {
   "cell_type": "code",
   "execution_count": 1,
   "metadata": {},
   "outputs": [
    {
     "data": {
      "text/plain": [
       "{'4': 11,\n",
       " '5': 8,\n",
       " '8': 13,\n",
       " '7': 8,\n",
       " '0': 10,\n",
       " '3': 9,\n",
       " '2': 12,\n",
       " '1': 12,\n",
       " '9': 10,\n",
       " '6': 7}"
      ]
     },
     "execution_count": 1,
     "metadata": {},
     "output_type": "execute_result"
    }
   ],
   "source": [
    "import random\n",
    "\n",
    "results = {}\n",
    "count = 0\n",
    "\n",
    "while count < 100:\n",
    "    num = random.randint(0,9)\n",
    "    results[str(num)] = results.get(str(num), 0) + 1\n",
    "    count +=1\n",
    "results"
   ]
  },
  {
   "cell_type": "code",
   "execution_count": 3,
   "metadata": {},
   "outputs": [
    {
     "data": {
      "image/png": "[encoded data removed]",
      "text/plain": [
       "<Figure size 432x288 with 1 Axes>"
      ]
     },
     "metadata": {
      "needs_background": "light"
     },
     "output_type": "display_data"
    }
   ],
   "source": [
    "import matplotlib.pyplot as plt\n",
    "\n",
    "plt.bar(range(len(results)), list(results.values()), align='center')\n",
    "plt.xticks(range(len(results)), list(results.keys()));"
   ]
  },
  {
   "cell_type": "markdown",
   "metadata": {},
   "source": [
    "# 10. Fonctions"
   ]
  },
  {
   "cell_type": "code",
   "execution_count": 5,
   "metadata": {},
   "outputs": [],
   "source": [
    "def max2(liste):\n",
    "    \n",
    "    max_val = liste[0]\n",
    "    for nombre in liste[1:]:\n",
    "        if nombre > max_val: max_val = nombre\n",
    "    print(max_val)\n"
   ]
  },
  {
   "cell_type": "code",
   "execution_count": 9,
   "metadata": {},
   "outputs": [
    {
     "name": "stdout",
     "output_type": "stream",
     "text": [
      "12\n"
     ]
    }
   ],
   "source": [
    "nombres = [12,8,1,6,9,-3]\n",
    "max2(nombres)"
   ]
  },
  {
   "cell_type": "code",
   "execution_count": null,
   "metadata": {},
   "outputs": [],
   "source": [
    "def strdigit(string):\n",
    "    \n",
    "    digit = True\n",
    "    numbers=[\"0\", \"1\", \"2\", \"3\", \"4\", \"5\", \"6\", \"7\", \"8\", \"9\"]\n",
    "\n",
    "    for cara in string:\n",
    "        if cara not in numbers: digit = False\n",
    "    \n",
    "    return digit"
   ]
  }
 ],
 "metadata": {
  "kernelspec": {
   "display_name": "Python 3",
   "language": "python",
   "name": "python3"
  },
  "language_info": {
   "codemirror_mode": {
    "name": "ipython",
    "version": 3
   },
   "file_extension": ".py",
   "mimetype": "text/x-python",
   "name": "python",
   "nbconvert_exporter": "python",
   "pygments_lexer": "ipython3",
   "version": "3.7.3"
  }
 },
 "nbformat": 4,
 "nbformat_minor": 4
}
