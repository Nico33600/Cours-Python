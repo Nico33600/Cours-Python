{
 "cells": [
  {
   "cell_type": "code",
   "execution_count": 23,
   "metadata": {},
   "outputs": [
    {
     "name": "stdin",
     "output_type": "stream",
     "text": [
      " 12\n"
     ]
    },
    {
     "name": "stdout",
     "output_type": "stream",
     "text": [
      "False\n",
      "Entrez un nombre entier supérieur ou égal à 2 !\n"
     ]
    }
   ],
   "source": [
    "### EXERCICE SUR LES CHIFFRES PREMIERS\n",
    "\n",
    "\n",
    "num = input()\n",
    "\n",
    "type(num)\n",
    "print(type(num) == int)\n",
    "if (num == int) and (num > 2) :\n",
    "    print(\"go\")\n",
    "    if num > 2 and num % 2 == 0:\n",
    "        print(num, \"n'est pas un nombre premier !\")\n",
    "    for x in range(2, num // 2):\n",
    "        if num % x == 0:\n",
    "            print(num, \"n'est pas un nombre premier !\")\n",
    "    print(num, \"est pas un nombre premier !\")\n",
    "else:\n",
    "    print (\"Entrez un nombre entier supérieur ou égal à 2 !\")"
   ]
  },
  {
   "cell_type": "code",
   "execution_count": 12,
   "metadata": {},
   "outputs": [],
   "source": [
    "num = 2\n",
    "mauvais_nombre = str(num) + \" n'est pas un nombre premier\""
   ]
  },
  {
   "cell_type": "code",
   "execution_count": 13,
   "metadata": {},
   "outputs": [
    {
     "name": "stdout",
     "output_type": "stream",
     "text": [
      "2 n'est pas un nombre premier\n"
     ]
    }
   ],
   "source": [
    "print(bla)"
   ]
  },
  {
   "cell_type": "code",
   "execution_count": null,
   "metadata": {},
   "outputs": [],
   "source": []
  }
 ],
 "metadata": {
  "kernelspec": {
   "display_name": "Python 3",
   "language": "python",
   "name": "python3"
  },
  "language_info": {
   "codemirror_mode": {
    "name": "ipython",
    "version": 3
   },
   "file_extension": ".py",
   "mimetype": "text/x-python",
   "name": "python",
   "nbconvert_exporter": "python",
   "pygments_lexer": "ipython3",
   "version": "3.7.3"
  }
 },
 "nbformat": 4,
 "nbformat_minor": 4
}
