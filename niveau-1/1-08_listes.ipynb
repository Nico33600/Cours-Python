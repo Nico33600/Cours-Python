{
 "cells": [
  {
   "cell_type": "markdown",
   "metadata": {},
   "source": [
    "# Définition"
   ]
  },
  {
   "cell_type": "markdown",
   "metadata": {},
   "source": [
    "## Qu'est-ce qu'une liste ?\n",
    "\n",
    "Les listes sont des objets python spéciaux qui peuvent contenir des listes d'autres objets. On les reconnaît parce que le contenu de ces variables sont encadrés par des ``[ ]``. Par exemple :\n",
    "\n",
    "```python\n",
    "\n",
    "ma_liste = [element1, element2, element3]\n",
    "\n",
    "```\n",
    "\n",
    "Cette liste peut contenir des objets différents (des strings, des entiers, des variables...): \n",
    "\n",
    "```python\n",
    "\n",
    "ma_variable = 12.34\n",
    "ma_liste = [\"Ceci est une string\", 356, ma_variable]\n",
    "\n",
    "```\n",
    "\n",
    "Les listes sont très pratiques pour pouvoir stocker des informations de même nature. Par exemple dans mon panier à la fin du marché, je vais y trouver :\n",
    "\n",
    "\n",
    "\n",
    "\n",
    "```python\n",
    "\n",
    "\n",
    "Exemple :\n",
    "    \n",
    "    \n",
    "valeur_du_porte_monnaie = 20\n",
    "ma_liste = [\"Ceci est une string\", 356, ma_variable]\n",
    "\n",
    "```"
   ]
  },
  {
   "cell_type": "markdown",
   "metadata": {},
   "source": [
    "## Exercice (facile)\n",
    "\n",
    "Dans mon panier je trouve : \n",
    "    \n",
    "- Des courgettes\n",
    "- Des poivrons\n",
    "- Mes lunettes (de soleil ou de vue selon le temps)\n",
    "- Mon porte-monnaie qui contient un billet de 20€\n",
    "\n",
    "Créez une variable ``valeur_du_porte_feuille`` contenant un entier de 20. Créez une variable ``type_de_lunettes`` qui prendra deux valeurs en fonction d'une troisième variable ``meteo``. Si ``meteo == \"soleil\"``, assinez-lui la valeur``lunettes de soleil``, sinon assignez-lui ``lunettes de vue``. Créez une liste de ces différents objets appelée \"panier\"."
   ]
  },
  {
   "cell_type": "markdown",
   "metadata": {},
   "source": [
    "# Manipulation de listes"
   ]
  },
  {
   "cell_type": "markdown",
   "metadata": {},
   "source": [
    "## Les index\n",
    "\n",
    "Dans une liste les éléments sont répétoriés par un index. Pour Python le premier élément d'une liste correspond à l'élément 0. Cela peut sembler étrange, mais ce système de comptage a ses avantages (nous le verrons plus loin). Si vous voulez en savoir plus, vous pouvez [lire ici un post de Guido Van Rossum](http://python-history.blogspot.com/2013/10/why-python-uses-0-based-indexing.html), le créateur de Python, qui explique ce choix.\n",
    "\n",
    "| Contenu   | Index |\n",
    "|-----------|-------|\n",
    "| Élément 1 | 0     |\n",
    "| Élément 2 | 1     |\n",
    "| Élément 3 | 2     |\n",
    "| ...       | ...   |\n",
    "| Élément n | n-1   |"
   ]
  },
  {
   "cell_type": "markdown",
   "metadata": {},
   "source": [
    "## Manipulation à l'aide de l'index\n",
    "\n",
    "Pour accéder à un élément dans une liste il suffit d'indiquer l'index entre ``[]``\n",
    "\n",
    "Exemple :"
   ]
  },
  {
   "cell_type": "code",
   "execution_count": 12,
   "metadata": {},
   "outputs": [
    {
     "name": "stdout",
     "output_type": "stream",
     "text": [
      "ma_liste[0] : Mon premier élément\n",
      "ma_liste[1] : Mon second élément\n",
      "ma_liste[2] : 16.767\n",
      "ma_liste[3] : Mon quatrième élément\n",
      "ma_liste[4] : True\n",
      "ma_liste[5] : Mon cinquième élément\n"
     ]
    }
   ],
   "source": [
    "ma_liste = [\"Mon premier élément\", \"Mon second élément\", 16.767, \"Mon quatrième élément\", True, \"Mon cinquième élément\"]\n",
    "\n",
    "print(\"ma_liste[0] :\", ma_liste[0])\n",
    "print(\"ma_liste[1] :\", ma_liste[1])\n",
    "print(\"ma_liste[2] :\", ma_liste[2])\n",
    "print(\"ma_liste[3] :\", ma_liste[3])\n",
    "print(\"ma_liste[4] :\", ma_liste[4])\n",
    "print(\"ma_liste[5] :\", ma_liste[5])"
   ]
  },
  {
   "cell_type": "markdown",
   "metadata": {},
   "source": [
    "## Ajout d'un élément\n",
    "\n",
    "Cela se fait avec la méthode ``.append()``. Exemple :"
   ]
  },
  {
   "cell_type": "code",
   "execution_count": 13,
   "metadata": {},
   "outputs": [
    {
     "name": "stdout",
     "output_type": "stream",
     "text": [
      "Voici la liste des espèces vivantes dans le centre-ville : ['chat', 'chien']\n",
      "Voici la liste des espèces vivantes dans le centre-ville : ['chat', 'chien', 'pigeon']\n"
     ]
    }
   ],
   "source": [
    "animaux_des_villes = [\"chat\", \"chien\"]\n",
    "\n",
    "print(\"Voici la liste des espèces vivantes dans le centre-ville :\", animaux_des_villes)\n",
    "\n",
    "animaux_des_villes.append(\"pigeon\")\n",
    "\n",
    "print(\"Voici la liste des espèces vivantes dans le centre-ville :\", animaux_des_villes)"
   ]
  },
  {
   "cell_type": "markdown",
   "metadata": {},
   "source": [
    "## Retirer un élément"
   ]
  },
  {
   "cell_type": "markdown",
   "metadata": {},
   "source": [
    "### Par l'index avec la fonction ``del``\n",
    "\n",
    "En lui donnant comme argument l'élément à effacer. Exemple :"
   ]
  },
  {
   "cell_type": "code",
   "execution_count": 26,
   "metadata": {},
   "outputs": [
    {
     "name": "stdout",
     "output_type": "stream",
     "text": [
      "animaux_des_villes avant :  ['chat', 'chien', 'ornithorynque']\n",
      "animaux_des_villes après :  ['chat', 'chien']\n"
     ]
    }
   ],
   "source": [
    "animaux_des_villes = [\"chat\", \"chien\", \"ornithorynque\"]\n",
    "\n",
    "print(\"animaux_des_villes avant : \", animaux_des_villes)\n",
    "\n",
    "del animaux_des_villes[2]\n",
    "\n",
    "print(\"animaux_des_villes après : \", animaux_des_villes)"
   ]
  },
  {
   "cell_type": "markdown",
   "metadata": {},
   "source": [
    "### Par son nom avec la méthode ``.remove()``\n",
    "\n",
    "On peut aussi utiliser la méthode ``.remove()``, qui elle prend le nom comme argument. Exemple :"
   ]
  },
  {
   "cell_type": "code",
   "execution_count": 24,
   "metadata": {},
   "outputs": [
    {
     "name": "stdout",
     "output_type": "stream",
     "text": [
      "animaux_des_villes avant :  ['chat', 'chien', 'ornithorynque']\n",
      "animaux_des_villes avant :  ['chat', 'chien']\n"
     ]
    }
   ],
   "source": [
    "animaux_des_villes = [\"chat\", \"chien\", \"ornithorynque\"]\n",
    "\n",
    "print(\"animaux_des_villes avant : \", animaux_des_villes)\n",
    "\n",
    "animaux_des_villes.remove(\"ornithorynque\")\n",
    "\n",
    "print(\"animaux_des_villes avant : \", animaux_des_villes)"
   ]
  },
  {
   "cell_type": "markdown",
   "metadata": {},
   "source": [
    "Et si jamais il y a deux fois le même élément dans la liste ? ``.remove()`` enlève le premier qu'il trouve !"
   ]
  },
  {
   "cell_type": "code",
   "execution_count": 30,
   "metadata": {},
   "outputs": [
    {
     "name": "stdout",
     "output_type": "stream",
     "text": [
      "animaux_des_villes avant :  ['chat', 'ornithorynque', 'chien', 'ornithorynque']\n",
      "animaux_des_villes avant :  ['chat', 'chien', 'ornithorynque']\n"
     ]
    }
   ],
   "source": [
    "animaux_des_villes = [\"chat\", \"ornithorynque\", \"chien\", \"ornithorynque\"]\n",
    "\n",
    "print(\"animaux_des_villes avant : \", animaux_des_villes)\n",
    "\n",
    "animaux_des_villes.remove(\"ornithorynque\")\n",
    "\n",
    "print(\"animaux_des_villes avant : \", animaux_des_villes)"
   ]
  },
  {
   "cell_type": "markdown",
   "metadata": {},
   "source": [
    "Cette fonction \"itère\" dans la liste, c'est-à-dire qu'elle se déplace d'élement en élément dan l'ordre de l'index, elle vérifie si le nom correspond, et si c'est le cas elle l'efface. Nous aurons l'occasion de revenir sur le concept d'itération plus loin."
   ]
  },
  {
   "cell_type": "code",
   "execution_count": null,
   "metadata": {},
   "outputs": [],
   "source": [
    "Exercice (facile)"
   ]
  },
  {
   "cell_type": "code",
   "execution_count": null,
   "metadata": {},
   "outputs": [],
   "source": [
    "Exercice (moyen)"
   ]
  }
 ],
 "metadata": {
  "kernelspec": {
   "display_name": "Python 3",
   "language": "python",
   "name": "python3"
  },
  "language_info": {
   "codemirror_mode": {
    "name": "ipython",
    "version": 3
   },
   "file_extension": ".py",
   "mimetype": "text/x-python",
   "name": "python",
   "nbconvert_exporter": "python",
   "pygments_lexer": "ipython3",
   "version": "3.7.3"
  }
 },
 "nbformat": 4,
 "nbformat_minor": 4
}
