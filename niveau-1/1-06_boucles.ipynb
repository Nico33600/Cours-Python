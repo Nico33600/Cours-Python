{
 "cells": [
  {
   "cell_type": "code",
   "execution_count": null,
   "metadata": {},
   "outputs": [],
   "source": []
  },
  {
   "cell_type": "markdown",
   "metadata": {},
   "source": [
    "# Définition"
   ]
  },
  {
   "cell_type": "markdown",
   "metadata": {},
   "source": [
    "## La répétition\n",
    "\n",
    "Comme nous l'avons vu dans l'introduction, les ordinateurs sont très performants lorsqu'il s'agit d'effectuer des actions répétitives. En programmation nous disposons de structures qui permettent de réaliser des \"boucles\", c'est-à-dire de répéter la ou les mêmes instructions autant de fois que nous le voulons. Celles-ci sont très répandues et constituent le coeur d'un grand nombre de programmmes."
   ]
  },
  {
   "cell_type": "markdown",
   "metadata": {},
   "source": [
    "### La boucle ``while``.\n",
    "\n",
    "Cette instruction, qui signifie \"tant que\" permet d'exécuter un bloc d'opérations tant qu'une condition est vérifiée. Imaginons que vous disposez d'un stock fini de bonbons dans un sachet (ce qui malheureusement est toujours le cas). Une boucle ``while`` fonctionnerait ainsi :\n",
    "\n",
    "```\n",
    "Tant que j'ai des bonbons:\n",
    "    Manger des bonbons\n",
    "```\n",
    "\n",
    "Ici on regarde si il reste encore des bonbons dans le sachet, si oui alors on en mange un, ce qui fait décroître le stock d'un. A chaque fois que le bloc d'instruction est fini, la condition est de nouveau vérifiée. Ici quand le stock est égal à 0, la boucle s'arrête. Exemple"
   ]
  },
  {
   "cell_type": "code",
   "execution_count": 11,
   "metadata": {},
   "outputs": [
    {
     "name": "stdout",
     "output_type": "stream",
     "text": [
      "Je dispose de 5 bonbons dans mon sachet !\n",
      "Miam !\n",
      "Il y a encore 4 bonbons restants dans mon sachet !\n",
      "Miam !\n",
      "Il y a encore 3 bonbons restants dans mon sachet !\n",
      "Miam !\n",
      "Il y a encore 2 bonbons restants dans mon sachet !\n",
      "Miam !\n",
      "Il y a encore 1 bonbons restants dans mon sachet !\n",
      "Miam !\n",
      "Il y a encore 0 bonbons restants dans mon sachet !\n",
      "C'est fini ! Le nombre de bonbons restants est tombé à 0 !\n"
     ]
    }
   ],
   "source": [
    "nombre_de_bonbons = 5\n",
    "\n",
    "print(\"Je dispose de\", nombre_de_bonbons, \"bonbons dans mon sachet !\")\n",
    "\n",
    "while nombre_de_bonbons > 0:\n",
    "    nombre_de_bonbons = nombre_de_bonbons - 1\n",
    "    print(\"Miam !\")\n",
    "    print(\"Il y a encore\", nombre_de_bonbons, \"bonbons restants dans mon sachet !\")\n",
    "\n",
    "print(\"C'est fini ! Le nombre de bonbons restants est tombé à\", nombre_de_bonbons, \"!\")\n",
    "    "
   ]
  },
  {
   "cell_type": "markdown",
   "metadata": {},
   "source": [
    "### Attention aux boucles infinies !\n",
    "\n",
    "Quand on programme il arrive parfois que l'on se trompe dans les instructions et/ou que la condition n'est jamais remplie, il se passe alors ce qu'on appelle une boucle infinie. Dans ce cas là l'ordinateur va continuer à exécuter l'instruction jusqu'à ce qu'on le \"force\" manuellement à l'arrêter ou qu'un évènment extérieur intervient (coupure de courant, erreur de mémoire, bug du programme...). Par exemple si j'écris :\n",
    "\n",
    "```python\n",
    "while 1 != 2:\n",
    "    print(\"Zut, une boucle infinie !!!!\")\n",
    "```\n",
    "\n",
    "Comme 1 ne sera jamais égal à 2, si on exécutait cette boucle, cela afficherait cette phrase jusqu'à... l'infini. Si cela arrive, on peut cliquer sur l'icône du carré \"STOP\" (\"Interrupt the Kernel\") en haut du notebook. Ou bien utiliser le raccourci :\n",
    "\n",
    "**ESC + i i** (touche échap puis appuyer deux fois rapidement sur la touche \"i\" pour interrupt)\n",
    "\n",
    "Voici un exemple de boucle infini : lancez-la puis coupez le kernel en utilisant le raccourci clavier.\n",
    "**Attention**, pour éviter de potentiels problèmes, par défaut cette cellule est en mode \"raw\" et ne peut pas être exécutée. Changez son type en la rendant active (le curseur d'édition clignote dans la cellule) puis en choississant dans le menu déroulant du haut du notebook \"Code\" à la place de \"Raw\". Vous pouvez aussi utiliser le raccourci clavier **ESC + Y**\n",
    "\n",
    "**REMARQUES**:\n",
    "\n",
    "- Ici on utilise la librairie \"time\" que l'on a importé grâce à la ligne ``import time``. Les librairies permettent d'utiliser des fonctions spécifiques. Ici la librairie \"time\" nous permet de mettre en pause Python pour une durée déterminée (3 secondes dans le cas présent). Nous verrons les librairies en détails plus tard.\n",
    "- Vous remarquerez l'utilisation de la forme ``i += 1``, c'est exactement la meême chose que si l'on avait écrit ``i = i + 1``, mais c'est plus concis.\n",
    "- Par convention on note souvent la variable qui permet de compter un nombre de passage dans une boucle \"i\" ou \"count\"."
   ]
  },
  {
   "cell_type": "raw",
   "metadata": {},
   "source": [
    "import time\n",
    "\n",
    "i = 0\n",
    "\n",
    "while 1 != 2:\n",
    "    i += 1\n",
    "    print(\"Boucle infinie passage N°\", i)\n",
    "    time.sleep(3)"
   ]
  },
  {
   "cell_type": "markdown",
   "metadata": {},
   "source": [
    "## Exercice (facile)\n",
    "\n",
    "Ecrivez un programme qui prend en entrée un nombre, puis qui enlève 7 à ce nombre jusqu'à ce qu'il soit égal ou inférieur à 0. Affichez le nombre d'itérations (de passage) qu'il a fallu pour que le nombre soit négatif."
   ]
  },
  {
   "cell_type": "markdown",
   "metadata": {},
   "source": [
    "## Exercice (moyen)\n",
    "\n",
    "Sachant qu'une feuille de papier moyenne mesure 0,11mm d'épaisseur (soit 0,00011m). Combien de fois faut-il la plier pour qu'elle atteigne la hauteur de la tour Eiffel (324m) ? Et pour atteindre la Lune (distance moyenne de 384 402 000m) ?\n",
    "\n",
    "**ASTUCES**:\n",
    "\n",
    "- Il suffit de 6 lignes de codes.\n",
    "- Plier une feuille revient à doubler sa taille à chaque pliage.\n",
    "- Il vous faudra créer deux variables en entrée. Une pour la distance à atteindre, et l'autre pour compter le nombre de pliages."
   ]
  },
  {
   "cell_type": "code",
   "execution_count": 20,
   "metadata": {},
   "outputs": [
    {
     "name": "stdout",
     "output_type": "stream",
     "text": [
      "42\n"
     ]
    }
   ],
   "source": [
    "#Exo de la tour Eiffel/ lune:\n",
    "    \n",
    "size = 0.00011\n",
    "count = 0\n",
    "while size <= 384402000:\n",
    "    size = size*2\n",
    "    count += 1\n",
    "print(count)"
   ]
  },
  {
   "cell_type": "code",
   "execution_count": null,
   "metadata": {},
   "outputs": [],
   "source": []
  }
 ],
 "metadata": {
  "kernelspec": {
   "display_name": "Python 3",
   "language": "python",
   "name": "python3"
  },
  "language_info": {
   "codemirror_mode": {
    "name": "ipython",
    "version": 3
   },
   "file_extension": ".py",
   "mimetype": "text/x-python",
   "name": "python",
   "nbconvert_exporter": "python",
   "pygments_lexer": "ipython3",
   "version": "3.7.3"
  }
 },
 "nbformat": 4,
 "nbformat_minor": 4
}
