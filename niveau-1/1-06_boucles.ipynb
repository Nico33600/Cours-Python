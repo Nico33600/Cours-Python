{
 "cells": [
  {
   "cell_type": "markdown",
   "metadata": {},
   "source": [
    "LES BOUCLES"
   ]
  },
  {
   "cell_type": "markdown",
   "metadata": {},
   "source": [
    "# Les boucles conditionnelles\n",
    "\n",
    "Comme nous l'avons vu dans l'introduction, les ordinateurs sont très performants lorsqu'il s'agit d'effectuer des actions répétitives. En programmation nous disposons de structures qui permettent de réaliser des **\"boucles\"** (*loops*), c'est-à-dire de répéter la ou les mêmes instructions autant de fois que nous le voulons. Celles-ci sont très répandues à travers tous les langages de programmation et constituent le coeur d'un grand nombre de logiciels."
   ]
  },
  {
   "cell_type": "markdown",
   "metadata": {},
   "source": [
    "## La boucle ``while``\n",
    "\n",
    "Cette instruction, qui signifie \"tant que\", permet d'exécuter un bloc d'opérations tant qu'une condition est vérifiée.\n",
    "\n",
    "Imaginons que nous disposons d'un stock fini de bonbons dans un sachet (ce qui malheureusement est toujours le cas) et que nous les mangeons un par un. Une boucle ``while`` fonctionnerait ainsi :\n",
    "\n",
    "Exemple :"
   ]
  },
  {
   "cell_type": "code",
   "execution_count": null,
   "metadata": {},
   "outputs": [],
   "source": [
    "nombre_de_bonbons = 5\n",
    "\n",
    "print(f\"Je dispose de {nombre_de_bonbons} bonbon(s) dans mon sachet !\")\n",
    "\n",
    "while nombre_de_bonbons > 0:\n",
    "    print(\"Miam ! :)\")\n",
    "    nombre_de_bonbons = nombre_de_bonbons - 1\n",
    "    print(f\"Il y a encore {nombre_de_bonbons} bonbon(s) restant(s) dans mon sachet !\")\n",
    "\n",
    "print(f\"C'est fini ! Le nombre de bonbons restants est tombé à {nombre_de_bonbons} ! :(\")"
   ]
  },
  {
   "cell_type": "markdown",
   "metadata": {},
   "source": [
    "Dans l'exemple ci-dessus, on regarde si il reste encore des bonbons dans le sachet, si oui alors on en mange un, ce qui fait décroître le stock d'un. A chaque fois que le bloc d'instruction est fini, la condition est de nouveau vérifiée. Quand le stock est égal à 0, la boucle s'arrête.\n",
    "\n",
    "D'un point de vue plus mathématique cette même fonction pourrait s'écrire ainsi :"
   ]
  },
  {
   "cell_type": "code",
   "execution_count": null,
   "metadata": {},
   "outputs": [],
   "source": [
    "x = 5\n",
    "\n",
    "while x > 0:\n",
    "    print(f\"x vaut {x}\")\n",
    "    x = x - 1\n",
    "print(f\"Fini ! x vaut {x}\")"
   ]
  },
  {
   "cell_type": "markdown",
   "metadata": {},
   "source": [
    "## Attention aux boucles infinies !\n",
    "\n",
    "Quand on programme il arrive parfois que l'on se trompe dans les instructions et/ou que la condition n'est jamais remplie, il se passe alors ce qu'on appelle une boucle infinie. Dans ce cas là l'ordinateur va continuer à exécuter l'instruction jusqu'à ce qu'on le \"force\" manuellement à l'arrêter ou qu'un évènement extérieur intervient (coupure de courant, erreur de mémoire, bug du programme...). Par exemple si j'écris :\n",
    "\n",
    "```python\n",
    "while 1 != 2:\n",
    "    print(\"Zut, une boucle infinie !!!!\")\n",
    "```\n",
    "\n",
    "Comme 1 ne sera jamais égal à 2, si on exécutait cette boucle, cela afficherait cette phrase jusqu'à... l'infini. Si cela arrive, on peut cliquer sur l'icône du carré \"STOP\" (_\"Interrupt the Kernel\"_) en haut du notebook. Ou bien utiliser le raccourci :\n",
    "\n",
    "**ESC + i i** (touche échap puis appuyer deux fois rapidement sur la touche \"i\", pour _\"interrupt\"_)\n",
    "\n",
    "Jupyter Lab va vous afficher un message d'erreur de type \"*KeyboardInterrupt*\", c'est tout à fait normal.\n",
    "\n",
    "## Un exemple de boucle infini :\n",
    "**lancez-la puis coupez le kernel en utilisant le raccourci clavier.**\n",
    "\n",
    "**Attention** : Pour éviter de potentiels problèmes cette cellule est en mode \"*raw*\" (texte brut) et ne peut pas être exécutée. Changez son type en vous positionnant dessus comme si vous alliez l'éditer (le curseur d'édition clignote quelque part dans la cellule) puis en utilisant le raccourci clavier **ESC + y**. (Vous pouvez aussi choisir dans le menu déroulant du haut du notebook \"Code\" à la place de \"Raw\", cela revient au même mais c'est moins rapide). \n",
    "\n",
    "**REMARQUES**:\n",
    "\n",
    "- Ici on utilise la librairie \"time\" que l'on a importé grâce à la ligne ``import time``. Les librairies permettent d'utiliser des fonctions spécifiques. Ici la librairie \"time\" nous permet d'utiliser la fonction ``sleep()`` qui a la capacité de mettre en pause Python pour une durée déterminée (3 secondes dans le cas présent). Nous verrons les librairies en détails plus tard.\n",
    "- Par convention on note souvent la variable qui permet de compter un nombre de passage dans une boucle \"i\" ou \"count\"."
   ]
  },
  {
   "cell_type": "raw",
   "metadata": {},
   "source": [
    "import time\n",
    "\n",
    "i = 0\n",
    "\n",
    "while 1 != 2:\n",
    "    i = i + 1\n",
    "    print(f\"Boucle infinie passage N°{i}\")\n",
    "    time.sleep(3)"
   ]
  },
  {
   "cell_type": "markdown",
   "metadata": {},
   "source": [
    "## Exercice (facile)\n",
    "\n",
    "Sur le marché, vous rencontrez votre petit cousin, Théodore, toujours prompt à vous proposer des défis mathématiques.\n",
    "Celui-ci souhaite afficher en Python la table de multiplication de 9. L'on pourrait bien sûr écrire une série de 10 ``print()`` comme ceci :\n",
    "\n",
    "```python\n",
    "print(\"9 fois 0 = 0\")\n",
    "print(\"9 fois 1 = 9\")\n",
    "print(\"9 fois 2 = 18\")\n",
    "print(\"...etc...\")\n",
    "```\n",
    "Mais ce serait fastidieux. Montrez-lui la puissance des boucles en écrivant un programme qui affiche automatiquement la table de multiplication de 9. Faites-en sorte que votre programme puisse être facilement modifiable pour afficher la table de multiplication d'un autre nombre.\n",
    "\n",
    "**ASTUCES**:\n",
    "\n",
    "- Vous l'avez compris, il faudra utiliser une boucle ``while``.\n",
    "- On peut très bien effectuer des opérations dans les arguments de ``print()`` ou dans les accolades es f-strings. Ex: ``print(3*4)`` ou ``print(f\"le résultat est : {3*4}\")``\n",
    "- N'oubliez pas d'incrémenter votre compteur, sinon vous créerez une boucle infinie !"
   ]
  },
  {
   "cell_type": "code",
   "execution_count": null,
   "metadata": {},
   "outputs": [],
   "source": [
    "# Tapez votre code ici:"
   ]
  },
  {
   "cell_type": "markdown",
   "metadata": {},
   "source": [
    "## Exercice (moyen)\n",
    "\n",
    "Théodore vous soumet un nouveau défi :\n",
    "Sachant qu'une feuille de papier moyenne mesure 0,11 millimètres d'épaisseur (soit 0,00011 mètres). Combien de fois faut-il la plier pour qu'elle atteigne la hauteur de la tour Eiffel (324m) ? Et pour atteindre la Lune (distance moyenne de 384 402 000 mètres) ? Ceci est bien sûr un calcul théorique, dans la réalité il n'est guère possible de plier une feuille de papier plus de 7 fois, voire un peu plus avec [certaines techniques](http://www.le-saviez-vous.fr/2011/03/combien-de-fois-peux-t-on-reellement.html).\n",
    "\n",
    "**ASTUCES**:\n",
    "\n",
    "- Plier une feuille revient à doubler sa taille à chaque pliage.\n",
    "- Il vous faudra créer deux variables en entrée : la taille de la feuille, et le nombre de pliages réalisés (le compteur, ou *count*).\n",
    "- Il suffit de 6 lignes de codes."
   ]
  },
  {
   "cell_type": "code",
   "execution_count": null,
   "metadata": {},
   "outputs": [],
   "source": [
    "# Tapez votre code ici:"
   ]
  },
  {
   "cell_type": "markdown",
   "metadata": {},
   "source": [
    "## Exercice (difficile)\n",
    "\n",
    "Théodore vous provoque en déclarant que vous êtes incapable de trouver aussi vite que lui si un nombre est premier ou pas. Pour rappel les [nombres premiers](https://fr.wikipedia.org/wiki/Nombre_premier) sont les nombres qui ne sont seulement divisibles que par 1 et par eux-même. Prouvez-lui que vous pouvez être rapide comme la vitesse de la lumière et écrivez un programme qui prend en entrée un nombre égal ou supérieur à 2 et vous affiche en sortie si ce nombre est premier ou si il ne l'est pas.\n",
    "\n",
    "**ASTUCES**:\n",
    "\n",
    "- Pour déterminer si un nombre est premier ou pas, vous devrez utiliser l'opération \"modulo\", qui retourne le reste de la division euclidienne. Si à la suite d'une division euclidienne le reste est égal à zéro et que le diviseur utilisé n'est ni 1 ni lui-même alors ce nombre n'est pas premier. En Python le modulo s'écrit ``%``. Si l'on veut savoir si 5 est un nombre premier, on divise 5 par tous les nombres compris entre 2 et 4 (puisqu'on exclut 1 et lui-même), c'est-à-dire 2, 3 et 4.\n",
    "\n",
    "```python\n",
    "5 % 2 = 1\n",
    "5 % 3 = 2\n",
    "5 % 4 = 1\n",
    "```\n",
    "\n",
    "Aucune de ces opérations ne retourne 0 donc 5 est un nombre premier. Testons maintenant avec avec 6:\n",
    "\n",
    "```python\n",
    "6 % 2 = 0\n",
    "```\n",
    "\n",
    "Dès la première opération on voit que 6 n'est pas un nombre premier puisqu'on peut le diviser par 2. Inutile donc de procéder à d'autres calculs.\n",
    "\n",
    "- Pour être plus efficace, partez du principe que le nombre est premier, ce qui peut être matérialisé par l'initialisation d'une variable booléenne ``is_prime = True`` par exemple. Dès que l'on trouve un diviseur autre que 1 et lui-même, démontrant ainsi que ce nombre n'est pas premier, on modifie cette variable booléenne en conséquence et on lui assigne ``False``.\n",
    "- Votre boucle ``while`` testera donc tous les nombres compris entre 2 et le nombre cible. Dès que l'on a démontré qu'il n'était pas un nombre premier, il faut sortir de la boucle, inutile de réaliser des calculs qui ne sont pas nécessaires.\n",
    "- Vous n'avez pas le droit d'utiliser des instructions comme ``break`` ou ``continue`` (que nous n'avons pas encore vu par ailleurs). Testez plutôt la valeur de votre ``bool`` \"is_prime\" dans la condition du ``while`` pour savoir si la boucle doit continuée à être exécutée ou pas.\n",
    "- A la fin du ``while`` écrivez un ``if``. Si \"is_prime\" est vrai, dites à l'utilisateur que son nombre est un nombre premier. Sinon dites-lui que ce n'en est pas un.\n",
    "- Vous aurez besoin de 3 variables et 6 lignes de code (et 2 lignes de plus pour afficher le résultat, donc 8 lignes au total)."
   ]
  },
  {
   "cell_type": "code",
   "execution_count": null,
   "metadata": {},
   "outputs": [],
   "source": [
    "# Tapez votre code ici:"
   ]
  },
  {
   "cell_type": "markdown",
   "metadata": {},
   "source": [
    "# Génération de nombres aléatoires"
   ]
  },
  {
   "cell_type": "markdown",
   "metadata": {},
   "source": [
    "## Aperçu des librairies\n",
    "\n",
    "Les librairies sont des sortes de bibliothèques qui permettent à Python \"d'apprendre\" des fonctions supplémentaires. Pour importer une librairie, il suffit d'écrire au début du code :\n",
    "\n",
    "```python\n",
    "import le_nom_de_ma_librairie\n",
    "```\n",
    "\n",
    "Puis d'indiquer que l'on veut utiliser la fonction de cette librairie, et pas d'une autre :\n",
    "\n",
    "```python\n",
    "le_nom_de_ma_librairie.le_nom_de_ma_fonction()\n",
    "\n",
    "```"
   ]
  },
  {
   "cell_type": "markdown",
   "metadata": {},
   "source": [
    "## La fonction ``randint()``\n",
    "\n",
    "Ici pour générer un nombre aléatoire nous allons utiliser la librairie \"random\" qui contient une fonction fort utile : ``randint()``.\n",
    "\n",
    "Celle-ci prend deux paramètres : la borne inférieure (comprise) et la borne supérieure (comprise également).\n",
    "\n",
    "Exemple avec un nombre aléatoire compris entre 0 et 10. Remarquez qu'à chaque fois que nous relançons la cellule il est très probable que le nombre affiché soit différent. C'est normal puisque celui-ci est généré aléatoirement."
   ]
  },
  {
   "cell_type": "code",
   "execution_count": null,
   "metadata": {},
   "outputs": [],
   "source": [
    "import random\n",
    "\n",
    "random.randint(0,10)"
   ]
  },
  {
   "cell_type": "markdown",
   "metadata": {},
   "source": [
    "## Exercice (moyen)\n",
    "\n",
    "Théodore vous propose un jeu amusant (pour lui en tout cas) : il pense à un nombre compris entre 1 et 10 et vous devez deviner ce nombre. À chaque fois que vous vous trompez il vous indique si le nombre que vous avez proposé est plus grand ou plus petit que le nombre à deviner.\n",
    "\n",
    "**ASTUCES**:\n",
    "\n",
    "- Vous devez utiliser ``input()`` pour que le joueur saisisse un nombre.\n",
    "- Si le joueur ne trouve pas le nombre du premier coup, il faudra lui redemander de saisir un nouveau nombre (et donc utiliser encore la fonction ``input()``).\n",
    "- N'oubliez pas de mettre au bon format la variable entrée.\n",
    "- Tant que le jeu n'est pas fini, il faut Vous n'avez besoin que d'une seule boucle ``while``."
   ]
  },
  {
   "cell_type": "code",
   "execution_count": null,
   "metadata": {},
   "outputs": [],
   "source": [
    "# Tapez votre code ici:"
   ]
  },
  {
   "cell_type": "markdown",
   "metadata": {},
   "source": [
    "# Les boucles sur des itérables\n",
    "\n",
    "Il existe différentes manières de faire des boucles. On peut vouloir exécuter un bloc tant qu'une condition n'est pas vérifiée, comme c'est le cas dans le jeu de Théodore consistant à deviner un nombre. Et dans ce cas la boucle ``while`` est tout à fait adaptée.\n",
    "\n",
    "Mais il y a beaucoup de cas où l'on veut parcourir un nombre fini d'éléments (par exemple une plage de nombre qu'on connaît par avance). Dans ce cas précis on peut utiliser une boucle ``for``.\n",
    "\n",
    "L'instruction ``for`` est simplement une autre manière d'effectuer des boucles dans Python."
   ]
  },
  {
   "cell_type": "markdown",
   "metadata": {},
   "source": [
    "## La boucle ``for``\n",
    "\n",
    "La boucle ``for`` parcourt les différents éléments d'un objet. On l'utilise le plus souvent avec le mot ``in`` qui signifie tout simplement \"dans\". Par exemple :\n",
    "\n",
    "En langage humain:\n",
    "```\n",
    "Pour chaque page dans ce livre:\n",
    "    Afficher la page.\n",
    "```\n",
    "\n",
    "En formalisation python:\n",
    "\n",
    "```python\n",
    "for page in livre:\n",
    "    print(page)\n",
    "```\n",
    "\n",
    "\n",
    "Examinons ce qu'il se passe si on utilise la boucle ``for`` sur une string.\n",
    "\n"
   ]
  },
  {
   "cell_type": "code",
   "execution_count": null,
   "metadata": {},
   "outputs": [],
   "source": [
    "for el in \"Bonjour !\":\n",
    "    print(el)"
   ]
  },
  {
   "cell_type": "markdown",
   "metadata": {},
   "source": [
    "Si une string s'appelle aussi **\"chaîne de caratère\"** c'est parce que Python conçoit une string comme une succession de différents caractères (on dit aussi que les caractères sont concaténés, c'est-à-dire collés les uns aux autres). Chaque \"maillon\" de notre chaîne est donc un caractère différent.\n",
    "\n",
    "Vous remarquerez que l'espace \" \" est aussi un caractère.\n",
    "\n",
    "On appelle les objets composés de différents éléments des \"itérables\", ce qui veut dire qu'on peut \"itérer\" dessus, qui est un mot plus précis pour dire \"parcourir\". Les objets itérables possèdent une succession d'éléments que l'on peut appeler les uns après les autres.\n",
    "\n",
    "**REMARQUE**:\n",
    "\n",
    "- Notez comme Python comprend parfaitement ce que l'on veut faire : le mot ``el`` est une variable comme une autre. Mais Python lui assigne à chaque boucle effectuée une nouvelle valeur."
   ]
  },
  {
   "cell_type": "markdown",
   "metadata": {},
   "source": [
    "## Exercice (facile)\n",
    "\n",
    "Au marché vous rencontez votre ancien professeur de français, Mme Michu. Celle-ci vous demande si vous connaissez le mot le plus long de la langue française et quel est son nombre de caractères ? Vous savez très bien qu'il s'agit du mot \"anticonstitutionnellement\", mais vous avez oublié sa longueur. Sans plus réfléchir, vous décidez d'utiliser Python pour écrire un programme qui calcule la longueur de ce mot."
   ]
  },
  {
   "cell_type": "code",
   "execution_count": null,
   "metadata": {},
   "outputs": [],
   "source": [
    "# Tapez votre code ici:"
   ]
  },
  {
   "cell_type": "markdown",
   "metadata": {},
   "source": [
    "## Créer une plage de nombres avec ``range()``\n",
    "\n",
    "``range()`` est une fonction très utile, elle permet de créer une \"plage\", c'est-à-dire une étendue de nombres, de la manière dont on le souhaite. Par défaut la fonction part de 0:"
   ]
  },
  {
   "cell_type": "code",
   "execution_count": null,
   "metadata": {},
   "outputs": [],
   "source": [
    "for nombre in range(5):\n",
    "    print(nombre)"
   ]
  },
  {
   "cell_type": "markdown",
   "metadata": {},
   "source": [
    "Vous remarquez que comme Python commence à compter à partir de 0. Un ``range(5)`` s'arrête à 4 ! Mais il y a pourtant bien 5 éléments différents.\n",
    "\n",
    "\n",
    "\n",
    "Si l'on précise un seul nombre à ``range()``, comme dans l'exemple vu plus haut, il considèrera que ce nombre est celui auquel la plage doit s'arrêter. Si on lui en donne deux, il considèrera que le premier nombre est le point de départ et le second le point d'arrivée. Par exemple :"
   ]
  },
  {
   "cell_type": "code",
   "execution_count": null,
   "metadata": {},
   "outputs": [],
   "source": [
    "for nombre in range(2,5):\n",
    "    print(nombre)"
   ]
  },
  {
   "cell_type": "markdown",
   "metadata": {},
   "source": [
    "## Exercice (facile)\n",
    "\n",
    "En utilisant une boucle ``for`` ainsi que ``range()``, affichez le résultat suivant:\n",
    "    \n",
    "```python\n",
    "*\n",
    "**\n",
    "***\n",
    "****\n",
    "*****\n",
    "******\n",
    "*******\n",
    "********\n",
    "```\n",
    "\n",
    "**ASTUCE**:\n",
    "\n",
    "- Réalisable en seulement deux lignes de code (voire une seule).\n",
    "- Il y a 8 étoiles dans la dernière ligne.\n",
    "- Le * est le symbole de la multiplication, et \"*\" est le caractère étoile."
   ]
  },
  {
   "cell_type": "code",
   "execution_count": null,
   "metadata": {},
   "outputs": [],
   "source": [
    "# Tapez votre code ici:"
   ]
  },
  {
   "cell_type": "markdown",
   "metadata": {},
   "source": [
    "## Exercice (difficile)\n",
    "\n",
    "Théodore et ses amis du club de maths viennent vous proposer un **défi ultime**. Sauriez-vous élaborer un programme qui permette non pas de vérifier si un nombre est premier ou pas, mais de trouver **TOUS** les nombres premiers présents sur une plage de nombre donnée.\n",
    "Vous devez afficher tous les nombres premiers trouvés, ainsi que le nombre total de nombres premiers trouvés.\n",
    "\n",
    "Pour vérifier les réponses de votre programme sachez qu'il existe:\n",
    "- 25 nombre premiers entre 2 et 100.\n",
    "- 21 nombre premiers entre 100 et 200.\n",
    "\n",
    "Une liste plus précise est disponible [sur ce site là](https://www.nombres-premiers.fr/liste.html).\n",
    "\n",
    "**ASTUCES**\n",
    "\n",
    "- La fonction ``range()`` vous sera très utile.\n",
    "- Vous devrez combiner l'usage des ``for`` (sur la plage de nombres recherché) et des ``while`` (pour tester tous les nombres compris entre 1 et le nombre en cours de vérification)."
   ]
  },
  {
   "cell_type": "code",
   "execution_count": null,
   "metadata": {},
   "outputs": [],
   "source": [
    "# Tapez votre code ici:"
   ]
  },
  {
   "cell_type": "markdown",
   "metadata": {},
   "source": [
    "# Pour aller plus loin"
   ]
  },
  {
   "cell_type": "markdown",
   "metadata": {},
   "source": [
    "## Le paramètre \"step\" de la fonction range"
   ]
  },
  {
   "cell_type": "markdown",
   "metadata": {},
   "source": [
    "Si on donne 3 arguments à la fonction ``range()``, il considèrera le dernier nombre comme le \"pas\", aussi appelé l'incrément ou le \"*step*\". Par défaut celui-ci est de 1. C'est pour cela que dans les deux derniers exemples de la partie sur ``range()`` les nombres se suivaient tous.\n",
    "\n",
    "La syntaxe complète de range est donc celle-ci :\n",
    "```python\n",
    "\n",
    "range(start, stop, step)\n",
    "\n",
    "```\n",
    "Mais imaginons que nous ne voulons afficher que les nombres pairs de 4 jusqu'à 16. Exemple :"
   ]
  },
  {
   "cell_type": "code",
   "execution_count": null,
   "metadata": {},
   "outputs": [],
   "source": [
    "for nombre in range(4,16,2):\n",
    "    print(nombre)"
   ]
  },
  {
   "cell_type": "markdown",
   "metadata": {},
   "source": [
    "Encore une fois, vous constatez que la borne supérieure, le 16, ne s'affiche pas. En revanche si on change le 16 par un 17, on a :"
   ]
  },
  {
   "cell_type": "code",
   "execution_count": null,
   "metadata": {},
   "outputs": [],
   "source": [
    "for nombre in range(4,17,2):\n",
    "    print(nombre)"
   ]
  },
  {
   "cell_type": "markdown",
   "metadata": {},
   "source": [
    "## Exercice (moyen)\n",
    "\n",
    "En utilisant une variable nommée \"etoile\" valant ``\"*\"``, ainsi qu'une boucle ``for`` et ``range()``, afficher le résultat suivant:\n",
    "    \n",
    "```python\n",
    "***\n",
    "******\n",
    "*********\n",
    "************\n",
    "***************\n",
    "******************\n",
    "*********************\n",
    "\n",
    "```\n",
    "\n",
    "**ASTUCE**:\n",
    "\n",
    "- Cette fois utilisez le paramètre \"step\" !\n",
    "- Les étoiles sont désormais empilées trois par trois."
   ]
  },
  {
   "cell_type": "code",
   "execution_count": null,
   "metadata": {},
   "outputs": [],
   "source": [
    "etoile = \"*\"\n",
    "\n",
    "# Tapez votre code ici :"
   ]
  }
 ],
 "metadata": {
  "kernelspec": {
   "display_name": "Python 3",
   "language": "python",
   "name": "python3"
  },
  "language_info": {
   "codemirror_mode": {
    "name": "ipython",
    "version": 3
   },
   "file_extension": ".py",
   "mimetype": "text/x-python",
   "name": "python",
   "nbconvert_exporter": "python",
   "pygments_lexer": "ipython3",
   "version": "3.8.5"
  }
 },
 "nbformat": 4,
 "nbformat_minor": 4
}
