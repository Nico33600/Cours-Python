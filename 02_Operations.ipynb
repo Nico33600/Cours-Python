{
 "cells": [
  {
   "cell_type": "markdown",
   "metadata": {
    "tags": []
   },
   "source": [
    "# OPERATIONS"
   ]
  },
  {
   "cell_type": "markdown",
   "metadata": {
    "tags": [
     "fr"
    ]
   },
   "source": [
    "# Arithmétique basique"
   ]
  },
  {
   "cell_type": "markdown",
   "metadata": {
    "tags": [
     "fr"
    ]
   },
   "source": [
    "### Quelques raccourcis communément utilisés dans Jupyter\n",
    "\n",
    "- Maj + entrée -> Exécuter le contenu d'une cellule\n",
    "\n",
    "On rappelle que la touche échap (souvent désignée par \"esc\" pour \"escape\") permet d'entrer en mode \"command\".\n",
    "\n",
    "- Esc + a -> Insérer une ligne au-dessus\n",
    "- Esc + b -> Insérer une ligne au-dessous\n",
    "- Esc + m -> Passer la cellule en format \"markdown\" (pour afficher du texte)\n",
    "- Esc + y -> Passer la cellule en mode \"code\" (qui peut donc être utilisé)\n",
    "- Esc + r -> Passer la cellule en mode \"raw\" (qui n'est ni du code, ni du markdown)\n",
    "- Esc + d d -> Effacer une cellule\n",
    "\n",
    "On pourra trouver une liste plus détaillée en [suivant ce lien](https://opensharing.fr/scripting-python-jupyter-shortcuts)."
   ]
  },
  {
   "cell_type": "markdown",
   "metadata": {
    "tags": [
     "fr"
    ]
   },
   "source": [
    "### Afficher un message à l'aide de la fonction Print\n",
    "\n",
    "La fonction print permet d'afficher un message. La syntaxe est simplissime : il suffit de taper ```print()```, et de lui donner comme argument le texte à afficher en le plaçant entre guillemets. Par exemple :"
   ]
  },
  {
   "cell_type": "code",
   "execution_count": null,
   "metadata": {
    "tags": []
   },
   "outputs": [],
   "source": [
    "print(\"Hello World!\")"
   ]
  },
  {
   "cell_type": "markdown",
   "metadata": {
    "tags": [
     "fr"
    ]
   },
   "source": [
    "Vous savez désormais ce qu'est une fonction en programmation : Cela ressemble beaucoup à une fonction en mathématiques. C'est-à-dire que c'est un processus qui, dans la plupart des cas, prend des paramètres en entrée et retourne (ou renvoie) un résultat."
   ]
  },
  {
   "cell_type": "markdown",
   "metadata": {
    "tags": [
     "fr"
    ]
   },
   "source": [
    "## Formatage du langage\n",
    "\n",
    "- Python est un langage qui suit une structure stricte : chaque instruction doit être est écrite sur une ligne différente.\n",
    "\n",
    "- Des commentaires peuvent être rajoutés en utilisant le dièse avant de l'écrire. Les commentaires sont utiles pour expliquer ou structurer le code. Concrètement pour python le \"#\" lui indique qu'il doit ignorer tout ce qui est écrit après. Exemple:"
   ]
  },
  {
   "cell_type": "code",
   "execution_count": null,
   "metadata": {
    "tags": [
     "fr"
    ]
   },
   "outputs": [],
   "source": [
    "# Je peux écrire un commentaire ici !\n",
    "\n",
    "print(\"Hello World!\") # Ou bien ici !"
   ]
  },
  {
   "cell_type": "markdown",
   "metadata": {
    "tags": [
     "fr"
    ]
   },
   "source": [
    "## Opérations basiques\n",
    "\n",
    "Python, a minima, est une calculatrice géante. Les opérateurs de bases s'écrivent ainsi :\n",
    "\n",
    "- Addition : +\n",
    "- Soustraction: -\n",
    "- Multiplication: *\n",
    "- Division : /\n",
    "\n",
    "Pour rajouter des décimales, on utilise le \".\" comme séparateur. Depuis Python 3.6, on peut aussi utiliser le tiret bas \"_\" (*underscore*), comme séparateur pour les milliers.  "
   ]
  },
  {
   "cell_type": "markdown",
   "metadata": {
    "tags": []
   },
   "source": [
    "## Exemples"
   ]
  },
  {
   "cell_type": "code",
   "execution_count": null,
   "metadata": {
    "tags": []
   },
   "outputs": [],
   "source": [
    "1 + 1"
   ]
  },
  {
   "cell_type": "code",
   "execution_count": null,
   "metadata": {
    "tags": []
   },
   "outputs": [],
   "source": [
    "9.3 + 0.7"
   ]
  },
  {
   "cell_type": "code",
   "execution_count": null,
   "metadata": {
    "tags": []
   },
   "outputs": [],
   "source": [
    "12 - 38"
   ]
  },
  {
   "cell_type": "code",
   "execution_count": null,
   "metadata": {},
   "outputs": [],
   "source": [
    "57.678 * 897.789"
   ]
  },
  {
   "cell_type": "code",
   "execution_count": null,
   "metadata": {
    "tags": []
   },
   "outputs": [],
   "source": [
    "525346.456 / 35263.156"
   ]
  },
  {
   "cell_type": "code",
   "execution_count": null,
   "metadata": {
    "tags": []
   },
   "outputs": [],
   "source": [
    "1000000 * 35000"
   ]
  },
  {
   "cell_type": "code",
   "execution_count": null,
   "metadata": {
    "tags": []
   },
   "outputs": [],
   "source": [
    "1_000_000 * 35_000"
   ]
  },
  {
   "cell_type": "markdown",
   "metadata": {
    "tags": [
     "fr"
    ]
   },
   "source": [
    "Notez qu'en Python les espaces entre les nombres et les opérateurs sont facultatifs, mais il est recommandé de les mettre afin de respecter les conventions d'écriture (PEP8). Les parenthèses sont utilisées de la même manière qu'en mathématiques : ce seront d'abord les expressions entre les parenthèses qui seront calculées, puis les [règles de priorité](https://fr.wikipedia.org/wiki/Ordre_des_op%C3%A9rations) s'appliquent normalement."
   ]
  },
  {
   "cell_type": "markdown",
   "metadata": {
    "tags": [
     "fr"
    ]
   },
   "source": [
    "## Exercice (facile)\n",
    "\n",
    "Vous allez faire vos courses chez le maraîcher bio du coin. À partir de cette liste de course, calculez le prix que vous devrez payer pour chaque type de légumes.\n",
    "\n",
    "\n",
    "| Légume           | Prix           | Quantité        | Remarque       |\n",
    "|------------------|----------------|-----------------|----------------|\n",
    "| Navets           | 1,94€/kg       | 751g            |                |\n",
    "| Botte d'oignons  | 75cts l'unité  | 3 bottes        |                |\n",
    "| Courge Butternut | 5,17€ la pièce | Une demi-courge |                |\n",
    "| Epinards         | 3,23€ le kilo  | 1,335 kg        | En promo, -25% |"
   ]
  },
  {
   "cell_type": "code",
   "execution_count": null,
   "metadata": {},
   "outputs": [],
   "source": [
    "# Code here and on the next cells!\n"
   ]
  },
  {
   "cell_type": "code",
   "execution_count": null,
   "metadata": {},
   "outputs": [],
   "source": []
  },
  {
   "cell_type": "code",
   "execution_count": null,
   "metadata": {},
   "outputs": [],
   "source": []
  },
  {
   "cell_type": "code",
   "execution_count": null,
   "metadata": {},
   "outputs": [],
   "source": []
  },
  {
   "cell_type": "markdown",
   "metadata": {
    "tags": [
     "fr"
    ]
   },
   "source": [
    "# Arithmétique avancé\n",
    "\n",
    "- Les puissances : **\n",
    "- La division euclidienne : //\n",
    "- Le modulo (reste de la division euclidienne): %"
   ]
  },
  {
   "cell_type": "code",
   "execution_count": null,
   "metadata": {
    "tags": []
   },
   "outputs": [],
   "source": [
    "14 ** 5"
   ]
  },
  {
   "cell_type": "code",
   "execution_count": null,
   "metadata": {
    "tags": []
   },
   "outputs": [],
   "source": [
    "14 // 5"
   ]
  },
  {
   "cell_type": "code",
   "execution_count": null,
   "metadata": {
    "tags": []
   },
   "outputs": [],
   "source": [
    "14 % 5"
   ]
  },
  {
   "cell_type": "markdown",
   "metadata": {
    "tags": [
     "fr"
    ]
   },
   "source": [
    "## Points techniques\n",
    "\n",
    "### Le *kernel*\n",
    "\n",
    "Qui exécute toutes ces opérations ? C'est un programme particulier de votre ordinateur qui tourne en fond grâce à Jupyter Lab et qui s'appelle le \"*kernel*\" (noyau en français). Quand on exécute du code Python, Jupyter Lab envoie ce code au *kernel* qui l'exécute dans une version donnée de Python (ou d'un autre langage si vous le souhaitez) et qui renvoie le travail fini à Jupyter Lab afin qu'il affiche les résultats.\n",
    "\n",
    "Il existe un *kernel* pour chaque notebook ouvert. Il arrive que ceux-ci plantent. Pour vérifier son statut regardez en haut à droite du notebook. Vous verrez indiqué \"Python 3\" ainsi qu'un cercle blanc. Si celui-ci est blanc, c'est que le kernel n'est pas en train de travailler. Si il est noir c'est qu'il est en cours d'exécution.\n",
    "\n",
    "Si jamais le cercle reste noir et que Jupyter Lab semble ne plus répondre, utiliser le menu \"*Kernel*\" et \"*Restart kernel*\" (**ESC + deux fois 0**) ou **ESC + deux fois I** pour l'interrompre. Vous pourrez alors le relancer manuellement."
   ]
  },
  {
   "cell_type": "markdown",
   "metadata": {
    "tags": [
     "fr"
    ]
   },
   "source": [
    "### Les \"*outputs*\" (sorties).\n",
    "\n",
    "Si on veut effacer le résultat affiché, le plus simple est de faire un clic droit et de sélectionner \"*clear outputs*\". Si l'on veut effacer toutes les sorties du notebook, on peut choisir \"*clear all outputs*\"."
   ]
  }
 ],
 "metadata": {
  "kernelspec": {
   "display_name": "Python 3 (ipykernel)",
   "language": "python",
   "name": "python3"
  },
  "language_info": {
   "codemirror_mode": {
    "name": "ipython",
    "version": 3
   },
   "file_extension": ".py",
   "mimetype": "text/x-python",
   "name": "python",
   "nbconvert_exporter": "python",
   "pygments_lexer": "ipython3",
   "version": "3.10.9"
  },
  "toc-autonumbering": false,
  "toc-showcode": false,
  "toc-showmarkdowntxt": false,
  "toc-showtags": false
 },
 "nbformat": 4,
 "nbformat_minor": 4
}
