{
 "cells": [
  {
   "cell_type": "markdown",
   "metadata": {
    "tags": [
     "fr"
    ]
   },
   "source": [
    "# LISTES"
   ]
  },
  {
   "cell_type": "markdown",
   "metadata": {
    "tags": [
     "fr"
    ]
   },
   "source": [
    "## Qu'est-ce qu'une liste ?\n",
    "\n",
    "Les listes sont des objets python spéciaux qui peuvent contenir d'autres objets. On les reconnaît parce que le contenu de ces variables est encadré par des `[ ]`. Par exemple la liste suivante contient trois éléments (les nombres 1, 2 et 3):"
   ]
  },
  {
   "cell_type": "code",
   "execution_count": null,
   "metadata": {
    "tags": []
   },
   "outputs": [],
   "source": [
    "my_list = [1, 2, 3]"
   ]
  },
  {
   "cell_type": "markdown",
   "metadata": {
    "tags": [
     "fr"
    ]
   },
   "source": [
    "Une liste peut contenir des objets différents (des strings, des entiers, des variables, d'autres listes...): "
   ]
  },
  {
   "cell_type": "code",
   "execution_count": null,
   "metadata": {
    "tags": []
   },
   "outputs": [],
   "source": [
    "my_variable = 12.34\n",
    "my_list_2 = [1, 2, 3, \"banana\"]\n",
    "my_list = [\"bla bla bla\", 356, my_variable, my_list_2]"
   ]
  },
  {
   "cell_type": "markdown",
   "metadata": {
    "tags": [
     "fr"
    ]
   },
   "source": [
    "## Exercice (facile)\n",
    "\n",
    "❓ **>>>** Dans mon panier je trouve : \n",
    "\n",
    "- Des courgettes\n",
    "- Mon porte-monnaie qui contient :\n",
    "    - Un billet de 20€.\n",
    "    - L'équivalent de 0.76 centimes d'euros en monnaie.\n",
    "\n",
    "Créez une liste de ces différents objets appelée \"panier\".\n",
    "\n",
    "- Pour les courgettes, stockez-les sous forme de chaînes de caractère.\n",
    "- Pour le portefeuille, créez une nouvelle variable de type liste nommée \"portefeuille\" qui contient deux éléments : un *integer* de 20 et un *float* de 0.76."
   ]
  },
  {
   "cell_type": "code",
   "execution_count": null,
   "metadata": {},
   "outputs": [],
   "source": [
    "# Code here!\n"
   ]
  },
  {
   "cell_type": "markdown",
   "metadata": {
    "tags": [
     "fr"
    ]
   },
   "source": [
    "# Manipulation de listes\n",
    "\n",
    "## Les index\n",
    "\n",
    "Dans une liste les éléments sont répétoriés par un index. Pour Python le premier élément d'une liste correspond à l'élément 0. Cela peut sembler étrange, mais ce système de comptage a ses avantages (nous le verrons plus loin). Si vous voulez en savoir plus, vous pouvez [lire ici un post de Guido Van Rossum](http://python-history.blogspot.com/2013/10/why-python-uses-0-based-indexing.html), le créateur de Python, qui explique ce choix.\n",
    "\n",
    "| Contenu   | Index |\n",
    "|-----------|-------|\n",
    "| Élément 1 | 0     |\n",
    "| Élément 2 | 1     |\n",
    "| Élément 3 | 2     |\n",
    "| ...       | ...   |\n",
    "| Élément n | n-1   |\n",
    "\n",
    "## Manipulation à l'aide de l'index\n",
    "\n",
    "### Afficher un élément\n",
    "\n",
    "Pour accéder à un élément dans une liste il suffit d'indiquer l'index entre `[]`.\n",
    "\n",
    "Exemple :"
   ]
  },
  {
   "cell_type": "code",
   "execution_count": null,
   "metadata": {
    "tags": [
     "fr"
    ]
   },
   "outputs": [],
   "source": [
    "l = [\"Mon premier élément\", \"Mon second élément\", 16.767, \"Mon quatrième élément\", True, \"Mon sixième élément\"]\n",
    "print(l[0])"
   ]
  },
  {
   "cell_type": "markdown",
   "metadata": {
    "tags": [
     "fr"
    ]
   },
   "source": [
    "### Modifier un élément\n",
    "\n",
    "Pour remplacer un élément par un autre, on utilise la même syntaxe que si l'on voulait modifier une variable, c'est-à-dire :"
   ]
  },
  {
   "cell_type": "code",
   "execution_count": null,
   "metadata": {
    "tags": []
   },
   "outputs": [],
   "source": [
    "my_list = [1, 2, 3]\n",
    "my_list[0] = 999\n",
    "my_list"
   ]
  },
  {
   "cell_type": "markdown",
   "metadata": {
    "tags": [
     "fr"
    ]
   },
   "source": [
    "## Exercice (facile)\n",
    "\n",
    "❓ **>>>** À l'aide de la méthode ci-dessus, remplacez les fruits exotiques par des fruits locaux de votre choix. Puis affichez le contenu du panier."
   ]
  },
  {
   "cell_type": "code",
   "execution_count": null,
   "metadata": {
    "tags": [
     "fr"
    ]
   },
   "outputs": [],
   "source": [
    "panier = [\"kiwi\", \"poire\", \"pomme\", \"ananas\", \"framboise\"]\n",
    "\n",
    "# code here!\n"
   ]
  },
  {
   "cell_type": "markdown",
   "metadata": {
    "tags": [
     "fr"
    ]
   },
   "source": [
    "## Ajout d'un élément\n",
    "\n",
    "Cela se fait avec la méthode `.append()` (\"ajouter\" en anglais). Exemple :"
   ]
  },
  {
   "cell_type": "code",
   "execution_count": null,
   "metadata": {
    "tags": [
     "fr"
    ]
   },
   "outputs": [],
   "source": [
    "panier = [\"poire\", \"pomme\", \"framboise\"]\n",
    "print(f\"Fruits locaux : {panier}\")\n",
    "\n",
    "panier.append(\"raisin\")\n",
    "print(f\"Fruits locaux : {panier}\")"
   ]
  },
  {
   "cell_type": "markdown",
   "metadata": {
    "tags": [
     "fr"
    ]
   },
   "source": [
    "### Concaténation de listes"
   ]
  },
  {
   "cell_type": "code",
   "execution_count": null,
   "metadata": {
    "tags": []
   },
   "outputs": [],
   "source": [
    "nums = [1, 2, 3]\n",
    "nums = nums + [\"A\", \"B\", \"C\"]\n",
    "nums"
   ]
  },
  {
   "cell_type": "markdown",
   "metadata": {
    "tags": [
     "fr"
    ]
   },
   "source": [
    "### Liste vide"
   ]
  },
  {
   "cell_type": "code",
   "execution_count": null,
   "metadata": {},
   "outputs": [],
   "source": [
    "empty_list = []"
   ]
  },
  {
   "cell_type": "markdown",
   "metadata": {
    "editable": true,
    "slideshow": {
     "slide_type": ""
    },
    "tags": [
     "fr"
    ]
   },
   "source": [
    "## Exercice (facile)\n",
    "\n",
    "❓ **>>>** Effectuez les opérations suivantes dans cet ordre:\n",
    "\n",
    "1. Créez une liste vide nommée \"ma_liste\".\n",
    "1. Utilisez la méthode `.append()` pour lui ajouter l'élément suivant \"banane\".\n",
    "1. Concaténez la liste avec celle-ci : `[False, 12]`.\n",
    "1. Affichez `False` en y accédant par son index.\n",
    "1. Affichez le contenu de \"ma_liste\".\n",
    "1. Remplacez le mot \"banane\" par le mot \"poire\".\n",
    "1. Remplacez `False` par `True`.\n",
    "1. Affichez le contenu de \"ma_liste\"."
   ]
  },
  {
   "cell_type": "code",
   "execution_count": null,
   "metadata": {},
   "outputs": [],
   "source": [
    "# Code here!\n"
   ]
  },
  {
   "cell_type": "markdown",
   "metadata": {
    "editable": true,
    "slideshow": {
     "slide_type": ""
    },
    "tags": [
     "fr"
    ]
   },
   "source": [
    "# Pour aller plus loin"
   ]
  },
  {
   "cell_type": "markdown",
   "metadata": {
    "editable": true,
    "slideshow": {
     "slide_type": ""
    },
    "tags": [
     "fr"
    ]
   },
   "source": [
    "## Ajout d'un élément à un index spécifique\n",
    "\n",
    "On utilise cela la méthode `.insert()`. Par exemple:"
   ]
  },
  {
   "cell_type": "code",
   "execution_count": null,
   "metadata": {
    "tags": []
   },
   "outputs": [],
   "source": [
    "a = [\"A\", \"B\", \"D\"]\n",
    "a.insert(2, \"C\")\n",
    "a"
   ]
  },
  {
   "cell_type": "markdown",
   "metadata": {
    "tags": [
     "fr"
    ]
   },
   "source": [
    "## Ajout de plusieurs éléments avec ```.extend()```\n",
    "\n",
    "La méthode ```.extend()``` permet d'ajouter plusieurs éléments en itérant sur l'objet qu'on lui donne."
   ]
  },
  {
   "cell_type": "code",
   "execution_count": null,
   "metadata": {
    "tags": []
   },
   "outputs": [],
   "source": [
    "nums = [2, 4, 6]\n",
    "nums.extend([\"A\", \"B\", \"C\", 100, 101, 102])\n",
    "nums"
   ]
  },
  {
   "cell_type": "code",
   "execution_count": null,
   "metadata": {
    "tags": []
   },
   "outputs": [],
   "source": [
    "nums = [2, 4, 6]\n",
    "nums.extend(\"ABC\")\n",
    "nums"
   ]
  },
  {
   "cell_type": "code",
   "execution_count": null,
   "metadata": {},
   "outputs": [],
   "source": []
  }
 ],
 "metadata": {
  "kernelspec": {
   "display_name": "Python 3 (ipykernel)",
   "language": "python",
   "name": "python3"
  },
  "language_info": {
   "codemirror_mode": {
    "name": "ipython",
    "version": 3
   },
   "file_extension": ".py",
   "mimetype": "text/x-python",
   "name": "python",
   "nbconvert_exporter": "python",
   "pygments_lexer": "ipython3",
   "version": "3.11.0"
  }
 },
 "nbformat": 4,
 "nbformat_minor": 4
}
