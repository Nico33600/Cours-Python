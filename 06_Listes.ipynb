{
 "cells": [
  {
   "cell_type": "markdown",
   "metadata": {
    "tags": [
     "fr"
    ]
   },
   "source": [
    "# LISTES"
   ]
  },
  {
   "cell_type": "markdown",
   "metadata": {
    "tags": [
     "fr"
    ]
   },
   "source": [
    "## Qu'est-ce qu'une liste ?\n",
    "\n",
    "Les listes sont des objets python spéciaux qui peuvent contenir d'autres objets. On les reconnaît parce que le contenu de ces variables est encadré par des `[ ]`. Par exemple :\n",
    "\n",
    "```python\n",
    "ma_liste = [element1, element2, element3]\n",
    "```\n",
    "\n",
    "Cette liste peut contenir des objets différents (des strings, des entiers, des variables, d'autres listes...): \n",
    "\n",
    "```python\n",
    "ma_variable = 12.34\n",
    "une_autre_liste = [1, 2, 3, \"soleil\"]\n",
    "ma_liste = [\"Ceci est une string\", 356, ma_variable, une_autre_liste]\n",
    "```"
   ]
  },
  {
   "cell_type": "markdown",
   "metadata": {
    "tags": [
     "fr"
    ]
   },
   "source": [
    "## Exercice (facile)\n",
    "\n",
    "Dans mon panier je trouve : \n",
    "\n",
    "- Des courgettes\n",
    "- Mon porte-monnaie qui contient :\n",
    "    - Un billet de 20€.\n",
    "    - L'équivalent de 0.76 centimes d'euros en monnaie.\n",
    "\n",
    "Créez une liste de ces différents objets appelée \"panier\".\n",
    "\n",
    "- Pour les courgettes, stockez-les sous forme de chaînes de caractère.\n",
    "- Pour le portefeuille, créez une nouvelle variable de type liste nommée \"portefeuille\" qui contient deux éléments : un *integer* de 20 et un *float* de 0.76."
   ]
  },
  {
   "cell_type": "code",
   "execution_count": null,
   "metadata": {},
   "outputs": [],
   "source": [
    "# Code here!\n"
   ]
  },
  {
   "cell_type": "markdown",
   "metadata": {
    "tags": [
     "fr"
    ]
   },
   "source": [
    "# Manipulation de listes\n",
    "\n",
    "## Les index\n",
    "\n",
    "Dans une liste les éléments sont répétoriés par un index. Pour Python le premier élément d'une liste correspond à l'élément 0. Cela peut sembler étrange, mais ce système de comptage a ses avantages (nous le verrons plus loin). Si vous voulez en savoir plus, vous pouvez [lire ici un post de Guido Van Rossum](http://python-history.blogspot.com/2013/10/why-python-uses-0-based-indexing.html), le créateur de Python, qui explique ce choix.\n",
    "\n",
    "| Contenu   | Index |\n",
    "|-----------|-------|\n",
    "| Élément 1 | 0     |\n",
    "| Élément 2 | 1     |\n",
    "| Élément 3 | 2     |\n",
    "| ...       | ...   |\n",
    "| Élément n | n-1   |\n",
    "\n",
    "## Manipulation à l'aide de l'index\n",
    "\n",
    "### Afficher un élément\n",
    "\n",
    "Pour accéder à un élément dans une liste il suffit d'indiquer l'index entre `[]`.\n",
    "\n",
    "Exemple :"
   ]
  },
  {
   "cell_type": "code",
   "execution_count": null,
   "metadata": {
    "tags": [
     "fr"
    ]
   },
   "outputs": [],
   "source": [
    "l = [\"Mon premier élément\", \"Mon second élément\", 16.767, \"Mon quatrième élément\", True, \"Mon sixième élément\"]\n",
    "print(l[0])"
   ]
  },
  {
   "cell_type": "markdown",
   "metadata": {
    "tags": [
     "fr"
    ]
   },
   "source": [
    "### Modifier un élément\n",
    "\n",
    "Pour remplacer un élément par un autre, on utilise la même syntaxe que si l'on voulait modifier une variable, c'est-à-dire :\n",
    "\n",
    "``python\n",
    "l[0] = mon_nouvel_element\n",
    "``"
   ]
  },
  {
   "cell_type": "markdown",
   "metadata": {
    "tags": [
     "fr"
    ]
   },
   "source": [
    "## Exercice (facile)\n",
    "\n",
    "A l'aide de la méthode ci-dessus, remplacez les fruits exotiques par des fruits locaux de votre choix. Puis affichez le contenu du panier."
   ]
  },
  {
   "cell_type": "code",
   "execution_count": null,
   "metadata": {
    "tags": [
     "fr"
    ]
   },
   "outputs": [],
   "source": [
    "panier = [\"kiwi\", \"poire\", \"pomme\", \"ananas\", \"framboise\"]\n",
    "\n",
    "# code here!\n"
   ]
  },
  {
   "cell_type": "markdown",
   "metadata": {
    "tags": [
     "fr"
    ]
   },
   "source": [
    "## Ajout d'un élément\n",
    "\n",
    "Cela se fait avec la méthode `.append()` (\"ajouter\" en anglais). Exemple :"
   ]
  },
  {
   "cell_type": "code",
   "execution_count": null,
   "metadata": {
    "tags": [
     "fr"
    ]
   },
   "outputs": [],
   "source": [
    "panier = [\"poire\", \"pomme\", \"framboise\"]\n",
    "print(f\"Fruits locaux : {panier}\")\n",
    "\n",
    "panier.append(\"raisin\")\n",
    "print(f\"Fruits locaux : {panier}\")"
   ]
  },
  {
   "cell_type": "markdown",
   "metadata": {
    "tags": [
     "fr"
    ]
   },
   "source": [
    "## Ajout d'un élément à un index spécifique\n",
    "\n",
    "On utilise cela la méthode `.insert()`. Par exemple:"
   ]
  },
  {
   "cell_type": "code",
   "execution_count": null,
   "metadata": {
    "tags": []
   },
   "outputs": [],
   "source": [
    "a = [\"A\", \"B\", \"D\"]\n",
    "a.insert(2, \"C\")\n",
    "a"
   ]
  },
  {
   "cell_type": "markdown",
   "metadata": {
    "tags": [
     "fr"
    ]
   },
   "source": [
    "## Ajout de plusieurs éléments\n",
    "\n",
    "Cela peut se faire de deux méthodes différentes :\n",
    "    \n",
    "- En concaténant des listes avec l'opérateur \"+\""
   ]
  },
  {
   "cell_type": "code",
   "execution_count": null,
   "metadata": {
    "tags": []
   },
   "outputs": [],
   "source": [
    "nums = [1, 2, 3]\n",
    "nums + [\"A\", \"B\", \"C\"]"
   ]
  },
  {
   "cell_type": "markdown",
   "metadata": {
    "tags": [
     "fr"
    ]
   },
   "source": [
    "- Avec la méthode `.extend()` qui permet d'ajouter les différents éléments d'un itérable."
   ]
  },
  {
   "cell_type": "code",
   "execution_count": null,
   "metadata": {
    "tags": []
   },
   "outputs": [],
   "source": [
    "nums = [2, 4, 6]\n",
    "nums.extend([\"A\", \"B\", \"C\"])\n",
    "nums"
   ]
  },
  {
   "cell_type": "code",
   "execution_count": null,
   "metadata": {
    "tags": []
   },
   "outputs": [],
   "source": [
    "nums = [2, 4, 6]\n",
    "nums.extend(\"ABC\")\n",
    "nums"
   ]
  },
  {
   "cell_type": "markdown",
   "metadata": {
    "tags": [
     "fr"
    ]
   },
   "source": [
    "## Exercice (facile)\n",
    "\n",
    "Effectuez les opérations suivantes dans cet ordre:\n",
    "\n",
    "1. Créez une liste vide nommée \"ma_liste\".\n",
    "1. Utilisez la méthode `.append()` pour lui ajouter l'élément suivant \"banane\".\n",
    "1. Concaténez la liste avec celle-ci : `['False', 12]`.\n",
    "1. Affichez `False` en y accédant par son index.\n",
    "1. Affichez le contenu de \"ma_liste\".\n",
    "1. Remplacez le mot \"banane\" par le mot \"poire\".\n",
    "1. Remplacez `False` par `True`.\n",
    "1. Utilisez la méthode `.extend()` pour ajouter les éléments suivants: \"R\", \"I\", \"E\", \"N\".\n",
    "1. Affichez le contenu de \"ma_liste\".\n",
    "\n",
    "**ASTUCES**:\n",
    "\n",
    "- Une liste vide correspond tout simplement à `[]`."
   ]
  },
  {
   "cell_type": "code",
   "execution_count": null,
   "metadata": {},
   "outputs": [],
   "source": [
    "# Code here!\n"
   ]
  },
  {
   "cell_type": "markdown",
   "metadata": {
    "tags": [
     "fr"
    ]
   },
   "source": [
    "## Tuples\n",
    "\n",
    "## Qu'est-ce qu'un tuple?\n",
    "\n",
    "Un tuple est une collection ordonnée d'éléments. Leur fonctionnement ressemble beaucoup aux listes, par exemple un tuple est :\n",
    "\n",
    "- Ordonné: Un tuple stocke des objets dans un ordre précis et on peut y accéder en utilisant l'index.\n",
    "\n",
    "- Hétérogène: Un tuple peut contenir des éléments de différents types tels que des nombres, des chaînes de caractère, d'autres tuples etc.\n",
    "\n",
    "Cependant la grande différence entre une liste et un tuple c'est qu'un tuple est :\n",
    "\n",
    "- Immuable: Une fois qu'un tuple est crée, on ne peut pas le modifier, au contraire d'une listes qui est dite \"muable\".\n",
    "\n",
    "Pour créer un tuple, il suffit de mettre une parenthèse de chaque côté et de séparer les éléments par des virgules. Cependant il est possible d'omettre les parenthèses dans le cas où il n'y a pas d'ambiguïté."
   ]
  },
  {
   "cell_type": "code",
   "execution_count": null,
   "metadata": {
    "tags": []
   },
   "outputs": [],
   "source": [
    "my_tuple = (3, \"hello\", [1, 2, 3])\n",
    "print(my_tuple)\n",
    "print(type(my_tuple))"
   ]
  },
  {
   "cell_type": "markdown",
   "metadata": {
    "tags": [
     "fr"
    ]
   },
   "source": [
    "Vous pouvez l'écrire de la même manière sans les parenthèses."
   ]
  },
  {
   "cell_type": "code",
   "execution_count": null,
   "metadata": {
    "id": "1uqGs1hBH5BB",
    "tags": []
   },
   "outputs": [],
   "source": [
    "my_tuple = 3, \"hello\", [1, 2, 3]\n",
    "print(my_tuple)\n",
    "print(type(my_tuple))"
   ]
  },
  {
   "cell_type": "markdown",
   "metadata": {
    "tags": [
     "fr"
    ]
   },
   "source": [
    "Les tuples sont immuables, vous ne pouvez pas les modifier une fois créés."
   ]
  },
  {
   "cell_type": "code",
   "execution_count": null,
   "metadata": {
    "tags": []
   },
   "outputs": [],
   "source": [
    "my_tuple = 3, \"hello\", [1, 2, 3]\n",
    "#my_tuple[0] = 12 # TypeError: 'tuple' object does not support item assignment\n",
    "#my_tuple.append(12) # AttributeError: 'tuple' object has no attribute 'append'"
   ]
  }
 ],
 "metadata": {
  "kernelspec": {
   "display_name": "Python 3 (ipykernel)",
   "language": "python",
   "name": "python3"
  },
  "language_info": {
   "codemirror_mode": {
    "name": "ipython",
    "version": 3
   },
   "file_extension": ".py",
   "mimetype": "text/x-python",
   "name": "python",
   "nbconvert_exporter": "python",
   "pygments_lexer": "ipython3",
   "version": "3.10.9"
  }
 },
 "nbformat": 4,
 "nbformat_minor": 4
}
