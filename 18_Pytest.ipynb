{
 "cells": [
  {
   "cell_type": "markdown",
   "id": "caa7f8e7-be11-4757-a708-2bdf2c2b1dc0",
   "metadata": {},
   "source": [
    "# Pytest\n",
    "\n",
    "## Introduction\n",
    "\n",
    "Pytest est un framework de test puissant et flexible pour Python. Il permet de créer, organiser et exécuter des tests de manière simple et efficace. Dans ce cours, nous allons explorer les bases de Pytest, apprendre à écrire des tests, et découvrir quelques fonctionnalités avancées.\n",
    "\n",
    "## Installation de Pytest\n",
    "\n",
    "Pour utiliser Pytest, vous devez d'abord l'installer.\n",
    "\n",
    "```sh\n",
    "pip install pytest\n",
    "```\n",
    "\n",
    "## Écrire des tests simples\n",
    "\n",
    "### Structure de base d'un test\n",
    "\n",
    "Un test Pytest est simplement une fonction Python qui commence par `test_`. Allez dans le dossier \"project\". Vous y trouverez deux dossiers :\n",
    "\n",
    "- \"my_lib\" qui est une librairie qui contient un module nommé \"my_functions\".\n",
    "- \"tests\" qui va contenir les tests que nous allons donner à pytest."
   ]
  },
  {
   "cell_type": "markdown",
   "id": "9ca979b1-35c7-4127-8bfc-3ce0c7ed47c3",
   "metadata": {},
   "source": [
    "## Utilisation des assertions\n",
    "\n",
    "Les assertions sont utilisées pour vérifier que les résultats des tests sont corrects. Pytest supporte plusieurs types d'assertions.\n",
    "\n",
    "### Assertions de base"
   ]
  },
  {
   "cell_type": "code",
   "execution_count": null,
   "id": "6d6b2d25-4f70-48f0-9fb4-360511b51736",
   "metadata": {},
   "outputs": [],
   "source": [
    "def test_assertions():\n",
    "    assert 1 == 1\n",
    "    assert 2 + 2 == 4\n",
    "    assert \"hello\".upper() == \"HELLO\""
   ]
  },
  {
   "cell_type": "markdown",
   "id": "0fbf07c3-9430-4384-9707-7d439593f210",
   "metadata": {},
   "source": [
    "### Assertions avec messages\n",
    "\n",
    "Vous pouvez ajouter des messages aux assertions pour fournir des informations supplémentaires en cas d'échec."
   ]
  },
  {
   "cell_type": "code",
   "execution_count": null,
   "id": "216e44cf-a6bb-462a-b350-7304eef5e6c1",
   "metadata": {},
   "outputs": [],
   "source": [
    "def test_assertions_with_messages():\n",
    "    assert 1 == 1, \"1 should be equal to 1\"\n",
    "    assert 2 + 2 == 4, \"2 + 2 should be equal to 4\"\n",
    "    assert \"hello\".upper() == \"HELLO\", \"hello.upper() should be equal to HELLO\""
   ]
  },
  {
   "cell_type": "markdown",
   "id": "4fc21bac-7ddc-42c8-bb52-34acbe36d7d0",
   "metadata": {},
   "source": [
    "## Lancer Pytest\n",
    "\n",
    "Lorsqu'on tape la commande suivante dans un terminal :\n",
    "```sh\n",
    "pytest\n",
    "```\n",
    "\n",
    "Pytest examine tous les fichiers du dossier courant ainsi que tous les dossiers en dessous de celui-ci. S'il trouve des fichiers avec l'extension \".py\" dont le nom commence par \"test_\", il les examinera et les lancera."
   ]
  },
  {
   "cell_type": "markdown",
   "id": "1db270a8-e8bd-4401-9c8a-0e245d7b1114",
   "metadata": {},
   "source": [
    "## Exercice\n",
    "\n",
    "❓ **>>>** Ajoutez deux nouvelles lignes dans le test de la fonction \"add\" et veillez à ce que les erreurs soient expliquées avec du texte.\n",
    "\n",
    "Faites en sorte qu'un test soit réussi et un test soit raté."
   ]
  },
  {
   "cell_type": "code",
   "execution_count": null,
   "id": "a4a7b9ac-2540-4016-9498-c72d0281eb58",
   "metadata": {
    "tags": []
   },
   "outputs": [],
   "source": [
    "# Do not code here! edit the file test_my_functions.py !!!"
   ]
  }
 ],
 "metadata": {
  "kernelspec": {
   "display_name": "Python 3 (ipykernel)",
   "language": "python",
   "name": "python3"
  },
  "language_info": {
   "codemirror_mode": {
    "name": "ipython",
    "version": 3
   },
   "file_extension": ".py",
   "mimetype": "text/x-python",
   "name": "python",
   "nbconvert_exporter": "python",
   "pygments_lexer": "ipython3",
   "version": "3.11.0"
  }
 },
 "nbformat": 4,
 "nbformat_minor": 5
}
