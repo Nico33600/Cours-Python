{
 "cells": [
  {
   "cell_type": "markdown",
   "id": "67ec437b-6d8f-4523-a4e8-1258b0a7e13c",
   "metadata": {},
   "source": [
    "# Logging\n",
    "\n",
    "## Introduction\n",
    "\n",
    "Le logging est un mécanisme essentiel pour enregistrer des messages d'information, d'avertissement, d'erreur et de débogage dans une application. En Python, le module ```logging``` fournit une interface flexible et puissante pour gérer les logs.\n",
    "\n",
    "## Configuration de base du logging\n",
    "\n",
    "Pour commencer à utiliser le logging, vous devez d'abord configurer le module ```logging```. La configuration de base inclut la définition du niveau de log, du format des messages et de la destination des logs (console, fichier, etc.).\n",
    "\n",
    "### Exemple de configuration de base"
   ]
  },
  {
   "cell_type": "code",
   "execution_count": null,
   "id": "89308b69-49c5-4f54-8578-3fa3185364ed",
   "metadata": {
    "tags": []
   },
   "outputs": [],
   "source": [
    "import logging\n",
    "\n",
    "# Logging Config\n",
    "logging.basicConfig(level=logging.DEBUG,\n",
    "                    format='%(asctime)s - %(name)s - %(levelname)s - %(message)s',\n",
    "                    datefmt='%Y-%m-%d %H:%M:%S')\n",
    "\n",
    "# To change the level without restarting the kernel:\n",
    "# logging.getLogger().setLevel(logging.CRITICAL)\n",
    "\n",
    "# Let's test all logging different levels\n",
    "logging.debug('This is a debug message')\n",
    "logging.info('This is an info message')\n",
    "logging.warning('This is a warning message')\n",
    "logging.error('This is an error message')\n",
    "logging.critical('This is a critical message')"
   ]
  },
  {
   "cell_type": "markdown",
   "id": "a38a5034-203f-4d6b-abb5-696da2f34b27",
   "metadata": {},
   "source": [
    "### Explication\n",
    "\n",
    "- `level=logging.DEBUG` : Définit le niveau de log. Les niveaux de log disponibles sont `DEBUG`, `INFO`, `WARNING`, `ERROR` et `CRITICAL`.\n",
    "- `format` : Définit le format des messages de log. Les variables disponibles incluent `%(asctime)s` pour la date et l'heure, `%(name)s` pour le nom du logger, `%(levelname)s` pour le niveau de log, et `%(message)s` pour le message de log.\n",
    "- `datefmt` : Définit le format de la date et de l'heure.\n",
    "\n",
    "## Utilisation de différents niveaux de log\n",
    "\n",
    "Le module `logging` permet de définir différents niveaux de log pour contrôler la verbosité des messages enregistrés. Chacun est associé à un niveau (*level*).\n",
    "\n",
    "\n",
    "# Niveaux de Logging en Python\n",
    "\n",
    "Le module `logging` de Python définit plusieurs niveaux de log pour contrôler la verbosité des messages de log. Voici un tableau récapitulatif des niveaux de log et leurs valeurs numériques associées :\n",
    "\n",
    "| Niveau de Log | Valeur Numérique | Description |\n",
    "|---------------|-------------------|-------------|\n",
    "| ```DEBUG```       | 10                | Messages de débogage détaillés, généralement d'intérêt uniquement lors du diagnostic de problèmes.\n",
    "| ```INFO```        | 20                | Messages d'information généraux sur le déroulement normal de l'application. |\n",
    "| ```WARNING```     | 30                | Messages d'avertissement indiquant un problème potentiel. |\n",
    "| ```ERROR```       | 40                | Messages d'erreur indiquant une erreur plus sérieuse. |\n",
    "| ```CRITICAL```    | 50                | Messages critiques indiquant une erreur très grave. |\n",
    "\n",
    "\n",
    "## Enregistrer les logs dans un fichier\n",
    "\n",
    "Vous pouvez configurer le module `logging` pour enregistrer les logs dans un fichier au lieu de la console. Cela est utile pour conserver un historique des logs pour une analyse ultérieure.\n",
    "\n",
    "### Exemple d'enregistrement des logs dans un fichier"
   ]
  },
  {
   "cell_type": "code",
   "execution_count": null,
   "id": "674caede-ca9d-4361-a8eb-02b4fb76c6e0",
   "metadata": {
    "tags": []
   },
   "outputs": [],
   "source": [
    "import logging\n",
    "\n",
    "# Restart the kernel to make it work!\n",
    "logging.basicConfig(level=logging.DEBUG,\n",
    "                    format='%(asctime)s - %(name)s - %(levelname)s - %(message)s',\n",
    "                    datefmt='%Y-%m-%d %H:%M:%S',\n",
    "                    filename='app.log',\n",
    "                    filemode='w')\n",
    "\n",
    "logging.debug('This is a debug message')\n",
    "logging.info('This is an info message')\n",
    "logging.warning('This is a warning message')\n",
    "logging.error('This is an error message')\n",
    "logging.critical('This is a critical message')"
   ]
  },
  {
   "cell_type": "markdown",
   "id": "bc72d66a-ac44-4fd4-aba1-312677f67fc7",
   "metadata": {},
   "source": [
    "### Explication\n",
    "\n",
    "- `filename='app.log'` : Définit le nom du fichier dans lequel les logs seront enregistrés.\n",
    "- `filemode='w'` : Définit le mode d'ouverture du fichier. `'w'` signifie que le fichier sera écrasé à chaque exécution. Vous pouvez utiliser `'a'` (*append*) pour ajouter les logs au fichier existant.\n",
    "\n",
    "## Utilisation de loggers personnalisés\n",
    "\n",
    "Vous pouvez créer des loggers personnalisés pour différentes parties de votre application. Cela permet de configurer des niveaux de log et des formats différents pour chaque logger.\n",
    "\n",
    "### Exemple de loggers personnalisé"
   ]
  },
  {
   "cell_type": "code",
   "execution_count": null,
   "id": "839f86ae-b235-452b-a4ff-ef5d3cf4f1b7",
   "metadata": {
    "tags": []
   },
   "outputs": [],
   "source": [
    "import logging\n",
    "\n",
    "# restart the kernel!\n",
    "\n",
    "# Create a logger\n",
    "logger = logging.getLogger('my_logger')\n",
    "logger.setLevel(logging.DEBUG)\n",
    "\n",
    "# create a file where we're going to store the logs\n",
    "file_handler = logging.FileHandler('my_app.log') # default mode is 'a' (append)\n",
    "file_handler.setLevel(logging.DEBUG)\n",
    "\n",
    "# create a formatter\n",
    "formatter = logging.Formatter('%(asctime)s - %(name)s - %(levelname)s - %(message)s')\n",
    "file_handler.setFormatter(formatter)\n",
    "\n",
    "# add the handler\n",
    "logger.addHandler(file_handler) # Adding the handler for the file\n",
    "\n",
    "# Let's try it!\n",
    "logger.debug('This is a debug message')\n",
    "logger.info('This is an info message')\n",
    "logger.warning('This is a warning message')\n",
    "logger.error('This is an error message')\n",
    "logger.critical('This is a critical message')"
   ]
  }
 ],
 "metadata": {
  "kernelspec": {
   "display_name": "Python 3 (ipykernel)",
   "language": "python",
   "name": "python3"
  },
  "language_info": {
   "codemirror_mode": {
    "name": "ipython",
    "version": 3
   },
   "file_extension": ".py",
   "mimetype": "text/x-python",
   "name": "python",
   "nbconvert_exporter": "python",
   "pygments_lexer": "ipython3",
   "version": "3.11.0"
  }
 },
 "nbformat": 4,
 "nbformat_minor": 5
}
